{
 "cells": [
  {
   "cell_type": "markdown",
   "metadata": {},
   "source": [
    "## Исследование надёжности заёмщиков\n",
    "\n",
    "Задача: предварительный анализ данных о клиентах банка для настройки программы кредитного скоринга."
   ]
  },
  {
   "cell_type": "markdown",
   "metadata": {},
   "source": [
    "## Содержание"
   ]
  },
  {
   "cell_type": "markdown",
   "metadata": {},
   "source": [
    "- [Шаг 1. Открою файл с данными и изучу общую информацию](#step1)\n",
    "    - [Дополнительные проверки данных](#step1.1)\n",
    "    - [Числовые данные](#step1.2)\n",
    "    - [Вывод](#step1.3)\n",
    "- [Шаг 2. Предобработка данных](#step2)\n",
    "    - [Поиск и удаление артефактов](#step2.1)\n",
    "    - [Числовые столбцы](#step2.2)\n",
    "    - [Замена типа данных](#step2.3)\n",
    "    - [Обработка дубликатов](#step2.4)\n",
    "    - [Обработка пропусков](#step2.5)\n",
    "    - [Лемматизация](#step2.6)\n",
    "    - [Категоризация данных](#step2.7)\n",
    "    - [Вывод](#step2.8)\n",
    "- [Шаг 3. Ответы на вопросы](#step3)\n",
    "    - [Зависимость между наличием детей и возвратом кредита в срок](#step3.1)\n",
    "    - [Зависимость между семейным положением и возвратом кредита в срок](#step3.2)\n",
    "    - [Зависимость между уровнем дохода и возвратом кредита в срок](#step3.3)\n",
    "    - [Как разные цели влияют на возврат кредита в срок?](#step3.4)\n",
    "- [Шаг 4. Общий вывод](#step4)"
   ]
  },
  {
   "cell_type": "markdown",
   "metadata": {},
   "source": [
    "### <a id='step1'></a>Шаг 1. Открою файл с данными и изучу общую информацию"
   ]
  },
  {
   "cell_type": "code",
   "execution_count": 1,
   "metadata": {},
   "outputs": [],
   "source": [
    "import pandas as pd\n",
    "\n",
    "data_credit = pd.read_csv('/datasets/data.csv')"
   ]
  },
  {
   "cell_type": "code",
   "execution_count": 2,
   "metadata": {
    "scrolled": true
   },
   "outputs": [
    {
     "name": "stdout",
     "output_type": "stream",
     "text": [
      "<class 'pandas.core.frame.DataFrame'>\n",
      "RangeIndex: 21525 entries, 0 to 21524\n",
      "Data columns (total 12 columns):\n",
      "children            21525 non-null int64\n",
      "days_employed       19351 non-null float64\n",
      "dob_years           21525 non-null int64\n",
      "education           21525 non-null object\n",
      "education_id        21525 non-null int64\n",
      "family_status       21525 non-null object\n",
      "family_status_id    21525 non-null int64\n",
      "gender              21525 non-null object\n",
      "income_type         21525 non-null object\n",
      "debt                21525 non-null int64\n",
      "total_income        19351 non-null float64\n",
      "purpose             21525 non-null object\n",
      "dtypes: float64(2), int64(5), object(5)\n",
      "memory usage: 2.0+ MB\n"
     ]
    }
   ],
   "source": [
    "data_credit.info()"
   ]
  },
  {
   "cell_type": "code",
   "execution_count": 3,
   "metadata": {},
   "outputs": [
    {
     "data": {
      "text/html": [
       "<div>\n",
       "<style scoped>\n",
       "    .dataframe tbody tr th:only-of-type {\n",
       "        vertical-align: middle;\n",
       "    }\n",
       "\n",
       "    .dataframe tbody tr th {\n",
       "        vertical-align: top;\n",
       "    }\n",
       "\n",
       "    .dataframe thead th {\n",
       "        text-align: right;\n",
       "    }\n",
       "</style>\n",
       "<table border=\"1\" class=\"dataframe\">\n",
       "  <thead>\n",
       "    <tr style=\"text-align: right;\">\n",
       "      <th></th>\n",
       "      <th>children</th>\n",
       "      <th>days_employed</th>\n",
       "      <th>dob_years</th>\n",
       "      <th>education</th>\n",
       "      <th>education_id</th>\n",
       "      <th>family_status</th>\n",
       "      <th>family_status_id</th>\n",
       "      <th>gender</th>\n",
       "      <th>income_type</th>\n",
       "      <th>debt</th>\n",
       "      <th>total_income</th>\n",
       "      <th>purpose</th>\n",
       "    </tr>\n",
       "  </thead>\n",
       "  <tbody>\n",
       "    <tr>\n",
       "      <td>0</td>\n",
       "      <td>1</td>\n",
       "      <td>-8437.673028</td>\n",
       "      <td>42</td>\n",
       "      <td>высшее</td>\n",
       "      <td>0</td>\n",
       "      <td>женат / замужем</td>\n",
       "      <td>0</td>\n",
       "      <td>F</td>\n",
       "      <td>сотрудник</td>\n",
       "      <td>0</td>\n",
       "      <td>253875.639453</td>\n",
       "      <td>покупка жилья</td>\n",
       "    </tr>\n",
       "    <tr>\n",
       "      <td>1</td>\n",
       "      <td>1</td>\n",
       "      <td>-4024.803754</td>\n",
       "      <td>36</td>\n",
       "      <td>среднее</td>\n",
       "      <td>1</td>\n",
       "      <td>женат / замужем</td>\n",
       "      <td>0</td>\n",
       "      <td>F</td>\n",
       "      <td>сотрудник</td>\n",
       "      <td>0</td>\n",
       "      <td>112080.014102</td>\n",
       "      <td>приобретение автомобиля</td>\n",
       "    </tr>\n",
       "    <tr>\n",
       "      <td>2</td>\n",
       "      <td>0</td>\n",
       "      <td>-5623.422610</td>\n",
       "      <td>33</td>\n",
       "      <td>Среднее</td>\n",
       "      <td>1</td>\n",
       "      <td>женат / замужем</td>\n",
       "      <td>0</td>\n",
       "      <td>M</td>\n",
       "      <td>сотрудник</td>\n",
       "      <td>0</td>\n",
       "      <td>145885.952297</td>\n",
       "      <td>покупка жилья</td>\n",
       "    </tr>\n",
       "    <tr>\n",
       "      <td>3</td>\n",
       "      <td>3</td>\n",
       "      <td>-4124.747207</td>\n",
       "      <td>32</td>\n",
       "      <td>среднее</td>\n",
       "      <td>1</td>\n",
       "      <td>женат / замужем</td>\n",
       "      <td>0</td>\n",
       "      <td>M</td>\n",
       "      <td>сотрудник</td>\n",
       "      <td>0</td>\n",
       "      <td>267628.550329</td>\n",
       "      <td>дополнительное образование</td>\n",
       "    </tr>\n",
       "    <tr>\n",
       "      <td>4</td>\n",
       "      <td>0</td>\n",
       "      <td>340266.072047</td>\n",
       "      <td>53</td>\n",
       "      <td>среднее</td>\n",
       "      <td>1</td>\n",
       "      <td>гражданский брак</td>\n",
       "      <td>1</td>\n",
       "      <td>F</td>\n",
       "      <td>пенсионер</td>\n",
       "      <td>0</td>\n",
       "      <td>158616.077870</td>\n",
       "      <td>сыграть свадьбу</td>\n",
       "    </tr>\n",
       "  </tbody>\n",
       "</table>\n",
       "</div>"
      ],
      "text/plain": [
       "   children  days_employed  dob_years education  education_id  \\\n",
       "0         1   -8437.673028         42    высшее             0   \n",
       "1         1   -4024.803754         36   среднее             1   \n",
       "2         0   -5623.422610         33   Среднее             1   \n",
       "3         3   -4124.747207         32   среднее             1   \n",
       "4         0  340266.072047         53   среднее             1   \n",
       "\n",
       "      family_status  family_status_id gender income_type  debt   total_income  \\\n",
       "0   женат / замужем                 0      F   сотрудник     0  253875.639453   \n",
       "1   женат / замужем                 0      F   сотрудник     0  112080.014102   \n",
       "2   женат / замужем                 0      M   сотрудник     0  145885.952297   \n",
       "3   женат / замужем                 0      M   сотрудник     0  267628.550329   \n",
       "4  гражданский брак                 1      F   пенсионер     0  158616.077870   \n",
       "\n",
       "                      purpose  \n",
       "0               покупка жилья  \n",
       "1     приобретение автомобиля  \n",
       "2               покупка жилья  \n",
       "3  дополнительное образование  \n",
       "4             сыграть свадьбу  "
      ]
     },
     "execution_count": 3,
     "metadata": {},
     "output_type": "execute_result"
    }
   ],
   "source": [
    "data_credit.head()"
   ]
  },
  {
   "cell_type": "markdown",
   "metadata": {},
   "source": [
    "**Первоначальные выводы**: Таблица содержит 12 столбцов, и более 20 тыс. строк, достаточное количество для получения довольно достоверных статистических выводов.\n",
    "\n",
    "2 столбца (*отработанные дни и суммарный доход*) - имеют более 2 тыс. null элементов.\n",
    "\n",
    "Видны проблемы (усложняющие анализ) со столбцами отработанных дней, уровня образования, суммарного дохода и цели кредита."
   ]
  },
  {
   "cell_type": "markdown",
   "metadata": {},
   "source": [
    "###### Дополнительные проверки данных:<a id='step1.1'></a>"
   ]
  },
  {
   "cell_type": "code",
   "execution_count": 4,
   "metadata": {},
   "outputs": [
    {
     "data": {
      "text/plain": [
       "-1        47\n",
       " 0     14149\n",
       " 1      4818\n",
       " 2      2055\n",
       " 3       330\n",
       " 4        41\n",
       " 5         9\n",
       " 20       76\n",
       "Name: children, dtype: int64"
      ]
     },
     "execution_count": 4,
     "metadata": {},
     "output_type": "execute_result"
    }
   ],
   "source": [
    "# количество детей\n",
    "data_credit['children'].value_counts().sort_index()\n",
    "# сортировка по индексу позволяет легче выделить некорректные значения"
   ]
  },
  {
   "cell_type": "markdown",
   "metadata": {},
   "source": [
    "Имеются некорректные данные в столбце - \"-1\" и \"20\"."
   ]
  },
  {
   "cell_type": "code",
   "execution_count": 5,
   "metadata": {},
   "outputs": [
    {
     "data": {
      "text/plain": [
       "0     101\n",
       "19     14\n",
       "20     51\n",
       "21    111\n",
       "22    183\n",
       "23    254\n",
       "24    264\n",
       "25    357\n",
       "26    408\n",
       "27    493\n",
       "28    503\n",
       "29    545\n",
       "30    540\n",
       "31    560\n",
       "32    510\n",
       "33    581\n",
       "34    603\n",
       "35    617\n",
       "36    555\n",
       "37    537\n",
       "38    598\n",
       "39    573\n",
       "40    609\n",
       "41    607\n",
       "42    597\n",
       "43    513\n",
       "44    547\n",
       "45    497\n",
       "46    475\n",
       "47    480\n",
       "48    538\n",
       "49    508\n",
       "50    514\n",
       "51    448\n",
       "52    484\n",
       "53    459\n",
       "54    479\n",
       "55    443\n",
       "56    487\n",
       "57    460\n",
       "58    461\n",
       "59    444\n",
       "60    377\n",
       "61    355\n",
       "62    352\n",
       "63    269\n",
       "64    265\n",
       "65    194\n",
       "66    183\n",
       "67    167\n",
       "68     99\n",
       "69     85\n",
       "70     65\n",
       "71     58\n",
       "72     33\n",
       "73      8\n",
       "74      6\n",
       "75      1\n",
       "Name: dob_years, dtype: int64"
      ]
     },
     "execution_count": 5,
     "metadata": {},
     "output_type": "execute_result"
    }
   ],
   "source": [
    "# числовые данные, но более информативным будет подсчет значений и сортировка по возрасту\n",
    "data_credit['dob_years'].value_counts().sort_index()"
   ]
  },
  {
   "cell_type": "markdown",
   "metadata": {},
   "source": [
    "Некорректные данные - 101 человек с нулевым возрастом."
   ]
  },
  {
   "cell_type": "code",
   "execution_count": 6,
   "metadata": {},
   "outputs": [
    {
     "data": {
      "text/plain": [
       "среднее                13750\n",
       "высшее                  4718\n",
       "СРЕДНЕЕ                  772\n",
       "Среднее                  711\n",
       "неоконченное высшее      668\n",
       "ВЫСШЕЕ                   274\n",
       "Высшее                   268\n",
       "начальное                250\n",
       "Неоконченное высшее       47\n",
       "НЕОКОНЧЕННОЕ ВЫСШЕЕ       29\n",
       "НАЧАЛЬНОЕ                 17\n",
       "Начальное                 15\n",
       "ученая степень             4\n",
       "УЧЕНАЯ СТЕПЕНЬ             1\n",
       "Ученая степень             1\n",
       "Name: education, dtype: int64"
      ]
     },
     "execution_count": 6,
     "metadata": {},
     "output_type": "execute_result"
    }
   ],
   "source": [
    "# образование\n",
    "data_credit['education'].value_counts()"
   ]
  },
  {
   "cell_type": "markdown",
   "metadata": {},
   "source": [
    "Дубли категорий из-за различий в регистре букв. 5 категорий."
   ]
  },
  {
   "cell_type": "code",
   "execution_count": 7,
   "metadata": {},
   "outputs": [
    {
     "data": {
      "text/plain": [
       "0     5260\n",
       "1    15233\n",
       "2      744\n",
       "3      282\n",
       "4        6\n",
       "Name: education_id, dtype: int64"
      ]
     },
     "execution_count": 7,
     "metadata": {},
     "output_type": "execute_result"
    }
   ],
   "source": [
    "# идентификатор для уровня образования\n",
    "data_credit['education_id'].value_counts().sort_index()\n",
    "#сортировка по индексу позволяет легче выделить некорректные значения"
   ]
  },
  {
   "cell_type": "markdown",
   "metadata": {},
   "source": [
    "Идентификаторы последовательные от 0 до 4, соответствуют количеству категорий в предыдущем столбце, ок."
   ]
  },
  {
   "cell_type": "code",
   "execution_count": 8,
   "metadata": {},
   "outputs": [
    {
     "data": {
      "text/plain": [
       "женат / замужем          12380\n",
       "гражданский брак          4177\n",
       "Не женат / не замужем     2813\n",
       "в разводе                 1195\n",
       "вдовец / вдова             960\n",
       "Name: family_status, dtype: int64"
      ]
     },
     "execution_count": 8,
     "metadata": {},
     "output_type": "execute_result"
    }
   ],
   "source": [
    "# семейный статус\n",
    "data_credit['family_status'].value_counts()"
   ]
  },
  {
   "cell_type": "markdown",
   "metadata": {},
   "source": [
    "Семейные статусы - ок. Для решения задачи определения зависимости возврата кредита в срок от наличия семьи потребуется дополнительная группировка в 2 категории:\n",
    "- есть семья\n",
    "- нет семьи"
   ]
  },
  {
   "cell_type": "code",
   "execution_count": 9,
   "metadata": {},
   "outputs": [
    {
     "data": {
      "text/plain": [
       "0    12380\n",
       "1     4177\n",
       "2      960\n",
       "3     1195\n",
       "4     2813\n",
       "Name: family_status_id, dtype: int64"
      ]
     },
     "execution_count": 9,
     "metadata": {},
     "output_type": "execute_result"
    }
   ],
   "source": [
    "# идентификатор семейного статуса\n",
    "data_credit['family_status_id'].value_counts().sort_index()\n",
    "# сортировка по индексу позволяет легче выделить некорректные значения"
   ]
  },
  {
   "cell_type": "markdown",
   "metadata": {},
   "source": [
    "От 0 до 4, соответствует количеству статусов, описанных словами, в предыдущем столбце."
   ]
  },
  {
   "cell_type": "code",
   "execution_count": 10,
   "metadata": {},
   "outputs": [
    {
     "data": {
      "text/plain": [
       "F      14236\n",
       "M       7288\n",
       "XNA        1\n",
       "Name: gender, dtype: int64"
      ]
     },
     "execution_count": 10,
     "metadata": {},
     "output_type": "execute_result"
    }
   ],
   "source": [
    "# пол\n",
    "data_credit['gender'].value_counts()"
   ]
  },
  {
   "cell_type": "markdown",
   "metadata": {},
   "source": [
    "1 некорректное значение"
   ]
  },
  {
   "cell_type": "code",
   "execution_count": 11,
   "metadata": {},
   "outputs": [
    {
     "data": {
      "text/plain": [
       "сотрудник          11119\n",
       "компаньон           5085\n",
       "пенсионер           3856\n",
       "госслужащий         1459\n",
       "безработный            2\n",
       "предприниматель        2\n",
       "в декрете              1\n",
       "студент                1\n",
       "Name: income_type, dtype: int64"
      ]
     },
     "execution_count": 11,
     "metadata": {},
     "output_type": "execute_result"
    }
   ],
   "source": [
    "# тип занятости просителя\n",
    "data_credit['income_type'].value_counts()"
   ]
  },
  {
   "cell_type": "markdown",
   "metadata": {},
   "source": [
    "Ок, но потребуется дополнительная группировка."
   ]
  },
  {
   "cell_type": "code",
   "execution_count": 12,
   "metadata": {},
   "outputs": [
    {
     "data": {
      "text/plain": [
       "0    19784\n",
       "1     1741\n",
       "Name: debt, dtype: int64"
      ]
     },
     "execution_count": 12,
     "metadata": {},
     "output_type": "execute_result"
    }
   ],
   "source": [
    "# имеются ли задолженности\n",
    "data_credit['debt'].value_counts()"
   ]
  },
  {
   "cell_type": "markdown",
   "metadata": {},
   "source": [
    "Ок, по этому столбцу будем собирать всю статистику."
   ]
  },
  {
   "cell_type": "code",
   "execution_count": 13,
   "metadata": {},
   "outputs": [
    {
     "data": {
      "text/plain": [
       "свадьба                                   797\n",
       "на проведение свадьбы                     777\n",
       "сыграть свадьбу                           774\n",
       "операции с недвижимостью                  676\n",
       "покупка коммерческой недвижимости         664\n",
       "покупка жилья для сдачи                   653\n",
       "операции с жильем                         653\n",
       "операции с коммерческой недвижимостью     651\n",
       "покупка жилья                             647\n",
       "жилье                                     647\n",
       "покупка жилья для семьи                   641\n",
       "строительство собственной недвижимости    635\n",
       "недвижимость                              634\n",
       "операции со своей недвижимостью           630\n",
       "строительство жилой недвижимости          626\n",
       "покупка недвижимости                      624\n",
       "покупка своего жилья                      620\n",
       "строительство недвижимости                620\n",
       "ремонт жилью                              612\n",
       "покупка жилой недвижимости                607\n",
       "на покупку своего автомобиля              505\n",
       "заняться высшим образованием              496\n",
       "автомобиль                                495\n",
       "сделка с подержанным автомобилем          489\n",
       "свой автомобиль                           480\n",
       "на покупку подержанного автомобиля        479\n",
       "автомобили                                478\n",
       "на покупку автомобиля                     472\n",
       "приобретение автомобиля                   462\n",
       "дополнительное образование                462\n",
       "сделка с автомобилем                      455\n",
       "высшее образование                        453\n",
       "получение дополнительного образования     447\n",
       "образование                               447\n",
       "получение образования                     443\n",
       "профильное образование                    436\n",
       "получение высшего образования             426\n",
       "заняться образованием                     412\n",
       "Name: purpose, dtype: int64"
      ]
     },
     "execution_count": 13,
     "metadata": {},
     "output_type": "execute_result"
    }
   ],
   "source": [
    "# цель получения кредита\n",
    "data_credit['purpose'].value_counts()"
   ]
  },
  {
   "cell_type": "markdown",
   "metadata": {},
   "source": [
    "Избыточные данные не позволяют сгруппировать данные по различным категориям, потребуется лемматизация."
   ]
  },
  {
   "cell_type": "markdown",
   "metadata": {},
   "source": [
    "##### Числовые данные:<a id='step1.2'></a>\n",
    "Проверю максимальные и минимальные данные. Кроме того, как раз в этих столбцах содержатся данные типа Null.\n",
    "\n",
    "Отработанные дни:"
   ]
  },
  {
   "cell_type": "code",
   "execution_count": 14,
   "metadata": {},
   "outputs": [
    {
     "name": "stdout",
     "output_type": "stream",
     "text": [
      "-18388.949900568383\n",
      "401755.40047533\n"
     ]
    }
   ],
   "source": [
    "print(data_credit['days_employed'].min())\n",
    "print(data_credit['days_employed'].max())"
   ]
  },
  {
   "cell_type": "markdown",
   "metadata": {},
   "source": [
    "Проблема - отрицательные данные."
   ]
  },
  {
   "cell_type": "markdown",
   "metadata": {},
   "source": [
    "Дополнительная проверка на поиск закономерностей. Наиболее логично проверить связь с типом занятости работника:"
   ]
  },
  {
   "cell_type": "code",
   "execution_count": 15,
   "metadata": {},
   "outputs": [
    {
     "data": {
      "text/plain": [
       "сотрудник          1105\n",
       "компаньон           508\n",
       "пенсионер           413\n",
       "госслужащий         147\n",
       "предприниматель       1\n",
       "Name: income_type, dtype: int64"
      ]
     },
     "execution_count": 15,
     "metadata": {},
     "output_type": "execute_result"
    }
   ],
   "source": [
    "# проверка связи для значений типа Null\n",
    "data_credit[data_credit['days_employed'].isnull()]['income_type'].value_counts()"
   ]
  },
  {
   "cell_type": "markdown",
   "metadata": {},
   "source": [
    "Факт - в столбце отработанных дней данные типа Null для явно работающих категорий, где по логике они должны быть положительным числом."
   ]
  },
  {
   "cell_type": "code",
   "execution_count": 16,
   "metadata": {},
   "outputs": [
    {
     "data": {
      "text/plain": [
       "сотрудник          10014\n",
       "компаньон           4577\n",
       "госслужащий         1312\n",
       "в декрете              1\n",
       "студент                1\n",
       "предприниматель        1\n",
       "Name: income_type, dtype: int64"
      ]
     },
     "execution_count": 16,
     "metadata": {},
     "output_type": "execute_result"
    }
   ],
   "source": [
    "# группировка значений для отрицательных дней отработки\n",
    "data_credit[data_credit['days_employed'] < 0]['income_type'].value_counts()"
   ]
  },
  {
   "cell_type": "markdown",
   "metadata": {},
   "source": [
    "Отрицательное количество отработанных дней - аналогично."
   ]
  },
  {
   "cell_type": "code",
   "execution_count": 17,
   "metadata": {},
   "outputs": [
    {
     "data": {
      "text/plain": [
       "Series([], Name: income_type, dtype: int64)"
      ]
     },
     "execution_count": 17,
     "metadata": {},
     "output_type": "execute_result"
    }
   ],
   "source": [
    "# нулевое количество отработанных дней\n",
    "data_credit[data_credit['days_employed'] == 0]['income_type'].value_counts()"
   ]
  },
  {
   "cell_type": "markdown",
   "metadata": {},
   "source": [
    "Нет людей без стажа."
   ]
  },
  {
   "cell_type": "code",
   "execution_count": 18,
   "metadata": {},
   "outputs": [
    {
     "data": {
      "text/plain": [
       "пенсионер      3443\n",
       "безработный       2\n",
       "Name: income_type, dtype: int64"
      ]
     },
     "execution_count": 18,
     "metadata": {},
     "output_type": "execute_result"
    }
   ],
   "source": [
    "# группировка значений для положительных дней отработки\n",
    "data_credit[data_credit['days_employed'] >= 0]['income_type'].value_counts()"
   ]
  },
  {
   "cell_type": "markdown",
   "metadata": {},
   "source": [
    "Положительные значения только у 2 категорий: пенсионер и безработный. Очевидно, произошла ошибка при загрузке других категорий. Ошибка в знаке или другая. Но нам эти данные для текущих задач не нужны."
   ]
  },
  {
   "cell_type": "markdown",
   "metadata": {},
   "source": [
    "Уровень дохода:"
   ]
  },
  {
   "cell_type": "code",
   "execution_count": 19,
   "metadata": {},
   "outputs": [
    {
     "name": "stdout",
     "output_type": "stream",
     "text": [
      "20667.26379327158\n",
      "2265604.028722744\n"
     ]
    }
   ],
   "source": [
    "print(data_credit['total_income'].min())\n",
    "print(data_credit['total_income'].max())"
   ]
  },
  {
   "cell_type": "markdown",
   "metadata": {},
   "source": [
    "Масштаб данных выглядит достоверным, но происхождение дробной части непонятно. Возможно, дробная часть появилась при пересчёте валют по курсу или при вычете процента налогов.\n",
    "\n",
    "Преподаватель по проектам сказал, что данные в целом верны. Решено произвести преобразование к типу int, т.к. знаки после запятой нам не нужны."
   ]
  },
  {
   "cell_type": "markdown",
   "metadata": {},
   "source": [
    "### Вывод<a id='step1.3'></a>"
   ]
  },
  {
   "cell_type": "markdown",
   "metadata": {},
   "source": [
    "Данные, предоставленные для анализа платежеспособности клиентов, соответствуют решаемым вопросам, однако требуют предобработки.\n",
    "\n",
    "Есть избыточный для решения поставленной задачи столбец с некорректными данными:\n",
    "- *отработанные дни*\n",
    "\n",
    "Остальные столбцы для составления необходимых выводов требуют таких видов обработки, как:\n",
    "- удаление артефактов\n",
    "- удаление дубликатов\n",
    "- замена значений типа *Null*\n",
    "- замена вещественного типа данных на целочисленный (*суммарный доход*)\n",
    "- Категоризация:\n",
    "    - *число детей*\n",
    "    - *семейный статус*\n",
    "    - *уровень дохода*\n",
    "    - *цель кредита*\n",
    "- Лемматизация - *цель кредита*"
   ]
  },
  {
   "cell_type": "markdown",
   "metadata": {},
   "source": [
    "### <a id='step2'></a>Шаг 2. Предобработка данных"
   ]
  },
  {
   "cell_type": "markdown",
   "metadata": {},
   "source": [
    "Общий порядок действий:\n",
    "- найдём артефакты в данных\n",
    "- удалим дубликаты\n",
    "- заполним пропуски\n",
    "\n",
    "Это позволит минимизировать объем работы при заполнении пропусков."
   ]
  },
  {
   "cell_type": "markdown",
   "metadata": {},
   "source": [
    "### Поиск и удаление артефактов<a id='step2.1'></a>"
   ]
  },
  {
   "cell_type": "code",
   "execution_count": 20,
   "metadata": {},
   "outputs": [
    {
     "data": {
      "text/html": [
       "<div>\n",
       "<style scoped>\n",
       "    .dataframe tbody tr th:only-of-type {\n",
       "        vertical-align: middle;\n",
       "    }\n",
       "\n",
       "    .dataframe tbody tr th {\n",
       "        vertical-align: top;\n",
       "    }\n",
       "\n",
       "    .dataframe thead th {\n",
       "        text-align: right;\n",
       "    }\n",
       "</style>\n",
       "<table border=\"1\" class=\"dataframe\">\n",
       "  <thead>\n",
       "    <tr style=\"text-align: right;\">\n",
       "      <th></th>\n",
       "      <th>children</th>\n",
       "      <th>days_employed</th>\n",
       "      <th>dob_years</th>\n",
       "      <th>education</th>\n",
       "      <th>education_id</th>\n",
       "      <th>family_status</th>\n",
       "      <th>family_status_id</th>\n",
       "      <th>gender</th>\n",
       "      <th>income_type</th>\n",
       "      <th>debt</th>\n",
       "      <th>total_income</th>\n",
       "      <th>purpose</th>\n",
       "    </tr>\n",
       "  </thead>\n",
       "  <tbody>\n",
       "    <tr>\n",
       "      <td>0</td>\n",
       "      <td>1</td>\n",
       "      <td>-8437.673028</td>\n",
       "      <td>42</td>\n",
       "      <td>высшее</td>\n",
       "      <td>0</td>\n",
       "      <td>женат / замужем</td>\n",
       "      <td>0</td>\n",
       "      <td>F</td>\n",
       "      <td>сотрудник</td>\n",
       "      <td>0</td>\n",
       "      <td>253875.639453</td>\n",
       "      <td>покупка жилья</td>\n",
       "    </tr>\n",
       "    <tr>\n",
       "      <td>1</td>\n",
       "      <td>1</td>\n",
       "      <td>-4024.803754</td>\n",
       "      <td>36</td>\n",
       "      <td>среднее</td>\n",
       "      <td>1</td>\n",
       "      <td>женат / замужем</td>\n",
       "      <td>0</td>\n",
       "      <td>F</td>\n",
       "      <td>сотрудник</td>\n",
       "      <td>0</td>\n",
       "      <td>112080.014102</td>\n",
       "      <td>приобретение автомобиля</td>\n",
       "    </tr>\n",
       "    <tr>\n",
       "      <td>2</td>\n",
       "      <td>0</td>\n",
       "      <td>-5623.422610</td>\n",
       "      <td>33</td>\n",
       "      <td>Среднее</td>\n",
       "      <td>1</td>\n",
       "      <td>женат / замужем</td>\n",
       "      <td>0</td>\n",
       "      <td>M</td>\n",
       "      <td>сотрудник</td>\n",
       "      <td>0</td>\n",
       "      <td>145885.952297</td>\n",
       "      <td>покупка жилья</td>\n",
       "    </tr>\n",
       "    <tr>\n",
       "      <td>3</td>\n",
       "      <td>3</td>\n",
       "      <td>-4124.747207</td>\n",
       "      <td>32</td>\n",
       "      <td>среднее</td>\n",
       "      <td>1</td>\n",
       "      <td>женат / замужем</td>\n",
       "      <td>0</td>\n",
       "      <td>M</td>\n",
       "      <td>сотрудник</td>\n",
       "      <td>0</td>\n",
       "      <td>267628.550329</td>\n",
       "      <td>дополнительное образование</td>\n",
       "    </tr>\n",
       "    <tr>\n",
       "      <td>4</td>\n",
       "      <td>0</td>\n",
       "      <td>340266.072047</td>\n",
       "      <td>53</td>\n",
       "      <td>среднее</td>\n",
       "      <td>1</td>\n",
       "      <td>гражданский брак</td>\n",
       "      <td>1</td>\n",
       "      <td>F</td>\n",
       "      <td>пенсионер</td>\n",
       "      <td>0</td>\n",
       "      <td>158616.077870</td>\n",
       "      <td>сыграть свадьбу</td>\n",
       "    </tr>\n",
       "  </tbody>\n",
       "</table>\n",
       "</div>"
      ],
      "text/plain": [
       "   children  days_employed  dob_years education  education_id  \\\n",
       "0         1   -8437.673028         42    высшее             0   \n",
       "1         1   -4024.803754         36   среднее             1   \n",
       "2         0   -5623.422610         33   Среднее             1   \n",
       "3         3   -4124.747207         32   среднее             1   \n",
       "4         0  340266.072047         53   среднее             1   \n",
       "\n",
       "      family_status  family_status_id gender income_type  debt   total_income  \\\n",
       "0   женат / замужем                 0      F   сотрудник     0  253875.639453   \n",
       "1   женат / замужем                 0      F   сотрудник     0  112080.014102   \n",
       "2   женат / замужем                 0      M   сотрудник     0  145885.952297   \n",
       "3   женат / замужем                 0      M   сотрудник     0  267628.550329   \n",
       "4  гражданский брак                 1      F   пенсионер     0  158616.077870   \n",
       "\n",
       "                      purpose  \n",
       "0               покупка жилья  \n",
       "1     приобретение автомобиля  \n",
       "2               покупка жилья  \n",
       "3  дополнительное образование  \n",
       "4             сыграть свадьбу  "
      ]
     },
     "execution_count": 20,
     "metadata": {},
     "output_type": "execute_result"
    }
   ],
   "source": [
    "data_credit.head()"
   ]
  },
  {
   "cell_type": "markdown",
   "metadata": {},
   "source": [
    "При просмотре первых строк таблицы видны артефакты в столбцах:\n",
    "- *отработанных дней*, *итоговый доход* - отрицательные значения\n",
    "- *образование* - различный регистр\n",
    "\n",
    "Для начала я исправлю регистр во всех строковых столбцах на нижний, это позволит сэкономить время на проведении проверок.\n",
    "После этого проведу проверку всех столбцов на встречающиеся значения. В зависимости от количества артефактов приму решение о дальнейшем порядке действий.\n",
    "\n",
    "##### Исправление регистра"
   ]
  },
  {
   "cell_type": "code",
   "execution_count": 21,
   "metadata": {},
   "outputs": [],
   "source": [
    "# выберу столбцы строкового типа\n",
    "for column in data_credit.select_dtypes(include='object'):\n",
    "    # по очереди преобразую к нижнему регистру\n",
    "    data_credit[column] = data_credit[column].str.lower()"
   ]
  },
  {
   "cell_type": "code",
   "execution_count": 22,
   "metadata": {},
   "outputs": [
    {
     "data": {
      "text/html": [
       "<div>\n",
       "<style scoped>\n",
       "    .dataframe tbody tr th:only-of-type {\n",
       "        vertical-align: middle;\n",
       "    }\n",
       "\n",
       "    .dataframe tbody tr th {\n",
       "        vertical-align: top;\n",
       "    }\n",
       "\n",
       "    .dataframe thead th {\n",
       "        text-align: right;\n",
       "    }\n",
       "</style>\n",
       "<table border=\"1\" class=\"dataframe\">\n",
       "  <thead>\n",
       "    <tr style=\"text-align: right;\">\n",
       "      <th></th>\n",
       "      <th>children</th>\n",
       "      <th>days_employed</th>\n",
       "      <th>dob_years</th>\n",
       "      <th>education</th>\n",
       "      <th>education_id</th>\n",
       "      <th>family_status</th>\n",
       "      <th>family_status_id</th>\n",
       "      <th>gender</th>\n",
       "      <th>income_type</th>\n",
       "      <th>debt</th>\n",
       "      <th>total_income</th>\n",
       "      <th>purpose</th>\n",
       "    </tr>\n",
       "  </thead>\n",
       "  <tbody>\n",
       "    <tr>\n",
       "      <td>0</td>\n",
       "      <td>1</td>\n",
       "      <td>-8437.673028</td>\n",
       "      <td>42</td>\n",
       "      <td>высшее</td>\n",
       "      <td>0</td>\n",
       "      <td>женат / замужем</td>\n",
       "      <td>0</td>\n",
       "      <td>f</td>\n",
       "      <td>сотрудник</td>\n",
       "      <td>0</td>\n",
       "      <td>253875.639453</td>\n",
       "      <td>покупка жилья</td>\n",
       "    </tr>\n",
       "    <tr>\n",
       "      <td>1</td>\n",
       "      <td>1</td>\n",
       "      <td>-4024.803754</td>\n",
       "      <td>36</td>\n",
       "      <td>среднее</td>\n",
       "      <td>1</td>\n",
       "      <td>женат / замужем</td>\n",
       "      <td>0</td>\n",
       "      <td>f</td>\n",
       "      <td>сотрудник</td>\n",
       "      <td>0</td>\n",
       "      <td>112080.014102</td>\n",
       "      <td>приобретение автомобиля</td>\n",
       "    </tr>\n",
       "    <tr>\n",
       "      <td>2</td>\n",
       "      <td>0</td>\n",
       "      <td>-5623.422610</td>\n",
       "      <td>33</td>\n",
       "      <td>среднее</td>\n",
       "      <td>1</td>\n",
       "      <td>женат / замужем</td>\n",
       "      <td>0</td>\n",
       "      <td>m</td>\n",
       "      <td>сотрудник</td>\n",
       "      <td>0</td>\n",
       "      <td>145885.952297</td>\n",
       "      <td>покупка жилья</td>\n",
       "    </tr>\n",
       "    <tr>\n",
       "      <td>3</td>\n",
       "      <td>3</td>\n",
       "      <td>-4124.747207</td>\n",
       "      <td>32</td>\n",
       "      <td>среднее</td>\n",
       "      <td>1</td>\n",
       "      <td>женат / замужем</td>\n",
       "      <td>0</td>\n",
       "      <td>m</td>\n",
       "      <td>сотрудник</td>\n",
       "      <td>0</td>\n",
       "      <td>267628.550329</td>\n",
       "      <td>дополнительное образование</td>\n",
       "    </tr>\n",
       "    <tr>\n",
       "      <td>4</td>\n",
       "      <td>0</td>\n",
       "      <td>340266.072047</td>\n",
       "      <td>53</td>\n",
       "      <td>среднее</td>\n",
       "      <td>1</td>\n",
       "      <td>гражданский брак</td>\n",
       "      <td>1</td>\n",
       "      <td>f</td>\n",
       "      <td>пенсионер</td>\n",
       "      <td>0</td>\n",
       "      <td>158616.077870</td>\n",
       "      <td>сыграть свадьбу</td>\n",
       "    </tr>\n",
       "  </tbody>\n",
       "</table>\n",
       "</div>"
      ],
      "text/plain": [
       "   children  days_employed  dob_years education  education_id  \\\n",
       "0         1   -8437.673028         42    высшее             0   \n",
       "1         1   -4024.803754         36   среднее             1   \n",
       "2         0   -5623.422610         33   среднее             1   \n",
       "3         3   -4124.747207         32   среднее             1   \n",
       "4         0  340266.072047         53   среднее             1   \n",
       "\n",
       "      family_status  family_status_id gender income_type  debt   total_income  \\\n",
       "0   женат / замужем                 0      f   сотрудник     0  253875.639453   \n",
       "1   женат / замужем                 0      f   сотрудник     0  112080.014102   \n",
       "2   женат / замужем                 0      m   сотрудник     0  145885.952297   \n",
       "3   женат / замужем                 0      m   сотрудник     0  267628.550329   \n",
       "4  гражданский брак                 1      f   пенсионер     0  158616.077870   \n",
       "\n",
       "                      purpose  \n",
       "0               покупка жилья  \n",
       "1     приобретение автомобиля  \n",
       "2               покупка жилья  \n",
       "3  дополнительное образование  \n",
       "4             сыграть свадьбу  "
      ]
     },
     "execution_count": 22,
     "metadata": {},
     "output_type": "execute_result"
    }
   ],
   "source": [
    "data_credit.head()"
   ]
  },
  {
   "cell_type": "markdown",
   "metadata": {},
   "source": [
    "Как видно по первым строкам, замена сработала, дополнительно проконтролирую замену остальных строк при проверке значений по столбцам методом *value_counts()*.\n",
    "\n",
    "Проверим столбцы последовательно, для каждой строки суммируя количество столбцов с неверными данными. Добавлю пометку для неверных данных, которые я не буду удалять."
   ]
  },
  {
   "cell_type": "code",
   "execution_count": 23,
   "metadata": {},
   "outputs": [],
   "source": [
    "# инициирую счетчик неверных данных в столбцах\n",
    "data_credit['wrong_values'] = 0"
   ]
  },
  {
   "cell_type": "markdown",
   "metadata": {},
   "source": [
    "#### Строковые столбцы"
   ]
  },
  {
   "cell_type": "markdown",
   "metadata": {},
   "source": [
    "##### Количество детей"
   ]
  },
  {
   "cell_type": "markdown",
   "metadata": {},
   "source": [
    "Выведем различные значения столбца, сгруппированные по количеству детей для удобства."
   ]
  },
  {
   "cell_type": "code",
   "execution_count": 24,
   "metadata": {},
   "outputs": [
    {
     "data": {
      "text/plain": [
       "-1        47\n",
       " 0     14149\n",
       " 1      4818\n",
       " 2      2055\n",
       " 3       330\n",
       " 4        41\n",
       " 5         9\n",
       " 20       76\n",
       "Name: children, dtype: int64"
      ]
     },
     "execution_count": 24,
     "metadata": {},
     "output_type": "execute_result"
    }
   ],
   "source": [
    "data_credit['children'].value_counts().sort_index()"
   ]
  },
  {
   "cell_type": "markdown",
   "metadata": {},
   "source": [
    "Выявлено 2 некорректных значения: *-1* и *20*. *-1* - понятно, а *20* некорректно, т.к. не укладывается в общую закономерность уменьшения количества заёмщиков с большим числом детей, и имеется разрыв с 6 до 19 детей, где заёмщики отсутствуют."
   ]
  },
  {
   "cell_type": "code",
   "execution_count": 25,
   "metadata": {},
   "outputs": [],
   "source": [
    "# заменим все некорректные значения на -1\n",
    "data_credit['children'] = data_credit['children'].replace(20, -1)"
   ]
  },
  {
   "cell_type": "code",
   "execution_count": 26,
   "metadata": {},
   "outputs": [
    {
     "data": {
      "text/plain": [
       "-1      123\n",
       " 0    14149\n",
       " 1     4818\n",
       " 2     2055\n",
       " 3      330\n",
       " 4       41\n",
       " 5        9\n",
       "Name: children, dtype: int64"
      ]
     },
     "execution_count": 26,
     "metadata": {},
     "output_type": "execute_result"
    }
   ],
   "source": [
    "# проверка\n",
    "data_credit['children'].value_counts().sort_index()"
   ]
  },
  {
   "cell_type": "code",
   "execution_count": 27,
   "metadata": {},
   "outputs": [],
   "source": [
    "data_credit.loc[data_credit['children'] == -1, 'wrong_values'] = data_credit['wrong_values'] + 1"
   ]
  },
  {
   "cell_type": "code",
   "execution_count": 28,
   "metadata": {},
   "outputs": [
    {
     "data": {
      "text/plain": [
       "0    21402\n",
       "1      123\n",
       "Name: wrong_values, dtype: int64"
      ]
     },
     "execution_count": 28,
     "metadata": {},
     "output_type": "execute_result"
    }
   ],
   "source": [
    "# проверка\n",
    "data_credit['wrong_values'].value_counts()"
   ]
  },
  {
   "cell_type": "markdown",
   "metadata": {},
   "source": [
    "##### Возраст"
   ]
  },
  {
   "cell_type": "code",
   "execution_count": 29,
   "metadata": {},
   "outputs": [
    {
     "data": {
      "text/plain": [
       "0     101\n",
       "19     14\n",
       "20     51\n",
       "21    111\n",
       "22    183\n",
       "23    254\n",
       "24    264\n",
       "25    357\n",
       "26    408\n",
       "27    493\n",
       "28    503\n",
       "29    545\n",
       "30    540\n",
       "31    560\n",
       "32    510\n",
       "33    581\n",
       "34    603\n",
       "35    617\n",
       "36    555\n",
       "37    537\n",
       "38    598\n",
       "39    573\n",
       "40    609\n",
       "41    607\n",
       "42    597\n",
       "43    513\n",
       "44    547\n",
       "45    497\n",
       "46    475\n",
       "47    480\n",
       "48    538\n",
       "49    508\n",
       "50    514\n",
       "51    448\n",
       "52    484\n",
       "53    459\n",
       "54    479\n",
       "55    443\n",
       "56    487\n",
       "57    460\n",
       "58    461\n",
       "59    444\n",
       "60    377\n",
       "61    355\n",
       "62    352\n",
       "63    269\n",
       "64    265\n",
       "65    194\n",
       "66    183\n",
       "67    167\n",
       "68     99\n",
       "69     85\n",
       "70     65\n",
       "71     58\n",
       "72     33\n",
       "73      8\n",
       "74      6\n",
       "75      1\n",
       "Name: dob_years, dtype: int64"
      ]
     },
     "execution_count": 29,
     "metadata": {},
     "output_type": "execute_result"
    }
   ],
   "source": [
    "data_credit['dob_years'].value_counts().sort_index()"
   ]
  },
  {
   "cell_type": "markdown",
   "metadata": {},
   "source": [
    "*0* - неверное значение. Делаем отметку в столбце *wrong_values*"
   ]
  },
  {
   "cell_type": "code",
   "execution_count": 30,
   "metadata": {},
   "outputs": [],
   "source": [
    "data_credit.loc[data_credit['dob_years'] == 0, 'wrong_values'] = data_credit['wrong_values'] + 1"
   ]
  },
  {
   "cell_type": "code",
   "execution_count": 31,
   "metadata": {},
   "outputs": [
    {
     "data": {
      "text/plain": [
       "0    21302\n",
       "1      222\n",
       "2        1\n",
       "Name: wrong_values, dtype: int64"
      ]
     },
     "execution_count": 31,
     "metadata": {},
     "output_type": "execute_result"
    }
   ],
   "source": [
    "# Проверка\n",
    "data_credit['wrong_values'].value_counts()"
   ]
  },
  {
   "cell_type": "markdown",
   "metadata": {},
   "source": [
    "Всё верно, и есть 1 совпадение, т.е. строка с 2 неверными значениями."
   ]
  },
  {
   "cell_type": "markdown",
   "metadata": {},
   "source": [
    "##### Образование"
   ]
  },
  {
   "cell_type": "code",
   "execution_count": 32,
   "metadata": {},
   "outputs": [
    {
     "data": {
      "text/plain": [
       "среднее                15233\n",
       "высшее                  5260\n",
       "неоконченное высшее      744\n",
       "начальное                282\n",
       "ученая степень             6\n",
       "Name: education, dtype: int64"
      ]
     },
     "execution_count": 32,
     "metadata": {},
     "output_type": "execute_result"
    }
   ],
   "source": [
    "data_credit['education'].value_counts()"
   ]
  },
  {
   "cell_type": "markdown",
   "metadata": {},
   "source": [
    "Всё ок.\n",
    "\n",
    "Столбец с id образования:"
   ]
  },
  {
   "cell_type": "code",
   "execution_count": 33,
   "metadata": {},
   "outputs": [
    {
     "data": {
      "text/plain": [
       "0     5260\n",
       "1    15233\n",
       "2      744\n",
       "3      282\n",
       "4        6\n",
       "Name: education_id, dtype: int64"
      ]
     },
     "execution_count": 33,
     "metadata": {},
     "output_type": "execute_result"
    }
   ],
   "source": [
    "data_credit['education_id'].value_counts().sort_index()"
   ]
  },
  {
   "cell_type": "markdown",
   "metadata": {},
   "source": [
    "Проверка на соответствие значений в 2-х столбцах с образованием методом группировки. Если в какой-либо группе будет больше, чем 1 категория уровня образования, значит, есть несоответствие."
   ]
  },
  {
   "cell_type": "code",
   "execution_count": 34,
   "metadata": {},
   "outputs": [
    {
     "data": {
      "text/plain": [
       "education_id  education          \n",
       "0             высшее                  5260\n",
       "1             среднее                15233\n",
       "2             неоконченное высшее      744\n",
       "3             начальное                282\n",
       "4             ученая степень             6\n",
       "Name: education, dtype: int64"
      ]
     },
     "execution_count": 34,
     "metadata": {},
     "output_type": "execute_result"
    }
   ],
   "source": [
    "data_credit.groupby(['education_id', 'education'])['education'].count()"
   ]
  },
  {
   "cell_type": "markdown",
   "metadata": {},
   "source": [
    "Ок, полное соответствие между словесным описанием уровня образования и его id.\n",
    "\n",
    "Со столбцами об образовании ок.\n",
    "\n",
    "##### Семья (2 столбца)"
   ]
  },
  {
   "cell_type": "code",
   "execution_count": 35,
   "metadata": {},
   "outputs": [
    {
     "data": {
      "text/plain": [
       "женат / замужем          12380\n",
       "гражданский брак          4177\n",
       "не женат / не замужем     2813\n",
       "в разводе                 1195\n",
       "вдовец / вдова             960\n",
       "Name: family_status, dtype: int64"
      ]
     },
     "execution_count": 35,
     "metadata": {},
     "output_type": "execute_result"
    }
   ],
   "source": [
    "data_credit['family_status'].value_counts()"
   ]
  },
  {
   "cell_type": "code",
   "execution_count": 36,
   "metadata": {},
   "outputs": [
    {
     "data": {
      "text/plain": [
       "0    12380\n",
       "1     4177\n",
       "2      960\n",
       "3     1195\n",
       "4     2813\n",
       "Name: family_status_id, dtype: int64"
      ]
     },
     "execution_count": 36,
     "metadata": {},
     "output_type": "execute_result"
    }
   ],
   "source": [
    "data_credit['family_status_id'].value_counts().sort_index()"
   ]
  },
  {
   "cell_type": "markdown",
   "metadata": {},
   "source": [
    "Вывод: артефактов нет.\n",
    "\n",
    "Проверка соответствия индексов через группировку по аналогии с уровнем образования:"
   ]
  },
  {
   "cell_type": "code",
   "execution_count": 37,
   "metadata": {},
   "outputs": [
    {
     "data": {
      "text/plain": [
       "family_status_id  family_status        \n",
       "0                 женат / замужем          12380\n",
       "1                 гражданский брак          4177\n",
       "2                 вдовец / вдова             960\n",
       "3                 в разводе                 1195\n",
       "4                 не женат / не замужем     2813\n",
       "Name: family_status, dtype: int64"
      ]
     },
     "execution_count": 37,
     "metadata": {},
     "output_type": "execute_result"
    }
   ],
   "source": [
    "data_credit.groupby(['family_status_id', 'family_status'])['family_status'].count()"
   ]
  },
  {
   "cell_type": "markdown",
   "metadata": {},
   "source": [
    "Соответствие ок, проверка на артефакты столбцов *family_status, family_status_id* - ок"
   ]
  },
  {
   "cell_type": "markdown",
   "metadata": {},
   "source": [
    "##### Пол"
   ]
  },
  {
   "cell_type": "code",
   "execution_count": 38,
   "metadata": {},
   "outputs": [
    {
     "data": {
      "text/plain": [
       "f      14236\n",
       "m       7288\n",
       "xna        1\n",
       "Name: gender, dtype: int64"
      ]
     },
     "execution_count": 38,
     "metadata": {},
     "output_type": "execute_result"
    }
   ],
   "source": [
    "data_credit['gender'].value_counts()"
   ]
  },
  {
   "cell_type": "markdown",
   "metadata": {},
   "source": [
    "xna - неверное значение. Отметим его."
   ]
  },
  {
   "cell_type": "code",
   "execution_count": 39,
   "metadata": {},
   "outputs": [],
   "source": [
    "data_credit.loc[data_credit['gender'] == 'xna', 'wrong_values']  = data_credit['wrong_values'] + 1"
   ]
  },
  {
   "cell_type": "code",
   "execution_count": 40,
   "metadata": {},
   "outputs": [
    {
     "data": {
      "text/plain": [
       "0    21301\n",
       "1      223\n",
       "2        1\n",
       "Name: wrong_values, dtype: int64"
      ]
     },
     "execution_count": 40,
     "metadata": {},
     "output_type": "execute_result"
    }
   ],
   "source": [
    "# проверка\n",
    "data_credit['wrong_values'].value_counts()"
   ]
  },
  {
   "cell_type": "markdown",
   "metadata": {},
   "source": [
    "222 возросло до 223. Всё верно!\n",
    "\n",
    "##### Тип занятости"
   ]
  },
  {
   "cell_type": "code",
   "execution_count": 41,
   "metadata": {},
   "outputs": [
    {
     "data": {
      "text/plain": [
       "сотрудник          11119\n",
       "компаньон           5085\n",
       "пенсионер           3856\n",
       "госслужащий         1459\n",
       "безработный            2\n",
       "предприниматель        2\n",
       "в декрете              1\n",
       "студент                1\n",
       "Name: income_type, dtype: int64"
      ]
     },
     "execution_count": 41,
     "metadata": {},
     "output_type": "execute_result"
    }
   ],
   "source": [
    "data_credit['income_type'].value_counts()"
   ]
  },
  {
   "cell_type": "markdown",
   "metadata": {},
   "source": [
    "Всё ок, неверных значений нет."
   ]
  },
  {
   "cell_type": "markdown",
   "metadata": {},
   "source": [
    "##### Факт задолженности"
   ]
  },
  {
   "cell_type": "code",
   "execution_count": 42,
   "metadata": {},
   "outputs": [
    {
     "data": {
      "text/plain": [
       "0    19784\n",
       "1     1741\n",
       "Name: debt, dtype: int64"
      ]
     },
     "execution_count": 42,
     "metadata": {},
     "output_type": "execute_result"
    }
   ],
   "source": [
    "data_credit['debt'].value_counts()"
   ]
  },
  {
   "cell_type": "markdown",
   "metadata": {},
   "source": [
    "Артефактов нет.\n",
    "\n",
    "##### Цель получения кредита"
   ]
  },
  {
   "cell_type": "code",
   "execution_count": 43,
   "metadata": {},
   "outputs": [
    {
     "data": {
      "text/plain": [
       "свадьба                                   797\n",
       "на проведение свадьбы                     777\n",
       "сыграть свадьбу                           774\n",
       "операции с недвижимостью                  676\n",
       "покупка коммерческой недвижимости         664\n",
       "покупка жилья для сдачи                   653\n",
       "операции с жильем                         653\n",
       "операции с коммерческой недвижимостью     651\n",
       "покупка жилья                             647\n",
       "жилье                                     647\n",
       "покупка жилья для семьи                   641\n",
       "строительство собственной недвижимости    635\n",
       "недвижимость                              634\n",
       "операции со своей недвижимостью           630\n",
       "строительство жилой недвижимости          626\n",
       "покупка недвижимости                      624\n",
       "покупка своего жилья                      620\n",
       "строительство недвижимости                620\n",
       "ремонт жилью                              612\n",
       "покупка жилой недвижимости                607\n",
       "на покупку своего автомобиля              505\n",
       "заняться высшим образованием              496\n",
       "автомобиль                                495\n",
       "сделка с подержанным автомобилем          489\n",
       "свой автомобиль                           480\n",
       "на покупку подержанного автомобиля        479\n",
       "автомобили                                478\n",
       "на покупку автомобиля                     472\n",
       "приобретение автомобиля                   462\n",
       "дополнительное образование                462\n",
       "сделка с автомобилем                      455\n",
       "высшее образование                        453\n",
       "получение дополнительного образования     447\n",
       "образование                               447\n",
       "получение образования                     443\n",
       "профильное образование                    436\n",
       "получение высшего образования             426\n",
       "заняться образованием                     412\n",
       "Name: purpose, dtype: int64"
      ]
     },
     "execution_count": 43,
     "metadata": {},
     "output_type": "execute_result"
    }
   ],
   "source": [
    "data_credit['purpose'].value_counts()"
   ]
  },
  {
   "cell_type": "markdown",
   "metadata": {},
   "source": [
    "Есть задача по выделению категорий, но артефактов, что интересует на этом этапе, нет."
   ]
  },
  {
   "cell_type": "markdown",
   "metadata": {},
   "source": [
    "#### Числовые столбцы <a id='step2.2'></a>\n",
    "Получим основную статистику:\n",
    "- минимальное значение\n",
    "- медиана\n",
    "- среднее\n",
    "- максимальное\n",
    "\n",
    "##### Отработанные дни"
   ]
  },
  {
   "cell_type": "code",
   "execution_count": 44,
   "metadata": {},
   "outputs": [
    {
     "name": "stdout",
     "output_type": "stream",
     "text": [
      "Минимальное значение отработанных дней: -18388.949900568383\n",
      "Медиана для отработанных дней -1203.369528770489\n",
      "Среднее значение для отработанных дней 63046.49766147338\n",
      "Максимальное значение отработанных дней 401755.40047533\n"
     ]
    }
   ],
   "source": [
    "print('Минимальное значение отработанных дней:', data_credit['days_employed'].min())\n",
    "print('Медиана для отработанных дней', data_credit['days_employed'].median())\n",
    "print('Среднее значение для отработанных дней', data_credit['days_employed'].mean())\n",
    "print('Максимальное значение отработанных дней', data_credit['days_employed'].max())"
   ]
  },
  {
   "cell_type": "markdown",
   "metadata": {},
   "source": [
    "Артефакты:\n",
    "- отрицательные значения\n",
    "- дробные части чисел"
   ]
  },
  {
   "cell_type": "code",
   "execution_count": 45,
   "metadata": {},
   "outputs": [
    {
     "name": "stdout",
     "output_type": "stream",
     "text": [
      "Количество отрицательных значений: 15906\n",
      "Процент отрицательных значений: 73.90%\n"
     ]
    }
   ],
   "source": [
    "# Обнаружились артефакты в виде отрицательных значений. Проверим, сколько их.\n",
    "days_negative_total = data_credit[data_credit['days_employed'] < 0]['days_employed'].count()\n",
    "print('Количество отрицательных значений:', days_negative_total)\n",
    "print('Процент отрицательных значений: {:.2%}'.format(days_negative_total / data_credit.shape[0]))"
   ]
  },
  {
   "cell_type": "markdown",
   "metadata": {},
   "source": [
    "Соберём доп. статистику. Наиболее логичным представляется определить, как количество рабочих дней связано с типом занятости работника. Может отрицательное количество только у безработных? Или у определённой категории?"
   ]
  },
  {
   "cell_type": "code",
   "execution_count": 46,
   "metadata": {},
   "outputs": [
    {
     "data": {
      "text/plain": [
       "сотрудник          10014\n",
       "компаньон           4577\n",
       "госслужащий         1312\n",
       "в декрете              1\n",
       "студент                1\n",
       "предприниматель        1\n",
       "Name: income_type, dtype: int64"
      ]
     },
     "execution_count": 46,
     "metadata": {},
     "output_type": "execute_result"
    }
   ],
   "source": [
    "# получим разбиение по категориям для отрицательного количества дней стажа.\n",
    "data_credit[data_credit['days_employed'] < 0]['income_type'].value_counts()"
   ]
  },
  {
   "cell_type": "code",
   "execution_count": 47,
   "metadata": {},
   "outputs": [
    {
     "data": {
      "text/plain": [
       "пенсионер      3443\n",
       "безработный       2\n",
       "Name: income_type, dtype: int64"
      ]
     },
     "execution_count": 47,
     "metadata": {},
     "output_type": "execute_result"
    }
   ],
   "source": [
    "# для сравнения получим такое же разбиение для корректных значений стажа:\n",
    "data_credit[data_credit['days_employed'] >= 0]['income_type'].value_counts()"
   ]
  },
  {
   "cell_type": "code",
   "execution_count": 48,
   "metadata": {
    "scrolled": true
   },
   "outputs": [
    {
     "data": {
      "text/html": [
       "<div>\n",
       "<style scoped>\n",
       "    .dataframe tbody tr th:only-of-type {\n",
       "        vertical-align: middle;\n",
       "    }\n",
       "\n",
       "    .dataframe tbody tr th {\n",
       "        vertical-align: top;\n",
       "    }\n",
       "\n",
       "    .dataframe thead th {\n",
       "        text-align: right;\n",
       "    }\n",
       "</style>\n",
       "<table border=\"1\" class=\"dataframe\">\n",
       "  <thead>\n",
       "    <tr style=\"text-align: right;\">\n",
       "      <th></th>\n",
       "      <th>children</th>\n",
       "      <th>days_employed</th>\n",
       "      <th>dob_years</th>\n",
       "      <th>education</th>\n",
       "      <th>education_id</th>\n",
       "      <th>family_status</th>\n",
       "      <th>family_status_id</th>\n",
       "      <th>gender</th>\n",
       "      <th>income_type</th>\n",
       "      <th>debt</th>\n",
       "      <th>total_income</th>\n",
       "      <th>purpose</th>\n",
       "      <th>wrong_values</th>\n",
       "    </tr>\n",
       "  </thead>\n",
       "  <tbody>\n",
       "    <tr>\n",
       "      <td>11814</td>\n",
       "      <td>0</td>\n",
       "      <td>339624.249848</td>\n",
       "      <td>57</td>\n",
       "      <td>высшее</td>\n",
       "      <td>0</td>\n",
       "      <td>женат / замужем</td>\n",
       "      <td>0</td>\n",
       "      <td>f</td>\n",
       "      <td>пенсионер</td>\n",
       "      <td>0</td>\n",
       "      <td>217064.784031</td>\n",
       "      <td>операции с недвижимостью</td>\n",
       "      <td>0</td>\n",
       "    </tr>\n",
       "    <tr>\n",
       "      <td>1482</td>\n",
       "      <td>1</td>\n",
       "      <td>388210.396303</td>\n",
       "      <td>52</td>\n",
       "      <td>среднее</td>\n",
       "      <td>1</td>\n",
       "      <td>женат / замужем</td>\n",
       "      <td>0</td>\n",
       "      <td>f</td>\n",
       "      <td>пенсионер</td>\n",
       "      <td>0</td>\n",
       "      <td>52944.363287</td>\n",
       "      <td>на покупку автомобиля</td>\n",
       "      <td>0</td>\n",
       "    </tr>\n",
       "    <tr>\n",
       "      <td>3213</td>\n",
       "      <td>0</td>\n",
       "      <td>390946.557770</td>\n",
       "      <td>57</td>\n",
       "      <td>среднее</td>\n",
       "      <td>1</td>\n",
       "      <td>женат / замужем</td>\n",
       "      <td>0</td>\n",
       "      <td>f</td>\n",
       "      <td>пенсионер</td>\n",
       "      <td>0</td>\n",
       "      <td>64014.701476</td>\n",
       "      <td>покупка коммерческой недвижимости</td>\n",
       "      <td>0</td>\n",
       "    </tr>\n",
       "    <tr>\n",
       "      <td>5726</td>\n",
       "      <td>0</td>\n",
       "      <td>392386.815564</td>\n",
       "      <td>57</td>\n",
       "      <td>среднее</td>\n",
       "      <td>1</td>\n",
       "      <td>гражданский брак</td>\n",
       "      <td>1</td>\n",
       "      <td>f</td>\n",
       "      <td>пенсионер</td>\n",
       "      <td>0</td>\n",
       "      <td>154682.053079</td>\n",
       "      <td>сыграть свадьбу</td>\n",
       "      <td>0</td>\n",
       "    </tr>\n",
       "    <tr>\n",
       "      <td>10662</td>\n",
       "      <td>1</td>\n",
       "      <td>378120.240753</td>\n",
       "      <td>55</td>\n",
       "      <td>среднее</td>\n",
       "      <td>1</td>\n",
       "      <td>женат / замужем</td>\n",
       "      <td>0</td>\n",
       "      <td>f</td>\n",
       "      <td>пенсионер</td>\n",
       "      <td>0</td>\n",
       "      <td>135989.325303</td>\n",
       "      <td>сделка с подержанным автомобилем</td>\n",
       "      <td>0</td>\n",
       "    </tr>\n",
       "  </tbody>\n",
       "</table>\n",
       "</div>"
      ],
      "text/plain": [
       "       children  days_employed  dob_years education  education_id  \\\n",
       "11814         0  339624.249848         57    высшее             0   \n",
       "1482          1  388210.396303         52   среднее             1   \n",
       "3213          0  390946.557770         57   среднее             1   \n",
       "5726          0  392386.815564         57   среднее             1   \n",
       "10662         1  378120.240753         55   среднее             1   \n",
       "\n",
       "          family_status  family_status_id gender income_type  debt  \\\n",
       "11814   женат / замужем                 0      f   пенсионер     0   \n",
       "1482    женат / замужем                 0      f   пенсионер     0   \n",
       "3213    женат / замужем                 0      f   пенсионер     0   \n",
       "5726   гражданский брак                 1      f   пенсионер     0   \n",
       "10662   женат / замужем                 0      f   пенсионер     0   \n",
       "\n",
       "        total_income                            purpose  wrong_values  \n",
       "11814  217064.784031           операции с недвижимостью             0  \n",
       "1482    52944.363287              на покупку автомобиля             0  \n",
       "3213    64014.701476  покупка коммерческой недвижимости             0  \n",
       "5726   154682.053079                    сыграть свадьбу             0  \n",
       "10662  135989.325303   сделка с подержанным автомобилем             0  "
      ]
     },
     "execution_count": 48,
     "metadata": {},
     "output_type": "execute_result"
    }
   ],
   "source": [
    "# просмотрим случайную выборку\n",
    "data_credit[data_credit['days_employed'] >= 0].sample(n=5)"
   ]
  },
  {
   "cell_type": "markdown",
   "metadata": {},
   "source": [
    "Даже у положительного числа отработанных дней есть дробная часть."
   ]
  },
  {
   "cell_type": "markdown",
   "metadata": {},
   "source": [
    "Создам сводную таблицу для наглядности:"
   ]
  },
  {
   "cell_type": "code",
   "execution_count": 49,
   "metadata": {},
   "outputs": [],
   "source": [
    "def days_employed_split(num_days):\n",
    "    num_days = int(num_days)\n",
    "    if num_days > 0:\n",
    "        return 'больше 0'\n",
    "    elif num_days == 0:\n",
    "        return 'равно 0'\n",
    "    return 'меньше 0'"
   ]
  },
  {
   "cell_type": "code",
   "execution_count": 50,
   "metadata": {},
   "outputs": [],
   "source": [
    "# добавление нового столбца для группировки, исключая значения Null\n",
    "data_credit['days_category'] = data_credit[data_credit['days_employed'].notna()].apply(lambda x: days_employed_split(x['days_employed']), axis=1)"
   ]
  },
  {
   "cell_type": "code",
   "execution_count": 51,
   "metadata": {},
   "outputs": [],
   "source": [
    "# суммируем данные в столбцах по числу наблюдений\n",
    "pivot_table = data_credit.pivot_table(index='income_type', columns='days_category',\n",
    "                                      values='debt', aggfunc='count', fill_value='-', margins=True, margins_name='Всего:')"
   ]
  },
  {
   "cell_type": "code",
   "execution_count": 52,
   "metadata": {},
   "outputs": [
    {
     "data": {
      "text/html": [
       "<div>\n",
       "<style scoped>\n",
       "    .dataframe tbody tr th:only-of-type {\n",
       "        vertical-align: middle;\n",
       "    }\n",
       "\n",
       "    .dataframe tbody tr th {\n",
       "        vertical-align: top;\n",
       "    }\n",
       "\n",
       "    .dataframe thead th {\n",
       "        text-align: right;\n",
       "    }\n",
       "</style>\n",
       "<table border=\"1\" class=\"dataframe\">\n",
       "  <thead>\n",
       "    <tr style=\"text-align: right;\">\n",
       "      <th>days_category</th>\n",
       "      <th>больше 0</th>\n",
       "      <th>меньше 0</th>\n",
       "      <th>Всего:</th>\n",
       "    </tr>\n",
       "    <tr>\n",
       "      <th>income_type</th>\n",
       "      <th></th>\n",
       "      <th></th>\n",
       "      <th></th>\n",
       "    </tr>\n",
       "  </thead>\n",
       "  <tbody>\n",
       "    <tr>\n",
       "      <td>безработный</td>\n",
       "      <td>2</td>\n",
       "      <td>-</td>\n",
       "      <td>2</td>\n",
       "    </tr>\n",
       "    <tr>\n",
       "      <td>в декрете</td>\n",
       "      <td>-</td>\n",
       "      <td>1</td>\n",
       "      <td>1</td>\n",
       "    </tr>\n",
       "    <tr>\n",
       "      <td>госслужащий</td>\n",
       "      <td>-</td>\n",
       "      <td>1312</td>\n",
       "      <td>1312</td>\n",
       "    </tr>\n",
       "    <tr>\n",
       "      <td>компаньон</td>\n",
       "      <td>-</td>\n",
       "      <td>4577</td>\n",
       "      <td>4577</td>\n",
       "    </tr>\n",
       "    <tr>\n",
       "      <td>пенсионер</td>\n",
       "      <td>3443</td>\n",
       "      <td>-</td>\n",
       "      <td>3443</td>\n",
       "    </tr>\n",
       "    <tr>\n",
       "      <td>предприниматель</td>\n",
       "      <td>-</td>\n",
       "      <td>1</td>\n",
       "      <td>1</td>\n",
       "    </tr>\n",
       "    <tr>\n",
       "      <td>сотрудник</td>\n",
       "      <td>-</td>\n",
       "      <td>10014</td>\n",
       "      <td>10014</td>\n",
       "    </tr>\n",
       "    <tr>\n",
       "      <td>студент</td>\n",
       "      <td>-</td>\n",
       "      <td>1</td>\n",
       "      <td>1</td>\n",
       "    </tr>\n",
       "    <tr>\n",
       "      <td>Всего:</td>\n",
       "      <td>3445</td>\n",
       "      <td>15906</td>\n",
       "      <td>19351</td>\n",
       "    </tr>\n",
       "  </tbody>\n",
       "</table>\n",
       "</div>"
      ],
      "text/plain": [
       "days_category   больше 0 меньше 0  Всего:\n",
       "income_type                              \n",
       "безработный            2        -       2\n",
       "в декрете              -        1       1\n",
       "госслужащий            -     1312    1312\n",
       "компаньон              -     4577    4577\n",
       "пенсионер           3443        -    3443\n",
       "предприниматель        -        1       1\n",
       "сотрудник              -    10014   10014\n",
       "студент                -        1       1\n",
       "Всего:              3445    15906   19351"
      ]
     },
     "execution_count": 52,
     "metadata": {},
     "output_type": "execute_result"
    }
   ],
   "source": [
    "pivot_table"
   ]
  },
  {
   "cell_type": "markdown",
   "metadata": {},
   "source": [
    "По сводной таблице видно, что нулевых значений отработанных дней в таблице нет, а внутри каждой категории по типу занятости отработанных дней *либо* больше, *либо* меньше, для каждой категории однозначно. Очевидно, произошла ошибка либо при записи данных, либо при последующей их выгрузке. Как неверные значения в столбце *total_income* отрицательные значения по дням не учитываю. Для ответов на поставленные вопросы столбец не нужен, оставляю как есть, т.к. данные могут быть записаны в каком-то нестандартном формате и при необходимости восстановимы. \n",
    "\n",
    "##### Общий доход\n",
    "Получим основную статистику:"
   ]
  },
  {
   "cell_type": "code",
   "execution_count": 53,
   "metadata": {},
   "outputs": [
    {
     "name": "stdout",
     "output_type": "stream",
     "text": [
      "Минимальный доход: 20667.26379327158\n",
      "Медиана для дохода 145017.93753253992\n",
      "Среднее значение для дохода 167422.30220817294\n",
      "Максимальное значение дохода 2265604.028722744\n"
     ]
    }
   ],
   "source": [
    "print('Минимальный доход:', data_credit['total_income'].min())\n",
    "print('Медиана для дохода', data_credit['total_income'].median())\n",
    "print('Среднее значение для дохода', data_credit['total_income'].mean())\n",
    "print('Максимальное значение дохода', data_credit['total_income'].max())"
   ]
  },
  {
   "cell_type": "markdown",
   "metadata": {},
   "source": [
    "Проблема только с дробной частью. Отрицательных значений не обнаружено. Во *wrong_values* ничего не записываю."
   ]
  },
  {
   "cell_type": "markdown",
   "metadata": {},
   "source": [
    "#### Общая обработка артефактов\n",
    "Т.к. артефакты в данных выявлены в нескольких столбцах, посчитаем их общее количество и процент в общем наборе данных:"
   ]
  },
  {
   "cell_type": "code",
   "execution_count": 54,
   "metadata": {},
   "outputs": [
    {
     "name": "stdout",
     "output_type": "stream",
     "text": [
      "Количество артефактов в целом: 224\n",
      "Процент: 1.04%\n"
     ]
    }
   ],
   "source": [
    "wrong_values_total = data_credit[data_credit['wrong_values'] > 0]['wrong_values'].count()\n",
    "print('Количество артефактов в целом:',wrong_values_total)\n",
    "print('Процент: {:.2%}'.format(wrong_values_total / data_credit.shape[0]))"
   ]
  },
  {
   "cell_type": "markdown",
   "metadata": {},
   "source": [
    "Благодаря тому, что использовался счётчик, а не удалялись артефакты для каждого столбца по отдельности, это позволило определить общее количество артефактов и их общий процент. Если бы по каждой отдельной категории количество артефактов было незначительно, но в целом уже ощутимо, я бы использовал метод замены на среднее значение. Но общее количество артефактов незначительно, удаляем."
   ]
  },
  {
   "cell_type": "code",
   "execution_count": 55,
   "metadata": {},
   "outputs": [
    {
     "data": {
      "text/plain": [
       "21525"
      ]
     },
     "execution_count": 55,
     "metadata": {},
     "output_type": "execute_result"
    }
   ],
   "source": [
    "# проверка: количество строк до удаления артефактов\n",
    "data_credit.shape[0]"
   ]
  },
  {
   "cell_type": "code",
   "execution_count": 56,
   "metadata": {},
   "outputs": [],
   "source": [
    "# оставляем только строки без артефактов\n",
    "data_credit = data_credit[data_credit['wrong_values'] == 0]"
   ]
  },
  {
   "cell_type": "code",
   "execution_count": 57,
   "metadata": {},
   "outputs": [
    {
     "name": "stdout",
     "output_type": "stream",
     "text": [
      "Удалены только данные с артефактами\n",
      "Новое количество записей: 21301\n"
     ]
    }
   ],
   "source": [
    "# проверка\n",
    "print('Удалены только данные с артефактами' if (data_credit.shape[0] + wrong_values_total == 21525) else 'Ошибка при удалении артефактов')\n",
    "print('Новое количество записей:', data_credit.shape[0])"
   ]
  },
  {
   "cell_type": "markdown",
   "metadata": {},
   "source": [
    "Всё верно, удалены только артефакты."
   ]
  },
  {
   "cell_type": "markdown",
   "metadata": {},
   "source": [
    "### Замена типа данных<a id='step2.3'></a>\n",
    "\n",
    "Избавимся от незначащей информации в столбце с общим уровнем дохода - знаками после запятой. Для этого заменим тип данных у столбца на *int*."
   ]
  },
  {
   "cell_type": "code",
   "execution_count": 58,
   "metadata": {},
   "outputs": [
    {
     "data": {
      "text/html": [
       "<div>\n",
       "<style scoped>\n",
       "    .dataframe tbody tr th:only-of-type {\n",
       "        vertical-align: middle;\n",
       "    }\n",
       "\n",
       "    .dataframe tbody tr th {\n",
       "        vertical-align: top;\n",
       "    }\n",
       "\n",
       "    .dataframe thead th {\n",
       "        text-align: right;\n",
       "    }\n",
       "</style>\n",
       "<table border=\"1\" class=\"dataframe\">\n",
       "  <thead>\n",
       "    <tr style=\"text-align: right;\">\n",
       "      <th></th>\n",
       "      <th>children</th>\n",
       "      <th>days_employed</th>\n",
       "      <th>dob_years</th>\n",
       "      <th>education</th>\n",
       "      <th>education_id</th>\n",
       "      <th>family_status</th>\n",
       "      <th>family_status_id</th>\n",
       "      <th>gender</th>\n",
       "      <th>income_type</th>\n",
       "      <th>debt</th>\n",
       "      <th>total_income</th>\n",
       "      <th>purpose</th>\n",
       "      <th>wrong_values</th>\n",
       "      <th>days_category</th>\n",
       "    </tr>\n",
       "  </thead>\n",
       "  <tbody>\n",
       "    <tr>\n",
       "      <td>0</td>\n",
       "      <td>1</td>\n",
       "      <td>-8437.673028</td>\n",
       "      <td>42</td>\n",
       "      <td>высшее</td>\n",
       "      <td>0</td>\n",
       "      <td>женат / замужем</td>\n",
       "      <td>0</td>\n",
       "      <td>f</td>\n",
       "      <td>сотрудник</td>\n",
       "      <td>0</td>\n",
       "      <td>253875.639453</td>\n",
       "      <td>покупка жилья</td>\n",
       "      <td>0</td>\n",
       "      <td>меньше 0</td>\n",
       "    </tr>\n",
       "    <tr>\n",
       "      <td>1</td>\n",
       "      <td>1</td>\n",
       "      <td>-4024.803754</td>\n",
       "      <td>36</td>\n",
       "      <td>среднее</td>\n",
       "      <td>1</td>\n",
       "      <td>женат / замужем</td>\n",
       "      <td>0</td>\n",
       "      <td>f</td>\n",
       "      <td>сотрудник</td>\n",
       "      <td>0</td>\n",
       "      <td>112080.014102</td>\n",
       "      <td>приобретение автомобиля</td>\n",
       "      <td>0</td>\n",
       "      <td>меньше 0</td>\n",
       "    </tr>\n",
       "    <tr>\n",
       "      <td>2</td>\n",
       "      <td>0</td>\n",
       "      <td>-5623.422610</td>\n",
       "      <td>33</td>\n",
       "      <td>среднее</td>\n",
       "      <td>1</td>\n",
       "      <td>женат / замужем</td>\n",
       "      <td>0</td>\n",
       "      <td>m</td>\n",
       "      <td>сотрудник</td>\n",
       "      <td>0</td>\n",
       "      <td>145885.952297</td>\n",
       "      <td>покупка жилья</td>\n",
       "      <td>0</td>\n",
       "      <td>меньше 0</td>\n",
       "    </tr>\n",
       "    <tr>\n",
       "      <td>3</td>\n",
       "      <td>3</td>\n",
       "      <td>-4124.747207</td>\n",
       "      <td>32</td>\n",
       "      <td>среднее</td>\n",
       "      <td>1</td>\n",
       "      <td>женат / замужем</td>\n",
       "      <td>0</td>\n",
       "      <td>m</td>\n",
       "      <td>сотрудник</td>\n",
       "      <td>0</td>\n",
       "      <td>267628.550329</td>\n",
       "      <td>дополнительное образование</td>\n",
       "      <td>0</td>\n",
       "      <td>меньше 0</td>\n",
       "    </tr>\n",
       "    <tr>\n",
       "      <td>4</td>\n",
       "      <td>0</td>\n",
       "      <td>340266.072047</td>\n",
       "      <td>53</td>\n",
       "      <td>среднее</td>\n",
       "      <td>1</td>\n",
       "      <td>гражданский брак</td>\n",
       "      <td>1</td>\n",
       "      <td>f</td>\n",
       "      <td>пенсионер</td>\n",
       "      <td>0</td>\n",
       "      <td>158616.077870</td>\n",
       "      <td>сыграть свадьбу</td>\n",
       "      <td>0</td>\n",
       "      <td>больше 0</td>\n",
       "    </tr>\n",
       "  </tbody>\n",
       "</table>\n",
       "</div>"
      ],
      "text/plain": [
       "   children  days_employed  dob_years education  education_id  \\\n",
       "0         1   -8437.673028         42    высшее             0   \n",
       "1         1   -4024.803754         36   среднее             1   \n",
       "2         0   -5623.422610         33   среднее             1   \n",
       "3         3   -4124.747207         32   среднее             1   \n",
       "4         0  340266.072047         53   среднее             1   \n",
       "\n",
       "      family_status  family_status_id gender income_type  debt   total_income  \\\n",
       "0   женат / замужем                 0      f   сотрудник     0  253875.639453   \n",
       "1   женат / замужем                 0      f   сотрудник     0  112080.014102   \n",
       "2   женат / замужем                 0      m   сотрудник     0  145885.952297   \n",
       "3   женат / замужем                 0      m   сотрудник     0  267628.550329   \n",
       "4  гражданский брак                 1      f   пенсионер     0  158616.077870   \n",
       "\n",
       "                      purpose  wrong_values days_category  \n",
       "0               покупка жилья             0      меньше 0  \n",
       "1     приобретение автомобиля             0      меньше 0  \n",
       "2               покупка жилья             0      меньше 0  \n",
       "3  дополнительное образование             0      меньше 0  \n",
       "4             сыграть свадьбу             0      больше 0  "
      ]
     },
     "execution_count": 58,
     "metadata": {},
     "output_type": "execute_result"
    }
   ],
   "source": [
    "data_credit.head()"
   ]
  },
  {
   "cell_type": "markdown",
   "metadata": {},
   "source": [
    "Применим проверку на ошибки, т.к. не все данные могут быть преобразованы к числовому типу без ошибок:"
   ]
  },
  {
   "cell_type": "code",
   "execution_count": 59,
   "metadata": {},
   "outputs": [
    {
     "name": "stdout",
     "output_type": "stream",
     "text": [
      "Ошибка при приобразовании типа данных в столбце. Столбец 'total_income' содержит данные, которые не могут быть преобразованы в число.\n"
     ]
    }
   ],
   "source": [
    "try:\n",
    "    data_credit['total_income'] = data_credit['total_income'].astype('int')\n",
    "except:\n",
    "    print('Ошибка при приобразовании типа данных в столбце. Столбец \\'total_income\\' содержит данные, которые не могут быть преобразованы в число.')"
   ]
  },
  {
   "cell_type": "code",
   "execution_count": 60,
   "metadata": {},
   "outputs": [
    {
     "data": {
      "text/html": [
       "<div>\n",
       "<style scoped>\n",
       "    .dataframe tbody tr th:only-of-type {\n",
       "        vertical-align: middle;\n",
       "    }\n",
       "\n",
       "    .dataframe tbody tr th {\n",
       "        vertical-align: top;\n",
       "    }\n",
       "\n",
       "    .dataframe thead th {\n",
       "        text-align: right;\n",
       "    }\n",
       "</style>\n",
       "<table border=\"1\" class=\"dataframe\">\n",
       "  <thead>\n",
       "    <tr style=\"text-align: right;\">\n",
       "      <th></th>\n",
       "      <th>children</th>\n",
       "      <th>days_employed</th>\n",
       "      <th>dob_years</th>\n",
       "      <th>education</th>\n",
       "      <th>education_id</th>\n",
       "      <th>family_status</th>\n",
       "      <th>family_status_id</th>\n",
       "      <th>gender</th>\n",
       "      <th>income_type</th>\n",
       "      <th>debt</th>\n",
       "      <th>total_income</th>\n",
       "      <th>purpose</th>\n",
       "      <th>wrong_values</th>\n",
       "      <th>days_category</th>\n",
       "    </tr>\n",
       "  </thead>\n",
       "  <tbody>\n",
       "    <tr>\n",
       "      <td>0</td>\n",
       "      <td>1</td>\n",
       "      <td>-8437.673028</td>\n",
       "      <td>42</td>\n",
       "      <td>высшее</td>\n",
       "      <td>0</td>\n",
       "      <td>женат / замужем</td>\n",
       "      <td>0</td>\n",
       "      <td>f</td>\n",
       "      <td>сотрудник</td>\n",
       "      <td>0</td>\n",
       "      <td>253875.639453</td>\n",
       "      <td>покупка жилья</td>\n",
       "      <td>0</td>\n",
       "      <td>меньше 0</td>\n",
       "    </tr>\n",
       "    <tr>\n",
       "      <td>1</td>\n",
       "      <td>1</td>\n",
       "      <td>-4024.803754</td>\n",
       "      <td>36</td>\n",
       "      <td>среднее</td>\n",
       "      <td>1</td>\n",
       "      <td>женат / замужем</td>\n",
       "      <td>0</td>\n",
       "      <td>f</td>\n",
       "      <td>сотрудник</td>\n",
       "      <td>0</td>\n",
       "      <td>112080.014102</td>\n",
       "      <td>приобретение автомобиля</td>\n",
       "      <td>0</td>\n",
       "      <td>меньше 0</td>\n",
       "    </tr>\n",
       "    <tr>\n",
       "      <td>2</td>\n",
       "      <td>0</td>\n",
       "      <td>-5623.422610</td>\n",
       "      <td>33</td>\n",
       "      <td>среднее</td>\n",
       "      <td>1</td>\n",
       "      <td>женат / замужем</td>\n",
       "      <td>0</td>\n",
       "      <td>m</td>\n",
       "      <td>сотрудник</td>\n",
       "      <td>0</td>\n",
       "      <td>145885.952297</td>\n",
       "      <td>покупка жилья</td>\n",
       "      <td>0</td>\n",
       "      <td>меньше 0</td>\n",
       "    </tr>\n",
       "    <tr>\n",
       "      <td>3</td>\n",
       "      <td>3</td>\n",
       "      <td>-4124.747207</td>\n",
       "      <td>32</td>\n",
       "      <td>среднее</td>\n",
       "      <td>1</td>\n",
       "      <td>женат / замужем</td>\n",
       "      <td>0</td>\n",
       "      <td>m</td>\n",
       "      <td>сотрудник</td>\n",
       "      <td>0</td>\n",
       "      <td>267628.550329</td>\n",
       "      <td>дополнительное образование</td>\n",
       "      <td>0</td>\n",
       "      <td>меньше 0</td>\n",
       "    </tr>\n",
       "    <tr>\n",
       "      <td>4</td>\n",
       "      <td>0</td>\n",
       "      <td>340266.072047</td>\n",
       "      <td>53</td>\n",
       "      <td>среднее</td>\n",
       "      <td>1</td>\n",
       "      <td>гражданский брак</td>\n",
       "      <td>1</td>\n",
       "      <td>f</td>\n",
       "      <td>пенсионер</td>\n",
       "      <td>0</td>\n",
       "      <td>158616.077870</td>\n",
       "      <td>сыграть свадьбу</td>\n",
       "      <td>0</td>\n",
       "      <td>больше 0</td>\n",
       "    </tr>\n",
       "  </tbody>\n",
       "</table>\n",
       "</div>"
      ],
      "text/plain": [
       "   children  days_employed  dob_years education  education_id  \\\n",
       "0         1   -8437.673028         42    высшее             0   \n",
       "1         1   -4024.803754         36   среднее             1   \n",
       "2         0   -5623.422610         33   среднее             1   \n",
       "3         3   -4124.747207         32   среднее             1   \n",
       "4         0  340266.072047         53   среднее             1   \n",
       "\n",
       "      family_status  family_status_id gender income_type  debt   total_income  \\\n",
       "0   женат / замужем                 0      f   сотрудник     0  253875.639453   \n",
       "1   женат / замужем                 0      f   сотрудник     0  112080.014102   \n",
       "2   женат / замужем                 0      m   сотрудник     0  145885.952297   \n",
       "3   женат / замужем                 0      m   сотрудник     0  267628.550329   \n",
       "4  гражданский брак                 1      f   пенсионер     0  158616.077870   \n",
       "\n",
       "                      purpose  wrong_values days_category  \n",
       "0               покупка жилья             0      меньше 0  \n",
       "1     приобретение автомобиля             0      меньше 0  \n",
       "2               покупка жилья             0      меньше 0  \n",
       "3  дополнительное образование             0      меньше 0  \n",
       "4             сыграть свадьбу             0      больше 0  "
      ]
     },
     "execution_count": 60,
     "metadata": {},
     "output_type": "execute_result"
    }
   ],
   "source": [
    "data_credit.head()"
   ]
  },
  {
   "cell_type": "markdown",
   "metadata": {},
   "source": [
    "Ошибок нет, всё удачно."
   ]
  },
  {
   "cell_type": "markdown",
   "metadata": {},
   "source": [
    "### Вывод"
   ]
  },
  {
   "cell_type": "markdown",
   "metadata": {},
   "source": [
    "Была выполнена работа по преобразованию типов.\n",
    "\n",
    "Единственное преобразование, которое можно было провести, преобразование столбца *total_income* с общим уровнем дохода. В результате отсекли дробную часть чисел, абсолютно ненужную для принятия решений. Преобразование прошло без ошибок."
   ]
  },
  {
   "cell_type": "markdown",
   "metadata": {},
   "source": [
    "### Обработка дубликатов<a id='step2.4'></a>\n",
    "\n",
    "Т.к. в таблице нет данных, которые однозначно характеризуют личность человека (*паспортные, адрес проживания* и т.п. или *id*), любые дубликаты могут быть случайным совпадением. Особенно для строк с пропущенными данными об уровне дохода и количестве отработанных дней.\n",
    "\n",
    "#### Автоматический поиск дубликатов\n",
    "\n",
    "Определим процент полных совпадений в данных, для этого разделим их количество на общее количество строк в таблице:"
   ]
  },
  {
   "cell_type": "code",
   "execution_count": 61,
   "metadata": {},
   "outputs": [
    {
     "name": "stdout",
     "output_type": "stream",
     "text": [
      "Количество дубликатов в таблице: 71\n",
      "Процент дубликатов в таблице: 0.33%\n"
     ]
    }
   ],
   "source": [
    "data_dup_total = data_credit.duplicated().sum()\n",
    "print('Количество дубликатов в таблице:', data_dup_total)\n",
    "print('Процент дубликатов в таблице: {:.2%}'.format(data_dup_total / data_credit.shape[0]))"
   ]
  },
  {
   "cell_type": "markdown",
   "metadata": {},
   "source": [
    "Вывод: в таблице есть полные дубликаты. Количество позволяет от них избавиться без вреда для исследования. Удалим их."
   ]
  },
  {
   "cell_type": "code",
   "execution_count": 62,
   "metadata": {},
   "outputs": [],
   "source": [
    "data_count_before_deleting = data_credit.shape[0]\n",
    "data_credit = data_credit.drop_duplicates()"
   ]
  },
  {
   "cell_type": "code",
   "execution_count": 63,
   "metadata": {},
   "outputs": [
    {
     "name": "stdout",
     "output_type": "stream",
     "text": [
      "Дубликаты успешно удалены\n",
      "Общее количество элементов данных: 21230\n"
     ]
    }
   ],
   "source": [
    "# проверка\n",
    "print('Дубликаты успешно удалены' if data_credit.shape[0] + data_dup_total == data_count_before_deleting else 'Ошибка при удалении дубликатов')\n",
    "print('Общее количество элементов данных:', data_credit.shape[0])"
   ]
  },
  {
   "cell_type": "markdown",
   "metadata": {},
   "source": [
    "#### Ручной поиск дубликатов\n",
    "\n",
    "Поиск дубликатов в столбцах\n",
    "- children\n",
    "- days_employed\n",
    "- dob_years\n",
    "- education_id\n",
    "- family_status_id\n",
    "- gender\n",
    "- debt\n",
    "- total_income\n",
    "\n",
    "  не имеет практического смысла, т.к. это либо данные в виде категорий, либо числовые данные из ограниченного набора целых значений и т.п., и допускают возможность существования повторных значений.\n",
    "\n",
    "Текстовые столбцы\n",
    "- education\n",
    "- family_status\n",
    "- income_type\n",
    "- purpose\n",
    "\n",
    "могли бы иметь дубликаты из-за различия в регистре, но их я привёл к однообразному виду на этапе поиска и устранения артефактов. Следовательно, ручной поиск дубликатов не нужен."
   ]
  },
  {
   "cell_type": "markdown",
   "metadata": {},
   "source": [
    "### Вывод"
   ]
  },
  {
   "cell_type": "markdown",
   "metadata": {},
   "source": [
    "Полных дубликатов в автоматическом режиме было выявлено 71. Это число незначительно для данной выборки, поэтому они были удалены.\n",
    "\n",
    "Поиск дубликатов в ручном режиме с раздельным анализом по столбцам нецелесообразен: в категориальных данных они есть по определению, в числовых могут быть совпадениями, а не дубликатами, а данных о заёмщиках, которые могли бы однозначно выявить дубликаты - *паспортные, адрес проживания, телефон, id* - не указано."
   ]
  },
  {
   "cell_type": "markdown",
   "metadata": {},
   "source": [
    "### Обработка пропусков<a id='step2.5'></a>"
   ]
  },
  {
   "cell_type": "markdown",
   "metadata": {},
   "source": [
    "Просмотр общей информации"
   ]
  },
  {
   "cell_type": "code",
   "execution_count": 64,
   "metadata": {},
   "outputs": [
    {
     "name": "stdout",
     "output_type": "stream",
     "text": [
      "(21230, 14)\n"
     ]
    }
   ],
   "source": [
    "print(data_credit.shape)"
   ]
  },
  {
   "cell_type": "markdown",
   "metadata": {},
   "source": [
    "Проверка наличия пропусков по столбцам (на равенство *Null*)."
   ]
  },
  {
   "cell_type": "code",
   "execution_count": 65,
   "metadata": {},
   "outputs": [
    {
     "data": {
      "text/plain": [
       "children               0\n",
       "days_employed       2081\n",
       "dob_years              0\n",
       "education              0\n",
       "education_id           0\n",
       "family_status          0\n",
       "family_status_id       0\n",
       "gender                 0\n",
       "income_type            0\n",
       "debt                   0\n",
       "total_income        2081\n",
       "purpose                0\n",
       "wrong_values           0\n",
       "days_category       2081\n",
       "dtype: int64"
      ]
     },
     "execution_count": 65,
     "metadata": {},
     "output_type": "execute_result"
    }
   ],
   "source": [
    "data_credit.isnull().sum()"
   ]
  },
  {
   "cell_type": "markdown",
   "metadata": {},
   "source": [
    "Очевидно, в 2 столбцах имеются пропуски. Количество совпадает, совпадают ли строки?"
   ]
  },
  {
   "cell_type": "code",
   "execution_count": 66,
   "metadata": {},
   "outputs": [],
   "source": [
    "# создание таблицы по условию \"Количество отработанных дней\" = Null\n",
    "data_skipped = data_credit[data_credit['days_employed'].isnull()]"
   ]
  },
  {
   "cell_type": "code",
   "execution_count": 67,
   "metadata": {},
   "outputs": [
    {
     "data": {
      "text/plain": [
       "(2081, 14)"
      ]
     },
     "execution_count": 67,
     "metadata": {},
     "output_type": "execute_result"
    }
   ],
   "source": [
    "data_skipped.shape"
   ]
  },
  {
   "cell_type": "code",
   "execution_count": 68,
   "metadata": {},
   "outputs": [
    {
     "data": {
      "text/plain": [
       "2081"
      ]
     },
     "execution_count": 68,
     "metadata": {},
     "output_type": "execute_result"
    }
   ],
   "source": [
    "# проверка количества Null в столбце \"суммарный доход\" отфильтрованной таблицы.\n",
    "# если значение равно значению в исходной таблице, совпадение полное\n",
    "# использую count() для подсчета числа таких значений.\n",
    "data_skipped['total_income'].isnull().count()"
   ]
  },
  {
   "cell_type": "markdown",
   "metadata": {},
   "source": [
    "Полное совпадение!"
   ]
  },
  {
   "cell_type": "code",
   "execution_count": 69,
   "metadata": {},
   "outputs": [
    {
     "name": "stdout",
     "output_type": "stream",
     "text": [
      "Пропущенные данные находятся в столбцах 'days_employed' и 'total_income' и присутствуют у 10% человек в выборке\n"
     ]
    }
   ],
   "source": [
    "print('Пропущенные данные находятся в столбцах \\'days_employed\\' и \\'total_income\\' и присутствуют у {:.0%} человек в выборке'.format(data_skipped.shape[0] / data_credit.shape[0]))"
   ]
  },
  {
   "cell_type": "markdown",
   "metadata": {},
   "source": [
    "Проверим, можно ли заменить эти данные на *0*, для этого посмотрим, какие должности занимают эти люди."
   ]
  },
  {
   "cell_type": "code",
   "execution_count": 70,
   "metadata": {},
   "outputs": [
    {
     "data": {
      "text/plain": [
       "сотрудник          1061\n",
       "компаньон           495\n",
       "пенсионер           380\n",
       "госслужащий         144\n",
       "предприниматель       1\n",
       "Name: income_type, dtype: int64"
      ]
     },
     "execution_count": 70,
     "metadata": {},
     "output_type": "execute_result"
    }
   ],
   "source": [
    "data_skipped['income_type'].value_counts()"
   ]
  },
  {
   "cell_type": "markdown",
   "metadata": {},
   "source": [
    "После последовательного применения фильтрации по *null* для разных столбцов размер итоговой таблицы не уменьшился, значит, равенство на количество значений Null в этих столбцах - не совпадение, а это одни и те же строки. 10% таких строк - значительное число. Однако при проверке столбцов было выявлено, что эти люди имеют работу, о чём говорит *тип должности*:\n",
    "- сотрудник\n",
    "- компаньон\n",
    "- пенсионер\n",
    "- госсулужащий\n",
    "- предприниматель\n",
    "\n",
    "Следовательно, там были ненулевые данные, и они утеряны. Данные, скорее всего, потерялись на этапе загрузки (несоответствие типов столбцов и т.п.).\n",
    "\n",
    "Мы не можем просто заменить эти данные на *0*, и заменить на некоторое среднее значение, общее для всей выборки. Большую точность позволит сохранить замена на медианное значение для каждой категории. Замена некорректных значений, а не удаление строк позволит сохранить статистику по остальным корректным столбцам."
   ]
  },
  {
   "cell_type": "markdown",
   "metadata": {},
   "source": [
    "### Вывод"
   ]
  },
  {
   "cell_type": "markdown",
   "metadata": {},
   "source": [
    "Все нестантартные и странные пропуски и артефакты были выявлены на предыдущих этапах. Здесь я произвел поиск значений Null типа по столбцам. По дополнительным проверкам определено, что значения утеряны. Однако строки с пропусками я не удалил и не стал *сейчас* заменять на общее среднее, чтобы посчитать более информативное среднее в зависимости от возрастной группы, типа занятости и уровня образования, что будет возможно в дальнейшем после категоризации."
   ]
  },
  {
   "cell_type": "markdown",
   "metadata": {},
   "source": [
    "### Лемматизация<a id='step2.6'></a>"
   ]
  },
  {
   "cell_type": "markdown",
   "metadata": {},
   "source": [
    "Лемматизация применяется к словам естественного языка. Ранее я определил, что в лемматизации нуждается только столбец с целью получения кредита."
   ]
  },
  {
   "cell_type": "markdown",
   "metadata": {},
   "source": [
    "Цель получения кредита:"
   ]
  },
  {
   "cell_type": "code",
   "execution_count": 71,
   "metadata": {},
   "outputs": [
    {
     "data": {
      "text/plain": [
       "свадьба                                   785\n",
       "на проведение свадьбы                     759\n",
       "сыграть свадьбу                           755\n",
       "операции с недвижимостью                  669\n",
       "покупка коммерческой недвижимости         655\n",
       "покупка жилья для сдачи                   647\n",
       "операции с коммерческой недвижимостью     643\n",
       "операции с жильем                         641\n",
       "покупка жилья для семьи                   636\n",
       "жилье                                     635\n",
       "покупка жилья                             634\n",
       "недвижимость                              627\n",
       "строительство собственной недвижимости    626\n",
       "операции со своей недвижимостью           623\n",
       "строительство недвижимости                619\n",
       "покупка своего жилья                      618\n",
       "строительство жилой недвижимости          617\n",
       "покупка недвижимости                      612\n",
       "ремонт жилью                              602\n",
       "покупка жилой недвижимости                599\n",
       "на покупку своего автомобиля              501\n",
       "заняться высшим образованием              493\n",
       "автомобиль                                487\n",
       "сделка с подержанным автомобилем          479\n",
       "автомобили                                474\n",
       "на покупку подержанного автомобиля        471\n",
       "свой автомобиль                           470\n",
       "на покупку автомобиля                     465\n",
       "приобретение автомобиля                   457\n",
       "сделка с автомобилем                      454\n",
       "дополнительное образование                453\n",
       "высшее образование                        443\n",
       "получение дополнительного образования     442\n",
       "получение образования                     439\n",
       "образование                               439\n",
       "профильное образование                    431\n",
       "получение высшего образования             423\n",
       "заняться образованием                     407\n",
       "Name: purpose, dtype: int64"
      ]
     },
     "execution_count": 71,
     "metadata": {},
     "output_type": "execute_result"
    }
   ],
   "source": [
    "data_credit['purpose'].value_counts()"
   ]
  },
  {
   "cell_type": "markdown",
   "metadata": {},
   "source": [
    "Избыточная информация мешает нам провести группировку данных по категориям.\n",
    "\n",
    "Варианты целей (в исходной словарной форме записи):\n",
    "- свадьба\n",
    "- (недвижимость, жилье) - объединяю в \"недвижимость\", т.к. жилье - частный случай, подкатегория, относящаяся к недвижимости\n",
    "- автомобиль\n",
    "- образование"
   ]
  },
  {
   "cell_type": "code",
   "execution_count": 72,
   "metadata": {},
   "outputs": [],
   "source": [
    "# импортируем библиотеку Яндекса для проведения лемматизации слов русского языка\n",
    "from pymystem3 import Mystem\n",
    "m = Mystem()\n",
    "\n",
    "# функция для автоматического создания нового столбца категорией цели\n",
    "def purpose_category(purpose):\n",
    "    # превращение исходной строки в лист со словами в исходной словарной форме\n",
    "    lemmas = m.lemmatize(purpose)\n",
    "    # проверяем на выделенные категории и возаращаем значение категории по найденным словам\n",
    "    if 'свадьба' in lemmas:\n",
    "        return 'свадьба'\n",
    "    # объединяем, т.к. жилье это частный случай недвижимости, но многоуровневая структура нам здесь не нужна\n",
    "    elif 'недвижимость' in lemmas or 'жилье' in lemmas: \n",
    "        return 'недвижимость'\n",
    "    elif 'автомобиль' in lemmas:\n",
    "        return 'автомобиль'\n",
    "    elif 'образование' in lemmas:\n",
    "        return 'образование'\n",
    "    else:\n",
    "        return 'другое' # проверка на ошибки в написании и другие категории"
   ]
  },
  {
   "cell_type": "code",
   "execution_count": 73,
   "metadata": {},
   "outputs": [],
   "source": [
    "# добавление нового столбца в соответствии с функцией\n",
    "data_credit['purpose_category'] = data_credit['purpose'].apply(purpose_category)"
   ]
  },
  {
   "cell_type": "code",
   "execution_count": 74,
   "metadata": {},
   "outputs": [
    {
     "name": "stdout",
     "output_type": "stream",
     "text": [
      "недвижимость    10703\n",
      "автомобиль       4258\n",
      "образование      3970\n",
      "свадьба          2299\n",
      "Name: purpose_category, dtype: int64\n",
      "True\n"
     ]
    }
   ],
   "source": [
    "print(data_credit['purpose_category'].value_counts())\n",
    "# дополнительная проверка на условие, что сумма заявок по всем категориям равна общему числу заявок\n",
    "print(data_credit['purpose_category'].value_counts().sum() == data_credit.shape[0])"
   ]
  },
  {
   "cell_type": "markdown",
   "metadata": {},
   "source": [
    "Всем строкам были присвоены определённые ключевые категории, ошибок нет."
   ]
  },
  {
   "cell_type": "markdown",
   "metadata": {},
   "source": [
    "### Вывод"
   ]
  },
  {
   "cell_type": "markdown",
   "metadata": {},
   "source": [
    "Лемматизация позволила выделить 4 различных категории заявок на цель кредита. Теперь убрана ненужная детализация, мешающая выявить закономерности и возможно произвести информативную группировку по целям получения кредита."
   ]
  },
  {
   "cell_type": "markdown",
   "metadata": {},
   "source": [
    "### Категоризация данных<a id='step2.7'></a>"
   ]
  },
  {
   "cell_type": "markdown",
   "metadata": {},
   "source": [
    "Имеющиеся типы данных в столбцах\n",
    "- количества детей\n",
    "- возраста\n",
    "- типа занятости\n",
    "- семейного положения\n",
    "- уровня дохода\n",
    "\n",
    "позволяют выявить общие или схожие черты (*тип занятости*, *возраст*, *семейное положение*) или объединить меньшие группы (*количества детей, уровня дохода*) в группы для получения сопоставимых по количеству групп. От меньших групп нужно избавляться и потому, что вероятность того, что полученное среднее число будет статистически недостоверным (доверность растет с ростом числа объектов исследования)."
   ]
  },
  {
   "cell_type": "markdown",
   "metadata": {},
   "source": [
    "По возможности, категорий должно быть более 2-х, чтобы проследить закономерность более достоверно. Например, если определено, что с ростом уровня дохода процент возврата по кредиту увеличивается как от *низкого* к *среднему*, так и от *среднего* к *высокому* (3 категории) - более достоверно, нежели просто рост от *низкого* к *высокому* в случае лишь 2-х категорий.\n",
    "\n",
    "Запись новых категорий будем производить в новые столбцы таблицы."
   ]
  },
  {
   "cell_type": "markdown",
   "metadata": {},
   "source": [
    "##### Категоризация по количеству детей.\n",
    "\n",
    "Для начала определим распределение количества детей у людей из выборки:"
   ]
  },
  {
   "cell_type": "code",
   "execution_count": 75,
   "metadata": {},
   "outputs": [
    {
     "data": {
      "text/plain": [
       "0    14021\n",
       "1     4792\n",
       "2     2039\n",
       "3      328\n",
       "4       41\n",
       "5        9\n",
       "Name: children, dtype: int64"
      ]
     },
     "execution_count": 75,
     "metadata": {},
     "output_type": "execute_result"
    }
   ],
   "source": [
    "data_credit['children'].value_counts()"
   ]
  },
  {
   "cell_type": "markdown",
   "metadata": {},
   "source": [
    "Как видим, есть тенденция к тому, что большее количество детей встречается всё меньше и меньше. Отсюда есть смысл объединять меньшие категории - т.е. с бОльшим количеством детей. Оптимально: \"нет детей\", \"1\", \"2 и более\"."
   ]
  },
  {
   "cell_type": "code",
   "execution_count": 76,
   "metadata": {},
   "outputs": [],
   "source": [
    "def children_category(children):\n",
    "    if children == 0:\n",
    "        return 'нет детей'\n",
    "    elif children == 1:\n",
    "        return 'один ребёнок'\n",
    "    elif children > 1:\n",
    "        return 'два и более детей'\n",
    "    return 'некорректное число'"
   ]
  },
  {
   "cell_type": "code",
   "execution_count": 77,
   "metadata": {},
   "outputs": [],
   "source": [
    "data_credit['children_category'] = data_credit['children'].apply(children_category)"
   ]
  },
  {
   "cell_type": "markdown",
   "metadata": {},
   "source": [
    "Проверим верность категоризации многоуровневой группировкой по аналогии с уровнем образования:"
   ]
  },
  {
   "cell_type": "code",
   "execution_count": 78,
   "metadata": {},
   "outputs": [
    {
     "data": {
      "text/plain": [
       "children_category  children\n",
       "два и более детей  2            2039\n",
       "                   3             328\n",
       "                   4              41\n",
       "                   5               9\n",
       "нет детей          0           14021\n",
       "один ребёнок       1            4792\n",
       "Name: children, dtype: int64"
      ]
     },
     "execution_count": 78,
     "metadata": {},
     "output_type": "execute_result"
    }
   ],
   "source": [
    "data_credit.groupby(['children_category', 'children'])['children'].count()"
   ]
  },
  {
   "cell_type": "markdown",
   "metadata": {},
   "source": [
    "В категории \"два и более детей\" содержатся данные о *2, 3, 4, 5* детей, *нет детей* - *0*, *один ребёнок* - *1*. Проверка пройдена успешно."
   ]
  },
  {
   "cell_type": "markdown",
   "metadata": {},
   "source": [
    "##### Категоризация по роду деятельности."
   ]
  },
  {
   "cell_type": "code",
   "execution_count": 79,
   "metadata": {},
   "outputs": [
    {
     "data": {
      "text/plain": [
       "сотрудник          10961\n",
       "компаньон           5026\n",
       "пенсионер           3792\n",
       "госслужащий         1445\n",
       "безработный            2\n",
       "предприниматель        2\n",
       "в декрете              1\n",
       "студент                1\n",
       "Name: income_type, dtype: int64"
      ]
     },
     "execution_count": 79,
     "metadata": {},
     "output_type": "execute_result"
    }
   ],
   "source": [
    "data_credit['income_type'].value_counts()"
   ]
  },
  {
   "cell_type": "markdown",
   "metadata": {},
   "source": [
    "Объединим малочисленные категории с более многочисленными. Общее в исходных категориях - наличие и тип работы.\n",
    "\n",
    "Выделим категории:\n",
    "- свой бизнес (*компаньон, предприниматель*)\n",
    "- подчиненные в бизнесе (*сотрудник*)\n",
    "- государственная служба (*госслужащий*)\n",
    "- безработные (*пенсионер, студент, в декрете*)"
   ]
  },
  {
   "cell_type": "code",
   "execution_count": 80,
   "metadata": {},
   "outputs": [],
   "source": [
    "def work_category(income_type):\n",
    "    if income_type == 'компаньон' or income_type == 'предприниматель':\n",
    "        return 'свой бизнес'\n",
    "    if income_type == 'сотрудник':\n",
    "        return 'подчиненные (бизнес)'\n",
    "    if income_type == 'госслужащий':\n",
    "        return 'государственная служба'\n",
    "    if income_type == 'пенсионер' or income_type == 'студент' or income_type == 'в декрете' or income_type == 'безработный':\n",
    "        return 'безработные'\n",
    "    # обработка ошибок (если где-то опечатался)\n",
    "    return 'другой тип'    "
   ]
  },
  {
   "cell_type": "code",
   "execution_count": 81,
   "metadata": {},
   "outputs": [],
   "source": [
    "# создание нового столбца для категорий\n",
    "data_credit['work_category'] = data_credit['income_type'].apply(work_category)"
   ]
  },
  {
   "cell_type": "markdown",
   "metadata": {},
   "source": [
    "Проверка:"
   ]
  },
  {
   "cell_type": "code",
   "execution_count": 82,
   "metadata": {},
   "outputs": [
    {
     "data": {
      "text/plain": [
       "подчиненные (бизнес)      10961\n",
       "свой бизнес                5028\n",
       "безработные                3796\n",
       "государственная служба     1445\n",
       "Name: work_category, dtype: int64"
      ]
     },
     "execution_count": 82,
     "metadata": {},
     "output_type": "execute_result"
    }
   ],
   "source": [
    "data_credit['work_category'].value_counts()"
   ]
  },
  {
   "cell_type": "markdown",
   "metadata": {},
   "source": [
    "Малочисленные категории объединены с главными."
   ]
  },
  {
   "cell_type": "markdown",
   "metadata": {},
   "source": [
    "##### Категоризация по возрасту\n",
    "Другой способ разделения - по возрасту. Пенсионеры отдельно независимо от возраста, т.к. при объединении уровень дохода в группе будет слишком различен. Т.к. в условии не указано, каким образом делить на категории по возрасту, логичным выглядит вариант делить по медианному (на приблизительно равные группы).\n",
    "\n",
    "Найдём медианный возраст для *не_пенсионеров*:"
   ]
  },
  {
   "cell_type": "code",
   "execution_count": 83,
   "metadata": {},
   "outputs": [
    {
     "data": {
      "text/plain": [
       "43.0"
      ]
     },
     "execution_count": 83,
     "metadata": {},
     "output_type": "execute_result"
    }
   ],
   "source": [
    "data_credit[data_credit['income_type'] != 'пенсионеры']['dob_years'].median()"
   ]
  },
  {
   "cell_type": "markdown",
   "metadata": {},
   "source": [
    "По возрасту разобъём выборку до 45 лет (округлим) и после."
   ]
  },
  {
   "cell_type": "code",
   "execution_count": 84,
   "metadata": {},
   "outputs": [],
   "source": [
    "# функция для строки для выделения категорий по возрасту\n",
    "# передаём всю строку таблицы, т.к. работаем с несколькими столбцами\n",
    "\n",
    "def age_category(data):\n",
    "    # на первом месте, т.к. нужно отсортировать income_type 'пенсионер'\n",
    "    if data['income_type'] == 'пенсионер':\n",
    "        return 'пенсионеры'\n",
    "    elif data['dob_years'] < 45:\n",
    "        return 'до 45 лет'\n",
    "    else:\n",
    "        return 'после 45 лет'"
   ]
  },
  {
   "cell_type": "code",
   "execution_count": 85,
   "metadata": {},
   "outputs": [],
   "source": [
    "# создание столбца с категорией по возрасту, метод apply применяется ко всей строке таблицы, т.к. используются данные нескольких столбцов\n",
    "data_credit['age_category'] = data_credit.apply(age_category, axis=1)"
   ]
  },
  {
   "cell_type": "code",
   "execution_count": 86,
   "metadata": {},
   "outputs": [
    {
     "data": {
      "text/plain": [
       "до 45 лет       11545\n",
       "после 45 лет     5893\n",
       "пенсионеры       3792\n",
       "Name: age_category, dtype: int64"
      ]
     },
     "execution_count": 86,
     "metadata": {},
     "output_type": "execute_result"
    }
   ],
   "source": [
    "# проверка\n",
    "data_credit['age_category'].value_counts()"
   ]
  },
  {
   "cell_type": "code",
   "execution_count": 87,
   "metadata": {},
   "outputs": [
    {
     "data": {
      "text/html": [
       "<div>\n",
       "<style scoped>\n",
       "    .dataframe tbody tr th:only-of-type {\n",
       "        vertical-align: middle;\n",
       "    }\n",
       "\n",
       "    .dataframe tbody tr th {\n",
       "        vertical-align: top;\n",
       "    }\n",
       "\n",
       "    .dataframe thead th {\n",
       "        text-align: right;\n",
       "    }\n",
       "</style>\n",
       "<table border=\"1\" class=\"dataframe\">\n",
       "  <thead>\n",
       "    <tr style=\"text-align: right;\">\n",
       "      <th></th>\n",
       "      <th>children</th>\n",
       "      <th>days_employed</th>\n",
       "      <th>dob_years</th>\n",
       "      <th>education</th>\n",
       "      <th>education_id</th>\n",
       "      <th>family_status</th>\n",
       "      <th>family_status_id</th>\n",
       "      <th>gender</th>\n",
       "      <th>income_type</th>\n",
       "      <th>debt</th>\n",
       "      <th>total_income</th>\n",
       "      <th>purpose</th>\n",
       "      <th>wrong_values</th>\n",
       "      <th>days_category</th>\n",
       "      <th>purpose_category</th>\n",
       "      <th>children_category</th>\n",
       "      <th>work_category</th>\n",
       "      <th>age_category</th>\n",
       "    </tr>\n",
       "  </thead>\n",
       "  <tbody>\n",
       "    <tr>\n",
       "      <td>0</td>\n",
       "      <td>1</td>\n",
       "      <td>-8437.673028</td>\n",
       "      <td>42</td>\n",
       "      <td>высшее</td>\n",
       "      <td>0</td>\n",
       "      <td>женат / замужем</td>\n",
       "      <td>0</td>\n",
       "      <td>f</td>\n",
       "      <td>сотрудник</td>\n",
       "      <td>0</td>\n",
       "      <td>253875.639453</td>\n",
       "      <td>покупка жилья</td>\n",
       "      <td>0</td>\n",
       "      <td>меньше 0</td>\n",
       "      <td>недвижимость</td>\n",
       "      <td>один ребёнок</td>\n",
       "      <td>подчиненные (бизнес)</td>\n",
       "      <td>до 45 лет</td>\n",
       "    </tr>\n",
       "    <tr>\n",
       "      <td>1</td>\n",
       "      <td>1</td>\n",
       "      <td>-4024.803754</td>\n",
       "      <td>36</td>\n",
       "      <td>среднее</td>\n",
       "      <td>1</td>\n",
       "      <td>женат / замужем</td>\n",
       "      <td>0</td>\n",
       "      <td>f</td>\n",
       "      <td>сотрудник</td>\n",
       "      <td>0</td>\n",
       "      <td>112080.014102</td>\n",
       "      <td>приобретение автомобиля</td>\n",
       "      <td>0</td>\n",
       "      <td>меньше 0</td>\n",
       "      <td>автомобиль</td>\n",
       "      <td>один ребёнок</td>\n",
       "      <td>подчиненные (бизнес)</td>\n",
       "      <td>до 45 лет</td>\n",
       "    </tr>\n",
       "    <tr>\n",
       "      <td>2</td>\n",
       "      <td>0</td>\n",
       "      <td>-5623.422610</td>\n",
       "      <td>33</td>\n",
       "      <td>среднее</td>\n",
       "      <td>1</td>\n",
       "      <td>женат / замужем</td>\n",
       "      <td>0</td>\n",
       "      <td>m</td>\n",
       "      <td>сотрудник</td>\n",
       "      <td>0</td>\n",
       "      <td>145885.952297</td>\n",
       "      <td>покупка жилья</td>\n",
       "      <td>0</td>\n",
       "      <td>меньше 0</td>\n",
       "      <td>недвижимость</td>\n",
       "      <td>нет детей</td>\n",
       "      <td>подчиненные (бизнес)</td>\n",
       "      <td>до 45 лет</td>\n",
       "    </tr>\n",
       "    <tr>\n",
       "      <td>3</td>\n",
       "      <td>3</td>\n",
       "      <td>-4124.747207</td>\n",
       "      <td>32</td>\n",
       "      <td>среднее</td>\n",
       "      <td>1</td>\n",
       "      <td>женат / замужем</td>\n",
       "      <td>0</td>\n",
       "      <td>m</td>\n",
       "      <td>сотрудник</td>\n",
       "      <td>0</td>\n",
       "      <td>267628.550329</td>\n",
       "      <td>дополнительное образование</td>\n",
       "      <td>0</td>\n",
       "      <td>меньше 0</td>\n",
       "      <td>образование</td>\n",
       "      <td>два и более детей</td>\n",
       "      <td>подчиненные (бизнес)</td>\n",
       "      <td>до 45 лет</td>\n",
       "    </tr>\n",
       "    <tr>\n",
       "      <td>4</td>\n",
       "      <td>0</td>\n",
       "      <td>340266.072047</td>\n",
       "      <td>53</td>\n",
       "      <td>среднее</td>\n",
       "      <td>1</td>\n",
       "      <td>гражданский брак</td>\n",
       "      <td>1</td>\n",
       "      <td>f</td>\n",
       "      <td>пенсионер</td>\n",
       "      <td>0</td>\n",
       "      <td>158616.077870</td>\n",
       "      <td>сыграть свадьбу</td>\n",
       "      <td>0</td>\n",
       "      <td>больше 0</td>\n",
       "      <td>свадьба</td>\n",
       "      <td>нет детей</td>\n",
       "      <td>безработные</td>\n",
       "      <td>пенсионеры</td>\n",
       "    </tr>\n",
       "  </tbody>\n",
       "</table>\n",
       "</div>"
      ],
      "text/plain": [
       "   children  days_employed  dob_years education  education_id  \\\n",
       "0         1   -8437.673028         42    высшее             0   \n",
       "1         1   -4024.803754         36   среднее             1   \n",
       "2         0   -5623.422610         33   среднее             1   \n",
       "3         3   -4124.747207         32   среднее             1   \n",
       "4         0  340266.072047         53   среднее             1   \n",
       "\n",
       "      family_status  family_status_id gender income_type  debt   total_income  \\\n",
       "0   женат / замужем                 0      f   сотрудник     0  253875.639453   \n",
       "1   женат / замужем                 0      f   сотрудник     0  112080.014102   \n",
       "2   женат / замужем                 0      m   сотрудник     0  145885.952297   \n",
       "3   женат / замужем                 0      m   сотрудник     0  267628.550329   \n",
       "4  гражданский брак                 1      f   пенсионер     0  158616.077870   \n",
       "\n",
       "                      purpose  wrong_values days_category purpose_category  \\\n",
       "0               покупка жилья             0      меньше 0     недвижимость   \n",
       "1     приобретение автомобиля             0      меньше 0       автомобиль   \n",
       "2               покупка жилья             0      меньше 0     недвижимость   \n",
       "3  дополнительное образование             0      меньше 0      образование   \n",
       "4             сыграть свадьбу             0      больше 0          свадьба   \n",
       "\n",
       "   children_category         work_category age_category  \n",
       "0       один ребёнок  подчиненные (бизнес)    до 45 лет  \n",
       "1       один ребёнок  подчиненные (бизнес)    до 45 лет  \n",
       "2          нет детей  подчиненные (бизнес)    до 45 лет  \n",
       "3  два и более детей  подчиненные (бизнес)    до 45 лет  \n",
       "4          нет детей           безработные   пенсионеры  "
      ]
     },
     "execution_count": 87,
     "metadata": {},
     "output_type": "execute_result"
    }
   ],
   "source": [
    "data_credit.head()"
   ]
  },
  {
   "cell_type": "markdown",
   "metadata": {},
   "source": [
    "##### Категоризация по уровню дохода\n",
    "Разобъем выборку по уровню дохода:\n",
    "найдём медианный доход для данных в целом и для каждой из подгрупп (исключив безработных):"
   ]
  },
  {
   "cell_type": "code",
   "execution_count": 88,
   "metadata": {},
   "outputs": [],
   "source": [
    "# временная таблица без учета безработных\n",
    "working = data_credit[data_credit['work_category'] != 'безработные']"
   ]
  },
  {
   "cell_type": "code",
   "execution_count": 89,
   "metadata": {},
   "outputs": [
    {
     "data": {
      "text/plain": [
       "151156.76689204384"
      ]
     },
     "execution_count": 89,
     "metadata": {},
     "output_type": "execute_result"
    }
   ],
   "source": [
    "working['total_income'].median()"
   ]
  },
  {
   "cell_type": "markdown",
   "metadata": {},
   "source": [
    "Округлим до 150 000"
   ]
  },
  {
   "cell_type": "code",
   "execution_count": 90,
   "metadata": {},
   "outputs": [
    {
     "data": {
      "text/plain": [
       "107803.73503108133"
      ]
     },
     "execution_count": 90,
     "metadata": {},
     "output_type": "execute_result"
    }
   ],
   "source": [
    "working[working['total_income'] < 150000]['total_income'].median()"
   ]
  },
  {
   "cell_type": "markdown",
   "metadata": {},
   "source": [
    "Меньшая медиана 100 000"
   ]
  },
  {
   "cell_type": "code",
   "execution_count": 91,
   "metadata": {},
   "outputs": [
    {
     "data": {
      "text/plain": [
       "210224.05019022076"
      ]
     },
     "execution_count": 91,
     "metadata": {},
     "output_type": "execute_result"
    }
   ],
   "source": [
    "working[working['total_income'] >= 150000]['total_income'].median()"
   ]
  },
  {
   "cell_type": "markdown",
   "metadata": {},
   "source": [
    "Верхнюю медиану округлим до 200 000.\n",
    "\n",
    "Напишем функцию для одной строки."
   ]
  },
  {
   "cell_type": "code",
   "execution_count": 92,
   "metadata": {},
   "outputs": [],
   "source": [
    "def income_level(total_income):\n",
    "    if pd.isna(total_income):\n",
    "        return None\n",
    "    if total_income == 0:\n",
    "        return 'нет дохода'\n",
    "    elif total_income < 100000:\n",
    "        return 'низкий'\n",
    "    elif total_income < 150000:\n",
    "        return 'средний'\n",
    "    elif total_income < 200000:\n",
    "        return 'выше среднего'\n",
    "    elif total_income >= 200000:\n",
    "        return 'высокий'\n",
    "    else:\n",
    "        # если указано отрицательное число\n",
    "        return 'неверные данные'"
   ]
  },
  {
   "cell_type": "code",
   "execution_count": 93,
   "metadata": {},
   "outputs": [],
   "source": [
    "# не учитываем неверные значения (столбец wrong_values)\n",
    "data_credit['income_level'] = data_credit[data_credit['wrong_values'] == 0]['total_income'].apply(income_level)"
   ]
  },
  {
   "cell_type": "markdown",
   "metadata": {},
   "source": [
    "Проверка:"
   ]
  },
  {
   "cell_type": "code",
   "execution_count": 94,
   "metadata": {},
   "outputs": [
    {
     "data": {
      "text/plain": [
       "средний          5639\n",
       "высокий          5011\n",
       "низкий           4421\n",
       "выше среднего    4078\n",
       "Name: income_level, dtype: int64"
      ]
     },
     "execution_count": 94,
     "metadata": {},
     "output_type": "execute_result"
    }
   ],
   "source": [
    "data_credit[data_credit['wrong_values'] == 0]['income_level'].value_counts()"
   ]
  },
  {
   "cell_type": "markdown",
   "metadata": {},
   "source": [
    "Как видно, удалось разделить выборку на сопоставимые по количеству категории."
   ]
  },
  {
   "cell_type": "markdown",
   "metadata": {},
   "source": [
    "Определим медиану для каждой из отдельных категорий для замены ей значений *Null*.\n",
    "\n",
    "Для начала определим, по каким категориям будем делить выборку для вычисления медианы. Исходим из наиболее логичного предположения, что на уровень дохода влияют:\n",
    "- *возрастная категория* (чем больше возраст, тем больше доход)\n",
    "- *тип занятости* (руководящие должности - больше доход)\n",
    "- *уровень образования* (высшее - больше доход)"
   ]
  },
  {
   "cell_type": "code",
   "execution_count": 95,
   "metadata": {},
   "outputs": [],
   "source": [
    "medians_income = data_credit[data_credit['total_income'].notnull()]. \\\n",
    "groupby(['age_category','income_type', 'education'])['total_income'].median()"
   ]
  },
  {
   "cell_type": "code",
   "execution_count": 96,
   "metadata": {},
   "outputs": [
    {
     "data": {
      "text/plain": [
       "age_category  income_type      education          \n",
       "до 45 лет     безработный      среднее                 59956.991984\n",
       "              в декрете        среднее                 53829.130729\n",
       "              госслужащий      высшее                 165255.959954\n",
       "                               начальное              190912.178349\n",
       "                               неоконченное высшее    159647.976722\n",
       "                               среднее                137233.489806\n",
       "                               ученая степень         111392.231107\n",
       "              компаньон        высшее                 197124.337504\n",
       "                               начальное              134012.003567\n",
       "                               неоконченное высшее    175222.119061\n",
       "                               среднее                158050.756434\n",
       "              предприниматель  высшее                 499163.144947\n",
       "              сотрудник        высшее                 164061.115891\n",
       "                               начальное              124298.759469\n",
       "                               неоконченное высшее    149551.191876\n",
       "                               среднее                136585.186586\n",
       "                               ученая степень         115949.039788\n",
       "              студент          высшее                  98201.625314\n",
       "пенсионеры    пенсионер        высшее                 143939.043160\n",
       "                               начальное              102598.653164\n",
       "                               неоконченное высшее    120136.896353\n",
       "                               среднее                114825.442148\n",
       "                               ученая степень         177088.845999\n",
       "после 45 лет  безработный      высшее                 202722.511368\n",
       "              госслужащий      высшее                 181417.537652\n",
       "                               начальное              105766.403301\n",
       "                               неоконченное высшее    166172.962612\n",
       "                               среднее                135551.372293\n",
       "              компаньон        высшее                 216782.291829\n",
       "                               начальное              168979.940758\n",
       "                               неоконченное высшее    207517.573224\n",
       "                               среднее                161487.389658\n",
       "              сотрудник        высшее                 171699.598561\n",
       "                               начальное              132596.621346\n",
       "                               неоконченное высшее    169646.655030\n",
       "                               среднее                136439.063467\n",
       "                               ученая степень         233490.985929\n",
       "Name: total_income, dtype: float64"
      ]
     },
     "execution_count": 96,
     "metadata": {},
     "output_type": "execute_result"
    }
   ],
   "source": [
    "# полученная таблица\n",
    "medians_income"
   ]
  },
  {
   "cell_type": "markdown",
   "metadata": {},
   "source": [
    "Как видно, не все сочетания категорий входят в эту таблицу, значения высчитаны только для комбинаций, присутствующих в выборке. Поэтому могут быть заменены не все значения *Null*, если некая комбинация категорий есть в строках с *Null* вместо дохода."
   ]
  },
  {
   "cell_type": "markdown",
   "metadata": {},
   "source": [
    "Напишем функцию для замены пропущенных значений:"
   ]
  },
  {
   "cell_type": "code",
   "execution_count": 97,
   "metadata": {},
   "outputs": [],
   "source": [
    "def income_median(row):\n",
    "    if pd.isna(row['total_income']):\n",
    "        # попытка вычислить значение для нужной комбинации категорий\n",
    "        try:\n",
    "            value = medians_income[(row['age_category'], row['income_type'], row['education'])]\n",
    "            row['total_income'] = value\n",
    "        except:\n",
    "            row['total_income'] = None\n",
    "        row['income_level'] = income_level(row['total_income'])\n",
    "    return row # для числовых значений столбца возвращаем их прежние значения"
   ]
  },
  {
   "cell_type": "code",
   "execution_count": 98,
   "metadata": {},
   "outputs": [],
   "source": [
    "# заполнение значений столбца\n",
    "data_credit = data_credit.apply(income_median, axis=1)"
   ]
  },
  {
   "cell_type": "markdown",
   "metadata": {},
   "source": [
    "Проверка:\n",
    "- повторяющимися значениями заполнена не вся исходная таблица\n",
    "- средние значения по категориям не изменились"
   ]
  },
  {
   "cell_type": "code",
   "execution_count": 99,
   "metadata": {},
   "outputs": [
    {
     "data": {
      "text/plain": [
       "(37,)"
      ]
     },
     "execution_count": 99,
     "metadata": {},
     "output_type": "execute_result"
    }
   ],
   "source": [
    "# количество значений, если повторяющихся будет больше - непорядок\n",
    "medians_income.shape"
   ]
  },
  {
   "cell_type": "code",
   "execution_count": 100,
   "metadata": {},
   "outputs": [
    {
     "data": {
      "text/plain": [
       "136585.186586    507\n",
       "114825.442148    316\n",
       "136439.063467    277\n",
       "158050.756434    178\n",
       "164061.115891    155\n",
       "197124.337504    135\n",
       "161487.389658    113\n",
       "171699.598561     76\n",
       "143939.043160     54\n",
       "216782.291829     51\n",
       "165255.959954     41\n",
       "137233.489806     40\n",
       "135551.372293     37\n",
       "149551.191876     31\n",
       "181417.537652     20\n",
       "175222.119061     14\n",
       "132596.621346      8\n",
       "159647.976722      7\n",
       "120136.896353      7\n",
       "102598.653164      7\n",
       "169646.655030      7\n",
       "207517.573224      7\n",
       "124298.759469      5\n",
       "134012.003567      2\n",
       "190912.178349      2\n",
       "105766.403301      2\n",
       "133912.272223      1\n",
       "282236.793224      1\n",
       "196416.335041      1\n",
       "89922.645314       1\n",
       "126700.721974      1\n",
       "93569.551205       1\n",
       "182036.676828      1\n",
       "173720.059245      1\n",
       "198271.837248      1\n",
       "109113.601678      1\n",
       "164320.213254      1\n",
       "91053.547017       1\n",
       "Name: total_income, dtype: int64"
      ]
     },
     "execution_count": 100,
     "metadata": {},
     "output_type": "execute_result"
    }
   ],
   "source": [
    "data_credit['total_income'].value_counts().head(38)"
   ]
  },
  {
   "cell_type": "code",
   "execution_count": 101,
   "metadata": {},
   "outputs": [
    {
     "data": {
      "text/html": [
       "<div>\n",
       "<style scoped>\n",
       "    .dataframe tbody tr th:only-of-type {\n",
       "        vertical-align: middle;\n",
       "    }\n",
       "\n",
       "    .dataframe tbody tr th {\n",
       "        vertical-align: top;\n",
       "    }\n",
       "\n",
       "    .dataframe thead th {\n",
       "        text-align: right;\n",
       "    }\n",
       "</style>\n",
       "<table border=\"1\" class=\"dataframe\">\n",
       "  <thead>\n",
       "    <tr style=\"text-align: right;\">\n",
       "      <th></th>\n",
       "      <th>children</th>\n",
       "      <th>days_employed</th>\n",
       "      <th>dob_years</th>\n",
       "      <th>education</th>\n",
       "      <th>education_id</th>\n",
       "      <th>family_status</th>\n",
       "      <th>family_status_id</th>\n",
       "      <th>gender</th>\n",
       "      <th>income_type</th>\n",
       "      <th>debt</th>\n",
       "      <th>total_income</th>\n",
       "      <th>purpose</th>\n",
       "      <th>wrong_values</th>\n",
       "      <th>days_category</th>\n",
       "      <th>purpose_category</th>\n",
       "      <th>children_category</th>\n",
       "      <th>work_category</th>\n",
       "      <th>age_category</th>\n",
       "      <th>income_level</th>\n",
       "    </tr>\n",
       "  </thead>\n",
       "  <tbody>\n",
       "    <tr>\n",
       "      <td>5936</td>\n",
       "      <td>0</td>\n",
       "      <td>NaN</td>\n",
       "      <td>58</td>\n",
       "      <td>высшее</td>\n",
       "      <td>0</td>\n",
       "      <td>женат / замужем</td>\n",
       "      <td>0</td>\n",
       "      <td>m</td>\n",
       "      <td>предприниматель</td>\n",
       "      <td>0</td>\n",
       "      <td>NaN</td>\n",
       "      <td>покупка жилой недвижимости</td>\n",
       "      <td>0</td>\n",
       "      <td>NaN</td>\n",
       "      <td>недвижимость</td>\n",
       "      <td>нет детей</td>\n",
       "      <td>свой бизнес</td>\n",
       "      <td>после 45 лет</td>\n",
       "      <td>None</td>\n",
       "    </tr>\n",
       "  </tbody>\n",
       "</table>\n",
       "</div>"
      ],
      "text/plain": [
       "      children  days_employed  dob_years education  education_id  \\\n",
       "5936         0            NaN         58    высшее             0   \n",
       "\n",
       "        family_status  family_status_id gender      income_type  debt  \\\n",
       "5936  женат / замужем                 0      m  предприниматель     0   \n",
       "\n",
       "      total_income                     purpose  wrong_values days_category  \\\n",
       "5936           NaN  покупка жилой недвижимости             0           NaN   \n",
       "\n",
       "     purpose_category children_category work_category  age_category  \\\n",
       "5936     недвижимость         нет детей   свой бизнес  после 45 лет   \n",
       "\n",
       "     income_level  \n",
       "5936         None  "
      ]
     },
     "execution_count": 101,
     "metadata": {},
     "output_type": "execute_result"
    }
   ],
   "source": [
    "# Проверим количество оставшихся значений Null:\n",
    "data_credit[data_credit['total_income'].isnull()]"
   ]
  },
  {
   "cell_type": "markdown",
   "metadata": {},
   "source": [
    "1 - вместо более 2 тыс."
   ]
  },
  {
   "cell_type": "markdown",
   "metadata": {},
   "source": [
    "Проверим соответствие медиан во всех группах. Создадим новую таблицу медиан и сравним их:"
   ]
  },
  {
   "cell_type": "code",
   "execution_count": 102,
   "metadata": {},
   "outputs": [],
   "source": [
    "medians_income_new = data_credit[data_credit['total_income'].notna()].groupby(['age_category', 'income_type', 'education'])['total_income'].median()"
   ]
  },
  {
   "cell_type": "code",
   "execution_count": 103,
   "metadata": {},
   "outputs": [
    {
     "data": {
      "text/plain": [
       "age_category  income_type      education          \n",
       "до 45 лет     безработный      среднее                True\n",
       "              в декрете        среднее                True\n",
       "              госслужащий      высшее                 True\n",
       "                               начальное              True\n",
       "                               неоконченное высшее    True\n",
       "                               среднее                True\n",
       "                               ученая степень         True\n",
       "              компаньон        высшее                 True\n",
       "                               начальное              True\n",
       "                               неоконченное высшее    True\n",
       "                               среднее                True\n",
       "              предприниматель  высшее                 True\n",
       "              сотрудник        высшее                 True\n",
       "                               начальное              True\n",
       "                               неоконченное высшее    True\n",
       "                               среднее                True\n",
       "                               ученая степень         True\n",
       "              студент          высшее                 True\n",
       "пенсионеры    пенсионер        высшее                 True\n",
       "                               начальное              True\n",
       "                               неоконченное высшее    True\n",
       "                               среднее                True\n",
       "                               ученая степень         True\n",
       "после 45 лет  безработный      высшее                 True\n",
       "              госслужащий      высшее                 True\n",
       "                               начальное              True\n",
       "                               неоконченное высшее    True\n",
       "                               среднее                True\n",
       "              компаньон        высшее                 True\n",
       "                               начальное              True\n",
       "                               неоконченное высшее    True\n",
       "                               среднее                True\n",
       "              сотрудник        высшее                 True\n",
       "                               начальное              True\n",
       "                               неоконченное высшее    True\n",
       "                               среднее                True\n",
       "                               ученая степень         True\n",
       "Name: total_income, dtype: bool"
      ]
     },
     "execution_count": 103,
     "metadata": {},
     "output_type": "execute_result"
    }
   ],
   "source": [
    "medians_income == medians_income_new"
   ]
  },
  {
   "cell_type": "markdown",
   "metadata": {},
   "source": [
    "Медианы совпадают."
   ]
  },
  {
   "cell_type": "markdown",
   "metadata": {},
   "source": [
    "##### Категоризация по семейному статусу"
   ]
  },
  {
   "cell_type": "code",
   "execution_count": 104,
   "metadata": {},
   "outputs": [
    {
     "data": {
      "text/plain": [
       "женат / замужем          12213\n",
       "гражданский брак          4112\n",
       "не женат / не замужем     2780\n",
       "в разводе                 1179\n",
       "вдовец / вдова             946\n",
       "Name: family_status, dtype: int64"
      ]
     },
     "execution_count": 104,
     "metadata": {},
     "output_type": "execute_result"
    }
   ],
   "source": [
    "data_credit['family_status'].value_counts()"
   ]
  },
  {
   "cell_type": "markdown",
   "metadata": {},
   "source": [
    "Как видно, исходные категории сходны или различаются по наличию / отсутствию семьи у заёмщика. Поэтому разделим выборку на семейных и одиноких:\n",
    "- женат / замужем; гражданский брак - *есть семья*\n",
    "- не женат / не замужем; в разводе; вдовец / вдова - *нет семьи*"
   ]
  },
  {
   "cell_type": "code",
   "execution_count": 105,
   "metadata": {},
   "outputs": [],
   "source": [
    "def have_family(family_status):\n",
    "    if family_status == 'женат / замужем' or \\\n",
    "    family_status == 'гражданский брак':\n",
    "        return 'есть семья'\n",
    "    elif family_status == 'не женат / не замужем' or \\\n",
    "    family_status == 'в разводе' or \\\n",
    "    family_status == 'вдовец / вдова':\n",
    "        return 'нет семьи'\n",
    "    else:\n",
    "        return 'ошибочные данные' # \"ловушка\" для некорректных значений"
   ]
  },
  {
   "cell_type": "code",
   "execution_count": 106,
   "metadata": {},
   "outputs": [],
   "source": [
    "data_credit['have_family'] = data_credit['family_status'].apply(have_family)"
   ]
  },
  {
   "cell_type": "code",
   "execution_count": 107,
   "metadata": {},
   "outputs": [
    {
     "data": {
      "text/plain": [
       "есть семья    16325\n",
       "нет семьи      4905\n",
       "Name: have_family, dtype: int64"
      ]
     },
     "execution_count": 107,
     "metadata": {},
     "output_type": "execute_result"
    }
   ],
   "source": [
    "# проверка\n",
    "data_credit['have_family'].value_counts()"
   ]
  },
  {
   "cell_type": "markdown",
   "metadata": {},
   "source": [
    "### Вывод<a id='step2.8'></a>"
   ]
  },
  {
   "cell_type": "markdown",
   "metadata": {},
   "source": [
    "Благодаря выявлению общих или схожих характеристик в значениях *количества детей, типа занятости, возраста и семейного положения* было решено сгруппировать их в обобщенные категории для выявления более общих закономерностей.\n",
    "\n",
    "Для этого были созданы необходимые дополнительные столбцы в таблице. Это позволит в дальнейшем выявить закономерности, присущие новым категориям, без излишней ненужной детализации.\n",
    "\n",
    "Для числовых данных об уровне дохода было принято решение разделить выборку на приблизительно равные части с созданием более 2-х категорий для перепроверки общей закономерности.\n",
    "\n",
    "Дополнительно для столбца с уровнем дохода *Null* значения были заменены на медианные по группам, предположительно влияющим на распределение дохода:\n",
    "- возрастная группа - в целом, доход выше, чем больше возраст\n",
    "- тип занятости (руководящая должность - больше доход)\n",
    "- уровень образования (высшее - больший доход)\n",
    "\n",
    "Была произведена тщательная проверка того, что не были заменены лишние данные и не было ошибки:\n",
    "- изучение наиболее повторяющихся значений дохода\n",
    "- неизменность среднего с учетом замен\n",
    "\n",
    "Данные приведены к виду, пригодному для анализа и ответа на поставленные вопросы."
   ]
  },
  {
   "cell_type": "markdown",
   "metadata": {},
   "source": [
    "### Шаг 3. Ответы на вопросы<a id='step3'></a>"
   ]
  },
  {
   "cell_type": "markdown",
   "metadata": {},
   "source": [
    "- Есть ли зависимость между наличием детей и возвратом кредита в срок?<a id='step3.1'></a>\n",
    "\n",
    "Сгруппируем таблицу по ранее добавленным категориям детей. Все некорректные значения из столбца удалены, поэтому дополнительных фильтров не нужно."
   ]
  },
  {
   "cell_type": "code",
   "execution_count": 108,
   "metadata": {},
   "outputs": [],
   "source": [
    "debt_children = data_credit.groupby(['children_category','debt']).size()"
   ]
  },
  {
   "cell_type": "code",
   "execution_count": 109,
   "metadata": {},
   "outputs": [
    {
     "data": {
      "text/plain": [
       "children_category  debt\n",
       "два и более детей  0        2192\n",
       "                   1         225\n",
       "нет детей          0       12963\n",
       "                   1        1058\n",
       "один ребёнок       0        4351\n",
       "                   1         441\n",
       "dtype: int64"
      ]
     },
     "execution_count": 109,
     "metadata": {},
     "output_type": "execute_result"
    }
   ],
   "source": [
    "debt_children"
   ]
  },
  {
   "cell_type": "markdown",
   "metadata": {},
   "source": [
    "Как видно по количеству, в каждой группе достаточно данных для того, чтобы выборка была достаточно репрезентабельна. Для большей наглядности вычислим количество имеющих и неимеющих задолженности в каждой группе в *процентах*.\n",
    "\n",
    "Сгруппируем таблицу для нахождения общего количества людей в каждой категории, вне зависимости от задолженности."
   ]
  },
  {
   "cell_type": "code",
   "execution_count": 110,
   "metadata": {},
   "outputs": [],
   "source": [
    "total_children = data_credit.groupby(['children_category']).size()"
   ]
  },
  {
   "cell_type": "code",
   "execution_count": 111,
   "metadata": {},
   "outputs": [
    {
     "data": {
      "text/plain": [
       "children_category\n",
       "два и более детей     2417\n",
       "нет детей            14021\n",
       "один ребёнок          4792\n",
       "dtype: int64"
      ]
     },
     "execution_count": 111,
     "metadata": {},
     "output_type": "execute_result"
    }
   ],
   "source": [
    "total_children"
   ]
  },
  {
   "cell_type": "code",
   "execution_count": 112,
   "metadata": {},
   "outputs": [],
   "source": [
    "# разделим количество имеющих/неимеющих задолженности в каждой группе на общее количество людей в этой группе * 100:\n",
    "percent_children = debt_children / total_children * 100"
   ]
  },
  {
   "cell_type": "code",
   "execution_count": 113,
   "metadata": {},
   "outputs": [
    {
     "name": "stdout",
     "output_type": "stream",
     "text": [
      "Зависимость возврата кредита в срок от наличия детей (в %)\n"
     ]
    },
    {
     "data": {
      "text/plain": [
       "children_category  debt\n",
       "два и более детей  0       90.690939\n",
       "                   1        9.309061\n",
       "нет детей          0       92.454176\n",
       "                   1        7.545824\n",
       "один ребёнок       0       90.797162\n",
       "                   1        9.202838\n",
       "dtype: float64"
      ]
     },
     "execution_count": 113,
     "metadata": {},
     "output_type": "execute_result"
    }
   ],
   "source": [
    "print('Зависимость возврата кредита в срок от наличия детей (в %)')\n",
    "percent_children"
   ]
  },
  {
   "cell_type": "markdown",
   "metadata": {},
   "source": [
    "Как видно, сумма в процентах по каждой категории - 100. Дополнительно проверим, что соотношения не нарушены, для этого по каждой строке вычислим общее количество в группе, для этого разделим количество в подгруппах на соответствующее этому количество в процентах:"
   ]
  },
  {
   "cell_type": "code",
   "execution_count": 114,
   "metadata": {},
   "outputs": [
    {
     "data": {
      "text/plain": [
       "children_category  debt\n",
       "два и более детей  0        2417.0\n",
       "                   1        2417.0\n",
       "нет детей          0       14021.0\n",
       "                   1       14021.0\n",
       "один ребёнок       0        4792.0\n",
       "                   1        4792.0\n",
       "dtype: float64"
      ]
     },
     "execution_count": 114,
     "metadata": {},
     "output_type": "execute_result"
    }
   ],
   "source": [
    "debt_children * 100 / percent_children"
   ]
  },
  {
   "cell_type": "markdown",
   "metadata": {},
   "source": [
    "Проверка прошла успешно."
   ]
  },
  {
   "cell_type": "code",
   "execution_count": 115,
   "metadata": {},
   "outputs": [
    {
     "data": {
      "text/plain": [
       "children_category  debt\n",
       "два и более детей  0       90.690939\n",
       "                   1        9.309061\n",
       "нет детей          0       92.454176\n",
       "                   1        7.545824\n",
       "один ребёнок       0       90.797162\n",
       "                   1        9.202838\n",
       "dtype: float64"
      ]
     },
     "execution_count": 115,
     "metadata": {},
     "output_type": "execute_result"
    }
   ],
   "source": [
    "# Проанализируем полученные данные\n",
    "percent_children"
   ]
  },
  {
   "cell_type": "markdown",
   "metadata": {},
   "source": [
    "### Вывод"
   ]
  },
  {
   "cell_type": "markdown",
   "metadata": {},
   "source": [
    "Зависимость есть, но разница менее чем в 2% при более чем 90% возврата в обоих случаях - незначительна. Если для бизнеса эта разница существенна, требуется дополнительная статистическая оценка."
   ]
  },
  {
   "cell_type": "markdown",
   "metadata": {},
   "source": [
    "- Есть ли зависимость между семейным положением и возвратом кредита в срок?<a id='step3.2'></a>"
   ]
  },
  {
   "cell_type": "markdown",
   "metadata": {},
   "source": [
    "Считаем аналогично:"
   ]
  },
  {
   "cell_type": "code",
   "execution_count": 116,
   "metadata": {},
   "outputs": [
    {
     "data": {
      "text/plain": [
       "have_family  debt\n",
       "есть семья   0       15019\n",
       "             1        1306\n",
       "нет семьи    0        4487\n",
       "             1         418\n",
       "dtype: int64"
      ]
     },
     "execution_count": 116,
     "metadata": {},
     "output_type": "execute_result"
    }
   ],
   "source": [
    "debt_family = data_credit.groupby(['have_family','debt']).size()\n",
    "debt_family"
   ]
  },
  {
   "cell_type": "markdown",
   "metadata": {},
   "source": [
    "Значений в каждой группе достаточно для репрезентативности выборки."
   ]
  },
  {
   "cell_type": "code",
   "execution_count": 117,
   "metadata": {},
   "outputs": [],
   "source": [
    "total_family = data_credit.groupby('have_family').size()"
   ]
  },
  {
   "cell_type": "code",
   "execution_count": 118,
   "metadata": {},
   "outputs": [
    {
     "data": {
      "text/plain": [
       "have_family\n",
       "есть семья    16325\n",
       "нет семьи      4905\n",
       "dtype: int64"
      ]
     },
     "execution_count": 118,
     "metadata": {},
     "output_type": "execute_result"
    }
   ],
   "source": [
    "total_family"
   ]
  },
  {
   "cell_type": "code",
   "execution_count": 119,
   "metadata": {},
   "outputs": [],
   "source": [
    "percent_family = debt_family / total_family * 100"
   ]
  },
  {
   "cell_type": "code",
   "execution_count": 120,
   "metadata": {},
   "outputs": [
    {
     "name": "stdout",
     "output_type": "stream",
     "text": [
      "Зависимость возврата кредита в срок от наличия семьи (в %)\n"
     ]
    },
    {
     "data": {
      "text/plain": [
       "have_family  debt\n",
       "есть семья   0       92.000000\n",
       "             1        8.000000\n",
       "нет семьи    0       91.478084\n",
       "             1        8.521916\n",
       "dtype: float64"
      ]
     },
     "execution_count": 120,
     "metadata": {},
     "output_type": "execute_result"
    }
   ],
   "source": [
    "print('Зависимость возврата кредита в срок от наличия семьи (в %)')\n",
    "percent_family"
   ]
  },
  {
   "cell_type": "code",
   "execution_count": 121,
   "metadata": {},
   "outputs": [
    {
     "data": {
      "text/plain": [
       "have_family  debt\n",
       "есть семья   0       16325.0\n",
       "             1       16325.0\n",
       "нет семьи    0        4905.0\n",
       "             1        4905.0\n",
       "dtype: float64"
      ]
     },
     "execution_count": 121,
     "metadata": {},
     "output_type": "execute_result"
    }
   ],
   "source": [
    "# проверка сохранения соотношения:\n",
    "debt_family * 100 / percent_family"
   ]
  },
  {
   "cell_type": "markdown",
   "metadata": {},
   "source": [
    "Ок!"
   ]
  },
  {
   "cell_type": "markdown",
   "metadata": {},
   "source": [
    "### Вывод"
   ]
  },
  {
   "cell_type": "markdown",
   "metadata": {},
   "source": [
    "Разница ещё меньше, менее 1%, и опять же несопоставима с более чем 90% возвратами. Зависимость незначительна."
   ]
  },
  {
   "cell_type": "markdown",
   "metadata": {},
   "source": [
    "- Есть ли зависимость между уровнем дохода и возвратом кредита в срок?<a id='step3.3'></a>\n",
    "\n",
    "Исключим оставленные в таблице **неверные** данные из выборки, а далее по аналогии."
   ]
  },
  {
   "cell_type": "code",
   "execution_count": 122,
   "metadata": {},
   "outputs": [
    {
     "data": {
      "text/plain": [
       "income_level   debt\n",
       "высокий        0       4711\n",
       "               1        357\n",
       "выше среднего  0       4415\n",
       "               1        403\n",
       "низкий         0       4068\n",
       "               1        353\n",
       "средний        0       6311\n",
       "               1        611\n",
       "dtype: int64"
      ]
     },
     "execution_count": 122,
     "metadata": {},
     "output_type": "execute_result"
    }
   ],
   "source": [
    "# аналогичный расчёт\n",
    "debt_income = data_credit[data_credit['total_income'].notna()].groupby(['income_level', 'debt']).size()\n",
    "debt_income"
   ]
  },
  {
   "cell_type": "markdown",
   "metadata": {},
   "source": [
    "Значений в каждой группе достаточно для утверждения о достаточной степени репрезентативности выборки."
   ]
  },
  {
   "cell_type": "code",
   "execution_count": 130,
   "metadata": {},
   "outputs": [
    {
     "data": {
      "text/plain": [
       "income_level\n",
       "высокий          5068\n",
       "выше среднего    4818\n",
       "низкий           4421\n",
       "средний          6922\n",
       "dtype: int64"
      ]
     },
     "execution_count": 130,
     "metadata": {},
     "output_type": "execute_result"
    }
   ],
   "source": [
    "# считаем общее количество в группах для вычисления процентов\n",
    "total_income = data_credit.groupby(['income_level']).size()\n",
    "total_income"
   ]
  },
  {
   "cell_type": "code",
   "execution_count": 124,
   "metadata": {},
   "outputs": [
    {
     "name": "stdout",
     "output_type": "stream",
     "text": [
      "Зависимость возврата кредита в срок от уровня дохода (в %)\n"
     ]
    },
    {
     "data": {
      "text/plain": [
       "income_level   debt\n",
       "высокий        0       92.955801\n",
       "               1        7.044199\n",
       "выше среднего  0       91.635533\n",
       "               1        8.364467\n",
       "низкий         0       92.015381\n",
       "               1        7.984619\n",
       "средний        0       91.173071\n",
       "               1        8.826929\n",
       "dtype: float64"
      ]
     },
     "execution_count": 124,
     "metadata": {},
     "output_type": "execute_result"
    }
   ],
   "source": [
    "print('Зависимость возврата кредита в срок от уровня дохода (в %)')\n",
    "percent_income = debt_income / total_income * 100\n",
    "percent_income"
   ]
  },
  {
   "cell_type": "code",
   "execution_count": 125,
   "metadata": {},
   "outputs": [
    {
     "data": {
      "text/plain": [
       "income_level   debt\n",
       "высокий        0       5068.0\n",
       "               1       5068.0\n",
       "выше среднего  0       4818.0\n",
       "               1       4818.0\n",
       "низкий         0       4421.0\n",
       "               1       4421.0\n",
       "средний        0       6922.0\n",
       "               1       6922.0\n",
       "dtype: float64"
      ]
     },
     "execution_count": 125,
     "metadata": {},
     "output_type": "execute_result"
    }
   ],
   "source": [
    "# Проверка сохранения соотношения:\n",
    "debt_income * 100 / percent_income"
   ]
  },
  {
   "cell_type": "markdown",
   "metadata": {},
   "source": [
    "Всё верно, данные пригодны для анализа."
   ]
  },
  {
   "cell_type": "markdown",
   "metadata": {},
   "source": [
    "### Вывод"
   ]
  },
  {
   "cell_type": "markdown",
   "metadata": {},
   "source": [
    "Высокий уровень дохода предсказуемо показал большую вероятность возврата кредита в срок, однако *средний* доход и *выше среднего* показали бОльшой процент задержек по возврату, нежели *низкий*, так что об однозначной зависимости сказать нельзя.\n",
    "\n",
    "Различия в вероятности возврата кредита менее чем в 2% несопоставимо малы по сравнению с более чем 90% возврата у всех категорий, так что ей можно пренебречь. Однако если для бизнеса эта разница существенна, требуется дополнительная статистическая оценка."
   ]
  },
  {
   "cell_type": "markdown",
   "metadata": {},
   "source": [
    "- Как разные цели кредита влияют на его возврат в срок?<a id='step3.4'></a>"
   ]
  },
  {
   "cell_type": "code",
   "execution_count": 126,
   "metadata": {},
   "outputs": [
    {
     "data": {
      "text/plain": [
       "purpose_category  debt\n",
       "автомобиль        0       3861\n",
       "                  1        397\n",
       "недвижимость      0       9926\n",
       "                  1        777\n",
       "образование       0       3601\n",
       "                  1        369\n",
       "свадьба           0       2118\n",
       "                  1        181\n",
       "dtype: int64"
      ]
     },
     "execution_count": 126,
     "metadata": {},
     "output_type": "execute_result"
    }
   ],
   "source": [
    "# многоуровневая группировка по категориям целей и возвратам:\n",
    "debt_purpose = data_credit.groupby(['purpose_category', 'debt']).size()\n",
    "debt_purpose"
   ]
  },
  {
   "cell_type": "markdown",
   "metadata": {},
   "source": [
    "Данных в каждой категории достаточно для анализа."
   ]
  },
  {
   "cell_type": "code",
   "execution_count": 127,
   "metadata": {},
   "outputs": [
    {
     "data": {
      "text/plain": [
       "purpose_category\n",
       "автомобиль       4258\n",
       "недвижимость    10703\n",
       "образование      3970\n",
       "свадьба          2299\n",
       "dtype: int64"
      ]
     },
     "execution_count": 127,
     "metadata": {},
     "output_type": "execute_result"
    }
   ],
   "source": [
    "# общее количество ссудозаёмщиков по каждой категории\n",
    "total_purpose = data_credit.groupby('purpose_category').size()\n",
    "total_purpose"
   ]
  },
  {
   "cell_type": "code",
   "execution_count": 128,
   "metadata": {},
   "outputs": [
    {
     "name": "stdout",
     "output_type": "stream",
     "text": [
      "Зависимость возврата кредита в срок от категории цели (в %)\n"
     ]
    },
    {
     "data": {
      "text/plain": [
       "purpose_category  debt\n",
       "автомобиль        0       90.676374\n",
       "                  1        9.323626\n",
       "недвижимость      0       92.740353\n",
       "                  1        7.259647\n",
       "образование       0       90.705290\n",
       "                  1        9.294710\n",
       "свадьба           0       92.127012\n",
       "                  1        7.872988\n",
       "dtype: float64"
      ]
     },
     "execution_count": 128,
     "metadata": {},
     "output_type": "execute_result"
    }
   ],
   "source": [
    "# вычисление данных в процентах:\n",
    "print('Зависимость возврата кредита в срок от категории цели (в %)')\n",
    "percent_purpose = debt_purpose / total_purpose * 100\n",
    "percent_purpose"
   ]
  },
  {
   "cell_type": "code",
   "execution_count": 129,
   "metadata": {},
   "outputs": [
    {
     "data": {
      "text/plain": [
       "purpose_category  debt\n",
       "автомобиль        0        4258.0\n",
       "                  1        4258.0\n",
       "недвижимость      0       10703.0\n",
       "                  1       10703.0\n",
       "образование       0        3970.0\n",
       "                  1        3970.0\n",
       "свадьба           0        2299.0\n",
       "                  1        2299.0\n",
       "dtype: float64"
      ]
     },
     "execution_count": 129,
     "metadata": {},
     "output_type": "execute_result"
    }
   ],
   "source": [
    "# проверка соотношения:\n",
    "debt_purpose * 100 / percent_purpose"
   ]
  },
  {
   "cell_type": "markdown",
   "metadata": {},
   "source": [
    "Всё верно, данные пригодны для анализа."
   ]
  },
  {
   "cell_type": "markdown",
   "metadata": {},
   "source": [
    "### Вывод"
   ]
  },
  {
   "cell_type": "markdown",
   "metadata": {},
   "source": [
    "2% разницы несопоставимо малы по сравнению с 90% возврата, так что ей можно пренебречь, как и в предыдущих случаях. Если для бизнеса эта разница существенна, требуется дополнительная статистическая оценка."
   ]
  },
  {
   "cell_type": "markdown",
   "metadata": {},
   "source": [
    "### Шаг 4. Общий вывод<a id='step4'></a>"
   ]
  },
  {
   "cell_type": "markdown",
   "metadata": {},
   "source": [
    "##### Начальный этап\n",
    "Из первоначальной таблицы были удалены артефакты - некорректные значения по столбцам:\n",
    "- *наличия детей*\n",
    "- *пола*\n",
    "\n",
    "Унифицированы значения в столбце с *уровнем образования* (проблема с регистром), другие столбцы так же приведены к нижнему регистру для однообразия.\n",
    "\n",
    "Были определены некорректные значения в числовых столбцах:\n",
    "- нулевой *возраст* - 101 шт.\n",
    "- отрицательное число *отработанных дней* для работающих категорий - около 75% результатов\n",
    "- дробные значения чисел для *отработанных дней и уровня дохода*\n",
    "\n",
    "Отрицательные числа не трогались, т.к. в дальнейшем анализе не учитываются, а дробные числа округлены до целых.\n",
    "\n",
    "Были выявлены и удалены полные дубликаты (71 шт.). Хотя у людей из списка нет ни паспортных данных, ни телефона, ни id, которые бы их однозначно характеризовали, вероятность совпадения по всем столбцам крайне мала и число таких дубликатов было незначительно (менее 1%), не влияло на общую статистику.\n",
    "\n",
    "Были выявлены пропуски в количестве *отработанных дней* и *уровне дохода* у 10% людей из выборки. По типу занятости определено, что люди работают и эти пропуски нельзя просто заменить на 0. Из-за большого количества пропущенных значений было принято решение данные не удалять, а пометить как некорректные (для одного столбца).\n",
    "Благодаря тому, что данные с пропусками не были удалены, а лишь помечены, это позволило сохранить больше (на 10%!) данных для анализа зависимости по *количеству детей, целям получения кредита и семейного положения*.\n",
    "\n",
    "Все изменения в таблице перепроверялись.\n",
    "\n",
    "##### Второй этап\n",
    "Выделены категории, учитывая специфику для каждого критерия:\n",
    "- для *количества детей* - меньшие категории (с большим количеством детей) объединены для сопоставимости по количеству итоговых групп\n",
    "- для *уровня дохода* - с помощью найденной медианы для общей выборки и подвыборок исходная выборка разделена на приблизительно равные по количеству категории, для большей достоверности анализа, возможности его перепроверки на разных категориях дохода.\n",
    "- для *целей кредита* - с помощью лемматизации выделены основные категории целей кредита, что позволило сократить общее количество категорий с *десятков* до 4-х.\n",
    "\n",
    "Все изменения в таблице так же перепроверялись.\n",
    "\n",
    "##### Выводы\n",
    "При проверках возврата кредита в срок контролировалось достаточное количество людей в каждой категории, позволяющее повысить точность оценки, и для удобства данные переводились в проценты с перепроверкой соотношений.\n",
    "\n",
    "Все проверки показали, что разница в 2% или менее (меньше всего проявились различия в зависимости от наличия/отсутствия семьи) между проверяемыми категориями несопоставимо мала по сравнению с более 90% возвратов кредита в срок, поэтому какие-либо выводы исходя из текущих данных и исследований делать преждевременно. Если для бизнеса **значительна эта разница**, нужно проводить более глубокую статистическую (*разброс значений*, оценка *погрешности* и т.п.) оценка для определения достоверности результатов.\n",
    "\n",
    "Особенно информативной она будет для оценки *случайности противоречивости* результатов для 4 категорий по *уровню дохода*. Может быть, разброс значений, а следовательно, и *погрешность* измерений оказались чуть больше 2% разброса по среднему в данном случае, а следовательно, зависимость есть?\n",
    "\n",
    "Поэтому *без более глубокой статистической оценки* (величина разброса и т.п.) или анализа нескольких выборок, нельзя утверждать, будет ли эта тенденция повторяться от выборки к выборке или совершенно случайна."
   ]
  }
 ],
 "metadata": {
  "kernelspec": {
   "display_name": "Python 3",
   "language": "python",
   "name": "python3"
  },
  "language_info": {
   "codemirror_mode": {
    "name": "ipython",
    "version": 3
   },
   "file_extension": ".py",
   "mimetype": "text/x-python",
   "name": "python",
   "nbconvert_exporter": "python",
   "pygments_lexer": "ipython3",
   "version": "3.8.3"
  }
 },
 "nbformat": 4,
 "nbformat_minor": 2
}
