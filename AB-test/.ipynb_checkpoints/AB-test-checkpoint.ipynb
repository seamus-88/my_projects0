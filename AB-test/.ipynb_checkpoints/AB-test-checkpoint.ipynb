{
 "cells": [
  {
   "cell_type": "markdown",
   "metadata": {},
   "source": [
    "# <a id='шаг0'></a>A/B тестирование в интернет-магазине\n",
    "*(убрал подробности в целях соблюдения авторских прав)*  \n",
    "[Следующий шаг](#шаг1)"
   ]
  },
  {
   "cell_type": "markdown",
   "metadata": {},
   "source": [
    "Допустим, я аналитик крупного интернет-магазина. Отдел маркетинга поручил мне:\n",
    "- Приоритизировать гипотезы\n",
    "- Провести A/B тестирование и выяснить, как повысить доход компании"
   ]
  },
  {
   "cell_type": "markdown",
   "metadata": {},
   "source": [
    "В файле /datasets/hypothesis.csv 9 гипотез по увеличению выручки интернет-магазина с указанными параметрами Reach, Impact, Confidence, Effort."
   ]
  },
  {
   "cell_type": "code",
   "execution_count": 1,
   "metadata": {},
   "outputs": [],
   "source": [
    "# импорт библиотек\n",
    "import pandas as pd\n",
    "import numpy as np\n",
    "import matplotlib.pyplot as plt\n",
    "import scipy.stats as st"
   ]
  },
  {
   "cell_type": "code",
   "execution_count": 2,
   "metadata": {},
   "outputs": [
    {
     "name": "stdout",
     "output_type": "stream",
     "text": [
      "Hypothesis,Reach,Impact,Confidence,Efforts\r",
      "\r\n",
      "\"Добавить два новых канала привлечения трафика, что позволит привлекать на 30% больше пользователей\",3,10,8,6\r",
      "\r\n",
      "\"Запустить собственную службу доставки, что сократит срок доставки заказов\",2,5,4,10\r",
      "\r\n",
      "\"Добавить блоки рекомендаций товаров на сайт интернет магазина, чтобы повысить конверсию и средний чек заказа\",8,3,7,3\r",
      "\r\n",
      "\"Изменить структура категорий, что увеличит конверсию, т.к. пользователи быстрее найдут нужный товар\",8,3,3,8\r",
      "\r\n",
      "\"Изменить цвет фона главной страницы, чтобы увеличить вовлеченность пользователей\",3,1,1,1\r",
      "\r\n",
      "\"Добавить страницу отзывов клиентов о магазине, что позволит увеличить количество заказов\",3,2,2,3\r",
      "\r\n",
      "\"Показать на главной странице баннеры с актуальными акциями и распродажами, чтобы увеличить конверсию\",5,3,8,3\r",
      "\r\n",
      "\"Добавить форму подписки на все основные страницы, чтобы собрать базу клиентов для email-рассылок\",10,7,8,5\r",
      "\r\n",
      "\"Запустить акцию, дающую скидку на товар в день рождения\",1,9,9,5"
     ]
    }
   ],
   "source": [
    "# проверка структуры данных\n",
    "!head /datasets/hypothesis.csv"
   ]
  },
  {
   "cell_type": "code",
   "execution_count": 3,
   "metadata": {},
   "outputs": [
    {
     "data": {
      "text/html": [
       "<div>\n",
       "<style scoped>\n",
       "    .dataframe tbody tr th:only-of-type {\n",
       "        vertical-align: middle;\n",
       "    }\n",
       "\n",
       "    .dataframe tbody tr th {\n",
       "        vertical-align: top;\n",
       "    }\n",
       "\n",
       "    .dataframe thead th {\n",
       "        text-align: right;\n",
       "    }\n",
       "</style>\n",
       "<table border=\"1\" class=\"dataframe\">\n",
       "  <thead>\n",
       "    <tr style=\"text-align: right;\">\n",
       "      <th></th>\n",
       "      <th>Hypothesis</th>\n",
       "      <th>Reach</th>\n",
       "      <th>Impact</th>\n",
       "      <th>Confidence</th>\n",
       "      <th>Efforts</th>\n",
       "    </tr>\n",
       "  </thead>\n",
       "  <tbody>\n",
       "    <tr>\n",
       "      <td>0</td>\n",
       "      <td>Добавить два новых канала привлечения трафика,...</td>\n",
       "      <td>3</td>\n",
       "      <td>10</td>\n",
       "      <td>8</td>\n",
       "      <td>6</td>\n",
       "    </tr>\n",
       "    <tr>\n",
       "      <td>1</td>\n",
       "      <td>Запустить собственную службу доставки, что сок...</td>\n",
       "      <td>2</td>\n",
       "      <td>5</td>\n",
       "      <td>4</td>\n",
       "      <td>10</td>\n",
       "    </tr>\n",
       "    <tr>\n",
       "      <td>2</td>\n",
       "      <td>Добавить блоки рекомендаций товаров на сайт ин...</td>\n",
       "      <td>8</td>\n",
       "      <td>3</td>\n",
       "      <td>7</td>\n",
       "      <td>3</td>\n",
       "    </tr>\n",
       "    <tr>\n",
       "      <td>3</td>\n",
       "      <td>Изменить структура категорий, что увеличит кон...</td>\n",
       "      <td>8</td>\n",
       "      <td>3</td>\n",
       "      <td>3</td>\n",
       "      <td>8</td>\n",
       "    </tr>\n",
       "    <tr>\n",
       "      <td>4</td>\n",
       "      <td>Изменить цвет фона главной страницы, чтобы уве...</td>\n",
       "      <td>3</td>\n",
       "      <td>1</td>\n",
       "      <td>1</td>\n",
       "      <td>1</td>\n",
       "    </tr>\n",
       "    <tr>\n",
       "      <td>5</td>\n",
       "      <td>Добавить страницу отзывов клиентов о магазине,...</td>\n",
       "      <td>3</td>\n",
       "      <td>2</td>\n",
       "      <td>2</td>\n",
       "      <td>3</td>\n",
       "    </tr>\n",
       "    <tr>\n",
       "      <td>6</td>\n",
       "      <td>Показать на главной странице баннеры с актуаль...</td>\n",
       "      <td>5</td>\n",
       "      <td>3</td>\n",
       "      <td>8</td>\n",
       "      <td>3</td>\n",
       "    </tr>\n",
       "    <tr>\n",
       "      <td>7</td>\n",
       "      <td>Добавить форму подписки на все основные страни...</td>\n",
       "      <td>10</td>\n",
       "      <td>7</td>\n",
       "      <td>8</td>\n",
       "      <td>5</td>\n",
       "    </tr>\n",
       "    <tr>\n",
       "      <td>8</td>\n",
       "      <td>Запустить акцию, дающую скидку на товар в день...</td>\n",
       "      <td>1</td>\n",
       "      <td>9</td>\n",
       "      <td>9</td>\n",
       "      <td>5</td>\n",
       "    </tr>\n",
       "  </tbody>\n",
       "</table>\n",
       "</div>"
      ],
      "text/plain": [
       "                                          Hypothesis  Reach  Impact  \\\n",
       "0  Добавить два новых канала привлечения трафика,...      3      10   \n",
       "1  Запустить собственную службу доставки, что сок...      2       5   \n",
       "2  Добавить блоки рекомендаций товаров на сайт ин...      8       3   \n",
       "3  Изменить структура категорий, что увеличит кон...      8       3   \n",
       "4  Изменить цвет фона главной страницы, чтобы уве...      3       1   \n",
       "5  Добавить страницу отзывов клиентов о магазине,...      3       2   \n",
       "6  Показать на главной странице баннеры с актуаль...      5       3   \n",
       "7  Добавить форму подписки на все основные страни...     10       7   \n",
       "8  Запустить акцию, дающую скидку на товар в день...      1       9   \n",
       "\n",
       "   Confidence  Efforts  \n",
       "0           8        6  \n",
       "1           4       10  \n",
       "2           7        3  \n",
       "3           3        8  \n",
       "4           1        1  \n",
       "5           2        3  \n",
       "6           8        3  \n",
       "7           8        5  \n",
       "8           9        5  "
      ]
     },
     "execution_count": 3,
     "metadata": {},
     "output_type": "execute_result"
    }
   ],
   "source": [
    "# загрузка данных\n",
    "hypothesis = pd.read_csv('/datasets/hypothesis.csv', sep=',')\n",
    "hypothesis.head()"
   ]
  },
  {
   "cell_type": "code",
   "execution_count": 4,
   "metadata": {},
   "outputs": [
    {
     "name": "stdout",
     "output_type": "stream",
     "text": [
      "<class 'pandas.core.frame.DataFrame'>\n",
      "RangeIndex: 9 entries, 0 to 8\n",
      "Data columns (total 5 columns):\n",
      "Hypothesis    9 non-null object\n",
      "Reach         9 non-null int64\n",
      "Impact        9 non-null int64\n",
      "Confidence    9 non-null int64\n",
      "Efforts       9 non-null int64\n",
      "dtypes: int64(4), object(1)\n",
      "memory usage: 488.0+ bytes\n"
     ]
    }
   ],
   "source": [
    "hypothesis.info()"
   ]
  },
  {
   "cell_type": "markdown",
   "metadata": {},
   "source": [
    "Как видим, в таблице записаны данные для приоритизации гипотез, шкала по каждому пункту от 0 до 10. Нам не важно точное значение того или иного числа, лишь их ранг сравнительно друг с другом.\n",
    "\n",
    "Проблемы в данных:\n",
    "- верхний регистр в названиях столбцов\n",
    "\n",
    "Исправлю эти проблемы:"
   ]
  },
  {
   "cell_type": "code",
   "execution_count": 5,
   "metadata": {},
   "outputs": [
    {
     "data": {
      "text/html": [
       "<div>\n",
       "<style scoped>\n",
       "    .dataframe tbody tr th:only-of-type {\n",
       "        vertical-align: middle;\n",
       "    }\n",
       "\n",
       "    .dataframe tbody tr th {\n",
       "        vertical-align: top;\n",
       "    }\n",
       "\n",
       "    .dataframe thead th {\n",
       "        text-align: right;\n",
       "    }\n",
       "</style>\n",
       "<table border=\"1\" class=\"dataframe\">\n",
       "  <thead>\n",
       "    <tr style=\"text-align: right;\">\n",
       "      <th></th>\n",
       "      <th>hypothesis</th>\n",
       "      <th>reach</th>\n",
       "      <th>impact</th>\n",
       "      <th>confidence</th>\n",
       "      <th>efforts</th>\n",
       "    </tr>\n",
       "  </thead>\n",
       "  <tbody>\n",
       "    <tr>\n",
       "      <td>0</td>\n",
       "      <td>Добавить два новых канала привлечения трафика, что позволит привлекать на 30% больше пользователей</td>\n",
       "      <td>3</td>\n",
       "      <td>10</td>\n",
       "      <td>8</td>\n",
       "      <td>6</td>\n",
       "    </tr>\n",
       "    <tr>\n",
       "      <td>1</td>\n",
       "      <td>Запустить собственную службу доставки, что сократит срок доставки заказов</td>\n",
       "      <td>2</td>\n",
       "      <td>5</td>\n",
       "      <td>4</td>\n",
       "      <td>10</td>\n",
       "    </tr>\n",
       "    <tr>\n",
       "      <td>2</td>\n",
       "      <td>Добавить блоки рекомендаций товаров на сайт интернет магазина, чтобы повысить конверсию и средний чек заказа</td>\n",
       "      <td>8</td>\n",
       "      <td>3</td>\n",
       "      <td>7</td>\n",
       "      <td>3</td>\n",
       "    </tr>\n",
       "    <tr>\n",
       "      <td>3</td>\n",
       "      <td>Изменить структура категорий, что увеличит конверсию, т.к. пользователи быстрее найдут нужный товар</td>\n",
       "      <td>8</td>\n",
       "      <td>3</td>\n",
       "      <td>3</td>\n",
       "      <td>8</td>\n",
       "    </tr>\n",
       "    <tr>\n",
       "      <td>4</td>\n",
       "      <td>Изменить цвет фона главной страницы, чтобы увеличить вовлеченность пользователей</td>\n",
       "      <td>3</td>\n",
       "      <td>1</td>\n",
       "      <td>1</td>\n",
       "      <td>1</td>\n",
       "    </tr>\n",
       "  </tbody>\n",
       "</table>\n",
       "</div>"
      ],
      "text/plain": [
       "                                                                                                     hypothesis  \\\n",
       "0            Добавить два новых канала привлечения трафика, что позволит привлекать на 30% больше пользователей   \n",
       "1                                     Запустить собственную службу доставки, что сократит срок доставки заказов   \n",
       "2  Добавить блоки рекомендаций товаров на сайт интернет магазина, чтобы повысить конверсию и средний чек заказа   \n",
       "3           Изменить структура категорий, что увеличит конверсию, т.к. пользователи быстрее найдут нужный товар   \n",
       "4                              Изменить цвет фона главной страницы, чтобы увеличить вовлеченность пользователей   \n",
       "\n",
       "   reach  impact  confidence  efforts  \n",
       "0      3      10           8        6  \n",
       "1      2       5           4       10  \n",
       "2      8       3           7        3  \n",
       "3      8       3           3        8  \n",
       "4      3       1           1        1  "
      ]
     },
     "execution_count": 5,
     "metadata": {},
     "output_type": "execute_result"
    }
   ],
   "source": [
    "# приведение названия столбцов к нижнему регистру\n",
    "pd.set_option('max_colwidth', 400)\n",
    "hypothesis.columns = hypothesis.columns.str.lower()\n",
    "hypothesis.head()"
   ]
  },
  {
   "cell_type": "markdown",
   "metadata": {},
   "source": [
    "Вывод: данные предоставлены в корректном виде, привёл только названия столбцов к нижнему регистру в соответствии с синтаксисом языка Python."
   ]
  },
  {
   "cell_type": "markdown",
   "metadata": {},
   "source": [
    "\n",
    "# Часть 1. Приоритизация гипотез.<a id='шаг1'></a> \n",
    "[предыдущий шаг](#шаг0)  -- [следующий шаг](#шаг2)  \n",
    "\n",
    "## Задача\n",
    "- [Применю фреймворк ICE для приоритизации гипотез. Отсортирую их по убыванию приоритета](#шаг1.1)\n",
    "- [Применю фреймворк RICE для приоритизации гипотез. Отсортирую их по убыванию приоритета](#шаг1.2)\n",
    "- [Определю, как изменилась приоритизация гипотез при применении RICE вместо ICE](#шаг1.3)"
   ]
  },
  {
   "cell_type": "markdown",
   "metadata": {},
   "source": [
    "### <a id='шаг1.1'></a> Применю фреймворк ICE для приоритизации гипотез. Отсортирую их по убыванию приоритета."
   ]
  },
  {
   "cell_type": "code",
   "execution_count": 6,
   "metadata": {},
   "outputs": [
    {
     "data": {
      "text/html": [
       "<div>\n",
       "<style scoped>\n",
       "    .dataframe tbody tr th:only-of-type {\n",
       "        vertical-align: middle;\n",
       "    }\n",
       "\n",
       "    .dataframe tbody tr th {\n",
       "        vertical-align: top;\n",
       "    }\n",
       "\n",
       "    .dataframe thead th {\n",
       "        text-align: right;\n",
       "    }\n",
       "</style>\n",
       "<table border=\"1\" class=\"dataframe\">\n",
       "  <thead>\n",
       "    <tr style=\"text-align: right;\">\n",
       "      <th></th>\n",
       "      <th>hypothesis</th>\n",
       "      <th>reach</th>\n",
       "      <th>impact</th>\n",
       "      <th>confidence</th>\n",
       "      <th>efforts</th>\n",
       "      <th>ICE</th>\n",
       "    </tr>\n",
       "  </thead>\n",
       "  <tbody>\n",
       "    <tr>\n",
       "      <td>8</td>\n",
       "      <td>Запустить акцию, дающую скидку на товар в день рождения</td>\n",
       "      <td>1</td>\n",
       "      <td>9</td>\n",
       "      <td>9</td>\n",
       "      <td>5</td>\n",
       "      <td>16.2</td>\n",
       "    </tr>\n",
       "    <tr>\n",
       "      <td>0</td>\n",
       "      <td>Добавить два новых канала привлечения трафика, что позволит привлекать на 30% больше пользователей</td>\n",
       "      <td>3</td>\n",
       "      <td>10</td>\n",
       "      <td>8</td>\n",
       "      <td>6</td>\n",
       "      <td>13.3</td>\n",
       "    </tr>\n",
       "    <tr>\n",
       "      <td>7</td>\n",
       "      <td>Добавить форму подписки на все основные страницы, чтобы собрать базу клиентов для email-рассылок</td>\n",
       "      <td>10</td>\n",
       "      <td>7</td>\n",
       "      <td>8</td>\n",
       "      <td>5</td>\n",
       "      <td>11.2</td>\n",
       "    </tr>\n",
       "    <tr>\n",
       "      <td>6</td>\n",
       "      <td>Показать на главной странице баннеры с актуальными акциями и распродажами, чтобы увеличить конверсию</td>\n",
       "      <td>5</td>\n",
       "      <td>3</td>\n",
       "      <td>8</td>\n",
       "      <td>3</td>\n",
       "      <td>8.0</td>\n",
       "    </tr>\n",
       "    <tr>\n",
       "      <td>2</td>\n",
       "      <td>Добавить блоки рекомендаций товаров на сайт интернет магазина, чтобы повысить конверсию и средний чек заказа</td>\n",
       "      <td>8</td>\n",
       "      <td>3</td>\n",
       "      <td>7</td>\n",
       "      <td>3</td>\n",
       "      <td>7.0</td>\n",
       "    </tr>\n",
       "    <tr>\n",
       "      <td>1</td>\n",
       "      <td>Запустить собственную службу доставки, что сократит срок доставки заказов</td>\n",
       "      <td>2</td>\n",
       "      <td>5</td>\n",
       "      <td>4</td>\n",
       "      <td>10</td>\n",
       "      <td>2.0</td>\n",
       "    </tr>\n",
       "    <tr>\n",
       "      <td>5</td>\n",
       "      <td>Добавить страницу отзывов клиентов о магазине, что позволит увеличить количество заказов</td>\n",
       "      <td>3</td>\n",
       "      <td>2</td>\n",
       "      <td>2</td>\n",
       "      <td>3</td>\n",
       "      <td>1.3</td>\n",
       "    </tr>\n",
       "    <tr>\n",
       "      <td>3</td>\n",
       "      <td>Изменить структура категорий, что увеличит конверсию, т.к. пользователи быстрее найдут нужный товар</td>\n",
       "      <td>8</td>\n",
       "      <td>3</td>\n",
       "      <td>3</td>\n",
       "      <td>8</td>\n",
       "      <td>1.1</td>\n",
       "    </tr>\n",
       "    <tr>\n",
       "      <td>4</td>\n",
       "      <td>Изменить цвет фона главной страницы, чтобы увеличить вовлеченность пользователей</td>\n",
       "      <td>3</td>\n",
       "      <td>1</td>\n",
       "      <td>1</td>\n",
       "      <td>1</td>\n",
       "      <td>1.0</td>\n",
       "    </tr>\n",
       "  </tbody>\n",
       "</table>\n",
       "</div>"
      ],
      "text/plain": [
       "                                                                                                     hypothesis  \\\n",
       "8                                                       Запустить акцию, дающую скидку на товар в день рождения   \n",
       "0            Добавить два новых канала привлечения трафика, что позволит привлекать на 30% больше пользователей   \n",
       "7              Добавить форму подписки на все основные страницы, чтобы собрать базу клиентов для email-рассылок   \n",
       "6          Показать на главной странице баннеры с актуальными акциями и распродажами, чтобы увеличить конверсию   \n",
       "2  Добавить блоки рекомендаций товаров на сайт интернет магазина, чтобы повысить конверсию и средний чек заказа   \n",
       "1                                     Запустить собственную службу доставки, что сократит срок доставки заказов   \n",
       "5                      Добавить страницу отзывов клиентов о магазине, что позволит увеличить количество заказов   \n",
       "3           Изменить структура категорий, что увеличит конверсию, т.к. пользователи быстрее найдут нужный товар   \n",
       "4                              Изменить цвет фона главной страницы, чтобы увеличить вовлеченность пользователей   \n",
       "\n",
       "   reach  impact  confidence  efforts   ICE  \n",
       "8      1       9           9        5  16.2  \n",
       "0      3      10           8        6  13.3  \n",
       "7     10       7           8        5  11.2  \n",
       "6      5       3           8        3   8.0  \n",
       "2      8       3           7        3   7.0  \n",
       "1      2       5           4       10   2.0  \n",
       "5      3       2           2        3   1.3  \n",
       "3      8       3           3        8   1.1  \n",
       "4      3       1           1        1   1.0  "
      ]
     },
     "metadata": {},
     "output_type": "display_data"
    },
    {
     "name": "stdout",
     "output_type": "stream",
     "text": [
      "Полное описание гипотез:\n",
      "8 Запустить акцию, дающую скидку на товар в день рождения\n",
      "0 Добавить два новых канала привлечения трафика, что позволит привлекать на 30% больше пользователей\n",
      "7 Добавить форму подписки на все основные страницы, чтобы собрать базу клиентов для email-рассылок\n",
      "6 Показать на главной странице баннеры с актуальными акциями и распродажами, чтобы увеличить конверсию\n",
      "2 Добавить блоки рекомендаций товаров на сайт интернет магазина, чтобы повысить конверсию и средний чек заказа\n",
      "1 Запустить собственную службу доставки, что сократит срок доставки заказов\n",
      "5 Добавить страницу отзывов клиентов о магазине, что позволит увеличить количество заказов\n",
      "3 Изменить структура категорий, что увеличит конверсию, т.к. пользователи быстрее найдут нужный товар\n",
      "4 Изменить цвет фона главной страницы, чтобы увеличить вовлеченность пользователей\n"
     ]
    }
   ],
   "source": [
    "hypothesis['ICE'] = (hypothesis.impact * hypothesis.confidence / hypothesis.efforts).round(1)\n",
    "hypothesis = hypothesis.sort_values(by='ICE', ascending=False)\n",
    "display(hypothesis)\n",
    "print('Полное описание гипотез:')\n",
    "for i, h in hypothesis[['hypothesis', 'ICE']].iterrows():\n",
    "    print(i, h.hypothesis)"
   ]
  },
  {
   "cell_type": "markdown",
   "metadata": {},
   "source": [
    "### <a id='шаг1.2'></a> Применю фреймворк RICE для приоритизации гипотез. Отсортирую их по убыванию приоритета."
   ]
  },
  {
   "cell_type": "code",
   "execution_count": 7,
   "metadata": {},
   "outputs": [
    {
     "data": {
      "text/html": [
       "<div>\n",
       "<style scoped>\n",
       "    .dataframe tbody tr th:only-of-type {\n",
       "        vertical-align: middle;\n",
       "    }\n",
       "\n",
       "    .dataframe tbody tr th {\n",
       "        vertical-align: top;\n",
       "    }\n",
       "\n",
       "    .dataframe thead th {\n",
       "        text-align: right;\n",
       "    }\n",
       "</style>\n",
       "<table border=\"1\" class=\"dataframe\">\n",
       "  <thead>\n",
       "    <tr style=\"text-align: right;\">\n",
       "      <th></th>\n",
       "      <th>hypothesis</th>\n",
       "      <th>reach</th>\n",
       "      <th>impact</th>\n",
       "      <th>confidence</th>\n",
       "      <th>efforts</th>\n",
       "      <th>ICE</th>\n",
       "      <th>RICE</th>\n",
       "    </tr>\n",
       "  </thead>\n",
       "  <tbody>\n",
       "    <tr>\n",
       "      <td>7</td>\n",
       "      <td>Добавить форму подписки на все основные страницы, чтобы собрать базу клиентов для email-рассылок</td>\n",
       "      <td>10</td>\n",
       "      <td>7</td>\n",
       "      <td>8</td>\n",
       "      <td>5</td>\n",
       "      <td>11.2</td>\n",
       "      <td>112.0</td>\n",
       "    </tr>\n",
       "    <tr>\n",
       "      <td>2</td>\n",
       "      <td>Добавить блоки рекомендаций товаров на сайт интернет магазина, чтобы повысить конверсию и средний чек заказа</td>\n",
       "      <td>8</td>\n",
       "      <td>3</td>\n",
       "      <td>7</td>\n",
       "      <td>3</td>\n",
       "      <td>7.0</td>\n",
       "      <td>56.0</td>\n",
       "    </tr>\n",
       "    <tr>\n",
       "      <td>0</td>\n",
       "      <td>Добавить два новых канала привлечения трафика, что позволит привлекать на 30% больше пользователей</td>\n",
       "      <td>3</td>\n",
       "      <td>10</td>\n",
       "      <td>8</td>\n",
       "      <td>6</td>\n",
       "      <td>13.3</td>\n",
       "      <td>40.0</td>\n",
       "    </tr>\n",
       "    <tr>\n",
       "      <td>6</td>\n",
       "      <td>Показать на главной странице баннеры с актуальными акциями и распродажами, чтобы увеличить конверсию</td>\n",
       "      <td>5</td>\n",
       "      <td>3</td>\n",
       "      <td>8</td>\n",
       "      <td>3</td>\n",
       "      <td>8.0</td>\n",
       "      <td>40.0</td>\n",
       "    </tr>\n",
       "    <tr>\n",
       "      <td>8</td>\n",
       "      <td>Запустить акцию, дающую скидку на товар в день рождения</td>\n",
       "      <td>1</td>\n",
       "      <td>9</td>\n",
       "      <td>9</td>\n",
       "      <td>5</td>\n",
       "      <td>16.2</td>\n",
       "      <td>16.2</td>\n",
       "    </tr>\n",
       "    <tr>\n",
       "      <td>3</td>\n",
       "      <td>Изменить структура категорий, что увеличит конверсию, т.к. пользователи быстрее найдут нужный товар</td>\n",
       "      <td>8</td>\n",
       "      <td>3</td>\n",
       "      <td>3</td>\n",
       "      <td>8</td>\n",
       "      <td>1.1</td>\n",
       "      <td>9.0</td>\n",
       "    </tr>\n",
       "    <tr>\n",
       "      <td>1</td>\n",
       "      <td>Запустить собственную службу доставки, что сократит срок доставки заказов</td>\n",
       "      <td>2</td>\n",
       "      <td>5</td>\n",
       "      <td>4</td>\n",
       "      <td>10</td>\n",
       "      <td>2.0</td>\n",
       "      <td>4.0</td>\n",
       "    </tr>\n",
       "    <tr>\n",
       "      <td>5</td>\n",
       "      <td>Добавить страницу отзывов клиентов о магазине, что позволит увеличить количество заказов</td>\n",
       "      <td>3</td>\n",
       "      <td>2</td>\n",
       "      <td>2</td>\n",
       "      <td>3</td>\n",
       "      <td>1.3</td>\n",
       "      <td>4.0</td>\n",
       "    </tr>\n",
       "    <tr>\n",
       "      <td>4</td>\n",
       "      <td>Изменить цвет фона главной страницы, чтобы увеличить вовлеченность пользователей</td>\n",
       "      <td>3</td>\n",
       "      <td>1</td>\n",
       "      <td>1</td>\n",
       "      <td>1</td>\n",
       "      <td>1.0</td>\n",
       "      <td>3.0</td>\n",
       "    </tr>\n",
       "  </tbody>\n",
       "</table>\n",
       "</div>"
      ],
      "text/plain": [
       "                                                                                                     hypothesis  \\\n",
       "7              Добавить форму подписки на все основные страницы, чтобы собрать базу клиентов для email-рассылок   \n",
       "2  Добавить блоки рекомендаций товаров на сайт интернет магазина, чтобы повысить конверсию и средний чек заказа   \n",
       "0            Добавить два новых канала привлечения трафика, что позволит привлекать на 30% больше пользователей   \n",
       "6          Показать на главной странице баннеры с актуальными акциями и распродажами, чтобы увеличить конверсию   \n",
       "8                                                       Запустить акцию, дающую скидку на товар в день рождения   \n",
       "3           Изменить структура категорий, что увеличит конверсию, т.к. пользователи быстрее найдут нужный товар   \n",
       "1                                     Запустить собственную службу доставки, что сократит срок доставки заказов   \n",
       "5                      Добавить страницу отзывов клиентов о магазине, что позволит увеличить количество заказов   \n",
       "4                              Изменить цвет фона главной страницы, чтобы увеличить вовлеченность пользователей   \n",
       "\n",
       "   reach  impact  confidence  efforts   ICE   RICE  \n",
       "7     10       7           8        5  11.2  112.0  \n",
       "2      8       3           7        3   7.0   56.0  \n",
       "0      3      10           8        6  13.3   40.0  \n",
       "6      5       3           8        3   8.0   40.0  \n",
       "8      1       9           9        5  16.2   16.2  \n",
       "3      8       3           3        8   1.1    9.0  \n",
       "1      2       5           4       10   2.0    4.0  \n",
       "5      3       2           2        3   1.3    4.0  \n",
       "4      3       1           1        1   1.0    3.0  "
      ]
     },
     "metadata": {},
     "output_type": "display_data"
    },
    {
     "name": "stdout",
     "output_type": "stream",
     "text": [
      "Полное описание гипотез:\n",
      "7. Добавить форму подписки на все основные страницы, чтобы собрать базу клиентов для email-рассылок\n",
      "2. Добавить блоки рекомендаций товаров на сайт интернет магазина, чтобы повысить конверсию и средний чек заказа\n",
      "0. Добавить два новых канала привлечения трафика, что позволит привлекать на 30% больше пользователей\n",
      "6. Показать на главной странице баннеры с актуальными акциями и распродажами, чтобы увеличить конверсию\n",
      "8. Запустить акцию, дающую скидку на товар в день рождения\n",
      "3. Изменить структура категорий, что увеличит конверсию, т.к. пользователи быстрее найдут нужный товар\n",
      "1. Запустить собственную службу доставки, что сократит срок доставки заказов\n",
      "5. Добавить страницу отзывов клиентов о магазине, что позволит увеличить количество заказов\n",
      "4. Изменить цвет фона главной страницы, чтобы увеличить вовлеченность пользователей\n"
     ]
    }
   ],
   "source": [
    "hypothesis['RICE'] = (hypothesis.reach * hypothesis.impact * hypothesis.confidence / hypothesis.efforts).round(1)\n",
    "hypothesis = hypothesis.sort_values(by='RICE', ascending=False)\n",
    "display(hypothesis)\n",
    "print('Полное описание гипотез:')\n",
    "for i, h in hypothesis[['hypothesis', 'RICE']].iterrows():\n",
    "    print(str(i)+'.', h.hypothesis)"
   ]
  },
  {
   "cell_type": "markdown",
   "metadata": {},
   "source": [
    "### <a id='шаг1.3'></a> Определю, как изменилась приоритизация гипотез при применении RICE вместо ICE"
   ]
  },
  {
   "cell_type": "markdown",
   "metadata": {},
   "source": [
    "Сравнение фреймворков графически"
   ]
  },
  {
   "cell_type": "code",
   "execution_count": 79,
   "metadata": {},
   "outputs": [
    {
     "data": {
      "image/png": "[encoded data removed]",
      "text/plain": [
       "<Figure size 720x720 with 1 Axes>"
      ]
     },
     "metadata": {
      "needs_background": "light"
     },
     "output_type": "display_data"
    }
   ],
   "source": [
    "fig, ax = plt.subplots(figsize=(10,10))\n",
    "hypothesis = hypothesis.sort_index()\n",
    "x = hypothesis.ICE.values\n",
    "y = hypothesis.RICE.values\n",
    "ax.scatter(x, y)\n",
    "\n",
    "ax.set_xlabel('ICE')\n",
    "ax.set_ylabel('RICE')\n",
    "ax.set_title('ICE/RICE сравнение')\n",
    "ax.annotate('ICE', [0.6, 0.3], fontsize=28, xycoords='axes fraction')\n",
    "ax.annotate('RICE', [0.3, 0.6], fontsize=28, xycoords='axes fraction')\n",
    "ax.grid()\n",
    "\n",
    "for i, row in hypothesis.iterrows():\n",
    "    ax.annotate(row.name, (x[i], y[i]), xytext=(5,5), textcoords='offset points')\n",
    "    plt.plot([0,hypothesis.ICE.max()], [0,hypothesis.RICE.max()], color='lightblue')"
   ]
  },
  {
   "cell_type": "markdown",
   "metadata": {},
   "source": [
    "Вывод: Фреймворк RICE учитывает охват пользователей, которых коснётся изменение в функционале. Поэтому в сравнении с ICE лидирующие гипотезы (скидка в день рождения и новые каналы привлечения трафика) с малым охватом потеряли своё лидерство. Гипотезы 1,3,4,5 являются аутсайдерами и для ICE, и для RICE, что хорошо видно на графике."
   ]
  },
  {
   "cell_type": "markdown",
   "metadata": {},
   "source": [
    "# Часть 2. Проведение анализа A/B-теста<a id='шаг2'></a> \n",
    "[предыдущий шаг](#шаг1) -- [следующий шаг](#шаг3)"
   ]
  },
  {
   "cell_type": "markdown",
   "metadata": {},
   "source": [
    "Был проведен A/B тест, собраны данные о посещениях и покупках пользователей."
   ]
  },
  {
   "cell_type": "code",
   "execution_count": 9,
   "metadata": {},
   "outputs": [
    {
     "name": "stdout",
     "output_type": "stream",
     "text": [
      "transactionId,visitorId,date,revenue,group\r",
      "\r\n",
      "3667963787,3312258926,2019-08-15,1650,B\r",
      "\r\n",
      "2804400009,3642806036,2019-08-15,730,B\r",
      "\r\n",
      "2961555356,4069496402,2019-08-15,400,A\r",
      "\r\n",
      "3797467345,1196621759,2019-08-15,9759,B\r",
      "\r\n",
      "2282983706,2322279887,2019-08-15,2308,B\r",
      "\r\n",
      "182168103,935554773,2019-08-15,2210,B\r",
      "\r\n",
      "398296753,2900797465,2019-08-15,1860,B\r",
      "\r\n",
      "2626614568,78758296,2019-08-15,1044,A\r",
      "\r\n",
      "1576988021,295230930,2019-08-15,13710,A\r",
      "\r\n"
     ]
    }
   ],
   "source": [
    "# предварительный просмотр данных\n",
    "!head /datasets/orders.csv"
   ]
  },
  {
   "cell_type": "code",
   "execution_count": 10,
   "metadata": {},
   "outputs": [
    {
     "name": "stdout",
     "output_type": "stream",
     "text": [
      "date,group,visitors\r",
      "\r\n",
      "2019-08-01,A,719\r",
      "\r\n",
      "2019-08-02,A,619\r",
      "\r\n",
      "2019-08-03,A,507\r",
      "\r\n",
      "2019-08-04,A,717\r",
      "\r\n",
      "2019-08-05,A,756\r",
      "\r\n",
      "2019-08-06,A,667\r",
      "\r\n",
      "2019-08-07,A,644\r",
      "\r\n",
      "2019-08-08,A,610\r",
      "\r\n",
      "2019-08-09,A,617\r",
      "\r\n"
     ]
    }
   ],
   "source": [
    "# предварительный просмотр данных\n",
    "!head /datasets/visitors.csv"
   ]
  },
  {
   "cell_type": "markdown",
   "metadata": {},
   "source": [
    "Данные разделены запятыми, загружу их в таблицы pandas:"
   ]
  },
  {
   "cell_type": "code",
   "execution_count": 11,
   "metadata": {},
   "outputs": [],
   "source": [
    "orders = pd.read_csv('/datasets/orders.csv')\n",
    "visitors = pd.read_csv('/datasets/visitors.csv')"
   ]
  },
  {
   "cell_type": "code",
   "execution_count": 12,
   "metadata": {},
   "outputs": [
    {
     "data": {
      "text/html": [
       "<div>\n",
       "<style scoped>\n",
       "    .dataframe tbody tr th:only-of-type {\n",
       "        vertical-align: middle;\n",
       "    }\n",
       "\n",
       "    .dataframe tbody tr th {\n",
       "        vertical-align: top;\n",
       "    }\n",
       "\n",
       "    .dataframe thead th {\n",
       "        text-align: right;\n",
       "    }\n",
       "</style>\n",
       "<table border=\"1\" class=\"dataframe\">\n",
       "  <thead>\n",
       "    <tr style=\"text-align: right;\">\n",
       "      <th></th>\n",
       "      <th>transactionId</th>\n",
       "      <th>visitorId</th>\n",
       "      <th>date</th>\n",
       "      <th>revenue</th>\n",
       "      <th>group</th>\n",
       "    </tr>\n",
       "  </thead>\n",
       "  <tbody>\n",
       "    <tr>\n",
       "      <td>0</td>\n",
       "      <td>3667963787</td>\n",
       "      <td>3312258926</td>\n",
       "      <td>2019-08-15</td>\n",
       "      <td>1650</td>\n",
       "      <td>B</td>\n",
       "    </tr>\n",
       "    <tr>\n",
       "      <td>1</td>\n",
       "      <td>2804400009</td>\n",
       "      <td>3642806036</td>\n",
       "      <td>2019-08-15</td>\n",
       "      <td>730</td>\n",
       "      <td>B</td>\n",
       "    </tr>\n",
       "    <tr>\n",
       "      <td>2</td>\n",
       "      <td>2961555356</td>\n",
       "      <td>4069496402</td>\n",
       "      <td>2019-08-15</td>\n",
       "      <td>400</td>\n",
       "      <td>A</td>\n",
       "    </tr>\n",
       "    <tr>\n",
       "      <td>3</td>\n",
       "      <td>3797467345</td>\n",
       "      <td>1196621759</td>\n",
       "      <td>2019-08-15</td>\n",
       "      <td>9759</td>\n",
       "      <td>B</td>\n",
       "    </tr>\n",
       "    <tr>\n",
       "      <td>4</td>\n",
       "      <td>2282983706</td>\n",
       "      <td>2322279887</td>\n",
       "      <td>2019-08-15</td>\n",
       "      <td>2308</td>\n",
       "      <td>B</td>\n",
       "    </tr>\n",
       "  </tbody>\n",
       "</table>\n",
       "</div>"
      ],
      "text/plain": [
       "   transactionId   visitorId        date  revenue group\n",
       "0     3667963787  3312258926  2019-08-15     1650     B\n",
       "1     2804400009  3642806036  2019-08-15      730     B\n",
       "2     2961555356  4069496402  2019-08-15      400     A\n",
       "3     3797467345  1196621759  2019-08-15     9759     B\n",
       "4     2282983706  2322279887  2019-08-15     2308     B"
      ]
     },
     "metadata": {},
     "output_type": "display_data"
    },
    {
     "name": "stdout",
     "output_type": "stream",
     "text": [
      "<class 'pandas.core.frame.DataFrame'>\n",
      "RangeIndex: 1197 entries, 0 to 1196\n",
      "Data columns (total 5 columns):\n",
      "transactionId    1197 non-null int64\n",
      "visitorId        1197 non-null int64\n",
      "date             1197 non-null object\n",
      "revenue          1197 non-null int64\n",
      "group            1197 non-null object\n",
      "dtypes: int64(3), object(2)\n",
      "memory usage: 46.9+ KB\n"
     ]
    }
   ],
   "source": [
    "display(orders.head())\n",
    "orders.info()"
   ]
  },
  {
   "cell_type": "code",
   "execution_count": 13,
   "metadata": {},
   "outputs": [
    {
     "data": {
      "text/html": [
       "<div>\n",
       "<style scoped>\n",
       "    .dataframe tbody tr th:only-of-type {\n",
       "        vertical-align: middle;\n",
       "    }\n",
       "\n",
       "    .dataframe tbody tr th {\n",
       "        vertical-align: top;\n",
       "    }\n",
       "\n",
       "    .dataframe thead th {\n",
       "        text-align: right;\n",
       "    }\n",
       "</style>\n",
       "<table border=\"1\" class=\"dataframe\">\n",
       "  <thead>\n",
       "    <tr style=\"text-align: right;\">\n",
       "      <th></th>\n",
       "      <th>date</th>\n",
       "      <th>group</th>\n",
       "      <th>visitors</th>\n",
       "    </tr>\n",
       "  </thead>\n",
       "  <tbody>\n",
       "    <tr>\n",
       "      <td>0</td>\n",
       "      <td>2019-08-01</td>\n",
       "      <td>A</td>\n",
       "      <td>719</td>\n",
       "    </tr>\n",
       "    <tr>\n",
       "      <td>1</td>\n",
       "      <td>2019-08-02</td>\n",
       "      <td>A</td>\n",
       "      <td>619</td>\n",
       "    </tr>\n",
       "    <tr>\n",
       "      <td>2</td>\n",
       "      <td>2019-08-03</td>\n",
       "      <td>A</td>\n",
       "      <td>507</td>\n",
       "    </tr>\n",
       "    <tr>\n",
       "      <td>3</td>\n",
       "      <td>2019-08-04</td>\n",
       "      <td>A</td>\n",
       "      <td>717</td>\n",
       "    </tr>\n",
       "    <tr>\n",
       "      <td>4</td>\n",
       "      <td>2019-08-05</td>\n",
       "      <td>A</td>\n",
       "      <td>756</td>\n",
       "    </tr>\n",
       "  </tbody>\n",
       "</table>\n",
       "</div>"
      ],
      "text/plain": [
       "         date group  visitors\n",
       "0  2019-08-01     A       719\n",
       "1  2019-08-02     A       619\n",
       "2  2019-08-03     A       507\n",
       "3  2019-08-04     A       717\n",
       "4  2019-08-05     A       756"
      ]
     },
     "metadata": {},
     "output_type": "display_data"
    },
    {
     "name": "stdout",
     "output_type": "stream",
     "text": [
      "<class 'pandas.core.frame.DataFrame'>\n",
      "RangeIndex: 62 entries, 0 to 61\n",
      "Data columns (total 3 columns):\n",
      "date        62 non-null object\n",
      "group       62 non-null object\n",
      "visitors    62 non-null int64\n",
      "dtypes: int64(1), object(2)\n",
      "memory usage: 1.6+ KB\n"
     ]
    }
   ],
   "source": [
    "display(visitors.head())\n",
    "visitors.info()"
   ]
  },
  {
   "cell_type": "markdown",
   "metadata": {},
   "source": [
    "В таблице с заказами мы имеем отдельные записи по каждому заказу с указанием *группы теста, номера транзакции, дня, выручки за заказ и пользователя*.  \n",
    "В таблице с пользователями: *количество пользователей* всего по дням.  \n",
    "\n",
    "Обнаруженные проблемы:\n",
    "- дата записана в виде строки\n",
    "- в таблице заказов формат заголовков не в питоновском стиле\n",
    "\n",
    "Исправлю эти проблемы:"
   ]
  },
  {
   "cell_type": "markdown",
   "metadata": {},
   "source": [
    "##### Исправление дат:"
   ]
  },
  {
   "cell_type": "code",
   "execution_count": 14,
   "metadata": {},
   "outputs": [
    {
     "data": {
      "text/html": [
       "<div>\n",
       "<style scoped>\n",
       "    .dataframe tbody tr th:only-of-type {\n",
       "        vertical-align: middle;\n",
       "    }\n",
       "\n",
       "    .dataframe tbody tr th {\n",
       "        vertical-align: top;\n",
       "    }\n",
       "\n",
       "    .dataframe thead th {\n",
       "        text-align: right;\n",
       "    }\n",
       "</style>\n",
       "<table border=\"1\" class=\"dataframe\">\n",
       "  <thead>\n",
       "    <tr style=\"text-align: right;\">\n",
       "      <th></th>\n",
       "      <th>transactionId</th>\n",
       "      <th>visitorId</th>\n",
       "      <th>date</th>\n",
       "      <th>revenue</th>\n",
       "      <th>group</th>\n",
       "    </tr>\n",
       "  </thead>\n",
       "  <tbody>\n",
       "    <tr>\n",
       "      <td>0</td>\n",
       "      <td>3667963787</td>\n",
       "      <td>3312258926</td>\n",
       "      <td>2019-08-15</td>\n",
       "      <td>1650</td>\n",
       "      <td>B</td>\n",
       "    </tr>\n",
       "    <tr>\n",
       "      <td>1</td>\n",
       "      <td>2804400009</td>\n",
       "      <td>3642806036</td>\n",
       "      <td>2019-08-15</td>\n",
       "      <td>730</td>\n",
       "      <td>B</td>\n",
       "    </tr>\n",
       "    <tr>\n",
       "      <td>2</td>\n",
       "      <td>2961555356</td>\n",
       "      <td>4069496402</td>\n",
       "      <td>2019-08-15</td>\n",
       "      <td>400</td>\n",
       "      <td>A</td>\n",
       "    </tr>\n",
       "    <tr>\n",
       "      <td>3</td>\n",
       "      <td>3797467345</td>\n",
       "      <td>1196621759</td>\n",
       "      <td>2019-08-15</td>\n",
       "      <td>9759</td>\n",
       "      <td>B</td>\n",
       "    </tr>\n",
       "    <tr>\n",
       "      <td>4</td>\n",
       "      <td>2282983706</td>\n",
       "      <td>2322279887</td>\n",
       "      <td>2019-08-15</td>\n",
       "      <td>2308</td>\n",
       "      <td>B</td>\n",
       "    </tr>\n",
       "  </tbody>\n",
       "</table>\n",
       "</div>"
      ],
      "text/plain": [
       "   transactionId   visitorId       date  revenue group\n",
       "0     3667963787  3312258926 2019-08-15     1650     B\n",
       "1     2804400009  3642806036 2019-08-15      730     B\n",
       "2     2961555356  4069496402 2019-08-15      400     A\n",
       "3     3797467345  1196621759 2019-08-15     9759     B\n",
       "4     2282983706  2322279887 2019-08-15     2308     B"
      ]
     },
     "metadata": {},
     "output_type": "display_data"
    },
    {
     "name": "stdout",
     "output_type": "stream",
     "text": [
      "<class 'pandas.core.frame.DataFrame'>\n",
      "RangeIndex: 1197 entries, 0 to 1196\n",
      "Data columns (total 5 columns):\n",
      "transactionId    1197 non-null int64\n",
      "visitorId        1197 non-null int64\n",
      "date             1197 non-null datetime64[ns]\n",
      "revenue          1197 non-null int64\n",
      "group            1197 non-null object\n",
      "dtypes: datetime64[ns](1), int64(3), object(1)\n",
      "memory usage: 46.9+ KB\n"
     ]
    }
   ],
   "source": [
    "orders.date = pd.to_datetime(orders.date)\n",
    "display(orders.head())\n",
    "orders.info()"
   ]
  },
  {
   "cell_type": "code",
   "execution_count": 15,
   "metadata": {},
   "outputs": [
    {
     "data": {
      "text/html": [
       "<div>\n",
       "<style scoped>\n",
       "    .dataframe tbody tr th:only-of-type {\n",
       "        vertical-align: middle;\n",
       "    }\n",
       "\n",
       "    .dataframe tbody tr th {\n",
       "        vertical-align: top;\n",
       "    }\n",
       "\n",
       "    .dataframe thead th {\n",
       "        text-align: right;\n",
       "    }\n",
       "</style>\n",
       "<table border=\"1\" class=\"dataframe\">\n",
       "  <thead>\n",
       "    <tr style=\"text-align: right;\">\n",
       "      <th></th>\n",
       "      <th>date</th>\n",
       "      <th>group</th>\n",
       "      <th>visitors</th>\n",
       "    </tr>\n",
       "  </thead>\n",
       "  <tbody>\n",
       "    <tr>\n",
       "      <td>0</td>\n",
       "      <td>2019-08-01</td>\n",
       "      <td>A</td>\n",
       "      <td>719</td>\n",
       "    </tr>\n",
       "    <tr>\n",
       "      <td>1</td>\n",
       "      <td>2019-08-02</td>\n",
       "      <td>A</td>\n",
       "      <td>619</td>\n",
       "    </tr>\n",
       "    <tr>\n",
       "      <td>2</td>\n",
       "      <td>2019-08-03</td>\n",
       "      <td>A</td>\n",
       "      <td>507</td>\n",
       "    </tr>\n",
       "    <tr>\n",
       "      <td>3</td>\n",
       "      <td>2019-08-04</td>\n",
       "      <td>A</td>\n",
       "      <td>717</td>\n",
       "    </tr>\n",
       "    <tr>\n",
       "      <td>4</td>\n",
       "      <td>2019-08-05</td>\n",
       "      <td>A</td>\n",
       "      <td>756</td>\n",
       "    </tr>\n",
       "  </tbody>\n",
       "</table>\n",
       "</div>"
      ],
      "text/plain": [
       "        date group  visitors\n",
       "0 2019-08-01     A       719\n",
       "1 2019-08-02     A       619\n",
       "2 2019-08-03     A       507\n",
       "3 2019-08-04     A       717\n",
       "4 2019-08-05     A       756"
      ]
     },
     "metadata": {},
     "output_type": "display_data"
    },
    {
     "name": "stdout",
     "output_type": "stream",
     "text": [
      "<class 'pandas.core.frame.DataFrame'>\n",
      "RangeIndex: 62 entries, 0 to 61\n",
      "Data columns (total 3 columns):\n",
      "date        62 non-null datetime64[ns]\n",
      "group       62 non-null object\n",
      "visitors    62 non-null int64\n",
      "dtypes: datetime64[ns](1), int64(1), object(1)\n",
      "memory usage: 1.6+ KB\n"
     ]
    }
   ],
   "source": [
    "visitors.date = pd.to_datetime(visitors.date)\n",
    "display(visitors.head())\n",
    "visitors.info()"
   ]
  },
  {
   "cell_type": "markdown",
   "metadata": {},
   "source": [
    "##### Подготовка данных\n",
    "Исправление названий столбцов:"
   ]
  },
  {
   "cell_type": "code",
   "execution_count": 16,
   "metadata": {},
   "outputs": [
    {
     "data": {
      "text/html": [
       "<div>\n",
       "<style scoped>\n",
       "    .dataframe tbody tr th:only-of-type {\n",
       "        vertical-align: middle;\n",
       "    }\n",
       "\n",
       "    .dataframe tbody tr th {\n",
       "        vertical-align: top;\n",
       "    }\n",
       "\n",
       "    .dataframe thead th {\n",
       "        text-align: right;\n",
       "    }\n",
       "</style>\n",
       "<table border=\"1\" class=\"dataframe\">\n",
       "  <thead>\n",
       "    <tr style=\"text-align: right;\">\n",
       "      <th></th>\n",
       "      <th>transaction_id</th>\n",
       "      <th>visitor_id</th>\n",
       "      <th>date</th>\n",
       "      <th>revenue</th>\n",
       "      <th>group</th>\n",
       "    </tr>\n",
       "  </thead>\n",
       "  <tbody>\n",
       "    <tr>\n",
       "      <td>0</td>\n",
       "      <td>3667963787</td>\n",
       "      <td>3312258926</td>\n",
       "      <td>2019-08-15</td>\n",
       "      <td>1650</td>\n",
       "      <td>B</td>\n",
       "    </tr>\n",
       "    <tr>\n",
       "      <td>1</td>\n",
       "      <td>2804400009</td>\n",
       "      <td>3642806036</td>\n",
       "      <td>2019-08-15</td>\n",
       "      <td>730</td>\n",
       "      <td>B</td>\n",
       "    </tr>\n",
       "    <tr>\n",
       "      <td>2</td>\n",
       "      <td>2961555356</td>\n",
       "      <td>4069496402</td>\n",
       "      <td>2019-08-15</td>\n",
       "      <td>400</td>\n",
       "      <td>A</td>\n",
       "    </tr>\n",
       "    <tr>\n",
       "      <td>3</td>\n",
       "      <td>3797467345</td>\n",
       "      <td>1196621759</td>\n",
       "      <td>2019-08-15</td>\n",
       "      <td>9759</td>\n",
       "      <td>B</td>\n",
       "    </tr>\n",
       "    <tr>\n",
       "      <td>4</td>\n",
       "      <td>2282983706</td>\n",
       "      <td>2322279887</td>\n",
       "      <td>2019-08-15</td>\n",
       "      <td>2308</td>\n",
       "      <td>B</td>\n",
       "    </tr>\n",
       "  </tbody>\n",
       "</table>\n",
       "</div>"
      ],
      "text/plain": [
       "   transaction_id  visitor_id       date  revenue group\n",
       "0      3667963787  3312258926 2019-08-15     1650     B\n",
       "1      2804400009  3642806036 2019-08-15      730     B\n",
       "2      2961555356  4069496402 2019-08-15      400     A\n",
       "3      3797467345  1196621759 2019-08-15     9759     B\n",
       "4      2282983706  2322279887 2019-08-15     2308     B"
      ]
     },
     "execution_count": 16,
     "metadata": {},
     "output_type": "execute_result"
    }
   ],
   "source": [
    "orders = orders.rename(columns={'transactionId': 'transaction_id', 'visitorId': 'visitor_id'})\n",
    "orders.head()"
   ]
  },
  {
   "cell_type": "markdown",
   "metadata": {},
   "source": [
    "Проверка уникальности значений в строках по заказам:"
   ]
  },
  {
   "cell_type": "code",
   "execution_count": 17,
   "metadata": {},
   "outputs": [
    {
     "data": {
      "text/plain": [
       "0"
      ]
     },
     "execution_count": 17,
     "metadata": {},
     "output_type": "execute_result"
    }
   ],
   "source": [
    "orders.duplicated(subset=['transaction_id']).sum()"
   ]
  },
  {
   "cell_type": "markdown",
   "metadata": {},
   "source": [
    "##### Проверка на пользователей, нарушающих условия тестирования:"
   ]
  },
  {
   "cell_type": "code",
   "execution_count": 18,
   "metadata": {},
   "outputs": [
    {
     "data": {
      "text/html": [
       "<div>\n",
       "<style scoped>\n",
       "    .dataframe tbody tr th:only-of-type {\n",
       "        vertical-align: middle;\n",
       "    }\n",
       "\n",
       "    .dataframe tbody tr th {\n",
       "        vertical-align: top;\n",
       "    }\n",
       "\n",
       "    .dataframe thead th {\n",
       "        text-align: right;\n",
       "    }\n",
       "</style>\n",
       "<table border=\"1\" class=\"dataframe\">\n",
       "  <thead>\n",
       "    <tr style=\"text-align: right;\">\n",
       "      <th></th>\n",
       "      <th>group</th>\n",
       "      <th>visitor_id</th>\n",
       "      <th>transactions</th>\n",
       "    </tr>\n",
       "  </thead>\n",
       "  <tbody>\n",
       "    <tr>\n",
       "      <td>0</td>\n",
       "      <td>A</td>\n",
       "      <td>8300375</td>\n",
       "      <td>1</td>\n",
       "    </tr>\n",
       "    <tr>\n",
       "      <td>1</td>\n",
       "      <td>A</td>\n",
       "      <td>11685486</td>\n",
       "      <td>1</td>\n",
       "    </tr>\n",
       "    <tr>\n",
       "      <td>2</td>\n",
       "      <td>A</td>\n",
       "      <td>54447517</td>\n",
       "      <td>1</td>\n",
       "    </tr>\n",
       "    <tr>\n",
       "      <td>3</td>\n",
       "      <td>A</td>\n",
       "      <td>66685450</td>\n",
       "      <td>1</td>\n",
       "    </tr>\n",
       "    <tr>\n",
       "      <td>4</td>\n",
       "      <td>A</td>\n",
       "      <td>78758296</td>\n",
       "      <td>1</td>\n",
       "    </tr>\n",
       "  </tbody>\n",
       "</table>\n",
       "</div>"
      ],
      "text/plain": [
       "  group  visitor_id  transactions\n",
       "0     A     8300375             1\n",
       "1     A    11685486             1\n",
       "2     A    54447517             1\n",
       "3     A    66685450             1\n",
       "4     A    78758296             1"
      ]
     },
     "metadata": {},
     "output_type": "display_data"
    },
    {
     "data": {
      "text/html": [
       "<div>\n",
       "<style scoped>\n",
       "    .dataframe tbody tr th:only-of-type {\n",
       "        vertical-align: middle;\n",
       "    }\n",
       "\n",
       "    .dataframe tbody tr th {\n",
       "        vertical-align: top;\n",
       "    }\n",
       "\n",
       "    .dataframe thead th {\n",
       "        text-align: right;\n",
       "    }\n",
       "</style>\n",
       "<table border=\"1\" class=\"dataframe\">\n",
       "  <thead>\n",
       "    <tr style=\"text-align: right;\">\n",
       "      <th></th>\n",
       "      <th>group</th>\n",
       "      <th>visitor_id</th>\n",
       "      <th>transactions</th>\n",
       "    </tr>\n",
       "  </thead>\n",
       "  <tbody>\n",
       "    <tr>\n",
       "      <td>1084</td>\n",
       "      <td>B</td>\n",
       "      <td>4258103007</td>\n",
       "      <td>1</td>\n",
       "    </tr>\n",
       "    <tr>\n",
       "      <td>1085</td>\n",
       "      <td>B</td>\n",
       "      <td>4266935830</td>\n",
       "      <td>1</td>\n",
       "    </tr>\n",
       "    <tr>\n",
       "      <td>1086</td>\n",
       "      <td>B</td>\n",
       "      <td>4279090005</td>\n",
       "      <td>1</td>\n",
       "    </tr>\n",
       "    <tr>\n",
       "      <td>1087</td>\n",
       "      <td>B</td>\n",
       "      <td>4281247801</td>\n",
       "      <td>1</td>\n",
       "    </tr>\n",
       "    <tr>\n",
       "      <td>1088</td>\n",
       "      <td>B</td>\n",
       "      <td>4283872382</td>\n",
       "      <td>1</td>\n",
       "    </tr>\n",
       "  </tbody>\n",
       "</table>\n",
       "</div>"
      ],
      "text/plain": [
       "     group  visitor_id  transactions\n",
       "1084     B  4258103007             1\n",
       "1085     B  4266935830             1\n",
       "1086     B  4279090005             1\n",
       "1087     B  4281247801             1\n",
       "1088     B  4283872382             1"
      ]
     },
     "metadata": {},
     "output_type": "display_data"
    }
   ],
   "source": [
    "tt_visitors = (orders\n",
    "              .groupby(['group', 'visitor_id'], as_index=False)\n",
    "              .agg({'transaction_id': 'nunique'})\n",
    "              .rename(columns={'transaction_id': 'transactions'}))\n",
    "display(tt_visitors.head())\n",
    "display(tt_visitors.tail())"
   ]
  },
  {
   "cell_type": "code",
   "execution_count": 19,
   "metadata": {},
   "outputs": [
    {
     "data": {
      "text/html": [
       "<div>\n",
       "<style scoped>\n",
       "    .dataframe tbody tr th:only-of-type {\n",
       "        vertical-align: middle;\n",
       "    }\n",
       "\n",
       "    .dataframe tbody tr th {\n",
       "        vertical-align: top;\n",
       "    }\n",
       "\n",
       "    .dataframe thead th {\n",
       "        text-align: right;\n",
       "    }\n",
       "</style>\n",
       "<table border=\"1\" class=\"dataframe\">\n",
       "  <thead>\n",
       "    <tr style=\"text-align: right;\">\n",
       "      <th></th>\n",
       "      <th>visitor_id</th>\n",
       "      <th>transactions_A</th>\n",
       "      <th>transactions_B</th>\n",
       "    </tr>\n",
       "  </thead>\n",
       "  <tbody>\n",
       "    <tr>\n",
       "      <td>0</td>\n",
       "      <td>8300375</td>\n",
       "      <td>1</td>\n",
       "      <td>1</td>\n",
       "    </tr>\n",
       "    <tr>\n",
       "      <td>1</td>\n",
       "      <td>199603092</td>\n",
       "      <td>4</td>\n",
       "      <td>1</td>\n",
       "    </tr>\n",
       "    <tr>\n",
       "      <td>2</td>\n",
       "      <td>232979603</td>\n",
       "      <td>1</td>\n",
       "      <td>1</td>\n",
       "    </tr>\n",
       "    <tr>\n",
       "      <td>3</td>\n",
       "      <td>237748145</td>\n",
       "      <td>4</td>\n",
       "      <td>1</td>\n",
       "    </tr>\n",
       "    <tr>\n",
       "      <td>4</td>\n",
       "      <td>276558944</td>\n",
       "      <td>1</td>\n",
       "      <td>1</td>\n",
       "    </tr>\n",
       "  </tbody>\n",
       "</table>\n",
       "</div>"
      ],
      "text/plain": [
       "   visitor_id  transactions_A  transactions_B\n",
       "0     8300375               1               1\n",
       "1   199603092               4               1\n",
       "2   232979603               1               1\n",
       "3   237748145               4               1\n",
       "4   276558944               1               1"
      ]
     },
     "metadata": {},
     "output_type": "display_data"
    },
    {
     "name": "stdout",
     "output_type": "stream",
     "text": [
      "Пользователей, нарушающих чистоту А/В тестирования: 58\n"
     ]
    }
   ],
   "source": [
    "tt_visitors_A = tt_visitors[tt_visitors.group == 'A'][['visitor_id', 'transactions']]\n",
    "tt_visitors_B = tt_visitors[tt_visitors.group == 'B'][['visitor_id', 'transactions']]\n",
    "visitors_crossing = tt_visitors_A.merge(tt_visitors_B, on='visitor_id', how='inner',\n",
    "                                        suffixes=('_A', '_B'))\n",
    "display(visitors_crossing.head())\n",
    "print('Пользователей, нарушающих чистоту А/В тестирования:', visitors_crossing.shape[0])"
   ]
  },
  {
   "cell_type": "code",
   "execution_count": 20,
   "metadata": {},
   "outputs": [
    {
     "data": {
      "text/html": [
       "<div>\n",
       "<style scoped>\n",
       "    .dataframe tbody tr th:only-of-type {\n",
       "        vertical-align: middle;\n",
       "    }\n",
       "\n",
       "    .dataframe tbody tr th {\n",
       "        vertical-align: top;\n",
       "    }\n",
       "\n",
       "    .dataframe thead th {\n",
       "        text-align: right;\n",
       "    }\n",
       "</style>\n",
       "<table border=\"1\" class=\"dataframe\">\n",
       "  <thead>\n",
       "    <tr style=\"text-align: right;\">\n",
       "      <th></th>\n",
       "      <th>visitor_id</th>\n",
       "      <th>transactions_A</th>\n",
       "      <th>transactions_B</th>\n",
       "      <th>percent_A</th>\n",
       "    </tr>\n",
       "  </thead>\n",
       "  <tbody>\n",
       "    <tr>\n",
       "      <td>count</td>\n",
       "      <td>5.800000e+01</td>\n",
       "      <td>58.000000</td>\n",
       "      <td>58.000000</td>\n",
       "      <td>58.000000</td>\n",
       "    </tr>\n",
       "    <tr>\n",
       "      <td>mean</td>\n",
       "      <td>2.337492e+09</td>\n",
       "      <td>1.534483</td>\n",
       "      <td>1.586207</td>\n",
       "      <td>48.925897</td>\n",
       "    </tr>\n",
       "    <tr>\n",
       "      <td>std</td>\n",
       "      <td>1.330057e+09</td>\n",
       "      <td>1.259567</td>\n",
       "      <td>1.155224</td>\n",
       "      <td>12.963910</td>\n",
       "    </tr>\n",
       "    <tr>\n",
       "      <td>min</td>\n",
       "      <td>8.300375e+06</td>\n",
       "      <td>1.000000</td>\n",
       "      <td>1.000000</td>\n",
       "      <td>20.000000</td>\n",
       "    </tr>\n",
       "    <tr>\n",
       "      <td>25%</td>\n",
       "      <td>1.320569e+09</td>\n",
       "      <td>1.000000</td>\n",
       "      <td>1.000000</td>\n",
       "      <td>50.000000</td>\n",
       "    </tr>\n",
       "    <tr>\n",
       "      <td>50%</td>\n",
       "      <td>2.583608e+09</td>\n",
       "      <td>1.000000</td>\n",
       "      <td>1.000000</td>\n",
       "      <td>50.000000</td>\n",
       "    </tr>\n",
       "    <tr>\n",
       "      <td>75%</td>\n",
       "      <td>3.702373e+09</td>\n",
       "      <td>1.000000</td>\n",
       "      <td>2.000000</td>\n",
       "      <td>50.000000</td>\n",
       "    </tr>\n",
       "    <tr>\n",
       "      <td>max</td>\n",
       "      <td>4.266936e+09</td>\n",
       "      <td>7.000000</td>\n",
       "      <td>6.000000</td>\n",
       "      <td>80.000000</td>\n",
       "    </tr>\n",
       "  </tbody>\n",
       "</table>\n",
       "</div>"
      ],
      "text/plain": [
       "         visitor_id  transactions_A  transactions_B  percent_A\n",
       "count  5.800000e+01       58.000000       58.000000  58.000000\n",
       "mean   2.337492e+09        1.534483        1.586207  48.925897\n",
       "std    1.330057e+09        1.259567        1.155224  12.963910\n",
       "min    8.300375e+06        1.000000        1.000000  20.000000\n",
       "25%    1.320569e+09        1.000000        1.000000  50.000000\n",
       "50%    2.583608e+09        1.000000        1.000000  50.000000\n",
       "75%    3.702373e+09        1.000000        2.000000  50.000000\n",
       "max    4.266936e+09        7.000000        6.000000  80.000000"
      ]
     },
     "execution_count": 20,
     "metadata": {},
     "output_type": "execute_result"
    }
   ],
   "source": [
    "visitors_crossing['percent_A'] = visitors_crossing.transactions_A /\\\n",
    "(visitors_crossing.transactions_A + visitors_crossing.transactions_B) * 100\n",
    "visitors_crossing.describe()"
   ]
  },
  {
   "cell_type": "code",
   "execution_count": 21,
   "metadata": {},
   "outputs": [
    {
     "name": "stdout",
     "output_type": "stream",
     "text": [
      "Процент аномальных пользователей: 5.6\n"
     ]
    }
   ],
   "source": [
    "print('Процент аномальных пользователей: {:.1f}'.format(\n",
    "    visitors_crossing.shape[0] / orders.visitor_id.nunique() * 100)\n",
    "     )"
   ]
  },
  {
   "cell_type": "markdown",
   "metadata": {},
   "source": [
    "Чуть менее 6% пользователей нарушили условия эксперимента, придется их удалить, т.к. они вносят шум в результаты."
   ]
  },
  {
   "cell_type": "code",
   "execution_count": 22,
   "metadata": {},
   "outputs": [],
   "source": [
    "visitors_AB_wrong = visitors_crossing.visitor_id.tolist()"
   ]
  },
  {
   "cell_type": "code",
   "execution_count": 23,
   "metadata": {},
   "outputs": [
    {
     "name": "stdout",
     "output_type": "stream",
     "text": [
      "Заказов всего: 1197\n",
      "Корректных заказов: 1016\n"
     ]
    }
   ],
   "source": [
    "print('Заказов всего:', orders.transaction_id.nunique())\n",
    "orders = orders[np.logical_not(orders.visitor_id.isin(visitors_AB_wrong))]\n",
    "print('Корректных заказов:', orders.transaction_id.nunique())"
   ]
  },
  {
   "cell_type": "markdown",
   "metadata": {},
   "source": [
    "#### Анализ данных:"
   ]
  },
  {
   "cell_type": "markdown",
   "metadata": {},
   "source": [
    "##### Таблица пользователей:"
   ]
  },
  {
   "cell_type": "code",
   "execution_count": 24,
   "metadata": {},
   "outputs": [
    {
     "data": {
      "text/plain": [
       "count                      62\n",
       "unique                     31\n",
       "top       2019-08-02 00:00:00\n",
       "freq                        2\n",
       "first     2019-08-01 00:00:00\n",
       "last      2019-08-31 00:00:00\n",
       "Name: date, dtype: object"
      ]
     },
     "execution_count": 24,
     "metadata": {},
     "output_type": "execute_result"
    }
   ],
   "source": [
    "# даты\n",
    "visitors.date.describe()"
   ]
  },
  {
   "cell_type": "code",
   "execution_count": 25,
   "metadata": {},
   "outputs": [],
   "source": [
    "def plot_AB(A, B, ycol, title='', ylabel='', ls='-', ymin=None, ymax=None):\n",
    "    \"\"\"Отобразить график распределения для А/В теста\n",
    "    ycol - колонка, для оси у\n",
    "    \"\"\"\n",
    "    _, ax = plt.subplots(figsize=(10,7))\n",
    "    plt.plot(A.date, A[ycol], ls, label='A')\n",
    "    plt.plot(B.date, B[ycol], ls, label='B')\n",
    "    plt.title(title)\n",
    "    plt.xticks(rotation=45)\n",
    "    plt.ylabel(ylabel)\n",
    "    plt.xlabel('Дата')\n",
    "    if np.logical_and(pd.notna(ymin), pd.notna(ymax)):\n",
    "        plt.ylim((ymin, ymax))\n",
    "    plt.grid()\n",
    "    plt.legend()\n",
    "    plt.show()"
   ]
  },
  {
   "cell_type": "code",
   "execution_count": 26,
   "metadata": {},
   "outputs": [
    {
     "name": "stderr",
     "output_type": "stream",
     "text": [
      "/opt/conda/lib/python3.7/site-packages/pandas/plotting/_matplotlib/converter.py:103: FutureWarning: Using an implicitly registered datetime converter for a matplotlib plotting method. The converter was registered by pandas on import. Future versions of pandas will require you to explicitly register matplotlib converters.\n",
      "\n",
      "To register the converters:\n",
      "\t>>> from pandas.plotting import register_matplotlib_converters\n",
      "\t>>> register_matplotlib_converters()\n",
      "  warnings.warn(msg, FutureWarning)\n"
     ]
    },
    {
     "data": {
      "image/png": "[encoded data removed]",
      "text/plain": [
       "<Figure size 720x504 with 1 Axes>"
      ]
     },
     "metadata": {
      "needs_background": "light"
     },
     "output_type": "display_data"
    }
   ],
   "source": [
    "visitors_A = visitors[visitors.group == 'A']\n",
    "visitors_B = visitors[visitors.group == 'B']\n",
    "plot_AB(visitors_A, visitors_B, 'visitors', title='Количество пользователей в группах по дням',\n",
    "        ylabel='Количество пользователей', ls='-o')"
   ]
  },
  {
   "cell_type": "markdown",
   "metadata": {},
   "source": [
    "На графике видны недельные колебания количества пользователей в обеих группах."
   ]
  },
  {
   "cell_type": "code",
   "execution_count": 27,
   "metadata": {},
   "outputs": [
    {
     "data": {
      "text/plain": [
       "A    31\n",
       "B    31\n",
       "Name: group, dtype: int64"
      ]
     },
     "execution_count": 27,
     "metadata": {},
     "output_type": "execute_result"
    }
   ],
   "source": [
    "visitors.group.value_counts()"
   ]
  },
  {
   "cell_type": "markdown",
   "metadata": {},
   "source": [
    "##### Таблица с заказами:"
   ]
  },
  {
   "cell_type": "code",
   "execution_count": 28,
   "metadata": {},
   "outputs": [],
   "source": [
    "orders_stat = (orders.groupby(['group', 'date']).agg({'transaction_id' :'nunique',\n",
    "                                                      'visitor_id': 'nunique',\n",
    "                                                      'revenue': 'sum'})\n",
    "                .rename(columns={'transaction_id': 'orders',\n",
    "                                 'visitor_id': 'visitors'})\n",
    "                .reset_index())"
   ]
  },
  {
   "cell_type": "code",
   "execution_count": 29,
   "metadata": {},
   "outputs": [
    {
     "data": {
      "text/html": [
       "<div>\n",
       "<style scoped>\n",
       "    .dataframe tbody tr th:only-of-type {\n",
       "        vertical-align: middle;\n",
       "    }\n",
       "\n",
       "    .dataframe tbody tr th {\n",
       "        vertical-align: top;\n",
       "    }\n",
       "\n",
       "    .dataframe thead th {\n",
       "        text-align: right;\n",
       "    }\n",
       "</style>\n",
       "<table border=\"1\" class=\"dataframe\">\n",
       "  <thead>\n",
       "    <tr style=\"text-align: right;\">\n",
       "      <th></th>\n",
       "      <th>group</th>\n",
       "      <th>date</th>\n",
       "      <th>orders</th>\n",
       "      <th>visitors</th>\n",
       "      <th>revenue</th>\n",
       "    </tr>\n",
       "  </thead>\n",
       "  <tbody>\n",
       "    <tr>\n",
       "      <td>0</td>\n",
       "      <td>A</td>\n",
       "      <td>2019-08-01</td>\n",
       "      <td>23</td>\n",
       "      <td>19</td>\n",
       "      <td>142779</td>\n",
       "    </tr>\n",
       "    <tr>\n",
       "      <td>1</td>\n",
       "      <td>A</td>\n",
       "      <td>2019-08-02</td>\n",
       "      <td>19</td>\n",
       "      <td>18</td>\n",
       "      <td>91602</td>\n",
       "    </tr>\n",
       "    <tr>\n",
       "      <td>2</td>\n",
       "      <td>A</td>\n",
       "      <td>2019-08-03</td>\n",
       "      <td>24</td>\n",
       "      <td>24</td>\n",
       "      <td>112473</td>\n",
       "    </tr>\n",
       "    <tr>\n",
       "      <td>3</td>\n",
       "      <td>A</td>\n",
       "      <td>2019-08-04</td>\n",
       "      <td>11</td>\n",
       "      <td>11</td>\n",
       "      <td>41176</td>\n",
       "    </tr>\n",
       "    <tr>\n",
       "      <td>4</td>\n",
       "      <td>A</td>\n",
       "      <td>2019-08-05</td>\n",
       "      <td>22</td>\n",
       "      <td>22</td>\n",
       "      <td>86383</td>\n",
       "    </tr>\n",
       "  </tbody>\n",
       "</table>\n",
       "</div>"
      ],
      "text/plain": [
       "  group       date  orders  visitors  revenue\n",
       "0     A 2019-08-01      23        19   142779\n",
       "1     A 2019-08-02      19        18    91602\n",
       "2     A 2019-08-03      24        24   112473\n",
       "3     A 2019-08-04      11        11    41176\n",
       "4     A 2019-08-05      22        22    86383"
      ]
     },
     "execution_count": 29,
     "metadata": {},
     "output_type": "execute_result"
    }
   ],
   "source": [
    "orders_stat.head()"
   ]
  },
  {
   "cell_type": "code",
   "execution_count": 30,
   "metadata": {},
   "outputs": [],
   "source": [
    "orders_stat_A = orders_stat[orders_stat.group == 'A']\n",
    "orders_stat_B = orders_stat[orders_stat.group == 'B']"
   ]
  },
  {
   "cell_type": "code",
   "execution_count": 31,
   "metadata": {},
   "outputs": [
    {
     "name": "stdout",
     "output_type": "stream",
     "text": [
      "Распределение по дням для orders\n"
     ]
    },
    {
     "data": {
      "image/png": "[encoded data removed]",
      "text/plain": [
       "<Figure size 720x504 with 1 Axes>"
      ]
     },
     "metadata": {
      "needs_background": "light"
     },
     "output_type": "display_data"
    },
    {
     "name": "stdout",
     "output_type": "stream",
     "text": [
      "Распределение по дням для visitors\n"
     ]
    },
    {
     "data": {
      "image/png": "[encoded data removed]",
      "text/plain": [
       "<Figure size 720x504 with 1 Axes>"
      ]
     },
     "metadata": {
      "needs_background": "light"
     },
     "output_type": "display_data"
    },
    {
     "name": "stdout",
     "output_type": "stream",
     "text": [
      "Распределение по дням для revenue\n"
     ]
    },
    {
     "data": {
      "image/png": "[encoded data removed]",
      "text/plain": [
       "<Figure size 720x504 with 1 Axes>"
      ]
     },
     "metadata": {
      "needs_background": "light"
     },
     "output_type": "display_data"
    }
   ],
   "source": [
    "ylim_dict={'orders': {'min': 0, 'max': 70},\n",
    "          'visitors': {'min': 0, 'max': 70}}\n",
    "for col in ['orders', 'visitors', 'revenue']:\n",
    "#     установка границ для графиков\n",
    "    try:\n",
    "        ymin = ylim_dict[col]['min']\n",
    "        ymax = ylim_dict[col]['max']\n",
    "    except:\n",
    "        ymin = None\n",
    "        ymax = None\n",
    "    print('Распределение по дням для', col)\n",
    "    plot_AB(orders_stat_A, orders_stat_B, ycol=col, ymin=ymin, ymax=ymax)"
   ]
  },
  {
   "cell_type": "markdown",
   "metadata": {},
   "source": [
    "Вывод: мне для анализа предоставлены 2 группы пользователей и данные об их посещениях по дням и покупках. Интервал дат для анализа - весь август 2019. Предварительный анализ данных позволил выявить выбросы в виде крупных покупок, необходимо их отфильтровать, прежде чем сравнивать группы."
   ]
  },
  {
   "cell_type": "markdown",
   "metadata": {},
   "source": [
    "Подготовка данных"
   ]
  },
  {
   "cell_type": "code",
   "execution_count": 32,
   "metadata": {},
   "outputs": [],
   "source": [
    "def get_data(visitors, orders):\n",
    "# агрегация обычных и кумулятивных данных\n",
    "    visitors_a_daily = visitors[visitors['group']=='A'][['date', 'visitors']]\n",
    "    visitors_a_daily.columns = ['date', 'visitors_per_date_a']\n",
    "\n",
    "    visitors_a_cumulative = visitors_a_daily.apply(lambda x: visitors_a_daily[visitors_a_daily['date'] <= x['date']].agg({'date' : 'max', 'visitors_per_date_a' : 'sum'}), axis=1)\n",
    "    visitors_a_cumulative.columns = ['date', 'visitors_cumulative_a']\n",
    "\n",
    "    visitors_b_daily = visitors[visitors['group']=='B'][['date', 'visitors']]\n",
    "    visitors_b_daily.columns = ['date', 'visitors_per_date_b']\n",
    "\n",
    "    visitors_b_cumulative = visitors_b_daily.apply(lambda x: visitors_b_daily[visitors_b_daily['date'] <= x['date']].agg({'date' : 'max', 'visitors_per_date_b' : 'sum'}), axis=1)\n",
    "    visitors_b_cumulative.columns = ['date', 'visitors_cumulative_b']\n",
    "\n",
    "    orders_a_daily = orders[orders['group']=='A'][['date', 'transaction_id', 'visitor_id', 'revenue']]\\\n",
    "        .groupby('date', as_index=False)\\\n",
    "        .agg({'transaction_id' : pd.Series.nunique, 'revenue' : 'sum'})\n",
    "    orders_a_daily.columns = ['date', 'orders_per_date_a', 'revenue_per_date_a']\n",
    "\n",
    "    orders_a_cumulative = orders_a_daily.apply(\n",
    "        lambda x: \\\n",
    "            orders_a_daily[orders_a_daily['date'] <= x['date']]\\\n",
    "                .agg({\n",
    "                    'date' : 'max',\n",
    "                    'orders_per_date_a' : 'sum',\n",
    "                    'revenue_per_date_a' : 'sum'}), axis=1).sort_values(by=['date'])\n",
    "    orders_a_cumulative.columns = ['date', 'orders_cumulative_a', 'revenue_cumulative_a']\n",
    "\n",
    "    orders_b_daily = orders[orders['group']=='B'][['date', 'transaction_id', 'visitor_id', 'revenue']]\\\n",
    "        .groupby('date', as_index=False)\\\n",
    "        .agg({'transaction_id' : pd.Series.nunique, 'revenue' : 'sum'})\n",
    "    orders_b_daily.columns = ['date', 'orders_per_date_b', 'revenue_per_date_b']\n",
    "\n",
    "    orders_b_cumulative = orders_b_daily.apply(\n",
    "        lambda x: \\\n",
    "            orders_b_daily[orders_b_daily['date'] <= x['date']]\\\n",
    "                .agg({\n",
    "                    'date' : 'max',\n",
    "                    'orders_per_date_b' : 'sum',\n",
    "                    'revenue_per_date_b' : 'sum'}), axis=1).sort_values(by=['date'])\n",
    "    orders_b_cumulative.columns = ['date', 'orders_cumulative_b', 'revenue_cumulative_b']\n",
    "\n",
    "    data = orders_a_daily.merge(orders_b_daily, left_on='date', right_on='date', how='left')\\\n",
    "        .merge(orders_a_cumulative, left_on='date', right_on='date', how='left')\\\n",
    "        .merge(orders_b_cumulative, left_on='date', right_on='date', how='left')\\\n",
    "        .merge(visitors_a_daily, left_on='date', right_on='date', how='left')\\\n",
    "        .merge(visitors_b_daily, left_on='date', right_on='date', how='left')\\\n",
    "        .merge(visitors_a_cumulative, left_on='date', right_on='date', how='left')\\\n",
    "        .merge(visitors_b_cumulative, left_on='date', right_on='date', how='left')\n",
    "    data.head()\n",
    "    return data"
   ]
  },
  {
   "cell_type": "code",
   "execution_count": 33,
   "metadata": {},
   "outputs": [],
   "source": [
    "data = get_data(visitors, orders)"
   ]
  },
  {
   "cell_type": "markdown",
   "metadata": {},
   "source": [
    "## Задача\n",
    "Проанализируйте A/B-тест:\n",
    "- [Постройте график кумулятивной выручки по группам. Сделайте выводы и предположения.](#шаг2.1)\n",
    "- [Постройте график кумулятивного среднего чека по группам. Сделайте выводы и предположения.](#шаг2.2)\n",
    "- [Постройте график относительного изменения кумулятивного среднего чека группы B к группе A. Сделайте выводы и предположения.](#шаг2.3)\n",
    "- [Постройте график кумулятивной конверсии по группам. Сделайте выводы и предположения.](#шаг2.4)\n",
    "- [Постройте график относительного изменения кумулятивной конверсии группы B к группе A. Сделайте выводы и предположения.](#шаг2.5)\n",
    "- [Постройте точечный график количества заказов по пользователям. Сделайте выводы и предположения.](#шаг2.6)\n",
    "- [Посчитайте 95-й и 99-й перцентили количества заказов на пользователя. Выберите границу для определения аномальных пользователей.](#шаг2.7)\n",
    "- [Постройте точечный график стоимостей заказов. Сделайте выводы и предположения.](#шаг2.8)\n",
    "- [Посчитайте 95-й и 99-й перцентили стоимости заказов. Выберите границу для определения аномальных заказов.](#шаг2.9)\n",
    "- [Посчитайте статистическую значимость различий в конверсии между группами по «сырым» данным. Сделайте выводы и предположения.](#шаг2.10)\n",
    "- [Посчитайте статистическую значимость различий в среднем чеке заказа между группами по «сырым» данным. Сделайте выводы и предположения.](#шаг2.11)\n",
    "- [Посчитайте статистическую значимость различий в конверсии между группами по «очищенным» данным. Сделайте выводы и предположения.](#шаг2.12)\n",
    "- [Посчитайте статистическую значимость различий в среднем чеке заказа между группами по «очищенным» данным. Сделайте выводы и предположения.](#шаг2.13)\n",
    "- [Примите решение по результатам теста и объясните его.](#шаг2.14)"
   ]
  },
  {
   "cell_type": "markdown",
   "metadata": {},
   "source": [
    "#### <a id='шаг2.1'></a> Постройте график кумулятивной выручки по группам. Сделайте выводы и предположения."
   ]
  },
  {
   "cell_type": "code",
   "execution_count": 34,
   "metadata": {},
   "outputs": [],
   "source": [
    "def get_cumulative_data_AB(data):\n",
    "    cumulative_A = data[['date', \n",
    "                         'revenue_cumulative_a',\n",
    "                         'orders_cumulative_a',\n",
    "                        'visitors_cumulative_a']].rename(columns={'revenue_cumulative_a': 'revenue_cumulative',\n",
    "                                                                  'orders_cumulative_a': 'orders_cumulative',\n",
    "                                                                 'visitors_cumulative_a': 'visitors_cumulative'})\n",
    "    cumulative_B = data[['date', \n",
    "                         'revenue_cumulative_b',\n",
    "                         'orders_cumulative_b',\n",
    "                         'visitors_cumulative_b'\n",
    "                        ]].rename(columns={'revenue_cumulative_b': 'revenue_cumulative',\n",
    "                                           'orders_cumulative_b': 'orders_cumulative',\n",
    "                                          'visitors_cumulative_b': 'visitors_cumulative'})\n",
    "    cumulative_A['mean_check_cumulative'] = cumulative_A.revenue_cumulative / cumulative_A.orders_cumulative\n",
    "    cumulative_B['mean_check_cumulative'] = cumulative_B.revenue_cumulative / cumulative_B.orders_cumulative\n",
    "    cumulative_A['conversion_cumulative'] = cumulative_A.orders_cumulative / cumulative_A.visitors_cumulative\n",
    "    cumulative_B['conversion_cumulative'] = cumulative_B.orders_cumulative / cumulative_B.visitors_cumulative\n",
    "    print('Первые строки таблицы накопительных данных группы А')\n",
    "    display(cumulative_A.head())\n",
    "    print('Первые строки таблицы накопительных данных группы В')\n",
    "    display(cumulative_B.head())\n",
    "    return cumulative_A, cumulative_B"
   ]
  },
  {
   "cell_type": "code",
   "execution_count": 35,
   "metadata": {},
   "outputs": [
    {
     "name": "stdout",
     "output_type": "stream",
     "text": [
      "Первые строки таблицы накопительных данных группы А\n"
     ]
    },
    {
     "data": {
      "text/html": [
       "<div>\n",
       "<style scoped>\n",
       "    .dataframe tbody tr th:only-of-type {\n",
       "        vertical-align: middle;\n",
       "    }\n",
       "\n",
       "    .dataframe tbody tr th {\n",
       "        vertical-align: top;\n",
       "    }\n",
       "\n",
       "    .dataframe thead th {\n",
       "        text-align: right;\n",
       "    }\n",
       "</style>\n",
       "<table border=\"1\" class=\"dataframe\">\n",
       "  <thead>\n",
       "    <tr style=\"text-align: right;\">\n",
       "      <th></th>\n",
       "      <th>date</th>\n",
       "      <th>revenue_cumulative</th>\n",
       "      <th>orders_cumulative</th>\n",
       "      <th>visitors_cumulative</th>\n",
       "      <th>mean_check_cumulative</th>\n",
       "      <th>conversion_cumulative</th>\n",
       "    </tr>\n",
       "  </thead>\n",
       "  <tbody>\n",
       "    <tr>\n",
       "      <td>0</td>\n",
       "      <td>2019-08-01</td>\n",
       "      <td>142779</td>\n",
       "      <td>23</td>\n",
       "      <td>719</td>\n",
       "      <td>6207.782609</td>\n",
       "      <td>0.031989</td>\n",
       "    </tr>\n",
       "    <tr>\n",
       "      <td>1</td>\n",
       "      <td>2019-08-02</td>\n",
       "      <td>234381</td>\n",
       "      <td>42</td>\n",
       "      <td>1338</td>\n",
       "      <td>5580.500000</td>\n",
       "      <td>0.031390</td>\n",
       "    </tr>\n",
       "    <tr>\n",
       "      <td>2</td>\n",
       "      <td>2019-08-03</td>\n",
       "      <td>346854</td>\n",
       "      <td>66</td>\n",
       "      <td>1845</td>\n",
       "      <td>5255.363636</td>\n",
       "      <td>0.035772</td>\n",
       "    </tr>\n",
       "    <tr>\n",
       "      <td>3</td>\n",
       "      <td>2019-08-04</td>\n",
       "      <td>388030</td>\n",
       "      <td>77</td>\n",
       "      <td>2562</td>\n",
       "      <td>5039.350649</td>\n",
       "      <td>0.030055</td>\n",
       "    </tr>\n",
       "    <tr>\n",
       "      <td>4</td>\n",
       "      <td>2019-08-05</td>\n",
       "      <td>474413</td>\n",
       "      <td>99</td>\n",
       "      <td>3318</td>\n",
       "      <td>4792.050505</td>\n",
       "      <td>0.029837</td>\n",
       "    </tr>\n",
       "  </tbody>\n",
       "</table>\n",
       "</div>"
      ],
      "text/plain": [
       "        date  revenue_cumulative  orders_cumulative  visitors_cumulative  \\\n",
       "0 2019-08-01              142779                 23                  719   \n",
       "1 2019-08-02              234381                 42                 1338   \n",
       "2 2019-08-03              346854                 66                 1845   \n",
       "3 2019-08-04              388030                 77                 2562   \n",
       "4 2019-08-05              474413                 99                 3318   \n",
       "\n",
       "   mean_check_cumulative  conversion_cumulative  \n",
       "0            6207.782609               0.031989  \n",
       "1            5580.500000               0.031390  \n",
       "2            5255.363636               0.035772  \n",
       "3            5039.350649               0.030055  \n",
       "4            4792.050505               0.029837  "
      ]
     },
     "metadata": {},
     "output_type": "display_data"
    },
    {
     "name": "stdout",
     "output_type": "stream",
     "text": [
      "Первые строки таблицы накопительных данных группы В\n"
     ]
    },
    {
     "data": {
      "text/html": [
       "<div>\n",
       "<style scoped>\n",
       "    .dataframe tbody tr th:only-of-type {\n",
       "        vertical-align: middle;\n",
       "    }\n",
       "\n",
       "    .dataframe tbody tr th {\n",
       "        vertical-align: top;\n",
       "    }\n",
       "\n",
       "    .dataframe thead th {\n",
       "        text-align: right;\n",
       "    }\n",
       "</style>\n",
       "<table border=\"1\" class=\"dataframe\">\n",
       "  <thead>\n",
       "    <tr style=\"text-align: right;\">\n",
       "      <th></th>\n",
       "      <th>date</th>\n",
       "      <th>revenue_cumulative</th>\n",
       "      <th>orders_cumulative</th>\n",
       "      <th>visitors_cumulative</th>\n",
       "      <th>mean_check_cumulative</th>\n",
       "      <th>conversion_cumulative</th>\n",
       "    </tr>\n",
       "  </thead>\n",
       "  <tbody>\n",
       "    <tr>\n",
       "      <td>0</td>\n",
       "      <td>2019-08-01</td>\n",
       "      <td>59758</td>\n",
       "      <td>17</td>\n",
       "      <td>713</td>\n",
       "      <td>3515.176471</td>\n",
       "      <td>0.023843</td>\n",
       "    </tr>\n",
       "    <tr>\n",
       "      <td>1</td>\n",
       "      <td>2019-08-02</td>\n",
       "      <td>221801</td>\n",
       "      <td>40</td>\n",
       "      <td>1294</td>\n",
       "      <td>5545.025000</td>\n",
       "      <td>0.030912</td>\n",
       "    </tr>\n",
       "    <tr>\n",
       "      <td>2</td>\n",
       "      <td>2019-08-03</td>\n",
       "      <td>288850</td>\n",
       "      <td>54</td>\n",
       "      <td>1803</td>\n",
       "      <td>5349.074074</td>\n",
       "      <td>0.029950</td>\n",
       "    </tr>\n",
       "    <tr>\n",
       "      <td>3</td>\n",
       "      <td>2019-08-04</td>\n",
       "      <td>385740</td>\n",
       "      <td>68</td>\n",
       "      <td>2573</td>\n",
       "      <td>5672.647059</td>\n",
       "      <td>0.026428</td>\n",
       "    </tr>\n",
       "    <tr>\n",
       "      <td>4</td>\n",
       "      <td>2019-08-05</td>\n",
       "      <td>475648</td>\n",
       "      <td>89</td>\n",
       "      <td>3280</td>\n",
       "      <td>5344.359551</td>\n",
       "      <td>0.027134</td>\n",
       "    </tr>\n",
       "  </tbody>\n",
       "</table>\n",
       "</div>"
      ],
      "text/plain": [
       "        date  revenue_cumulative  orders_cumulative  visitors_cumulative  \\\n",
       "0 2019-08-01               59758                 17                  713   \n",
       "1 2019-08-02              221801                 40                 1294   \n",
       "2 2019-08-03              288850                 54                 1803   \n",
       "3 2019-08-04              385740                 68                 2573   \n",
       "4 2019-08-05              475648                 89                 3280   \n",
       "\n",
       "   mean_check_cumulative  conversion_cumulative  \n",
       "0            3515.176471               0.023843  \n",
       "1            5545.025000               0.030912  \n",
       "2            5349.074074               0.029950  \n",
       "3            5672.647059               0.026428  \n",
       "4            5344.359551               0.027134  "
      ]
     },
     "metadata": {},
     "output_type": "display_data"
    }
   ],
   "source": [
    "cumulative_A, cumulative_B = get_cumulative_data_AB(data)"
   ]
  },
  {
   "cell_type": "code",
   "execution_count": 36,
   "metadata": {},
   "outputs": [
    {
     "data": {
      "image/png": "[encoded data removed]",
      "text/plain": [
       "<Figure size 720x504 with 1 Axes>"
      ]
     },
     "metadata": {
      "needs_background": "light"
     },
     "output_type": "display_data"
    }
   ],
   "source": [
    "plot_AB(cumulative_A, cumulative_B, 'revenue_cumulative', title='График кумулятивной выручки по дням',\n",
    "       ylabel='Выручка, руб.')"
   ]
  },
  {
   "cell_type": "markdown",
   "metadata": {},
   "source": [
    "Как видно, группа В до 17 августа 2019 была не хуже группы А, в отдельные дни даже лучше, а после этого за счёт большого выброса вышла в лидеры."
   ]
  },
  {
   "cell_type": "markdown",
   "metadata": {},
   "source": [
    "#### <a id='шаг2.2'></a>Постройте график кумулятивного среднего чека по группам. Сделайте выводы и предположения."
   ]
  },
  {
   "cell_type": "code",
   "execution_count": 37,
   "metadata": {},
   "outputs": [
    {
     "data": {
      "image/png": "[encoded data removed]",
      "text/plain": [
       "<Figure size 720x504 with 1 Axes>"
      ]
     },
     "metadata": {
      "needs_background": "light"
     },
     "output_type": "display_data"
    }
   ],
   "source": [
    "plot_AB(cumulative_A, cumulative_B, 'mean_check_cumulative', title='График кумулятивного среднего чека по дням',\n",
    "       ylabel='Сумма среднего чека, руб.', ymin=2000, ymax=18000)"
   ]
  },
  {
   "cell_type": "markdown",
   "metadata": {},
   "source": [
    "Вывод: налицо выброс от 18 августа, за счёт чего группа В вышла вперёд. На основании только этого графика и \"сырых\" данных выводы делать преждевременно, нужна фильтрация аномалий."
   ]
  },
  {
   "cell_type": "markdown",
   "metadata": {},
   "source": [
    "#### <a id='шаг2.3'></a>Постройте график относительного изменения кумулятивного среднего чека группы B к группе A. Сделайте выводы и предположения."
   ]
  },
  {
   "cell_type": "code",
   "execution_count": 38,
   "metadata": {},
   "outputs": [],
   "source": [
    "def get_rel_col(A, B, col):\n",
    "    both = A[['date', col]].merge(B[['date', col]],\n",
    "                                                                 on='date', how='outer',\n",
    "                                                                 suffixes=('_A', '_B'))\n",
    "    print('Проверка на пропуски после соединения таблиц:')\n",
    "    display(both.isnull().sum())\n",
    "    rel_col_name = 'rel_' + col\n",
    "    col_A = col + '_A'\n",
    "    col_B = col + '_B'\n",
    "    both[rel_col_name] = both[col_B] / both[col_A] - 1\n",
    "    display(both.head())\n",
    "    return both"
   ]
  },
  {
   "cell_type": "code",
   "execution_count": 39,
   "metadata": {},
   "outputs": [
    {
     "name": "stdout",
     "output_type": "stream",
     "text": [
      "Проверка на пропуски после соединения таблиц:\n"
     ]
    },
    {
     "data": {
      "text/plain": [
       "date                       0\n",
       "mean_check_cumulative_A    0\n",
       "mean_check_cumulative_B    0\n",
       "dtype: int64"
      ]
     },
     "metadata": {},
     "output_type": "display_data"
    },
    {
     "data": {
      "text/html": [
       "<div>\n",
       "<style scoped>\n",
       "    .dataframe tbody tr th:only-of-type {\n",
       "        vertical-align: middle;\n",
       "    }\n",
       "\n",
       "    .dataframe tbody tr th {\n",
       "        vertical-align: top;\n",
       "    }\n",
       "\n",
       "    .dataframe thead th {\n",
       "        text-align: right;\n",
       "    }\n",
       "</style>\n",
       "<table border=\"1\" class=\"dataframe\">\n",
       "  <thead>\n",
       "    <tr style=\"text-align: right;\">\n",
       "      <th></th>\n",
       "      <th>date</th>\n",
       "      <th>mean_check_cumulative_A</th>\n",
       "      <th>mean_check_cumulative_B</th>\n",
       "      <th>rel_mean_check_cumulative</th>\n",
       "    </tr>\n",
       "  </thead>\n",
       "  <tbody>\n",
       "    <tr>\n",
       "      <td>0</td>\n",
       "      <td>2019-08-01</td>\n",
       "      <td>6207.782609</td>\n",
       "      <td>3515.176471</td>\n",
       "      <td>-0.433747</td>\n",
       "    </tr>\n",
       "    <tr>\n",
       "      <td>1</td>\n",
       "      <td>2019-08-02</td>\n",
       "      <td>5580.500000</td>\n",
       "      <td>5545.025000</td>\n",
       "      <td>-0.006357</td>\n",
       "    </tr>\n",
       "    <tr>\n",
       "      <td>2</td>\n",
       "      <td>2019-08-03</td>\n",
       "      <td>5255.363636</td>\n",
       "      <td>5349.074074</td>\n",
       "      <td>0.017831</td>\n",
       "    </tr>\n",
       "    <tr>\n",
       "      <td>3</td>\n",
       "      <td>2019-08-04</td>\n",
       "      <td>5039.350649</td>\n",
       "      <td>5672.647059</td>\n",
       "      <td>0.125670</td>\n",
       "    </tr>\n",
       "    <tr>\n",
       "      <td>4</td>\n",
       "      <td>2019-08-05</td>\n",
       "      <td>4792.050505</td>\n",
       "      <td>5344.359551</td>\n",
       "      <td>0.115255</td>\n",
       "    </tr>\n",
       "  </tbody>\n",
       "</table>\n",
       "</div>"
      ],
      "text/plain": [
       "        date  mean_check_cumulative_A  mean_check_cumulative_B  \\\n",
       "0 2019-08-01              6207.782609              3515.176471   \n",
       "1 2019-08-02              5580.500000              5545.025000   \n",
       "2 2019-08-03              5255.363636              5349.074074   \n",
       "3 2019-08-04              5039.350649              5672.647059   \n",
       "4 2019-08-05              4792.050505              5344.359551   \n",
       "\n",
       "   rel_mean_check_cumulative  \n",
       "0                  -0.433747  \n",
       "1                  -0.006357  \n",
       "2                   0.017831  \n",
       "3                   0.125670  \n",
       "4                   0.115255  "
      ]
     },
     "metadata": {},
     "output_type": "display_data"
    }
   ],
   "source": [
    "cumulative_both_mean_check = get_rel_col(cumulative_A, cumulative_B, 'mean_check_cumulative')"
   ]
  },
  {
   "cell_type": "code",
   "execution_count": 40,
   "metadata": {},
   "outputs": [],
   "source": [
    "def plot_rel_AB(AB, col, title='', ylabel='', second_hline=None, second_AB=None):\n",
    "    _, ax = plt.subplots(figsize=(10, 7))\n",
    "    l1, = plt.plot(AB['date'], AB[col])\n",
    "    plt.axhline(0, ls='--', color='black')\n",
    "    if type(second_AB) == pd.DataFrame:\n",
    "        l2, = plt.plot(second_AB['date'], second_AB[col], ls='--')\n",
    "        plt.legend(handles=(l1, l2), labels=('Отфильтрованные данные', 'Исходные данные'))\n",
    "    if pd.notna(second_hline):\n",
    "        plt.axhline(second_hline, ls='--', linewidth=1, color='black')\n",
    "\n",
    "    plt.xticks(rotation=45)\n",
    "    plt.title(title)\n",
    "    plt.xlabel('Дата')\n",
    "    plt.ylabel(ylabel)\n",
    "    plt.grid()\n",
    "    plt.show()"
   ]
  },
  {
   "cell_type": "code",
   "execution_count": 41,
   "metadata": {},
   "outputs": [
    {
     "data": {
      "image/png": "[encoded data removed]",
      "text/plain": [
       "<Figure size 720x504 with 1 Axes>"
      ]
     },
     "metadata": {
      "needs_background": "light"
     },
     "output_type": "display_data"
    }
   ],
   "source": [
    "plot_rel_AB(cumulative_both_mean_check, 'rel_mean_check_cumulative',\n",
    "            title='График относительного изменения кумулятивного среднего чека',\n",
    "            ylabel='Сумма кумулятивного\\nсреднего чека, руб.', second_hline=0.2)"
   ]
  },
  {
   "cell_type": "markdown",
   "metadata": {},
   "source": [
    "Вывод: График показывает нестабильную тенденцию, к выигрышу группы В по среднему чеку, однако похоже, что это связано с отдельными выбросами. Стоит провести предварительную фильтрацию, без фильтрации выбросов можно придти к неверным выводам."
   ]
  },
  {
   "cell_type": "markdown",
   "metadata": {},
   "source": [
    "#### <a id='шаг2.4'></a>Постройте график кумулятивной конверсии по группам. Сделайте выводы и предположения."
   ]
  },
  {
   "cell_type": "code",
   "execution_count": 42,
   "metadata": {},
   "outputs": [
    {
     "data": {
      "image/png": "[encoded data removed]",
      "text/plain": [
       "<Figure size 720x504 with 1 Axes>"
      ]
     },
     "metadata": {
      "needs_background": "light"
     },
     "output_type": "display_data"
    }
   ],
   "source": [
    "plot_AB(cumulative_A, cumulative_B, 'conversion_cumulative', title='График кумулятивной конверсии по группам',\n",
    "       ylabel='Конверсия посетителей в покупателей', ymin=0, ymax=0.05)"
   ]
  },
  {
   "cell_type": "markdown",
   "metadata": {},
   "source": [
    "Вывод: видно, что накопительная конверсия установилась где-то 9 августа 2019, и с тех пор группа В устойчиво превосходит по этому показателю контрольную группу А."
   ]
  },
  {
   "cell_type": "markdown",
   "metadata": {},
   "source": [
    "#### <a id='шаг2.5'></a>Постройте график относительного изменения кумулятивной конверсии группы B к группе A. Сделайте выводы и предположения."
   ]
  },
  {
   "cell_type": "code",
   "execution_count": 43,
   "metadata": {},
   "outputs": [
    {
     "name": "stdout",
     "output_type": "stream",
     "text": [
      "Проверка на пропуски после соединения таблиц:\n"
     ]
    },
    {
     "data": {
      "text/plain": [
       "date                       0\n",
       "conversion_cumulative_A    0\n",
       "conversion_cumulative_B    0\n",
       "dtype: int64"
      ]
     },
     "metadata": {},
     "output_type": "display_data"
    },
    {
     "data": {
      "text/html": [
       "<div>\n",
       "<style scoped>\n",
       "    .dataframe tbody tr th:only-of-type {\n",
       "        vertical-align: middle;\n",
       "    }\n",
       "\n",
       "    .dataframe tbody tr th {\n",
       "        vertical-align: top;\n",
       "    }\n",
       "\n",
       "    .dataframe thead th {\n",
       "        text-align: right;\n",
       "    }\n",
       "</style>\n",
       "<table border=\"1\" class=\"dataframe\">\n",
       "  <thead>\n",
       "    <tr style=\"text-align: right;\">\n",
       "      <th></th>\n",
       "      <th>date</th>\n",
       "      <th>conversion_cumulative_A</th>\n",
       "      <th>conversion_cumulative_B</th>\n",
       "      <th>rel_conversion_cumulative</th>\n",
       "    </tr>\n",
       "  </thead>\n",
       "  <tbody>\n",
       "    <tr>\n",
       "      <td>0</td>\n",
       "      <td>2019-08-01</td>\n",
       "      <td>0.031989</td>\n",
       "      <td>0.023843</td>\n",
       "      <td>-0.254650</td>\n",
       "    </tr>\n",
       "    <tr>\n",
       "      <td>1</td>\n",
       "      <td>2019-08-02</td>\n",
       "      <td>0.031390</td>\n",
       "      <td>0.030912</td>\n",
       "      <td>-0.015235</td>\n",
       "    </tr>\n",
       "    <tr>\n",
       "      <td>2</td>\n",
       "      <td>2019-08-03</td>\n",
       "      <td>0.035772</td>\n",
       "      <td>0.029950</td>\n",
       "      <td>-0.162759</td>\n",
       "    </tr>\n",
       "    <tr>\n",
       "      <td>3</td>\n",
       "      <td>2019-08-04</td>\n",
       "      <td>0.030055</td>\n",
       "      <td>0.026428</td>\n",
       "      <td>-0.120659</td>\n",
       "    </tr>\n",
       "    <tr>\n",
       "      <td>4</td>\n",
       "      <td>2019-08-05</td>\n",
       "      <td>0.029837</td>\n",
       "      <td>0.027134</td>\n",
       "      <td>-0.090595</td>\n",
       "    </tr>\n",
       "  </tbody>\n",
       "</table>\n",
       "</div>"
      ],
      "text/plain": [
       "        date  conversion_cumulative_A  conversion_cumulative_B  \\\n",
       "0 2019-08-01                 0.031989                 0.023843   \n",
       "1 2019-08-02                 0.031390                 0.030912   \n",
       "2 2019-08-03                 0.035772                 0.029950   \n",
       "3 2019-08-04                 0.030055                 0.026428   \n",
       "4 2019-08-05                 0.029837                 0.027134   \n",
       "\n",
       "   rel_conversion_cumulative  \n",
       "0                  -0.254650  \n",
       "1                  -0.015235  \n",
       "2                  -0.162759  \n",
       "3                  -0.120659  \n",
       "4                  -0.090595  "
      ]
     },
     "metadata": {},
     "output_type": "display_data"
    }
   ],
   "source": [
    "cumulative_both_conv = get_rel_col(cumulative_A, cumulative_B, 'conversion_cumulative')"
   ]
  },
  {
   "cell_type": "code",
   "execution_count": 44,
   "metadata": {},
   "outputs": [
    {
     "data": {
      "image/png": "[encoded data removed]",
      "text/plain": [
       "<Figure size 720x504 with 1 Axes>"
      ]
     },
     "metadata": {
      "needs_background": "light"
     },
     "output_type": "display_data"
    }
   ],
   "source": [
    "plot_rel_AB(cumulative_both_conv, 'rel_conversion_cumulative', title='График относительного изменения кумулятивной конверсии\\n(сырые данные)',\n",
    "           ylabel='Относительное изменение конверсии, %', second_hline=0.17)"
   ]
  },
  {
   "cell_type": "markdown",
   "metadata": {},
   "source": [
    "Вывод: начиная с 9-го августа относительная конверсия колеблется на уровне 17% в сторону преимущества группы В."
   ]
  },
  {
   "cell_type": "markdown",
   "metadata": {},
   "source": [
    "#### <a id='шаг2.6'></a>Постройте точечный график количества заказов по пользователям. Сделайте выводы и предположения."
   ]
  },
  {
   "cell_type": "code",
   "execution_count": 45,
   "metadata": {},
   "outputs": [
    {
     "data": {
      "image/png": "[encoded data removed]",
      "text/plain": [
       "<Figure size 720x504 with 1 Axes>"
      ]
     },
     "metadata": {
      "needs_background": "light"
     },
     "output_type": "display_data"
    }
   ],
   "source": [
    "_, ax = plt.subplots(figsize=(10,7))\n",
    "visitors_orders_num_A = orders[orders.group=='A'].groupby('visitor_id')['transaction_id'].nunique()\n",
    "plt.scatter(visitors_orders_num_A.index, visitors_orders_num_A, color='green', label='A')\n",
    "visitors_orders_num_B = orders[orders.group=='B'].groupby('visitor_id')['transaction_id'].nunique()\n",
    "plt.scatter(visitors_orders_num_B.index, visitors_orders_num_B, color='blue', label='B')\n",
    "plt.title('Точечный график количества заказов по пользователям')\n",
    "plt.ylabel('Количество заказов пользователя')\n",
    "plt.xlabel('Пользователи')\n",
    "plt.legend()\n",
    "plt.grid()\n",
    "plt.show()"
   ]
  },
  {
   "cell_type": "markdown",
   "metadata": {},
   "source": [
    "Вывод: Похоже, что выбросов нет, есть более и менее активные клиенты. 3 покупки за месяц не выглядят чем-то аномальным. Фильтровать данные по этому параметру даже вредно, можем лишиться в анализе более платежеспособных или лояльных клиентов."
   ]
  },
  {
   "cell_type": "markdown",
   "metadata": {},
   "source": [
    "#### <a id='шаг2.7'></a>Посчитайте 95-й и 99-й перцентили количества заказов на пользователя. Выберите границу для определения аномальных пользователей."
   ]
  },
  {
   "cell_type": "code",
   "execution_count": 46,
   "metadata": {},
   "outputs": [
    {
     "data": {
      "text/plain": [
       "1    937\n",
       "2     29\n",
       "3      7\n",
       "Name: transaction_id, dtype: int64"
      ]
     },
     "execution_count": 46,
     "metadata": {},
     "output_type": "execute_result"
    }
   ],
   "source": [
    "visitors_orders_num = orders.groupby('visitor_id')['transaction_id'].nunique()\n",
    "# распределение по количеству заказов\n",
    "visitors_orders_num.value_counts()"
   ]
  },
  {
   "cell_type": "code",
   "execution_count": 47,
   "metadata": {},
   "outputs": [
    {
     "data": {
      "text/plain": [
       "0.90    1.0\n",
       "0.95    1.0\n",
       "0.99    2.0\n",
       "Name: transaction_id, dtype: float64"
      ]
     },
     "execution_count": 47,
     "metadata": {},
     "output_type": "execute_result"
    }
   ],
   "source": [
    "# процентили\n",
    "visitors_orders_num.quantile(q=[.9,.95,.99])"
   ]
  },
  {
   "cell_type": "markdown",
   "metadata": {},
   "source": [
    "Как видно, более 3 заказов на пользователя не встречается. Смысла фильтровать данные нет."
   ]
  },
  {
   "cell_type": "markdown",
   "metadata": {},
   "source": [
    "#### <a id='шаг2.8'></a>Постройте точечный график стоимостей заказов. Сделайте выводы и предположения."
   ]
  },
  {
   "cell_type": "code",
   "execution_count": 67,
   "metadata": {},
   "outputs": [
    {
     "data": {
      "image/png": "[encoded data removed]",
      "text/plain": [
       "<Figure size 792x504 with 2 Axes>"
      ]
     },
     "metadata": {
      "needs_background": "light"
     },
     "output_type": "display_data"
    }
   ],
   "source": [
    "_, ax = plt.subplots(figsize=(11,7))\n",
    "plt.subplot(1,2,1)\n",
    "plt.scatter(orders.transaction_id, orders.revenue)\n",
    "plt.title('Все данные')\n",
    "plt.xlabel('Заказы')\n",
    "plt.ylabel('Стоимость заказа, руб.')\n",
    "plt.grid()\n",
    "\n",
    "plt.subplot(1,2,2)\n",
    "orders_filtered = orders[orders.revenue <= 100_000]\n",
    "plt.scatter(orders_filtered.transaction_id, orders_filtered.revenue)\n",
    "plt.axhline(20_000, color='red', ls='--')\n",
    "plt.title('Заказы до 100 тыс. руб.')\n",
    "plt.xlabel('Заказы')\n",
    "plt.ylabel('Стоимость заказа, руб.')\n",
    "plt.suptitle('Распределение стоимостей заказов')\n",
    "plt.grid()\n",
    "plt.show()"
   ]
  },
  {
   "cell_type": "markdown",
   "metadata": {},
   "source": [
    "Вывод: есть аномально большой заказ стоимостью более 1_200_000 руб и чуть поменьше стоимостью 200_000 - это явные выбросы. На графике без учета этих заказов видно, что наиболее распространены заказы суммой приблизительно до 20 тыс. руб."
   ]
  },
  {
   "cell_type": "markdown",
   "metadata": {},
   "source": [
    "#### <a id='шаг2.9'></a>Посчитайте 95-й и 99-й перцентили стоимости заказов. Выберите границу для определения аномальных заказов."
   ]
  },
  {
   "cell_type": "markdown",
   "metadata": {},
   "source": [
    "Посчитаю более точно процентили по заказам."
   ]
  },
  {
   "cell_type": "code",
   "execution_count": 49,
   "metadata": {},
   "outputs": [
    {
     "data": {
      "text/plain": [
       "0.90    17990.0\n",
       "0.95    26785.0\n",
       "0.99    53904.0\n",
       "Name: revenue, dtype: float64"
      ]
     },
     "execution_count": 49,
     "metadata": {},
     "output_type": "execute_result"
    }
   ],
   "source": [
    "orders.revenue.quantile(q=[.9,0.95,0.99])"
   ]
  },
  {
   "cell_type": "markdown",
   "metadata": {},
   "source": [
    "Выберу все данные больше 50 тыс. за аномальные. Тем самым отфильтруется от 1 до 5% заказов."
   ]
  },
  {
   "cell_type": "markdown",
   "metadata": {},
   "source": [
    "#### <a id='шаг2.10'></a>Посчитайте статистическую значимость различий в конверсии между группами по «сырым» данным. Сделайте выводы и предположения."
   ]
  },
  {
   "cell_type": "markdown",
   "metadata": {},
   "source": [
    "Сформулирую гипотезы:\n",
    "- Н0: различий в конверсии между группами А и В нет\n",
    "- Н1: различия в конверсии есть\n",
    "\n",
    "Alpha - стандартно, 5%."
   ]
  },
  {
   "cell_type": "code",
   "execution_count": 50,
   "metadata": {},
   "outputs": [
    {
     "name": "stdout",
     "output_type": "stream",
     "text": [
      "p-value: 0.006\n",
      "Относительная конверсия В/А: 0.160\n"
     ]
    }
   ],
   "source": [
    "# отличия в количестве заказов по пользователям (сырые данные)\n",
    "orders_by_users_a = (orders[orders['group']=='A']\n",
    "                    .groupby('visitor_id', as_index=False)\n",
    "                    .agg({'transaction_id' : pd.Series.nunique}))\n",
    "orders_by_users_a.columns = ['visitor_id', 'orders']\n",
    "\n",
    "orders_by_users_b = (orders[orders['group']=='B']\n",
    "                    .groupby('visitor_id', as_index=False)\n",
    "                    .agg({'transaction_id' : pd.Series.nunique}))\n",
    "orders_by_users_b.columns = ['visitor_id', 'orders']\n",
    "\n",
    "sample_a = (pd.concat([orders_by_users_a['orders'],\n",
    "                       pd.Series(0, index=np.arange(data['visitors_per_date_a'].sum() -\\\n",
    "                                                    len(orders_by_users_a['orders'])),\n",
    "                                 name='orders')],axis=0))\n",
    "\n",
    "sample_b = (pd.concat([orders_by_users_b['orders'],\n",
    "                       pd.Series(0, index=np.arange(data['visitors_per_date_b'].sum() -\\\n",
    "                                                    len(orders_by_users_b['orders'])),\n",
    "                                 name='orders')],\n",
    "                      axis=0))\n",
    "\n",
    "print(\"p-value: {0:.3f}\".format(st.mannwhitneyu(sample_a, sample_b)[1]))\n",
    "\n",
    "print(\"Относительная конверсия В/А: {0:.3f}\".format(sample_b.mean()/sample_a.mean()-1)) "
   ]
  },
  {
   "cell_type": "markdown",
   "metadata": {},
   "source": [
    "Вывод: конверсия в группе В в среднем больше на 16%, и результат статистически значим, т.к. p-value значительно меньше alpha."
   ]
  },
  {
   "cell_type": "markdown",
   "metadata": {},
   "source": [
    "#### <a id='шаг2.11'></a>Посчитайте статистическую значимость различий в среднем чеке заказа между группами по «сырым» данным. Сделайте выводы и предположения."
   ]
  },
  {
   "cell_type": "markdown",
   "metadata": {},
   "source": [
    "Как было видно из точечных графиков, в сырых данных имеются выбросы, вследствие чего распределения исходных данных далеки от нормальных, поэтому для определения статистической значимости использую непараметрический тест, устойчивый к ним - Манна-Уитни.  \n",
    "За нулевую гипотезу принимаю, что выборки взяты из одной генеральной совокупности, за первую - из разных.  \n",
    "alpha принимаю за 5%."
   ]
  },
  {
   "cell_type": "markdown",
   "metadata": {},
   "source": [
    "Относительные различия в среднем чеке между группами (сырые данные)"
   ]
  },
  {
   "cell_type": "code",
   "execution_count": 51,
   "metadata": {},
   "outputs": [
    {
     "name": "stdout",
     "output_type": "stream",
     "text": [
      "p-value: 0.415\n",
      "Относительная величина различий средних чеков, В/А: 0.287\n"
     ]
    }
   ],
   "source": [
    "print(\"p-value: {0:.3f}\".format(st.mannwhitneyu(orders[orders['group']=='A']['revenue'], orders[orders['group']=='B']['revenue'])[1]))\n",
    "print(\"Относительная величина различий средних чеков, В/А: {0:.3f}\".format(orders[orders['group']=='B']['revenue'].mean()/orders[orders['group']=='A']['revenue'].mean()-1))"
   ]
  },
  {
   "cell_type": "markdown",
   "metadata": {},
   "source": [
    "Вывод: несмотря на то, что средний чек в группе В в среднем больше на 25%, чем в группе А, по \"сырым\" данным статистически значимых различий не выявлено."
   ]
  },
  {
   "cell_type": "markdown",
   "metadata": {},
   "source": [
    "#### <a id='шаг2.12'></a>Посчитайте статистическую значимость различий в конверсии между группами по «очищенным» данным. Сделайте выводы и предположения."
   ]
  },
  {
   "cell_type": "markdown",
   "metadata": {},
   "source": [
    "##### Фильтрация исходных данных"
   ]
  },
  {
   "cell_type": "code",
   "execution_count": 52,
   "metadata": {},
   "outputs": [
    {
     "name": "stdout",
     "output_type": "stream",
     "text": [
      "Всего пользователей с аномальным поведением: 22\n"
     ]
    }
   ],
   "source": [
    "visitors_abnormal_tt = orders.groupby(['group', 'visitor_id'])['transaction_id'].nunique().reset_index()\n",
    "visitors_abnormal = visitors_abnormal_tt[visitors_abnormal_tt.transaction_id > 2]\n",
    "visitors_abnormal_tt2 = orders[orders.revenue > 50_000]['visitor_id']\n",
    "visitors_abnormal = pd.concat([pd.Series(visitors_abnormal.visitor_id), pd.Series(visitors_abnormal_tt2.values)], axis=0).drop_duplicates().reset_index(drop=True)\n",
    "print('Всего пользователей с аномальным поведением:', len(visitors_abnormal))"
   ]
  },
  {
   "cell_type": "code",
   "execution_count": 53,
   "metadata": {},
   "outputs": [],
   "source": [
    "data_filtered = get_data(visitors, orders[np.logical_not(orders.visitor_id.isin(visitors_abnormal))])"
   ]
  },
  {
   "cell_type": "code",
   "execution_count": 54,
   "metadata": {},
   "outputs": [
    {
     "name": "stdout",
     "output_type": "stream",
     "text": [
      "Первые строки таблицы накопительных данных группы А\n"
     ]
    },
    {
     "data": {
      "text/html": [
       "<div>\n",
       "<style scoped>\n",
       "    .dataframe tbody tr th:only-of-type {\n",
       "        vertical-align: middle;\n",
       "    }\n",
       "\n",
       "    .dataframe tbody tr th {\n",
       "        vertical-align: top;\n",
       "    }\n",
       "\n",
       "    .dataframe thead th {\n",
       "        text-align: right;\n",
       "    }\n",
       "</style>\n",
       "<table border=\"1\" class=\"dataframe\">\n",
       "  <thead>\n",
       "    <tr style=\"text-align: right;\">\n",
       "      <th></th>\n",
       "      <th>date</th>\n",
       "      <th>revenue_cumulative</th>\n",
       "      <th>orders_cumulative</th>\n",
       "      <th>visitors_cumulative</th>\n",
       "      <th>mean_check_cumulative</th>\n",
       "      <th>conversion_cumulative</th>\n",
       "    </tr>\n",
       "  </thead>\n",
       "  <tbody>\n",
       "    <tr>\n",
       "      <td>0</td>\n",
       "      <td>2019-08-01</td>\n",
       "      <td>112340</td>\n",
       "      <td>18</td>\n",
       "      <td>719</td>\n",
       "      <td>6241.111111</td>\n",
       "      <td>0.025035</td>\n",
       "    </tr>\n",
       "    <tr>\n",
       "      <td>1</td>\n",
       "      <td>2019-08-02</td>\n",
       "      <td>202252</td>\n",
       "      <td>36</td>\n",
       "      <td>1338</td>\n",
       "      <td>5618.111111</td>\n",
       "      <td>0.026906</td>\n",
       "    </tr>\n",
       "    <tr>\n",
       "      <td>2</td>\n",
       "      <td>2019-08-03</td>\n",
       "      <td>314725</td>\n",
       "      <td>60</td>\n",
       "      <td>1845</td>\n",
       "      <td>5245.416667</td>\n",
       "      <td>0.032520</td>\n",
       "    </tr>\n",
       "    <tr>\n",
       "      <td>3</td>\n",
       "      <td>2019-08-04</td>\n",
       "      <td>355901</td>\n",
       "      <td>71</td>\n",
       "      <td>2562</td>\n",
       "      <td>5012.690141</td>\n",
       "      <td>0.027713</td>\n",
       "    </tr>\n",
       "    <tr>\n",
       "      <td>4</td>\n",
       "      <td>2019-08-05</td>\n",
       "      <td>442284</td>\n",
       "      <td>93</td>\n",
       "      <td>3318</td>\n",
       "      <td>4755.741935</td>\n",
       "      <td>0.028029</td>\n",
       "    </tr>\n",
       "  </tbody>\n",
       "</table>\n",
       "</div>"
      ],
      "text/plain": [
       "        date  revenue_cumulative  orders_cumulative  visitors_cumulative  \\\n",
       "0 2019-08-01              112340                 18                  719   \n",
       "1 2019-08-02              202252                 36                 1338   \n",
       "2 2019-08-03              314725                 60                 1845   \n",
       "3 2019-08-04              355901                 71                 2562   \n",
       "4 2019-08-05              442284                 93                 3318   \n",
       "\n",
       "   mean_check_cumulative  conversion_cumulative  \n",
       "0            6241.111111               0.025035  \n",
       "1            5618.111111               0.026906  \n",
       "2            5245.416667               0.032520  \n",
       "3            5012.690141               0.027713  \n",
       "4            4755.741935               0.028029  "
      ]
     },
     "metadata": {},
     "output_type": "display_data"
    },
    {
     "name": "stdout",
     "output_type": "stream",
     "text": [
      "Первые строки таблицы накопительных данных группы В\n"
     ]
    },
    {
     "data": {
      "text/html": [
       "<div>\n",
       "<style scoped>\n",
       "    .dataframe tbody tr th:only-of-type {\n",
       "        vertical-align: middle;\n",
       "    }\n",
       "\n",
       "    .dataframe tbody tr th {\n",
       "        vertical-align: top;\n",
       "    }\n",
       "\n",
       "    .dataframe thead th {\n",
       "        text-align: right;\n",
       "    }\n",
       "</style>\n",
       "<table border=\"1\" class=\"dataframe\">\n",
       "  <thead>\n",
       "    <tr style=\"text-align: right;\">\n",
       "      <th></th>\n",
       "      <th>date</th>\n",
       "      <th>revenue_cumulative</th>\n",
       "      <th>orders_cumulative</th>\n",
       "      <th>visitors_cumulative</th>\n",
       "      <th>mean_check_cumulative</th>\n",
       "      <th>conversion_cumulative</th>\n",
       "    </tr>\n",
       "  </thead>\n",
       "  <tbody>\n",
       "    <tr>\n",
       "      <td>0</td>\n",
       "      <td>2019-08-01</td>\n",
       "      <td>59758</td>\n",
       "      <td>17</td>\n",
       "      <td>713</td>\n",
       "      <td>3515.176471</td>\n",
       "      <td>0.023843</td>\n",
       "    </tr>\n",
       "    <tr>\n",
       "      <td>1</td>\n",
       "      <td>2019-08-02</td>\n",
       "      <td>221801</td>\n",
       "      <td>40</td>\n",
       "      <td>1294</td>\n",
       "      <td>5545.025000</td>\n",
       "      <td>0.030912</td>\n",
       "    </tr>\n",
       "    <tr>\n",
       "      <td>2</td>\n",
       "      <td>2019-08-03</td>\n",
       "      <td>288850</td>\n",
       "      <td>54</td>\n",
       "      <td>1803</td>\n",
       "      <td>5349.074074</td>\n",
       "      <td>0.029950</td>\n",
       "    </tr>\n",
       "    <tr>\n",
       "      <td>3</td>\n",
       "      <td>2019-08-04</td>\n",
       "      <td>385740</td>\n",
       "      <td>68</td>\n",
       "      <td>2573</td>\n",
       "      <td>5672.647059</td>\n",
       "      <td>0.026428</td>\n",
       "    </tr>\n",
       "    <tr>\n",
       "      <td>4</td>\n",
       "      <td>2019-08-05</td>\n",
       "      <td>475648</td>\n",
       "      <td>89</td>\n",
       "      <td>3280</td>\n",
       "      <td>5344.359551</td>\n",
       "      <td>0.027134</td>\n",
       "    </tr>\n",
       "  </tbody>\n",
       "</table>\n",
       "</div>"
      ],
      "text/plain": [
       "        date  revenue_cumulative  orders_cumulative  visitors_cumulative  \\\n",
       "0 2019-08-01               59758                 17                  713   \n",
       "1 2019-08-02              221801                 40                 1294   \n",
       "2 2019-08-03              288850                 54                 1803   \n",
       "3 2019-08-04              385740                 68                 2573   \n",
       "4 2019-08-05              475648                 89                 3280   \n",
       "\n",
       "   mean_check_cumulative  conversion_cumulative  \n",
       "0            3515.176471               0.023843  \n",
       "1            5545.025000               0.030912  \n",
       "2            5349.074074               0.029950  \n",
       "3            5672.647059               0.026428  \n",
       "4            5344.359551               0.027134  "
      ]
     },
     "metadata": {},
     "output_type": "display_data"
    }
   ],
   "source": [
    "cumulative_A_f, cumulative_B_f = get_cumulative_data_AB(data_filtered)"
   ]
  },
  {
   "cell_type": "code",
   "execution_count": 55,
   "metadata": {},
   "outputs": [
    {
     "data": {
      "image/png": "[encoded data removed]",
      "text/plain": [
       "<Figure size 720x504 with 1 Axes>"
      ]
     },
     "metadata": {
      "needs_background": "light"
     },
     "output_type": "display_data"
    }
   ],
   "source": [
    "plot_AB(cumulative_A_f, cumulative_B_f, 'conversion_cumulative', title='График изменения кумулятивной конверсии по группам',\n",
    "   ylabel='Конверсия, %', ymin=0, ymax=0.05)"
   ]
  },
  {
   "cell_type": "markdown",
   "metadata": {},
   "source": [
    "Вывод: видно, что накопительная конверсия установилась где-то 9 августа 2019, и с тех пор группа В устойчиво превосходит по этому показателю А."
   ]
  },
  {
   "cell_type": "markdown",
   "metadata": {},
   "source": [
    "#### Постройте график относительного изменения кумулятивной конверсии группы B к группе A. Сделайте выводы и предположения."
   ]
  },
  {
   "cell_type": "code",
   "execution_count": 56,
   "metadata": {},
   "outputs": [
    {
     "name": "stdout",
     "output_type": "stream",
     "text": [
      "Проверка на пропуски после соединения таблиц:\n"
     ]
    },
    {
     "data": {
      "text/plain": [
       "date                       0\n",
       "conversion_cumulative_A    0\n",
       "conversion_cumulative_B    0\n",
       "dtype: int64"
      ]
     },
     "metadata": {},
     "output_type": "display_data"
    },
    {
     "data": {
      "text/html": [
       "<div>\n",
       "<style scoped>\n",
       "    .dataframe tbody tr th:only-of-type {\n",
       "        vertical-align: middle;\n",
       "    }\n",
       "\n",
       "    .dataframe tbody tr th {\n",
       "        vertical-align: top;\n",
       "    }\n",
       "\n",
       "    .dataframe thead th {\n",
       "        text-align: right;\n",
       "    }\n",
       "</style>\n",
       "<table border=\"1\" class=\"dataframe\">\n",
       "  <thead>\n",
       "    <tr style=\"text-align: right;\">\n",
       "      <th></th>\n",
       "      <th>date</th>\n",
       "      <th>conversion_cumulative_A</th>\n",
       "      <th>conversion_cumulative_B</th>\n",
       "      <th>rel_conversion_cumulative</th>\n",
       "    </tr>\n",
       "  </thead>\n",
       "  <tbody>\n",
       "    <tr>\n",
       "      <td>0</td>\n",
       "      <td>2019-08-01</td>\n",
       "      <td>0.025035</td>\n",
       "      <td>0.023843</td>\n",
       "      <td>-0.047608</td>\n",
       "    </tr>\n",
       "    <tr>\n",
       "      <td>1</td>\n",
       "      <td>2019-08-02</td>\n",
       "      <td>0.026906</td>\n",
       "      <td>0.030912</td>\n",
       "      <td>0.148892</td>\n",
       "    </tr>\n",
       "    <tr>\n",
       "      <td>2</td>\n",
       "      <td>2019-08-03</td>\n",
       "      <td>0.032520</td>\n",
       "      <td>0.029950</td>\n",
       "      <td>-0.079035</td>\n",
       "    </tr>\n",
       "    <tr>\n",
       "      <td>3</td>\n",
       "      <td>2019-08-04</td>\n",
       "      <td>0.027713</td>\n",
       "      <td>0.026428</td>\n",
       "      <td>-0.046348</td>\n",
       "    </tr>\n",
       "    <tr>\n",
       "      <td>4</td>\n",
       "      <td>2019-08-05</td>\n",
       "      <td>0.028029</td>\n",
       "      <td>0.027134</td>\n",
       "      <td>-0.031924</td>\n",
       "    </tr>\n",
       "  </tbody>\n",
       "</table>\n",
       "</div>"
      ],
      "text/plain": [
       "        date  conversion_cumulative_A  conversion_cumulative_B  \\\n",
       "0 2019-08-01                 0.025035                 0.023843   \n",
       "1 2019-08-02                 0.026906                 0.030912   \n",
       "2 2019-08-03                 0.032520                 0.029950   \n",
       "3 2019-08-04                 0.027713                 0.026428   \n",
       "4 2019-08-05                 0.028029                 0.027134   \n",
       "\n",
       "   rel_conversion_cumulative  \n",
       "0                  -0.047608  \n",
       "1                   0.148892  \n",
       "2                  -0.079035  \n",
       "3                  -0.046348  \n",
       "4                  -0.031924  "
      ]
     },
     "metadata": {},
     "output_type": "display_data"
    }
   ],
   "source": [
    "cumulative_both_conv_f = get_rel_col(cumulative_A_f, cumulative_B_f, 'conversion_cumulative')"
   ]
  },
  {
   "cell_type": "code",
   "execution_count": 57,
   "metadata": {},
   "outputs": [
    {
     "data": {
      "image/png": "[encoded data removed]",
      "text/plain": [
       "<Figure size 720x504 with 1 Axes>"
      ]
     },
     "metadata": {
      "needs_background": "light"
     },
     "output_type": "display_data"
    }
   ],
   "source": [
    "plot_rel_AB(cumulative_both_conv_f, 'rel_conversion_cumulative', \n",
    "        title='График относительного изменения кумулятивной конверсии',\n",
    "       ylabel='Относительное изменение конверсии, %', second_hline=0.22, second_AB=cumulative_both_conv)"
   ]
  },
  {
   "cell_type": "code",
   "execution_count": 58,
   "metadata": {},
   "outputs": [],
   "source": [
    "sample_a_filtered = pd.concat([orders_by_users_a[np.logical_not(orders_by_users_a['visitor_id'].isin(visitors_abnormal))]['orders'],pd.Series(0, index=np.arange(data['visitors_per_date_a'].sum() - len(orders_by_users_a['orders'])),name='orders')],axis=0)\n",
    "sample_b_filtered = pd.concat([orders_by_users_b[np.logical_not(orders_by_users_b['visitor_id'].isin(visitors_abnormal))]['orders'],pd.Series(0, index=np.arange(data['visitors_per_date_b'].sum() - len(orders_by_users_b['orders'])),name='orders')],axis=0)"
   ]
  },
  {
   "cell_type": "markdown",
   "metadata": {},
   "source": [
    "Для сравнения параметров применю так же тест Манна-Уитни, проверю гипотезы:\n",
    "- Н0 - данные взяты из одной генеральной совокупности, различий нет.\n",
    "- Н1 - данные взяты из разных генеральных совокупностей.  \n",
    "\n",
    "Alpha стандартно 5%."
   ]
  },
  {
   "cell_type": "code",
   "execution_count": 59,
   "metadata": {},
   "outputs": [
    {
     "name": "stdout",
     "output_type": "stream",
     "text": [
      "p-value для конверсии пользователей: 0.003\n",
      "Относительная конверсия В/А: 0.198\n"
     ]
    }
   ],
   "source": [
    "print(\"p-value для конверсии пользователей: {0:.3f}\".format(st.mannwhitneyu(sample_a_filtered, sample_b_filtered)[1]))\n",
    "print(\"Относительная конверсия В/А: {0:.3f}\".format(sample_b_filtered.mean()/sample_a_filtered.mean()-1)) "
   ]
  },
  {
   "cell_type": "markdown",
   "metadata": {},
   "source": [
    "Вывод: вероятность ошибки 1 рода на очищенных данных по конверсии в 2 раза ниже, а относительная конверсия - выше. Подтверждаются выводы, полученные на сырых данных. Кроме того, была получена конверсия на 3% пункта больше, чем на \"сырых\" данных."
   ]
  },
  {
   "cell_type": "markdown",
   "metadata": {},
   "source": [
    "#### <a id='шаг2.13'></a>Посчитайте статистическую значимость различий в среднем чеке заказа между группами по «очищенным» данным. Сделайте выводы и предположения."
   ]
  },
  {
   "cell_type": "code",
   "execution_count": 60,
   "metadata": {},
   "outputs": [
    {
     "data": {
      "image/png": "[encoded data removed]",
      "text/plain": [
       "<Figure size 720x504 with 1 Axes>"
      ]
     },
     "metadata": {
      "needs_background": "light"
     },
     "output_type": "display_data"
    }
   ],
   "source": [
    "plot_AB(cumulative_A_f, cumulative_B_f, 'mean_check_cumulative',\n",
    "        title='График распределения кумулятивного среднего чека\\nпо отфильтрованным данным', \n",
    "        ylabel='Кумулятивный средний чек, руб.', ymin=2000, ymax=8000)"
   ]
  },
  {
   "cell_type": "code",
   "execution_count": 61,
   "metadata": {},
   "outputs": [
    {
     "name": "stdout",
     "output_type": "stream",
     "text": [
      "Проверка на пропуски после соединения таблиц:\n"
     ]
    },
    {
     "data": {
      "text/plain": [
       "date                       0\n",
       "mean_check_cumulative_A    0\n",
       "mean_check_cumulative_B    0\n",
       "dtype: int64"
      ]
     },
     "metadata": {},
     "output_type": "display_data"
    },
    {
     "data": {
      "text/html": [
       "<div>\n",
       "<style scoped>\n",
       "    .dataframe tbody tr th:only-of-type {\n",
       "        vertical-align: middle;\n",
       "    }\n",
       "\n",
       "    .dataframe tbody tr th {\n",
       "        vertical-align: top;\n",
       "    }\n",
       "\n",
       "    .dataframe thead th {\n",
       "        text-align: right;\n",
       "    }\n",
       "</style>\n",
       "<table border=\"1\" class=\"dataframe\">\n",
       "  <thead>\n",
       "    <tr style=\"text-align: right;\">\n",
       "      <th></th>\n",
       "      <th>date</th>\n",
       "      <th>mean_check_cumulative_A</th>\n",
       "      <th>mean_check_cumulative_B</th>\n",
       "      <th>rel_mean_check_cumulative</th>\n",
       "    </tr>\n",
       "  </thead>\n",
       "  <tbody>\n",
       "    <tr>\n",
       "      <td>0</td>\n",
       "      <td>2019-08-01</td>\n",
       "      <td>6241.111111</td>\n",
       "      <td>3515.176471</td>\n",
       "      <td>-0.436771</td>\n",
       "    </tr>\n",
       "    <tr>\n",
       "      <td>1</td>\n",
       "      <td>2019-08-02</td>\n",
       "      <td>5618.111111</td>\n",
       "      <td>5545.025000</td>\n",
       "      <td>-0.013009</td>\n",
       "    </tr>\n",
       "    <tr>\n",
       "      <td>2</td>\n",
       "      <td>2019-08-03</td>\n",
       "      <td>5245.416667</td>\n",
       "      <td>5349.074074</td>\n",
       "      <td>0.019762</td>\n",
       "    </tr>\n",
       "    <tr>\n",
       "      <td>3</td>\n",
       "      <td>2019-08-04</td>\n",
       "      <td>5012.690141</td>\n",
       "      <td>5672.647059</td>\n",
       "      <td>0.131657</td>\n",
       "    </tr>\n",
       "    <tr>\n",
       "      <td>4</td>\n",
       "      <td>2019-08-05</td>\n",
       "      <td>4755.741935</td>\n",
       "      <td>5344.359551</td>\n",
       "      <td>0.123770</td>\n",
       "    </tr>\n",
       "  </tbody>\n",
       "</table>\n",
       "</div>"
      ],
      "text/plain": [
       "        date  mean_check_cumulative_A  mean_check_cumulative_B  \\\n",
       "0 2019-08-01              6241.111111              3515.176471   \n",
       "1 2019-08-02              5618.111111              5545.025000   \n",
       "2 2019-08-03              5245.416667              5349.074074   \n",
       "3 2019-08-04              5012.690141              5672.647059   \n",
       "4 2019-08-05              4755.741935              5344.359551   \n",
       "\n",
       "   rel_mean_check_cumulative  \n",
       "0                  -0.436771  \n",
       "1                  -0.013009  \n",
       "2                   0.019762  \n",
       "3                   0.131657  \n",
       "4                   0.123770  "
      ]
     },
     "metadata": {},
     "output_type": "display_data"
    }
   ],
   "source": [
    "cumulative_both_mean_check_f = get_rel_col(cumulative_A_f, cumulative_B_f, 'mean_check_cumulative')"
   ]
  },
  {
   "cell_type": "markdown",
   "metadata": {},
   "source": [
    "Рассмотрю сравнение по средним чекам на очищенных данных.\n",
    "Приму за нулевую гипотезу, что статистически значимых отличий нет. alpha = 5%.\n",
    "Альтернативная гипотеза - различия есть."
   ]
  },
  {
   "cell_type": "code",
   "execution_count": 62,
   "metadata": {},
   "outputs": [
    {
     "name": "stdout",
     "output_type": "stream",
     "text": [
      "p-value для очищенных данных по среднему чеку: 0.469\n",
      "Соотношение по средним чекам в группах, В/А: 0.011\n"
     ]
    }
   ],
   "source": [
    "print(\"p-value для очищенных данных по среднему чеку: {0:.3f}\".format(st.mannwhitneyu(\n",
    "    orders[np.logical_and(\n",
    "        orders['group']=='A',\n",
    "        np.logical_not(orders['visitor_id'].isin(visitors_abnormal)))]['revenue'],\n",
    "    orders[np.logical_and(\n",
    "        orders['group']=='B',\n",
    "        np.logical_not(orders['visitor_id'].isin(visitors_abnormal)))]['revenue'])[1]))\n",
    "\n",
    "print(\"Соотношение по средним чекам в группах, В/А: {0:.3f}\".format(\n",
    "    orders[np.logical_and(orders['group']=='B',np.logical_not(orders['visitor_id'].isin(visitors_abnormal)))]['revenue'].mean()/\n",
    "    orders[np.logical_and(\n",
    "        orders['group']=='A',\n",
    "        np.logical_not(orders['visitor_id'].isin(visitors_abnormal)))]['revenue'].mean() - 1))"
   ]
  },
  {
   "cell_type": "markdown",
   "metadata": {},
   "source": [
    "Не отвергаю нулевую гипотезу, скорее всего, статистически значимых различий по среднему чеку в группах нет."
   ]
  },
  {
   "cell_type": "markdown",
   "metadata": {},
   "source": [
    "##### Сравнительные графики"
   ]
  },
  {
   "cell_type": "code",
   "execution_count": 63,
   "metadata": {},
   "outputs": [
    {
     "data": {
      "image/png": "[encoded data removed]",
      "text/plain": [
       "<Figure size 720x504 with 1 Axes>"
      ]
     },
     "metadata": {
      "needs_background": "light"
     },
     "output_type": "display_data"
    }
   ],
   "source": [
    "plot_rel_AB(cumulative_both_mean_check_f,\n",
    "            'rel_mean_check_cumulative',\n",
    "            ylabel='Относительное изменение, %',\n",
    "           second_AB=cumulative_both_mean_check)"
   ]
  },
  {
   "cell_type": "markdown",
   "metadata": {},
   "source": [
    "Вывод: после фильтрации аномальных значений средний чек в группах стал практически не отличаться, и по сырым данным различия более чем в 25% были ложными, за счёт аномальных заказов (разница хорошо видна на графике относительного изменения). Критерий Манна-Уитни позволил не допустить ошибку 2 рода (ложное принятие гипотезы об отсутствии отличий) даже на сырых данных, а на очищенных укрепился в своей позиции."
   ]
  },
  {
   "cell_type": "markdown",
   "metadata": {},
   "source": [
    "# Выводы<a id='шаг3'></a>  \n",
    "[Предыдущий шаг](#шаг2)"
   ]
  },
  {
   "cell_type": "markdown",
   "metadata": {},
   "source": [
    "### 1 часть (приоритизация гипотез)\n",
    "\n",
    "Данные предоставлены в корректном виде, привёл только названия столбцов к нижнему регистру в соответствии с синтаксисом языка Python.\n",
    "\n",
    "Фреймворк RICE учитывает охват пользователей, которых коснётся изменение в функционале. Поэтому в сравнении с ICE лидирующие гипотезы (скидка в день рождения и новые каналы привлечения трафика) с малым охватом потеряли своё лидерство.\n",
    "\n",
    "### 2 часть (А/В тестирование)\n",
    "\n",
    "Мне для анализа предоставлены 2 группы пользователей и данные об их посещениях по дням и покупках. Интервал дат для анализа - весь август 2019. Предварительный анализ данных позволил выявить выбросы в виде крупных покупок.\n",
    "\n",
    "В процессе А/В тестирования сравнивались: *кумулятивный средний чек* и *кумулятивная конверсия посетителей в покупателей*.\n",
    "\n",
    "Были рассмотрены 2 вида графиков - сравнительный по группам и определяющий относительные значения. Первый вид графиков позволяет увидеть и сравнить абсолютные значения сравниваемых метрик. Второй позволяет отобразить ситуацию более наглядно, в процентном соотношении по расхождению данных. Так же по нему легче отслеживать стабильность результатов.\n",
    "\n",
    "#### Фильтрация аномальных данных\n",
    "Используя точечные графики для количества заказов по пользователям, я определил, что пользователей с более чем 3 заказами нет (после предварительной фильтрации). Поэтому считаю, что выбросов нет, есть более и менее активные клиенты. 3 покупки за месяц не выглядят чем-то аномальным. Фильтровать данные по этому параметру даже вредно, можем исключить из анализа более платежеспособных или лояльных клиентов.\n",
    "\n",
    "По заказам, напротив, такие данные есть. Принял за аномальные - заказы на сумму более 50 тыс. руб. Тем самым фильтруется от 1 до 5% заказов.\n",
    "\n",
    "#### Кумулятивный средний чек\n",
    "Без фильтрации видны большие выбросы, что не позволяет провести достоверное сравнение. Статистическая проверка с помощью метода, нечувствительного к выборсам - Манна-Уитни - это подтверждает, при более 25% различий между группами в пользу группы В статистически значимых различий не выявлено.\n",
    "\n",
    "После фильтрации аномальных значений средний чек в группах стал практически не отличаться, и стало ясно, что различия более чем в 25% в сырых данных были ложными, за счёт аномальных заказов (разница хорошо видна на графике относительного изменения). Начиная с 12 августа, данные в группах различаются слабо, группа В периодически выходит в лидеры, однако без статистически значимых различий. \n",
    "Критерий Манна-Уитни позволил не допустить ошибку 2 рода (ложное принятие гипотезы об отсутствии отличий) даже на сырых данных, что подтверждает предпочтительность его применения при наличии выбросов.\n",
    "\n",
    "#### Кумулятивная конверсия\n",
    "Видно, что накопительная конверсия установилась где-то 9 августа 2019, и с тех пор группа В устойчиво превосходит по этому показателю контрольную группу А (разница около 17%). Тест Манна-Уитни показал стат. значимость различий даже на сырых данных.\n",
    "\n",
    "Вероятность ошибки 1 рода (вероятность ложного принятия гипотезы о том, что стат. значимые отличия имеются) на очищенных данных по сраврению с \"сырыми\" по конверсии в 2 раза ниже, а относительная конверсия - выше. Подтверждаются выводы, полученные на сырых данных. Кроме того, была получена конверсия на 3% пункта больше, чем на \"сырых\" данных."
   ]
  },
  {
   "cell_type": "markdown",
   "metadata": {},
   "source": [
    "#### Примите решение по результатам теста и объясните его.  \n",
    "Тест ***признаю успешным*** за счёт достижения устойчивого и ***статистически значимого*** повышения **конверсии** посетителей в покупателей при сохранении среднего чека, что достоверно свидетельствует об увеличении выручки."
   ]
  }
 ],
 "metadata": {
  "kernelspec": {
   "display_name": "Python 3",
   "language": "python",
   "name": "python3"
  },
  "language_info": {
   "codemirror_mode": {
    "name": "ipython",
    "version": 3
   },
   "file_extension": ".py",
   "mimetype": "text/x-python",
   "name": "python",
   "nbconvert_exporter": "python",
   "pygments_lexer": "ipython3",
   "version": "3.7.9"
  }
 },
 "nbformat": 4,
 "nbformat_minor": 2
}
