{
 "cells": [
  {
   "cell_type": "markdown",
   "metadata": {},
   "source": [
    "# Сравнение тарифов сотового оператора \"Мегалайн\"\n",
    "*(убрал подробности в целях соблюдения авторских прав)*\n",
    "\n",
    "Для анализа предоставлены данные, собираемые компанией о пользователях, по 2-м тарифам. Нужно определить тариф, приносящий компании больше выручки.\n",
    "\n",
    "Предоставленные данные:\n",
    "- `users` - информация о пользователях\n",
    "- `calls` - информация о звонках\n",
    "- `messages` - информация о сообщениях\n",
    "- `internet` - информация об интернет-сессиях\n",
    "- `tariffs` - информация о тарифах"
   ]
  },
  {
   "cell_type": "markdown",
   "metadata": {},
   "source": [
    "### Шаг 1. Ознакомление с данными"
   ]
  },
  {
   "cell_type": "code",
   "execution_count": 1,
   "metadata": {},
   "outputs": [],
   "source": [
    "import pandas as pd\n",
    "from scipy import stats as st\n",
    "import math\n",
    "import numpy as np\n",
    "\n",
    "import matplotlib.pyplot as plt\n",
    "import seaborn as sns\n",
    "\n",
    "from datetime import datetime\n",
    "import calendar\n",
    "\n",
    "pd.options.display.max_columns = 40\n",
    "\n",
    "class color:\n",
    "   PURPLE = '\\033[95m'\n",
    "   CYAN = '\\033[96m'\n",
    "   DARKCYAN = '\\033[36m'\n",
    "   BLUE = '\\033[94m'\n",
    "   GREEN = '\\033[92m'\n",
    "   YELLOW = '\\033[93m'\n",
    "   RED = '\\033[91m'\n",
    "   BOLD = '\\033[1m'\n",
    "   UNDERLINE = '\\033[4m'\n",
    "   END = '\\033[0m'"
   ]
  },
  {
   "cell_type": "code",
   "execution_count": 2,
   "metadata": {},
   "outputs": [],
   "source": [
    "# предпросмотр данных в таблицах для выбора разделителя при загрузке"
   ]
  },
  {
   "cell_type": "code",
   "execution_count": 3,
   "metadata": {},
   "outputs": [
    {
     "name": "stdout",
     "output_type": "stream",
     "text": [
      "id,call_date,duration,user_id\r\n",
      "1000_0,2018-07-25,0.0,1000\r\n",
      "1000_1,2018-08-17,0.0,1000\r\n",
      "1000_2,2018-06-11,2.85,1000\r\n",
      "1000_3,2018-09-21,13.8,1000\r\n",
      "1000_4,2018-12-15,5.18,1000\r\n",
      "1000_5,2018-11-02,0.0,1000\r\n",
      "1000_6,2018-10-18,0.0,1000\r\n",
      "1000_7,2018-08-22,18.31,1000\r\n",
      "1000_8,2018-09-15,18.44,1000\r\n"
     ]
    }
   ],
   "source": [
    "!head /datasets/calls.csv"
   ]
  },
  {
   "cell_type": "code",
   "execution_count": 4,
   "metadata": {},
   "outputs": [
    {
     "name": "stdout",
     "output_type": "stream",
     "text": [
      ",id,mb_used,session_date,user_id\r\n",
      "0,1000_0,112.95,2018-11-25,1000\r\n",
      "1,1000_1,1052.81,2018-09-07,1000\r\n",
      "2,1000_2,1197.26,2018-06-25,1000\r\n",
      "3,1000_3,550.27,2018-08-22,1000\r\n",
      "4,1000_4,302.56,2018-09-24,1000\r\n",
      "5,1000_5,399.97,2018-10-02,1000\r\n",
      "6,1000_6,540.08,2018-09-07,1000\r\n",
      "7,1000_7,415.7,2018-07-11,1000\r\n",
      "8,1000_8,505.4,2018-10-08,1000\r\n"
     ]
    }
   ],
   "source": [
    "!head /datasets/internet.csv"
   ]
  },
  {
   "cell_type": "code",
   "execution_count": 5,
   "metadata": {},
   "outputs": [
    {
     "name": "stdout",
     "output_type": "stream",
     "text": [
      "id,message_date,user_id\r\n",
      "1000_0,2018-06-27,1000\r\n",
      "1000_1,2018-10-08,1000\r\n",
      "1000_2,2018-08-04,1000\r\n",
      "1000_3,2018-06-16,1000\r\n",
      "1000_4,2018-12-05,1000\r\n",
      "1000_5,2018-06-20,1000\r\n",
      "1000_6,2018-11-19,1000\r\n",
      "1000_7,2018-10-29,1000\r\n",
      "1000_8,2018-06-25,1000\r\n"
     ]
    }
   ],
   "source": [
    "!head /datasets/messages.csv"
   ]
  },
  {
   "cell_type": "code",
   "execution_count": 6,
   "metadata": {},
   "outputs": [
    {
     "name": "stdout",
     "output_type": "stream",
     "text": [
      "messages_included,mb_per_month_included,minutes_included,rub_monthly_fee,rub_per_gb,rub_per_message,rub_per_minute,tariff_name\r\n",
      "50,15360,500,550,200,3,3,smart\r\n",
      "1000,30720,3000,1950,150,1,1,ultra\r\n"
     ]
    }
   ],
   "source": [
    "!head /datasets/tariffs.csv"
   ]
  },
  {
   "cell_type": "code",
   "execution_count": 7,
   "metadata": {},
   "outputs": [
    {
     "name": "stdout",
     "output_type": "stream",
     "text": [
      "user_id,age,churn_date,city,first_name,last_name,reg_date,tariff\r\n",
      "1000,52,,Краснодар,Рафаил,Верещагин,2018-05-25,ultra\r\n",
      "1001,41,,Москва,Иван,Ежов,2018-11-01,smart\r\n",
      "1002,59,,Стерлитамак,Евгений,Абрамович,2018-06-17,smart\r\n",
      "1003,23,,Москва,Белла,Белякова,2018-08-17,ultra\r\n",
      "1004,68,,Новокузнецк,Татьяна,Авдеенко,2018-05-14,ultra\r\n",
      "1005,67,,Набережные Челны,Афанасий,Горлов,2018-01-25,smart\r\n",
      "1006,21,,Ульяновск,Леонид,Ермолаев,2018-02-26,smart\r\n",
      "1007,65,,Москва,Юна,Березина,2018-04-19,smart\r\n",
      "1008,63,,Челябинск,Рустэм,Пономарёв,2018-12-19,smart\r\n"
     ]
    }
   ],
   "source": [
    "!head /datasets/users.csv"
   ]
  },
  {
   "cell_type": "code",
   "execution_count": 8,
   "metadata": {},
   "outputs": [],
   "source": [
    "# разделители - запятые\n",
    "calls = pd.read_csv('/datasets/calls.csv', sep=',')\n",
    "internet = pd.read_csv('/datasets/internet.csv', sep=',')\n",
    "messages = pd.read_csv('/datasets/messages.csv', sep=',')\n",
    "tariffs = pd.read_csv('/datasets/tariffs.csv', sep=',')\n",
    "users = pd.read_csv('/datasets/users.csv', sep=',')"
   ]
  },
  {
   "cell_type": "code",
   "execution_count": 9,
   "metadata": {},
   "outputs": [
    {
     "data": {
      "text/html": [
       "<div>\n",
       "<style scoped>\n",
       "    .dataframe tbody tr th:only-of-type {\n",
       "        vertical-align: middle;\n",
       "    }\n",
       "\n",
       "    .dataframe tbody tr th {\n",
       "        vertical-align: top;\n",
       "    }\n",
       "\n",
       "    .dataframe thead th {\n",
       "        text-align: right;\n",
       "    }\n",
       "</style>\n",
       "<table border=\"1\" class=\"dataframe\">\n",
       "  <thead>\n",
       "    <tr style=\"text-align: right;\">\n",
       "      <th></th>\n",
       "      <th>id</th>\n",
       "      <th>call_date</th>\n",
       "      <th>duration</th>\n",
       "      <th>user_id</th>\n",
       "    </tr>\n",
       "  </thead>\n",
       "  <tbody>\n",
       "    <tr>\n",
       "      <td>0</td>\n",
       "      <td>1000_0</td>\n",
       "      <td>2018-07-25</td>\n",
       "      <td>0.00</td>\n",
       "      <td>1000</td>\n",
       "    </tr>\n",
       "    <tr>\n",
       "      <td>1</td>\n",
       "      <td>1000_1</td>\n",
       "      <td>2018-08-17</td>\n",
       "      <td>0.00</td>\n",
       "      <td>1000</td>\n",
       "    </tr>\n",
       "    <tr>\n",
       "      <td>2</td>\n",
       "      <td>1000_2</td>\n",
       "      <td>2018-06-11</td>\n",
       "      <td>2.85</td>\n",
       "      <td>1000</td>\n",
       "    </tr>\n",
       "    <tr>\n",
       "      <td>3</td>\n",
       "      <td>1000_3</td>\n",
       "      <td>2018-09-21</td>\n",
       "      <td>13.80</td>\n",
       "      <td>1000</td>\n",
       "    </tr>\n",
       "    <tr>\n",
       "      <td>4</td>\n",
       "      <td>1000_4</td>\n",
       "      <td>2018-12-15</td>\n",
       "      <td>5.18</td>\n",
       "      <td>1000</td>\n",
       "    </tr>\n",
       "    <tr>\n",
       "      <td>...</td>\n",
       "      <td>...</td>\n",
       "      <td>...</td>\n",
       "      <td>...</td>\n",
       "      <td>...</td>\n",
       "    </tr>\n",
       "    <tr>\n",
       "      <td>202602</td>\n",
       "      <td>1499_215</td>\n",
       "      <td>2018-12-26</td>\n",
       "      <td>0.76</td>\n",
       "      <td>1499</td>\n",
       "    </tr>\n",
       "    <tr>\n",
       "      <td>202603</td>\n",
       "      <td>1499_216</td>\n",
       "      <td>2018-10-18</td>\n",
       "      <td>18.83</td>\n",
       "      <td>1499</td>\n",
       "    </tr>\n",
       "    <tr>\n",
       "      <td>202604</td>\n",
       "      <td>1499_217</td>\n",
       "      <td>2018-11-10</td>\n",
       "      <td>10.81</td>\n",
       "      <td>1499</td>\n",
       "    </tr>\n",
       "    <tr>\n",
       "      <td>202605</td>\n",
       "      <td>1499_218</td>\n",
       "      <td>2018-10-06</td>\n",
       "      <td>4.27</td>\n",
       "      <td>1499</td>\n",
       "    </tr>\n",
       "    <tr>\n",
       "      <td>202606</td>\n",
       "      <td>1499_219</td>\n",
       "      <td>2018-12-14</td>\n",
       "      <td>19.62</td>\n",
       "      <td>1499</td>\n",
       "    </tr>\n",
       "  </tbody>\n",
       "</table>\n",
       "<p>202607 rows × 4 columns</p>\n",
       "</div>"
      ],
      "text/plain": [
       "              id   call_date  duration  user_id\n",
       "0         1000_0  2018-07-25      0.00     1000\n",
       "1         1000_1  2018-08-17      0.00     1000\n",
       "2         1000_2  2018-06-11      2.85     1000\n",
       "3         1000_3  2018-09-21     13.80     1000\n",
       "4         1000_4  2018-12-15      5.18     1000\n",
       "...          ...         ...       ...      ...\n",
       "202602  1499_215  2018-12-26      0.76     1499\n",
       "202603  1499_216  2018-10-18     18.83     1499\n",
       "202604  1499_217  2018-11-10     10.81     1499\n",
       "202605  1499_218  2018-10-06      4.27     1499\n",
       "202606  1499_219  2018-12-14     19.62     1499\n",
       "\n",
       "[202607 rows x 4 columns]"
      ]
     },
     "execution_count": 9,
     "metadata": {},
     "output_type": "execute_result"
    }
   ],
   "source": [
    "calls"
   ]
  },
  {
   "cell_type": "code",
   "execution_count": 10,
   "metadata": {
    "scrolled": true
   },
   "outputs": [
    {
     "name": "stdout",
     "output_type": "stream",
     "text": [
      "<class 'pandas.core.frame.DataFrame'>\n",
      "RangeIndex: 202607 entries, 0 to 202606\n",
      "Data columns (total 4 columns):\n",
      "id           202607 non-null object\n",
      "call_date    202607 non-null object\n",
      "duration     202607 non-null float64\n",
      "user_id      202607 non-null int64\n",
      "dtypes: float64(1), int64(1), object(2)\n",
      "memory usage: 6.2+ MB\n"
     ]
    }
   ],
   "source": [
    "# общая информация\n",
    "calls.info()"
   ]
  },
  {
   "cell_type": "markdown",
   "metadata": {},
   "source": [
    "Названия столбцов корректны. Пропусков в данных нет. Проблема с типом данных в графе *call_date*, нужно привести к типу \"дата\"."
   ]
  },
  {
   "cell_type": "code",
   "execution_count": 11,
   "metadata": {},
   "outputs": [
    {
     "data": {
      "text/html": [
       "<div>\n",
       "<style scoped>\n",
       "    .dataframe tbody tr th:only-of-type {\n",
       "        vertical-align: middle;\n",
       "    }\n",
       "\n",
       "    .dataframe tbody tr th {\n",
       "        vertical-align: top;\n",
       "    }\n",
       "\n",
       "    .dataframe thead th {\n",
       "        text-align: right;\n",
       "    }\n",
       "</style>\n",
       "<table border=\"1\" class=\"dataframe\">\n",
       "  <thead>\n",
       "    <tr style=\"text-align: right;\">\n",
       "      <th></th>\n",
       "      <th>Unnamed: 0</th>\n",
       "      <th>id</th>\n",
       "      <th>mb_used</th>\n",
       "      <th>session_date</th>\n",
       "      <th>user_id</th>\n",
       "    </tr>\n",
       "  </thead>\n",
       "  <tbody>\n",
       "    <tr>\n",
       "      <td>0</td>\n",
       "      <td>0</td>\n",
       "      <td>1000_0</td>\n",
       "      <td>112.95</td>\n",
       "      <td>2018-11-25</td>\n",
       "      <td>1000</td>\n",
       "    </tr>\n",
       "    <tr>\n",
       "      <td>1</td>\n",
       "      <td>1</td>\n",
       "      <td>1000_1</td>\n",
       "      <td>1052.81</td>\n",
       "      <td>2018-09-07</td>\n",
       "      <td>1000</td>\n",
       "    </tr>\n",
       "    <tr>\n",
       "      <td>2</td>\n",
       "      <td>2</td>\n",
       "      <td>1000_2</td>\n",
       "      <td>1197.26</td>\n",
       "      <td>2018-06-25</td>\n",
       "      <td>1000</td>\n",
       "    </tr>\n",
       "    <tr>\n",
       "      <td>3</td>\n",
       "      <td>3</td>\n",
       "      <td>1000_3</td>\n",
       "      <td>550.27</td>\n",
       "      <td>2018-08-22</td>\n",
       "      <td>1000</td>\n",
       "    </tr>\n",
       "    <tr>\n",
       "      <td>4</td>\n",
       "      <td>4</td>\n",
       "      <td>1000_4</td>\n",
       "      <td>302.56</td>\n",
       "      <td>2018-09-24</td>\n",
       "      <td>1000</td>\n",
       "    </tr>\n",
       "    <tr>\n",
       "      <td>...</td>\n",
       "      <td>...</td>\n",
       "      <td>...</td>\n",
       "      <td>...</td>\n",
       "      <td>...</td>\n",
       "      <td>...</td>\n",
       "    </tr>\n",
       "    <tr>\n",
       "      <td>149391</td>\n",
       "      <td>149391</td>\n",
       "      <td>1499_152</td>\n",
       "      <td>318.90</td>\n",
       "      <td>2018-10-03</td>\n",
       "      <td>1499</td>\n",
       "    </tr>\n",
       "    <tr>\n",
       "      <td>149392</td>\n",
       "      <td>149392</td>\n",
       "      <td>1499_153</td>\n",
       "      <td>490.13</td>\n",
       "      <td>2018-12-14</td>\n",
       "      <td>1499</td>\n",
       "    </tr>\n",
       "    <tr>\n",
       "      <td>149393</td>\n",
       "      <td>149393</td>\n",
       "      <td>1499_154</td>\n",
       "      <td>0.00</td>\n",
       "      <td>2018-10-27</td>\n",
       "      <td>1499</td>\n",
       "    </tr>\n",
       "    <tr>\n",
       "      <td>149394</td>\n",
       "      <td>149394</td>\n",
       "      <td>1499_155</td>\n",
       "      <td>1246.32</td>\n",
       "      <td>2018-11-26</td>\n",
       "      <td>1499</td>\n",
       "    </tr>\n",
       "    <tr>\n",
       "      <td>149395</td>\n",
       "      <td>149395</td>\n",
       "      <td>1499_156</td>\n",
       "      <td>544.37</td>\n",
       "      <td>2018-10-26</td>\n",
       "      <td>1499</td>\n",
       "    </tr>\n",
       "  </tbody>\n",
       "</table>\n",
       "<p>149396 rows × 5 columns</p>\n",
       "</div>"
      ],
      "text/plain": [
       "        Unnamed: 0        id  mb_used session_date  user_id\n",
       "0                0    1000_0   112.95   2018-11-25     1000\n",
       "1                1    1000_1  1052.81   2018-09-07     1000\n",
       "2                2    1000_2  1197.26   2018-06-25     1000\n",
       "3                3    1000_3   550.27   2018-08-22     1000\n",
       "4                4    1000_4   302.56   2018-09-24     1000\n",
       "...            ...       ...      ...          ...      ...\n",
       "149391      149391  1499_152   318.90   2018-10-03     1499\n",
       "149392      149392  1499_153   490.13   2018-12-14     1499\n",
       "149393      149393  1499_154     0.00   2018-10-27     1499\n",
       "149394      149394  1499_155  1246.32   2018-11-26     1499\n",
       "149395      149395  1499_156   544.37   2018-10-26     1499\n",
       "\n",
       "[149396 rows x 5 columns]"
      ]
     },
     "execution_count": 11,
     "metadata": {},
     "output_type": "execute_result"
    }
   ],
   "source": [
    "# сведения о переданных данных:\n",
    "internet"
   ]
  },
  {
   "cell_type": "code",
   "execution_count": 12,
   "metadata": {},
   "outputs": [
    {
     "name": "stdout",
     "output_type": "stream",
     "text": [
      "<class 'pandas.core.frame.DataFrame'>\n",
      "RangeIndex: 149396 entries, 0 to 149395\n",
      "Data columns (total 5 columns):\n",
      "Unnamed: 0      149396 non-null int64\n",
      "id              149396 non-null object\n",
      "mb_used         149396 non-null float64\n",
      "session_date    149396 non-null object\n",
      "user_id         149396 non-null int64\n",
      "dtypes: float64(1), int64(2), object(2)\n",
      "memory usage: 5.7+ MB\n"
     ]
    }
   ],
   "source": [
    "internet.info()"
   ]
  },
  {
   "cell_type": "markdown",
   "metadata": {},
   "source": [
    "Названия столбцов корректны, пропусков данных нет.\n",
    "\n",
    "Выявленные проблемы:\n",
    "- Лишний столбец Unnamed: 0.\n",
    "- дата запасина как строка"
   ]
  },
  {
   "cell_type": "code",
   "execution_count": 13,
   "metadata": {},
   "outputs": [
    {
     "data": {
      "text/html": [
       "<div>\n",
       "<style scoped>\n",
       "    .dataframe tbody tr th:only-of-type {\n",
       "        vertical-align: middle;\n",
       "    }\n",
       "\n",
       "    .dataframe tbody tr th {\n",
       "        vertical-align: top;\n",
       "    }\n",
       "\n",
       "    .dataframe thead th {\n",
       "        text-align: right;\n",
       "    }\n",
       "</style>\n",
       "<table border=\"1\" class=\"dataframe\">\n",
       "  <thead>\n",
       "    <tr style=\"text-align: right;\">\n",
       "      <th></th>\n",
       "      <th>id</th>\n",
       "      <th>message_date</th>\n",
       "      <th>user_id</th>\n",
       "    </tr>\n",
       "  </thead>\n",
       "  <tbody>\n",
       "    <tr>\n",
       "      <td>0</td>\n",
       "      <td>1000_0</td>\n",
       "      <td>2018-06-27</td>\n",
       "      <td>1000</td>\n",
       "    </tr>\n",
       "    <tr>\n",
       "      <td>1</td>\n",
       "      <td>1000_1</td>\n",
       "      <td>2018-10-08</td>\n",
       "      <td>1000</td>\n",
       "    </tr>\n",
       "    <tr>\n",
       "      <td>2</td>\n",
       "      <td>1000_2</td>\n",
       "      <td>2018-08-04</td>\n",
       "      <td>1000</td>\n",
       "    </tr>\n",
       "    <tr>\n",
       "      <td>3</td>\n",
       "      <td>1000_3</td>\n",
       "      <td>2018-06-16</td>\n",
       "      <td>1000</td>\n",
       "    </tr>\n",
       "    <tr>\n",
       "      <td>4</td>\n",
       "      <td>1000_4</td>\n",
       "      <td>2018-12-05</td>\n",
       "      <td>1000</td>\n",
       "    </tr>\n",
       "    <tr>\n",
       "      <td>...</td>\n",
       "      <td>...</td>\n",
       "      <td>...</td>\n",
       "      <td>...</td>\n",
       "    </tr>\n",
       "    <tr>\n",
       "      <td>123031</td>\n",
       "      <td>1499_179</td>\n",
       "      <td>2018-12-12</td>\n",
       "      <td>1499</td>\n",
       "    </tr>\n",
       "    <tr>\n",
       "      <td>123032</td>\n",
       "      <td>1499_180</td>\n",
       "      <td>2018-09-28</td>\n",
       "      <td>1499</td>\n",
       "    </tr>\n",
       "    <tr>\n",
       "      <td>123033</td>\n",
       "      <td>1499_181</td>\n",
       "      <td>2018-09-27</td>\n",
       "      <td>1499</td>\n",
       "    </tr>\n",
       "    <tr>\n",
       "      <td>123034</td>\n",
       "      <td>1499_182</td>\n",
       "      <td>2018-11-15</td>\n",
       "      <td>1499</td>\n",
       "    </tr>\n",
       "    <tr>\n",
       "      <td>123035</td>\n",
       "      <td>1499_183</td>\n",
       "      <td>2018-11-16</td>\n",
       "      <td>1499</td>\n",
       "    </tr>\n",
       "  </tbody>\n",
       "</table>\n",
       "<p>123036 rows × 3 columns</p>\n",
       "</div>"
      ],
      "text/plain": [
       "              id message_date  user_id\n",
       "0         1000_0   2018-06-27     1000\n",
       "1         1000_1   2018-10-08     1000\n",
       "2         1000_2   2018-08-04     1000\n",
       "3         1000_3   2018-06-16     1000\n",
       "4         1000_4   2018-12-05     1000\n",
       "...          ...          ...      ...\n",
       "123031  1499_179   2018-12-12     1499\n",
       "123032  1499_180   2018-09-28     1499\n",
       "123033  1499_181   2018-09-27     1499\n",
       "123034  1499_182   2018-11-15     1499\n",
       "123035  1499_183   2018-11-16     1499\n",
       "\n",
       "[123036 rows x 3 columns]"
      ]
     },
     "execution_count": 13,
     "metadata": {},
     "output_type": "execute_result"
    }
   ],
   "source": [
    "# переданные сообщения\n",
    "messages"
   ]
  },
  {
   "cell_type": "code",
   "execution_count": 14,
   "metadata": {},
   "outputs": [
    {
     "name": "stdout",
     "output_type": "stream",
     "text": [
      "<class 'pandas.core.frame.DataFrame'>\n",
      "RangeIndex: 123036 entries, 0 to 123035\n",
      "Data columns (total 3 columns):\n",
      "id              123036 non-null object\n",
      "message_date    123036 non-null object\n",
      "user_id         123036 non-null int64\n",
      "dtypes: int64(1), object(2)\n",
      "memory usage: 2.8+ MB\n"
     ]
    }
   ],
   "source": [
    "messages.info()"
   ]
  },
  {
   "cell_type": "markdown",
   "metadata": {},
   "source": [
    "Названия столбцов корректны, пропусков нет.\n",
    "Выявленные проблемы:\n",
    "- дата записана как строка"
   ]
  },
  {
   "cell_type": "code",
   "execution_count": 15,
   "metadata": {},
   "outputs": [
    {
     "data": {
      "text/html": [
       "<div>\n",
       "<style scoped>\n",
       "    .dataframe tbody tr th:only-of-type {\n",
       "        vertical-align: middle;\n",
       "    }\n",
       "\n",
       "    .dataframe tbody tr th {\n",
       "        vertical-align: top;\n",
       "    }\n",
       "\n",
       "    .dataframe thead th {\n",
       "        text-align: right;\n",
       "    }\n",
       "</style>\n",
       "<table border=\"1\" class=\"dataframe\">\n",
       "  <thead>\n",
       "    <tr style=\"text-align: right;\">\n",
       "      <th></th>\n",
       "      <th>messages_included</th>\n",
       "      <th>mb_per_month_included</th>\n",
       "      <th>minutes_included</th>\n",
       "      <th>rub_monthly_fee</th>\n",
       "      <th>rub_per_gb</th>\n",
       "      <th>rub_per_message</th>\n",
       "      <th>rub_per_minute</th>\n",
       "      <th>tariff_name</th>\n",
       "    </tr>\n",
       "  </thead>\n",
       "  <tbody>\n",
       "    <tr>\n",
       "      <td>0</td>\n",
       "      <td>50</td>\n",
       "      <td>15360</td>\n",
       "      <td>500</td>\n",
       "      <td>550</td>\n",
       "      <td>200</td>\n",
       "      <td>3</td>\n",
       "      <td>3</td>\n",
       "      <td>smart</td>\n",
       "    </tr>\n",
       "    <tr>\n",
       "      <td>1</td>\n",
       "      <td>1000</td>\n",
       "      <td>30720</td>\n",
       "      <td>3000</td>\n",
       "      <td>1950</td>\n",
       "      <td>150</td>\n",
       "      <td>1</td>\n",
       "      <td>1</td>\n",
       "      <td>ultra</td>\n",
       "    </tr>\n",
       "  </tbody>\n",
       "</table>\n",
       "</div>"
      ],
      "text/plain": [
       "   messages_included  mb_per_month_included  minutes_included  \\\n",
       "0                 50                  15360               500   \n",
       "1               1000                  30720              3000   \n",
       "\n",
       "   rub_monthly_fee  rub_per_gb  rub_per_message  rub_per_minute tariff_name  \n",
       "0              550         200                3               3       smart  \n",
       "1             1950         150                1               1       ultra  "
      ]
     },
     "execution_count": 15,
     "metadata": {},
     "output_type": "execute_result"
    }
   ],
   "source": [
    "# тарифы\n",
    "tariffs"
   ]
  },
  {
   "cell_type": "code",
   "execution_count": 16,
   "metadata": {},
   "outputs": [
    {
     "name": "stdout",
     "output_type": "stream",
     "text": [
      "<class 'pandas.core.frame.DataFrame'>\n",
      "RangeIndex: 2 entries, 0 to 1\n",
      "Data columns (total 8 columns):\n",
      "messages_included        2 non-null int64\n",
      "mb_per_month_included    2 non-null int64\n",
      "minutes_included         2 non-null int64\n",
      "rub_monthly_fee          2 non-null int64\n",
      "rub_per_gb               2 non-null int64\n",
      "rub_per_message          2 non-null int64\n",
      "rub_per_minute           2 non-null int64\n",
      "tariff_name              2 non-null object\n",
      "dtypes: int64(7), object(1)\n",
      "memory usage: 256.0+ bytes\n"
     ]
    }
   ],
   "source": [
    "tariffs.info()"
   ]
  },
  {
   "cell_type": "markdown",
   "metadata": {},
   "source": [
    "Тарифы - ок. Типы данных соответствуют, числа в столбцах выглядят логично."
   ]
  },
  {
   "cell_type": "code",
   "execution_count": 17,
   "metadata": {},
   "outputs": [
    {
     "data": {
      "text/html": [
       "<div>\n",
       "<style scoped>\n",
       "    .dataframe tbody tr th:only-of-type {\n",
       "        vertical-align: middle;\n",
       "    }\n",
       "\n",
       "    .dataframe tbody tr th {\n",
       "        vertical-align: top;\n",
       "    }\n",
       "\n",
       "    .dataframe thead th {\n",
       "        text-align: right;\n",
       "    }\n",
       "</style>\n",
       "<table border=\"1\" class=\"dataframe\">\n",
       "  <thead>\n",
       "    <tr style=\"text-align: right;\">\n",
       "      <th></th>\n",
       "      <th>user_id</th>\n",
       "      <th>age</th>\n",
       "      <th>churn_date</th>\n",
       "      <th>city</th>\n",
       "      <th>first_name</th>\n",
       "      <th>last_name</th>\n",
       "      <th>reg_date</th>\n",
       "      <th>tariff</th>\n",
       "    </tr>\n",
       "  </thead>\n",
       "  <tbody>\n",
       "    <tr>\n",
       "      <td>0</td>\n",
       "      <td>1000</td>\n",
       "      <td>52</td>\n",
       "      <td>NaN</td>\n",
       "      <td>Краснодар</td>\n",
       "      <td>Рафаил</td>\n",
       "      <td>Верещагин</td>\n",
       "      <td>2018-05-25</td>\n",
       "      <td>ultra</td>\n",
       "    </tr>\n",
       "    <tr>\n",
       "      <td>1</td>\n",
       "      <td>1001</td>\n",
       "      <td>41</td>\n",
       "      <td>NaN</td>\n",
       "      <td>Москва</td>\n",
       "      <td>Иван</td>\n",
       "      <td>Ежов</td>\n",
       "      <td>2018-11-01</td>\n",
       "      <td>smart</td>\n",
       "    </tr>\n",
       "    <tr>\n",
       "      <td>2</td>\n",
       "      <td>1002</td>\n",
       "      <td>59</td>\n",
       "      <td>NaN</td>\n",
       "      <td>Стерлитамак</td>\n",
       "      <td>Евгений</td>\n",
       "      <td>Абрамович</td>\n",
       "      <td>2018-06-17</td>\n",
       "      <td>smart</td>\n",
       "    </tr>\n",
       "    <tr>\n",
       "      <td>3</td>\n",
       "      <td>1003</td>\n",
       "      <td>23</td>\n",
       "      <td>NaN</td>\n",
       "      <td>Москва</td>\n",
       "      <td>Белла</td>\n",
       "      <td>Белякова</td>\n",
       "      <td>2018-08-17</td>\n",
       "      <td>ultra</td>\n",
       "    </tr>\n",
       "    <tr>\n",
       "      <td>4</td>\n",
       "      <td>1004</td>\n",
       "      <td>68</td>\n",
       "      <td>NaN</td>\n",
       "      <td>Новокузнецк</td>\n",
       "      <td>Татьяна</td>\n",
       "      <td>Авдеенко</td>\n",
       "      <td>2018-05-14</td>\n",
       "      <td>ultra</td>\n",
       "    </tr>\n",
       "    <tr>\n",
       "      <td>...</td>\n",
       "      <td>...</td>\n",
       "      <td>...</td>\n",
       "      <td>...</td>\n",
       "      <td>...</td>\n",
       "      <td>...</td>\n",
       "      <td>...</td>\n",
       "      <td>...</td>\n",
       "      <td>...</td>\n",
       "    </tr>\n",
       "    <tr>\n",
       "      <td>495</td>\n",
       "      <td>1495</td>\n",
       "      <td>65</td>\n",
       "      <td>NaN</td>\n",
       "      <td>Иркутск</td>\n",
       "      <td>Авксентий</td>\n",
       "      <td>Фокин</td>\n",
       "      <td>2018-08-28</td>\n",
       "      <td>ultra</td>\n",
       "    </tr>\n",
       "    <tr>\n",
       "      <td>496</td>\n",
       "      <td>1496</td>\n",
       "      <td>36</td>\n",
       "      <td>NaN</td>\n",
       "      <td>Вологда</td>\n",
       "      <td>Трифон</td>\n",
       "      <td>Блохин</td>\n",
       "      <td>2018-01-27</td>\n",
       "      <td>smart</td>\n",
       "    </tr>\n",
       "    <tr>\n",
       "      <td>497</td>\n",
       "      <td>1497</td>\n",
       "      <td>32</td>\n",
       "      <td>NaN</td>\n",
       "      <td>Челябинск</td>\n",
       "      <td>Каролина</td>\n",
       "      <td>Агеева</td>\n",
       "      <td>2018-10-09</td>\n",
       "      <td>smart</td>\n",
       "    </tr>\n",
       "    <tr>\n",
       "      <td>498</td>\n",
       "      <td>1498</td>\n",
       "      <td>68</td>\n",
       "      <td>2018-10-25</td>\n",
       "      <td>Владикавказ</td>\n",
       "      <td>Всеволод</td>\n",
       "      <td>Акимчин</td>\n",
       "      <td>2018-07-19</td>\n",
       "      <td>smart</td>\n",
       "    </tr>\n",
       "    <tr>\n",
       "      <td>499</td>\n",
       "      <td>1499</td>\n",
       "      <td>35</td>\n",
       "      <td>NaN</td>\n",
       "      <td>Пермь</td>\n",
       "      <td>Гектор</td>\n",
       "      <td>Корнилов</td>\n",
       "      <td>2018-09-27</td>\n",
       "      <td>smart</td>\n",
       "    </tr>\n",
       "  </tbody>\n",
       "</table>\n",
       "<p>500 rows × 8 columns</p>\n",
       "</div>"
      ],
      "text/plain": [
       "     user_id  age  churn_date         city first_name  last_name    reg_date  \\\n",
       "0       1000   52         NaN    Краснодар     Рафаил  Верещагин  2018-05-25   \n",
       "1       1001   41         NaN       Москва       Иван       Ежов  2018-11-01   \n",
       "2       1002   59         NaN  Стерлитамак    Евгений  Абрамович  2018-06-17   \n",
       "3       1003   23         NaN       Москва      Белла   Белякова  2018-08-17   \n",
       "4       1004   68         NaN  Новокузнецк    Татьяна   Авдеенко  2018-05-14   \n",
       "..       ...  ...         ...          ...        ...        ...         ...   \n",
       "495     1495   65         NaN      Иркутск  Авксентий      Фокин  2018-08-28   \n",
       "496     1496   36         NaN      Вологда     Трифон     Блохин  2018-01-27   \n",
       "497     1497   32         NaN    Челябинск   Каролина     Агеева  2018-10-09   \n",
       "498     1498   68  2018-10-25  Владикавказ   Всеволод    Акимчин  2018-07-19   \n",
       "499     1499   35         NaN        Пермь     Гектор   Корнилов  2018-09-27   \n",
       "\n",
       "    tariff  \n",
       "0    ultra  \n",
       "1    smart  \n",
       "2    smart  \n",
       "3    ultra  \n",
       "4    ultra  \n",
       "..     ...  \n",
       "495  ultra  \n",
       "496  smart  \n",
       "497  smart  \n",
       "498  smart  \n",
       "499  smart  \n",
       "\n",
       "[500 rows x 8 columns]"
      ]
     },
     "execution_count": 17,
     "metadata": {},
     "output_type": "execute_result"
    }
   ],
   "source": [
    "# проверка таблицы с пользователями\n",
    "users"
   ]
  },
  {
   "cell_type": "code",
   "execution_count": 18,
   "metadata": {},
   "outputs": [
    {
     "name": "stdout",
     "output_type": "stream",
     "text": [
      "<class 'pandas.core.frame.DataFrame'>\n",
      "RangeIndex: 500 entries, 0 to 499\n",
      "Data columns (total 8 columns):\n",
      "user_id       500 non-null int64\n",
      "age           500 non-null int64\n",
      "churn_date    38 non-null object\n",
      "city          500 non-null object\n",
      "first_name    500 non-null object\n",
      "last_name     500 non-null object\n",
      "reg_date      500 non-null object\n",
      "tariff        500 non-null object\n",
      "dtypes: int64(2), object(6)\n",
      "memory usage: 31.4+ KB\n"
     ]
    }
   ],
   "source": [
    "users.info()"
   ]
  },
  {
   "cell_type": "markdown",
   "metadata": {},
   "source": [
    "Строк, как и пользователей ровно 500, что соответствует выборке. Ненулевые значения в столбце *churn_date* допустимы, означают, что тариф действующий.\n",
    "\n",
    "Имеются уже стандартная для этого набора данных проблема с типом данных \"дата\" в столбцах *reg_date и churn_date*"
   ]
  },
  {
   "cell_type": "markdown",
   "metadata": {},
   "source": [
    "**Вывод:** переданные данные соответствуют цели намеченного исследования, но требуют обработки.\n",
    "\n",
    "Пропусков, представляющих собой потерю информации, в данных нет, есть чисто технические, в столбце *churn_date*, обозначающие, что тариф действующий.\n",
    "\n",
    "Проблема с датами, везде записанными как строки."
   ]
  },
  {
   "cell_type": "markdown",
   "metadata": {},
   "source": [
    "### Шаг 2. Предобработка данных\n",
    "\n",
    "В предыдущем шаге я выяснил, что пропусков в данных нет, в этом шаге проверю данные на артефакты, но сначала приведу все данные к нужному типу:\n",
    "- даты к соответствующему типу"
   ]
  },
  {
   "cell_type": "code",
   "execution_count": 19,
   "metadata": {},
   "outputs": [],
   "source": [
    "# преобразование дат\n",
    "calls['call_date'] = pd.to_datetime(calls['call_date'], format='%Y-%m-%d')\n",
    "internet['session_date'] = pd.to_datetime(internet['session_date'], format='%Y-%m-%d')\n",
    "messages['message_date'] = pd.to_datetime(messages['message_date'], format='%Y-%m-%d')\n",
    "users['reg_date'] = pd.to_datetime(users['reg_date'], format='%Y-%m-%d')\n",
    "users['churn_date'] = pd.to_datetime(users['churn_date'], format='%Y-%m-%d')"
   ]
  },
  {
   "cell_type": "markdown",
   "metadata": {},
   "source": [
    "#### Анализ таблиц на артефакты:"
   ]
  },
  {
   "cell_type": "markdown",
   "metadata": {},
   "source": [
    "##### Звонки:\n",
    "\n",
    "Столбец *id* вспомогательный, его я использовать не буду. Проверяю колонки:\n",
    "\n",
    "- дата звонка\n",
    "- длительность\n",
    "- пользователь"
   ]
  },
  {
   "cell_type": "code",
   "execution_count": 20,
   "metadata": {
    "scrolled": true
   },
   "outputs": [
    {
     "data": {
      "text/html": [
       "<div>\n",
       "<style scoped>\n",
       "    .dataframe tbody tr th:only-of-type {\n",
       "        vertical-align: middle;\n",
       "    }\n",
       "\n",
       "    .dataframe tbody tr th {\n",
       "        vertical-align: top;\n",
       "    }\n",
       "\n",
       "    .dataframe thead th {\n",
       "        text-align: right;\n",
       "    }\n",
       "</style>\n",
       "<table border=\"1\" class=\"dataframe\">\n",
       "  <thead>\n",
       "    <tr style=\"text-align: right;\">\n",
       "      <th></th>\n",
       "      <th>duration</th>\n",
       "      <th>user_id</th>\n",
       "    </tr>\n",
       "  </thead>\n",
       "  <tbody>\n",
       "    <tr>\n",
       "      <td>count</td>\n",
       "      <td>202607.000000</td>\n",
       "      <td>202607.000000</td>\n",
       "    </tr>\n",
       "    <tr>\n",
       "      <td>mean</td>\n",
       "      <td>6.755887</td>\n",
       "      <td>1253.940619</td>\n",
       "    </tr>\n",
       "    <tr>\n",
       "      <td>std</td>\n",
       "      <td>5.843365</td>\n",
       "      <td>144.722751</td>\n",
       "    </tr>\n",
       "    <tr>\n",
       "      <td>min</td>\n",
       "      <td>0.000000</td>\n",
       "      <td>1000.000000</td>\n",
       "    </tr>\n",
       "    <tr>\n",
       "      <td>25%</td>\n",
       "      <td>1.300000</td>\n",
       "      <td>1126.000000</td>\n",
       "    </tr>\n",
       "    <tr>\n",
       "      <td>50%</td>\n",
       "      <td>6.000000</td>\n",
       "      <td>1260.000000</td>\n",
       "    </tr>\n",
       "    <tr>\n",
       "      <td>75%</td>\n",
       "      <td>10.700000</td>\n",
       "      <td>1379.000000</td>\n",
       "    </tr>\n",
       "    <tr>\n",
       "      <td>max</td>\n",
       "      <td>38.000000</td>\n",
       "      <td>1499.000000</td>\n",
       "    </tr>\n",
       "  </tbody>\n",
       "</table>\n",
       "</div>"
      ],
      "text/plain": [
       "            duration        user_id\n",
       "count  202607.000000  202607.000000\n",
       "mean        6.755887    1253.940619\n",
       "std         5.843365     144.722751\n",
       "min         0.000000    1000.000000\n",
       "25%         1.300000    1126.000000\n",
       "50%         6.000000    1260.000000\n",
       "75%        10.700000    1379.000000\n",
       "max        38.000000    1499.000000"
      ]
     },
     "execution_count": 20,
     "metadata": {},
     "output_type": "execute_result"
    }
   ],
   "source": [
    "# числовые данные\n",
    "\n",
    "calls.describe()"
   ]
  },
  {
   "cell_type": "markdown",
   "metadata": {},
   "source": [
    "- *user_id* - корректные данные, пользователи от 1000 до 1499.\n",
    "- длительность - корректные данные, отрицательных нет."
   ]
  },
  {
   "cell_type": "code",
   "execution_count": 21,
   "metadata": {},
   "outputs": [
    {
     "data": {
      "text/plain": [
       "19.551644316336553"
      ]
     },
     "execution_count": 21,
     "metadata": {},
     "output_type": "execute_result"
    }
   ],
   "source": [
    "# проверю количество нулевых данных\n",
    "calls.query('duration == 0')['duration'].count() * 100 / calls['duration'].count()"
   ]
  },
  {
   "cell_type": "markdown",
   "metadata": {},
   "source": [
    "20% звонков с нулевой длительностью. Очевидно, не смогли дозвониться. Эти данные менять не буду."
   ]
  },
  {
   "cell_type": "code",
   "execution_count": 22,
   "metadata": {},
   "outputs": [
    {
     "name": "stdout",
     "output_type": "stream",
     "text": [
      "Первый звонок: 2018-01-01 00:00:00\n",
      "Последний звонок: 2018-12-31 00:00:00\n"
     ]
    }
   ],
   "source": [
    "# статистика по датам звонков:\n",
    "print('Первый звонок:', calls['call_date'].min())\n",
    "print('Последний звонок:', calls['call_date'].max())"
   ]
  },
  {
   "cell_type": "code",
   "execution_count": 23,
   "metadata": {
    "scrolled": true
   },
   "outputs": [
    {
     "data": {
      "image/png": "[encoded data removed]",
      "text/plain": [
       "<Figure size 432x288 with 1 Axes>"
      ]
     },
     "metadata": {
      "needs_background": "light"
     },
     "output_type": "display_data"
    }
   ],
   "source": [
    "# всё верно, данные в пределах года.\n",
    "\n",
    "# распределение по месяцам количества звонков\n",
    "sns.distplot(calls['call_date'].dt.month, bins=12, kde=False);"
   ]
  },
  {
   "cell_type": "markdown",
   "metadata": {},
   "source": [
    "Количество звонков растет от месяца к месяцу."
   ]
  },
  {
   "cell_type": "markdown",
   "metadata": {},
   "source": [
    "##### Интернет\n",
    "\n",
    "Удаляю лишний столбец Unnamed.\n",
    "\n",
    "Столбцы для анализа:\n",
    "- испольовано мегабайт\n",
    "- пользователь\n",
    "- дата сессии"
   ]
  },
  {
   "cell_type": "code",
   "execution_count": 24,
   "metadata": {},
   "outputs": [],
   "source": [
    "internet.drop('Unnamed: 0', axis='columns', inplace=True)"
   ]
  },
  {
   "cell_type": "code",
   "execution_count": 25,
   "metadata": {},
   "outputs": [
    {
     "data": {
      "text/html": [
       "<div>\n",
       "<style scoped>\n",
       "    .dataframe tbody tr th:only-of-type {\n",
       "        vertical-align: middle;\n",
       "    }\n",
       "\n",
       "    .dataframe tbody tr th {\n",
       "        vertical-align: top;\n",
       "    }\n",
       "\n",
       "    .dataframe thead th {\n",
       "        text-align: right;\n",
       "    }\n",
       "</style>\n",
       "<table border=\"1\" class=\"dataframe\">\n",
       "  <thead>\n",
       "    <tr style=\"text-align: right;\">\n",
       "      <th></th>\n",
       "      <th>mb_used</th>\n",
       "      <th>user_id</th>\n",
       "    </tr>\n",
       "  </thead>\n",
       "  <tbody>\n",
       "    <tr>\n",
       "      <td>count</td>\n",
       "      <td>149396.000000</td>\n",
       "      <td>149396.000000</td>\n",
       "    </tr>\n",
       "    <tr>\n",
       "      <td>mean</td>\n",
       "      <td>370.192426</td>\n",
       "      <td>1252.099842</td>\n",
       "    </tr>\n",
       "    <tr>\n",
       "      <td>std</td>\n",
       "      <td>278.300951</td>\n",
       "      <td>144.050823</td>\n",
       "    </tr>\n",
       "    <tr>\n",
       "      <td>min</td>\n",
       "      <td>0.000000</td>\n",
       "      <td>1000.000000</td>\n",
       "    </tr>\n",
       "    <tr>\n",
       "      <td>25%</td>\n",
       "      <td>138.187500</td>\n",
       "      <td>1130.000000</td>\n",
       "    </tr>\n",
       "    <tr>\n",
       "      <td>50%</td>\n",
       "      <td>348.015000</td>\n",
       "      <td>1251.000000</td>\n",
       "    </tr>\n",
       "    <tr>\n",
       "      <td>75%</td>\n",
       "      <td>559.552500</td>\n",
       "      <td>1380.000000</td>\n",
       "    </tr>\n",
       "    <tr>\n",
       "      <td>max</td>\n",
       "      <td>1724.830000</td>\n",
       "      <td>1499.000000</td>\n",
       "    </tr>\n",
       "  </tbody>\n",
       "</table>\n",
       "</div>"
      ],
      "text/plain": [
       "             mb_used        user_id\n",
       "count  149396.000000  149396.000000\n",
       "mean      370.192426    1252.099842\n",
       "std       278.300951     144.050823\n",
       "min         0.000000    1000.000000\n",
       "25%       138.187500    1130.000000\n",
       "50%       348.015000    1251.000000\n",
       "75%       559.552500    1380.000000\n",
       "max      1724.830000    1499.000000"
      ]
     },
     "execution_count": 25,
     "metadata": {},
     "output_type": "execute_result"
    }
   ],
   "source": [
    "# просмотр статистики (числовые столбцы):\n",
    "\n",
    "internet.describe()"
   ]
  },
  {
   "cell_type": "markdown",
   "metadata": {},
   "source": [
    "Корректные данные."
   ]
  },
  {
   "cell_type": "code",
   "execution_count": 26,
   "metadata": {},
   "outputs": [
    {
     "data": {
      "text/plain": [
       "13.118155773916303"
      ]
     },
     "execution_count": 26,
     "metadata": {},
     "output_type": "execute_result"
    }
   ],
   "source": [
    "# проверка данных за сессию, равных 0\n",
    "internet.query('mb_used == 0')['mb_used'].count() * 100 / internet['mb_used'].count()"
   ]
  },
  {
   "cell_type": "markdown",
   "metadata": {},
   "source": [
    "Сессий, за которые передано 0 Мб - 13%."
   ]
  },
  {
   "cell_type": "code",
   "execution_count": 27,
   "metadata": {},
   "outputs": [
    {
     "name": "stdout",
     "output_type": "stream",
     "text": [
      "Первый выход в интернет: 2018-01-01 00:00:00\n",
      "Последний выход в интернет: 2018-12-31 00:00:00\n"
     ]
    }
   ],
   "source": [
    "print('Первый выход в интернет:', internet['session_date'].min())\n",
    "print('Последний выход в интернет:', internet['session_date'].max())"
   ]
  },
  {
   "cell_type": "code",
   "execution_count": 28,
   "metadata": {},
   "outputs": [
    {
     "data": {
      "image/png": "[encoded data removed]",
      "text/plain": [
       "<Figure size 432x288 with 1 Axes>"
      ]
     },
     "metadata": {
      "needs_background": "light"
     },
     "output_type": "display_data"
    }
   ],
   "source": [
    "# всё верно, данные в пределах года.\n",
    "\n",
    "# распределение по месяцам\n",
    "sns.distplot(internet['session_date'].dt.month, bins=12, kde=False);"
   ]
  },
  {
   "cell_type": "markdown",
   "metadata": {},
   "source": [
    "Количество сессий передачи данных растет от месяца к месяцу."
   ]
  },
  {
   "cell_type": "code",
   "execution_count": 29,
   "metadata": {
    "scrolled": true
   },
   "outputs": [
    {
     "data": {
      "image/png": "[encoded data removed]",
      "text/plain": [
       "<Figure size 432x288 with 1 Axes>"
      ]
     },
     "metadata": {
      "needs_background": "light"
     },
     "output_type": "display_data"
    }
   ],
   "source": [
    "# график распределения и линии, обозначающие месячный лимит для тарифов\n",
    "ax = sns.distplot(internet['mb_used'])\n",
    "_ = ax.set(xlabel='Количество мегабайт за сессию')\n",
    "_ = ax.set(ylabel='Плотность распределения')\n",
    "_ = plt.axvline(15_360, color='b', linestyle='dashed', linewidth=1)\n",
    "_ = plt.axvline(30_720, color='r', linestyle='dashed', linewidth=2)"
   ]
  },
  {
   "cell_type": "markdown",
   "metadata": {},
   "source": [
    "Как видно, за сессию передаётся гораздо меньше данных, чем месячный лимит. Данные корректны."
   ]
  },
  {
   "cell_type": "markdown",
   "metadata": {},
   "source": [
    "##### Сообщения. \n",
    "\n",
    "Для анализа пригоден только столбец с датами."
   ]
  },
  {
   "cell_type": "code",
   "execution_count": 30,
   "metadata": {},
   "outputs": [
    {
     "name": "stdout",
     "output_type": "stream",
     "text": [
      "Первая дата отправки сообщения в выборке: 2018-01-02 00:00:00\n",
      "Последняя дата отправки сообщения в выборке: 2018-12-31 00:00:00\n"
     ]
    }
   ],
   "source": [
    "# проверка соответствия сообщений нужному интервалу\n",
    "print('Первая дата отправки сообщения в выборке:', messages['message_date'].min())\n",
    "print('Последняя дата отправки сообщения в выборке:', messages['message_date'].max())"
   ]
  },
  {
   "cell_type": "code",
   "execution_count": 31,
   "metadata": {},
   "outputs": [
    {
     "data": {
      "image/png": "[encoded data removed]",
      "text/plain": [
       "<Figure size 432x288 with 1 Axes>"
      ]
     },
     "metadata": {
      "needs_background": "light"
     },
     "output_type": "display_data"
    }
   ],
   "source": [
    "# корректно\n",
    "\n",
    "# распределение по месяцам:\n",
    "sns.distplot(messages['message_date'].dt.month, bins=12, kde=False);"
   ]
  },
  {
   "cell_type": "markdown",
   "metadata": {},
   "source": [
    "Так же, как и для данных и звонков - практически равномерное увеличение звонков по месяцам."
   ]
  },
  {
   "cell_type": "code",
   "execution_count": 32,
   "metadata": {},
   "outputs": [],
   "source": [
    "# преобразование дат\n"
   ]
  },
  {
   "cell_type": "code",
   "execution_count": 33,
   "metadata": {},
   "outputs": [
    {
     "data": {
      "text/html": [
       "<div>\n",
       "<style scoped>\n",
       "    .dataframe tbody tr th:only-of-type {\n",
       "        vertical-align: middle;\n",
       "    }\n",
       "\n",
       "    .dataframe tbody tr th {\n",
       "        vertical-align: top;\n",
       "    }\n",
       "\n",
       "    .dataframe thead th {\n",
       "        text-align: right;\n",
       "    }\n",
       "</style>\n",
       "<table border=\"1\" class=\"dataframe\">\n",
       "  <thead>\n",
       "    <tr style=\"text-align: right;\">\n",
       "      <th></th>\n",
       "      <th>user_id</th>\n",
       "      <th>age</th>\n",
       "      <th>churn_date</th>\n",
       "      <th>city</th>\n",
       "      <th>first_name</th>\n",
       "      <th>last_name</th>\n",
       "      <th>reg_date</th>\n",
       "      <th>tariff</th>\n",
       "    </tr>\n",
       "  </thead>\n",
       "  <tbody>\n",
       "    <tr>\n",
       "      <td>0</td>\n",
       "      <td>1000</td>\n",
       "      <td>52</td>\n",
       "      <td>NaT</td>\n",
       "      <td>Краснодар</td>\n",
       "      <td>Рафаил</td>\n",
       "      <td>Верещагин</td>\n",
       "      <td>2018-05-25</td>\n",
       "      <td>ultra</td>\n",
       "    </tr>\n",
       "    <tr>\n",
       "      <td>1</td>\n",
       "      <td>1001</td>\n",
       "      <td>41</td>\n",
       "      <td>NaT</td>\n",
       "      <td>Москва</td>\n",
       "      <td>Иван</td>\n",
       "      <td>Ежов</td>\n",
       "      <td>2018-11-01</td>\n",
       "      <td>smart</td>\n",
       "    </tr>\n",
       "    <tr>\n",
       "      <td>2</td>\n",
       "      <td>1002</td>\n",
       "      <td>59</td>\n",
       "      <td>NaT</td>\n",
       "      <td>Стерлитамак</td>\n",
       "      <td>Евгений</td>\n",
       "      <td>Абрамович</td>\n",
       "      <td>2018-06-17</td>\n",
       "      <td>smart</td>\n",
       "    </tr>\n",
       "    <tr>\n",
       "      <td>3</td>\n",
       "      <td>1003</td>\n",
       "      <td>23</td>\n",
       "      <td>NaT</td>\n",
       "      <td>Москва</td>\n",
       "      <td>Белла</td>\n",
       "      <td>Белякова</td>\n",
       "      <td>2018-08-17</td>\n",
       "      <td>ultra</td>\n",
       "    </tr>\n",
       "    <tr>\n",
       "      <td>4</td>\n",
       "      <td>1004</td>\n",
       "      <td>68</td>\n",
       "      <td>NaT</td>\n",
       "      <td>Новокузнецк</td>\n",
       "      <td>Татьяна</td>\n",
       "      <td>Авдеенко</td>\n",
       "      <td>2018-05-14</td>\n",
       "      <td>ultra</td>\n",
       "    </tr>\n",
       "    <tr>\n",
       "      <td>...</td>\n",
       "      <td>...</td>\n",
       "      <td>...</td>\n",
       "      <td>...</td>\n",
       "      <td>...</td>\n",
       "      <td>...</td>\n",
       "      <td>...</td>\n",
       "      <td>...</td>\n",
       "      <td>...</td>\n",
       "    </tr>\n",
       "    <tr>\n",
       "      <td>495</td>\n",
       "      <td>1495</td>\n",
       "      <td>65</td>\n",
       "      <td>NaT</td>\n",
       "      <td>Иркутск</td>\n",
       "      <td>Авксентий</td>\n",
       "      <td>Фокин</td>\n",
       "      <td>2018-08-28</td>\n",
       "      <td>ultra</td>\n",
       "    </tr>\n",
       "    <tr>\n",
       "      <td>496</td>\n",
       "      <td>1496</td>\n",
       "      <td>36</td>\n",
       "      <td>NaT</td>\n",
       "      <td>Вологда</td>\n",
       "      <td>Трифон</td>\n",
       "      <td>Блохин</td>\n",
       "      <td>2018-01-27</td>\n",
       "      <td>smart</td>\n",
       "    </tr>\n",
       "    <tr>\n",
       "      <td>497</td>\n",
       "      <td>1497</td>\n",
       "      <td>32</td>\n",
       "      <td>NaT</td>\n",
       "      <td>Челябинск</td>\n",
       "      <td>Каролина</td>\n",
       "      <td>Агеева</td>\n",
       "      <td>2018-10-09</td>\n",
       "      <td>smart</td>\n",
       "    </tr>\n",
       "    <tr>\n",
       "      <td>498</td>\n",
       "      <td>1498</td>\n",
       "      <td>68</td>\n",
       "      <td>2018-10-25</td>\n",
       "      <td>Владикавказ</td>\n",
       "      <td>Всеволод</td>\n",
       "      <td>Акимчин</td>\n",
       "      <td>2018-07-19</td>\n",
       "      <td>smart</td>\n",
       "    </tr>\n",
       "    <tr>\n",
       "      <td>499</td>\n",
       "      <td>1499</td>\n",
       "      <td>35</td>\n",
       "      <td>NaT</td>\n",
       "      <td>Пермь</td>\n",
       "      <td>Гектор</td>\n",
       "      <td>Корнилов</td>\n",
       "      <td>2018-09-27</td>\n",
       "      <td>smart</td>\n",
       "    </tr>\n",
       "  </tbody>\n",
       "</table>\n",
       "<p>500 rows × 8 columns</p>\n",
       "</div>"
      ],
      "text/plain": [
       "     user_id  age churn_date         city first_name  last_name   reg_date  \\\n",
       "0       1000   52        NaT    Краснодар     Рафаил  Верещагин 2018-05-25   \n",
       "1       1001   41        NaT       Москва       Иван       Ежов 2018-11-01   \n",
       "2       1002   59        NaT  Стерлитамак    Евгений  Абрамович 2018-06-17   \n",
       "3       1003   23        NaT       Москва      Белла   Белякова 2018-08-17   \n",
       "4       1004   68        NaT  Новокузнецк    Татьяна   Авдеенко 2018-05-14   \n",
       "..       ...  ...        ...          ...        ...        ...        ...   \n",
       "495     1495   65        NaT      Иркутск  Авксентий      Фокин 2018-08-28   \n",
       "496     1496   36        NaT      Вологда     Трифон     Блохин 2018-01-27   \n",
       "497     1497   32        NaT    Челябинск   Каролина     Агеева 2018-10-09   \n",
       "498     1498   68 2018-10-25  Владикавказ   Всеволод    Акимчин 2018-07-19   \n",
       "499     1499   35        NaT        Пермь     Гектор   Корнилов 2018-09-27   \n",
       "\n",
       "    tariff  \n",
       "0    ultra  \n",
       "1    smart  \n",
       "2    smart  \n",
       "3    ultra  \n",
       "4    ultra  \n",
       "..     ...  \n",
       "495  ultra  \n",
       "496  smart  \n",
       "497  smart  \n",
       "498  smart  \n",
       "499  smart  \n",
       "\n",
       "[500 rows x 8 columns]"
      ]
     },
     "metadata": {},
     "output_type": "display_data"
    },
    {
     "name": "stdout",
     "output_type": "stream",
     "text": [
      "<class 'pandas.core.frame.DataFrame'>\n",
      "RangeIndex: 500 entries, 0 to 499\n",
      "Data columns (total 8 columns):\n",
      "user_id       500 non-null int64\n",
      "age           500 non-null int64\n",
      "churn_date    38 non-null datetime64[ns]\n",
      "city          500 non-null object\n",
      "first_name    500 non-null object\n",
      "last_name     500 non-null object\n",
      "reg_date      500 non-null datetime64[ns]\n",
      "tariff        500 non-null object\n",
      "dtypes: datetime64[ns](2), int64(2), object(4)\n",
      "memory usage: 31.4+ KB\n"
     ]
    }
   ],
   "source": [
    "display(users)\n",
    "users.info()"
   ]
  },
  {
   "cell_type": "markdown",
   "metadata": {},
   "source": [
    "Столбцы для анализа:\n",
    "- *возраст*\n",
    "- *город*\n",
    "- *дата регистрации*\n",
    "- *дата прекращения пользования тарифом*\n",
    "- *тариф*\n",
    "\n",
    "столбцы:\n",
    "- имя\n",
    "- фамилия\n",
    "\n",
    "не использую."
   ]
  },
  {
   "cell_type": "code",
   "execution_count": 34,
   "metadata": {},
   "outputs": [
    {
     "data": {
      "text/html": [
       "<style  type=\"text/css\" >\n",
       "    #T_3a0cddfc_c33e_11ea_91aa_02420a397797row0_col0 {\n",
       "            width:  10em;\n",
       "             height:  80%;\n",
       "            background:  linear-gradient(90deg,#d65f5f 27.3%, transparent 27.3%);\n",
       "        }    #T_3a0cddfc_c33e_11ea_91aa_02420a397797row1_col0 {\n",
       "            width:  10em;\n",
       "             height:  80%;\n",
       "            background:  linear-gradient(90deg,#d65f5f 54.5%, transparent 54.5%);\n",
       "        }    #T_3a0cddfc_c33e_11ea_91aa_02420a397797row2_col0 {\n",
       "            width:  10em;\n",
       "             height:  80%;\n",
       "            background:  linear-gradient(90deg,#d65f5f 54.5%, transparent 54.5%);\n",
       "        }    #T_3a0cddfc_c33e_11ea_91aa_02420a397797row3_col0 {\n",
       "            width:  10em;\n",
       "             height:  80%;\n",
       "            background:  linear-gradient(90deg,#d65f5f 81.8%, transparent 81.8%);\n",
       "        }    #T_3a0cddfc_c33e_11ea_91aa_02420a397797row4_col0 {\n",
       "            width:  10em;\n",
       "             height:  80%;\n",
       "            background:  linear-gradient(90deg,#d65f5f 18.2%, transparent 18.2%);\n",
       "        }    #T_3a0cddfc_c33e_11ea_91aa_02420a397797row5_col0 {\n",
       "            width:  10em;\n",
       "             height:  80%;\n",
       "            background:  linear-gradient(90deg,#d65f5f 54.5%, transparent 54.5%);\n",
       "        }    #T_3a0cddfc_c33e_11ea_91aa_02420a397797row6_col0 {\n",
       "            width:  10em;\n",
       "             height:  80%;\n",
       "            background:  linear-gradient(90deg,#d65f5f 54.5%, transparent 54.5%);\n",
       "        }    #T_3a0cddfc_c33e_11ea_91aa_02420a397797row7_col0 {\n",
       "            width:  10em;\n",
       "             height:  80%;\n",
       "            background:  linear-gradient(90deg,#d65f5f 36.4%, transparent 36.4%);\n",
       "        }    #T_3a0cddfc_c33e_11ea_91aa_02420a397797row8_col0 {\n",
       "            width:  10em;\n",
       "             height:  80%;\n",
       "            background:  linear-gradient(90deg,#d65f5f 72.7%, transparent 72.7%);\n",
       "        }    #T_3a0cddfc_c33e_11ea_91aa_02420a397797row9_col0 {\n",
       "            width:  10em;\n",
       "             height:  80%;\n",
       "            background:  linear-gradient(90deg,#d65f5f 54.5%, transparent 54.5%);\n",
       "        }    #T_3a0cddfc_c33e_11ea_91aa_02420a397797row10_col0 {\n",
       "            width:  10em;\n",
       "             height:  80%;\n",
       "            background:  linear-gradient(90deg,#d65f5f 54.5%, transparent 54.5%);\n",
       "        }    #T_3a0cddfc_c33e_11ea_91aa_02420a397797row11_col0 {\n",
       "            width:  10em;\n",
       "             height:  80%;\n",
       "            background:  linear-gradient(90deg,#d65f5f 72.7%, transparent 72.7%);\n",
       "        }    #T_3a0cddfc_c33e_11ea_91aa_02420a397797row12_col0 {\n",
       "            width:  10em;\n",
       "             height:  80%;\n",
       "            background:  linear-gradient(90deg,#d65f5f 54.5%, transparent 54.5%);\n",
       "        }    #T_3a0cddfc_c33e_11ea_91aa_02420a397797row13_col0 {\n",
       "            width:  10em;\n",
       "             height:  80%;\n",
       "            background:  linear-gradient(90deg,#d65f5f 36.4%, transparent 36.4%);\n",
       "        }    #T_3a0cddfc_c33e_11ea_91aa_02420a397797row14_col0 {\n",
       "            width:  10em;\n",
       "             height:  80%;\n",
       "            background:  linear-gradient(90deg,#d65f5f 36.4%, transparent 36.4%);\n",
       "        }    #T_3a0cddfc_c33e_11ea_91aa_02420a397797row15_col0 {\n",
       "            width:  10em;\n",
       "             height:  80%;\n",
       "            background:  linear-gradient(90deg,#d65f5f 18.2%, transparent 18.2%);\n",
       "        }    #T_3a0cddfc_c33e_11ea_91aa_02420a397797row16_col0 {\n",
       "            width:  10em;\n",
       "             height:  80%;\n",
       "            background:  linear-gradient(90deg,#d65f5f 18.2%, transparent 18.2%);\n",
       "        }    #T_3a0cddfc_c33e_11ea_91aa_02420a397797row17_col0 {\n",
       "            width:  10em;\n",
       "             height:  80%;\n",
       "            background:  linear-gradient(90deg,#d65f5f 36.4%, transparent 36.4%);\n",
       "        }    #T_3a0cddfc_c33e_11ea_91aa_02420a397797row18_col0 {\n",
       "            width:  10em;\n",
       "             height:  80%;\n",
       "            background:  linear-gradient(90deg,#d65f5f 63.6%, transparent 63.6%);\n",
       "        }    #T_3a0cddfc_c33e_11ea_91aa_02420a397797row19_col0 {\n",
       "            width:  10em;\n",
       "             height:  80%;\n",
       "            background:  linear-gradient(90deg,#d65f5f 72.7%, transparent 72.7%);\n",
       "        }    #T_3a0cddfc_c33e_11ea_91aa_02420a397797row20_col0 {\n",
       "            width:  10em;\n",
       "             height:  80%;\n",
       "            background:  linear-gradient(90deg,#d65f5f 18.2%, transparent 18.2%);\n",
       "        }    #T_3a0cddfc_c33e_11ea_91aa_02420a397797row21_col0 {\n",
       "            width:  10em;\n",
       "             height:  80%;\n",
       "            background:  linear-gradient(90deg,#d65f5f 72.7%, transparent 72.7%);\n",
       "        }    #T_3a0cddfc_c33e_11ea_91aa_02420a397797row22_col0 {\n",
       "            width:  10em;\n",
       "             height:  80%;\n",
       "            background:  linear-gradient(90deg,#d65f5f 81.8%, transparent 81.8%);\n",
       "        }    #T_3a0cddfc_c33e_11ea_91aa_02420a397797row23_col0 {\n",
       "            width:  10em;\n",
       "             height:  80%;\n",
       "            background:  linear-gradient(90deg,#d65f5f 63.6%, transparent 63.6%);\n",
       "        }    #T_3a0cddfc_c33e_11ea_91aa_02420a397797row24_col0 {\n",
       "            width:  10em;\n",
       "             height:  80%;\n",
       "            background:  linear-gradient(90deg,#d65f5f 100.0%, transparent 100.0%);\n",
       "        }    #T_3a0cddfc_c33e_11ea_91aa_02420a397797row25_col0 {\n",
       "            width:  10em;\n",
       "             height:  80%;\n",
       "            background:  linear-gradient(90deg,#d65f5f 36.4%, transparent 36.4%);\n",
       "        }    #T_3a0cddfc_c33e_11ea_91aa_02420a397797row26_col0 {\n",
       "            width:  10em;\n",
       "             height:  80%;\n",
       "            background:  linear-gradient(90deg,#d65f5f 45.5%, transparent 45.5%);\n",
       "        }    #T_3a0cddfc_c33e_11ea_91aa_02420a397797row27_col0 {\n",
       "            width:  10em;\n",
       "             height:  80%;\n",
       "            background:  linear-gradient(90deg,#d65f5f 63.6%, transparent 63.6%);\n",
       "        }    #T_3a0cddfc_c33e_11ea_91aa_02420a397797row28_col0 {\n",
       "            width:  10em;\n",
       "             height:  80%;\n",
       "            background:  linear-gradient(90deg,#d65f5f 36.4%, transparent 36.4%);\n",
       "        }    #T_3a0cddfc_c33e_11ea_91aa_02420a397797row29_col0 {\n",
       "            width:  10em;\n",
       "             height:  80%;\n",
       "            background:  linear-gradient(90deg,#d65f5f 72.7%, transparent 72.7%);\n",
       "        }    #T_3a0cddfc_c33e_11ea_91aa_02420a397797row30_col0 {\n",
       "            width:  10em;\n",
       "             height:  80%;\n",
       "            background:  linear-gradient(90deg,#d65f5f 54.5%, transparent 54.5%);\n",
       "        }    #T_3a0cddfc_c33e_11ea_91aa_02420a397797row31_col0 {\n",
       "            width:  10em;\n",
       "             height:  80%;\n",
       "            background:  linear-gradient(90deg,#d65f5f 9.1%, transparent 9.1%);\n",
       "        }    #T_3a0cddfc_c33e_11ea_91aa_02420a397797row32_col0 {\n",
       "            width:  10em;\n",
       "             height:  80%;\n",
       "            background:  linear-gradient(90deg,#d65f5f 54.5%, transparent 54.5%);\n",
       "        }    #T_3a0cddfc_c33e_11ea_91aa_02420a397797row33_col0 {\n",
       "            width:  10em;\n",
       "             height:  80%;\n",
       "            background:  linear-gradient(90deg,#d65f5f 54.5%, transparent 54.5%);\n",
       "        }    #T_3a0cddfc_c33e_11ea_91aa_02420a397797row34_col0 {\n",
       "            width:  10em;\n",
       "             height:  80%;\n",
       "            background:  linear-gradient(90deg,#d65f5f 63.6%, transparent 63.6%);\n",
       "        }    #T_3a0cddfc_c33e_11ea_91aa_02420a397797row35_col0 {\n",
       "            width:  10em;\n",
       "             height:  80%;\n",
       "            background:  linear-gradient(90deg,#d65f5f 100.0%, transparent 100.0%);\n",
       "        }    #T_3a0cddfc_c33e_11ea_91aa_02420a397797row36_col0 {\n",
       "            width:  10em;\n",
       "             height:  80%;\n",
       "            background:  linear-gradient(90deg,#d65f5f 27.3%, transparent 27.3%);\n",
       "        }    #T_3a0cddfc_c33e_11ea_91aa_02420a397797row37_col0 {\n",
       "            width:  10em;\n",
       "             height:  80%;\n",
       "            background:  linear-gradient(90deg,#d65f5f 45.5%, transparent 45.5%);\n",
       "        }    #T_3a0cddfc_c33e_11ea_91aa_02420a397797row38_col0 {\n",
       "            width:  10em;\n",
       "             height:  80%;\n",
       "            background:  linear-gradient(90deg,#d65f5f 54.5%, transparent 54.5%);\n",
       "        }    #T_3a0cddfc_c33e_11ea_91aa_02420a397797row39_col0 {\n",
       "            width:  10em;\n",
       "             height:  80%;\n",
       "            background:  linear-gradient(90deg,#d65f5f 9.1%, transparent 9.1%);\n",
       "        }    #T_3a0cddfc_c33e_11ea_91aa_02420a397797row40_col0 {\n",
       "            width:  10em;\n",
       "             height:  80%;\n",
       "            background:  linear-gradient(90deg,#d65f5f 63.6%, transparent 63.6%);\n",
       "        }    #T_3a0cddfc_c33e_11ea_91aa_02420a397797row41_col0 {\n",
       "            width:  10em;\n",
       "             height:  80%;\n",
       "            background:  linear-gradient(90deg,#d65f5f 27.3%, transparent 27.3%);\n",
       "        }    #T_3a0cddfc_c33e_11ea_91aa_02420a397797row42_col0 {\n",
       "            width:  10em;\n",
       "             height:  80%;\n",
       "            background:  linear-gradient(90deg,#d65f5f 45.5%, transparent 45.5%);\n",
       "        }    #T_3a0cddfc_c33e_11ea_91aa_02420a397797row43_col0 {\n",
       "            width:  10em;\n",
       "             height:  80%;\n",
       "        }    #T_3a0cddfc_c33e_11ea_91aa_02420a397797row44_col0 {\n",
       "            width:  10em;\n",
       "             height:  80%;\n",
       "            background:  linear-gradient(90deg,#d65f5f 45.5%, transparent 45.5%);\n",
       "        }    #T_3a0cddfc_c33e_11ea_91aa_02420a397797row45_col0 {\n",
       "            width:  10em;\n",
       "             height:  80%;\n",
       "            background:  linear-gradient(90deg,#d65f5f 90.9%, transparent 90.9%);\n",
       "        }    #T_3a0cddfc_c33e_11ea_91aa_02420a397797row46_col0 {\n",
       "            width:  10em;\n",
       "             height:  80%;\n",
       "            background:  linear-gradient(90deg,#d65f5f 90.9%, transparent 90.9%);\n",
       "        }    #T_3a0cddfc_c33e_11ea_91aa_02420a397797row47_col0 {\n",
       "            width:  10em;\n",
       "             height:  80%;\n",
       "            background:  linear-gradient(90deg,#d65f5f 54.5%, transparent 54.5%);\n",
       "        }    #T_3a0cddfc_c33e_11ea_91aa_02420a397797row48_col0 {\n",
       "            width:  10em;\n",
       "             height:  80%;\n",
       "            background:  linear-gradient(90deg,#d65f5f 54.5%, transparent 54.5%);\n",
       "        }    #T_3a0cddfc_c33e_11ea_91aa_02420a397797row49_col0 {\n",
       "            width:  10em;\n",
       "             height:  80%;\n",
       "            background:  linear-gradient(90deg,#d65f5f 36.4%, transparent 36.4%);\n",
       "        }    #T_3a0cddfc_c33e_11ea_91aa_02420a397797row50_col0 {\n",
       "            width:  10em;\n",
       "             height:  80%;\n",
       "            background:  linear-gradient(90deg,#d65f5f 54.5%, transparent 54.5%);\n",
       "        }    #T_3a0cddfc_c33e_11ea_91aa_02420a397797row51_col0 {\n",
       "            width:  10em;\n",
       "             height:  80%;\n",
       "            background:  linear-gradient(90deg,#d65f5f 45.5%, transparent 45.5%);\n",
       "        }    #T_3a0cddfc_c33e_11ea_91aa_02420a397797row52_col0 {\n",
       "            width:  10em;\n",
       "             height:  80%;\n",
       "            background:  linear-gradient(90deg,#d65f5f 63.6%, transparent 63.6%);\n",
       "        }    #T_3a0cddfc_c33e_11ea_91aa_02420a397797row53_col0 {\n",
       "            width:  10em;\n",
       "             height:  80%;\n",
       "            background:  linear-gradient(90deg,#d65f5f 90.9%, transparent 90.9%);\n",
       "        }    #T_3a0cddfc_c33e_11ea_91aa_02420a397797row54_col0 {\n",
       "            width:  10em;\n",
       "             height:  80%;\n",
       "            background:  linear-gradient(90deg,#d65f5f 18.2%, transparent 18.2%);\n",
       "        }    #T_3a0cddfc_c33e_11ea_91aa_02420a397797row55_col0 {\n",
       "            width:  10em;\n",
       "             height:  80%;\n",
       "            background:  linear-gradient(90deg,#d65f5f 81.8%, transparent 81.8%);\n",
       "        }    #T_3a0cddfc_c33e_11ea_91aa_02420a397797row56_col0 {\n",
       "            width:  10em;\n",
       "             height:  80%;\n",
       "            background:  linear-gradient(90deg,#d65f5f 36.4%, transparent 36.4%);\n",
       "        }    #T_3a0cddfc_c33e_11ea_91aa_02420a397797row57_col0 {\n",
       "            width:  10em;\n",
       "             height:  80%;\n",
       "            background:  linear-gradient(90deg,#d65f5f 27.3%, transparent 27.3%);\n",
       "        }</style><table id=\"T_3a0cddfc_c33e_11ea_91aa_02420a397797\" ><thead>    <tr>        <th class=\"blank level0\" ></th>        <th class=\"col_heading level0 col0\" >age</th>    </tr></thead><tbody>\n",
       "                <tr>\n",
       "                        <th id=\"T_3a0cddfc_c33e_11ea_91aa_02420a397797level0_row0\" class=\"row_heading level0 row0\" >18</th>\n",
       "                        <td id=\"T_3a0cddfc_c33e_11ea_91aa_02420a397797row0_col0\" class=\"data row0 col0\" >6</td>\n",
       "            </tr>\n",
       "            <tr>\n",
       "                        <th id=\"T_3a0cddfc_c33e_11ea_91aa_02420a397797level0_row1\" class=\"row_heading level0 row1\" >19</th>\n",
       "                        <td id=\"T_3a0cddfc_c33e_11ea_91aa_02420a397797row1_col0\" class=\"data row1 col0\" >9</td>\n",
       "            </tr>\n",
       "            <tr>\n",
       "                        <th id=\"T_3a0cddfc_c33e_11ea_91aa_02420a397797level0_row2\" class=\"row_heading level0 row2\" >20</th>\n",
       "                        <td id=\"T_3a0cddfc_c33e_11ea_91aa_02420a397797row2_col0\" class=\"data row2 col0\" >9</td>\n",
       "            </tr>\n",
       "            <tr>\n",
       "                        <th id=\"T_3a0cddfc_c33e_11ea_91aa_02420a397797level0_row3\" class=\"row_heading level0 row3\" >21</th>\n",
       "                        <td id=\"T_3a0cddfc_c33e_11ea_91aa_02420a397797row3_col0\" class=\"data row3 col0\" >12</td>\n",
       "            </tr>\n",
       "            <tr>\n",
       "                        <th id=\"T_3a0cddfc_c33e_11ea_91aa_02420a397797level0_row4\" class=\"row_heading level0 row4\" >22</th>\n",
       "                        <td id=\"T_3a0cddfc_c33e_11ea_91aa_02420a397797row4_col0\" class=\"data row4 col0\" >5</td>\n",
       "            </tr>\n",
       "            <tr>\n",
       "                        <th id=\"T_3a0cddfc_c33e_11ea_91aa_02420a397797level0_row5\" class=\"row_heading level0 row5\" >23</th>\n",
       "                        <td id=\"T_3a0cddfc_c33e_11ea_91aa_02420a397797row5_col0\" class=\"data row5 col0\" >9</td>\n",
       "            </tr>\n",
       "            <tr>\n",
       "                        <th id=\"T_3a0cddfc_c33e_11ea_91aa_02420a397797level0_row6\" class=\"row_heading level0 row6\" >24</th>\n",
       "                        <td id=\"T_3a0cddfc_c33e_11ea_91aa_02420a397797row6_col0\" class=\"data row6 col0\" >9</td>\n",
       "            </tr>\n",
       "            <tr>\n",
       "                        <th id=\"T_3a0cddfc_c33e_11ea_91aa_02420a397797level0_row7\" class=\"row_heading level0 row7\" >25</th>\n",
       "                        <td id=\"T_3a0cddfc_c33e_11ea_91aa_02420a397797row7_col0\" class=\"data row7 col0\" >7</td>\n",
       "            </tr>\n",
       "            <tr>\n",
       "                        <th id=\"T_3a0cddfc_c33e_11ea_91aa_02420a397797level0_row8\" class=\"row_heading level0 row8\" >26</th>\n",
       "                        <td id=\"T_3a0cddfc_c33e_11ea_91aa_02420a397797row8_col0\" class=\"data row8 col0\" >11</td>\n",
       "            </tr>\n",
       "            <tr>\n",
       "                        <th id=\"T_3a0cddfc_c33e_11ea_91aa_02420a397797level0_row9\" class=\"row_heading level0 row9\" >27</th>\n",
       "                        <td id=\"T_3a0cddfc_c33e_11ea_91aa_02420a397797row9_col0\" class=\"data row9 col0\" >9</td>\n",
       "            </tr>\n",
       "            <tr>\n",
       "                        <th id=\"T_3a0cddfc_c33e_11ea_91aa_02420a397797level0_row10\" class=\"row_heading level0 row10\" >28</th>\n",
       "                        <td id=\"T_3a0cddfc_c33e_11ea_91aa_02420a397797row10_col0\" class=\"data row10 col0\" >9</td>\n",
       "            </tr>\n",
       "            <tr>\n",
       "                        <th id=\"T_3a0cddfc_c33e_11ea_91aa_02420a397797level0_row11\" class=\"row_heading level0 row11\" >29</th>\n",
       "                        <td id=\"T_3a0cddfc_c33e_11ea_91aa_02420a397797row11_col0\" class=\"data row11 col0\" >11</td>\n",
       "            </tr>\n",
       "            <tr>\n",
       "                        <th id=\"T_3a0cddfc_c33e_11ea_91aa_02420a397797level0_row12\" class=\"row_heading level0 row12\" >30</th>\n",
       "                        <td id=\"T_3a0cddfc_c33e_11ea_91aa_02420a397797row12_col0\" class=\"data row12 col0\" >9</td>\n",
       "            </tr>\n",
       "            <tr>\n",
       "                        <th id=\"T_3a0cddfc_c33e_11ea_91aa_02420a397797level0_row13\" class=\"row_heading level0 row13\" >31</th>\n",
       "                        <td id=\"T_3a0cddfc_c33e_11ea_91aa_02420a397797row13_col0\" class=\"data row13 col0\" >7</td>\n",
       "            </tr>\n",
       "            <tr>\n",
       "                        <th id=\"T_3a0cddfc_c33e_11ea_91aa_02420a397797level0_row14\" class=\"row_heading level0 row14\" >32</th>\n",
       "                        <td id=\"T_3a0cddfc_c33e_11ea_91aa_02420a397797row14_col0\" class=\"data row14 col0\" >7</td>\n",
       "            </tr>\n",
       "            <tr>\n",
       "                        <th id=\"T_3a0cddfc_c33e_11ea_91aa_02420a397797level0_row15\" class=\"row_heading level0 row15\" >33</th>\n",
       "                        <td id=\"T_3a0cddfc_c33e_11ea_91aa_02420a397797row15_col0\" class=\"data row15 col0\" >5</td>\n",
       "            </tr>\n",
       "            <tr>\n",
       "                        <th id=\"T_3a0cddfc_c33e_11ea_91aa_02420a397797level0_row16\" class=\"row_heading level0 row16\" >34</th>\n",
       "                        <td id=\"T_3a0cddfc_c33e_11ea_91aa_02420a397797row16_col0\" class=\"data row16 col0\" >5</td>\n",
       "            </tr>\n",
       "            <tr>\n",
       "                        <th id=\"T_3a0cddfc_c33e_11ea_91aa_02420a397797level0_row17\" class=\"row_heading level0 row17\" >35</th>\n",
       "                        <td id=\"T_3a0cddfc_c33e_11ea_91aa_02420a397797row17_col0\" class=\"data row17 col0\" >7</td>\n",
       "            </tr>\n",
       "            <tr>\n",
       "                        <th id=\"T_3a0cddfc_c33e_11ea_91aa_02420a397797level0_row18\" class=\"row_heading level0 row18\" >36</th>\n",
       "                        <td id=\"T_3a0cddfc_c33e_11ea_91aa_02420a397797row18_col0\" class=\"data row18 col0\" >10</td>\n",
       "            </tr>\n",
       "            <tr>\n",
       "                        <th id=\"T_3a0cddfc_c33e_11ea_91aa_02420a397797level0_row19\" class=\"row_heading level0 row19\" >37</th>\n",
       "                        <td id=\"T_3a0cddfc_c33e_11ea_91aa_02420a397797row19_col0\" class=\"data row19 col0\" >11</td>\n",
       "            </tr>\n",
       "            <tr>\n",
       "                        <th id=\"T_3a0cddfc_c33e_11ea_91aa_02420a397797level0_row20\" class=\"row_heading level0 row20\" >38</th>\n",
       "                        <td id=\"T_3a0cddfc_c33e_11ea_91aa_02420a397797row20_col0\" class=\"data row20 col0\" >5</td>\n",
       "            </tr>\n",
       "            <tr>\n",
       "                        <th id=\"T_3a0cddfc_c33e_11ea_91aa_02420a397797level0_row21\" class=\"row_heading level0 row21\" >39</th>\n",
       "                        <td id=\"T_3a0cddfc_c33e_11ea_91aa_02420a397797row21_col0\" class=\"data row21 col0\" >11</td>\n",
       "            </tr>\n",
       "            <tr>\n",
       "                        <th id=\"T_3a0cddfc_c33e_11ea_91aa_02420a397797level0_row22\" class=\"row_heading level0 row22\" >40</th>\n",
       "                        <td id=\"T_3a0cddfc_c33e_11ea_91aa_02420a397797row22_col0\" class=\"data row22 col0\" >12</td>\n",
       "            </tr>\n",
       "            <tr>\n",
       "                        <th id=\"T_3a0cddfc_c33e_11ea_91aa_02420a397797level0_row23\" class=\"row_heading level0 row23\" >41</th>\n",
       "                        <td id=\"T_3a0cddfc_c33e_11ea_91aa_02420a397797row23_col0\" class=\"data row23 col0\" >10</td>\n",
       "            </tr>\n",
       "            <tr>\n",
       "                        <th id=\"T_3a0cddfc_c33e_11ea_91aa_02420a397797level0_row24\" class=\"row_heading level0 row24\" >42</th>\n",
       "                        <td id=\"T_3a0cddfc_c33e_11ea_91aa_02420a397797row24_col0\" class=\"data row24 col0\" >14</td>\n",
       "            </tr>\n",
       "            <tr>\n",
       "                        <th id=\"T_3a0cddfc_c33e_11ea_91aa_02420a397797level0_row25\" class=\"row_heading level0 row25\" >43</th>\n",
       "                        <td id=\"T_3a0cddfc_c33e_11ea_91aa_02420a397797row25_col0\" class=\"data row25 col0\" >7</td>\n",
       "            </tr>\n",
       "            <tr>\n",
       "                        <th id=\"T_3a0cddfc_c33e_11ea_91aa_02420a397797level0_row26\" class=\"row_heading level0 row26\" >44</th>\n",
       "                        <td id=\"T_3a0cddfc_c33e_11ea_91aa_02420a397797row26_col0\" class=\"data row26 col0\" >8</td>\n",
       "            </tr>\n",
       "            <tr>\n",
       "                        <th id=\"T_3a0cddfc_c33e_11ea_91aa_02420a397797level0_row27\" class=\"row_heading level0 row27\" >45</th>\n",
       "                        <td id=\"T_3a0cddfc_c33e_11ea_91aa_02420a397797row27_col0\" class=\"data row27 col0\" >10</td>\n",
       "            </tr>\n",
       "            <tr>\n",
       "                        <th id=\"T_3a0cddfc_c33e_11ea_91aa_02420a397797level0_row28\" class=\"row_heading level0 row28\" >46</th>\n",
       "                        <td id=\"T_3a0cddfc_c33e_11ea_91aa_02420a397797row28_col0\" class=\"data row28 col0\" >7</td>\n",
       "            </tr>\n",
       "            <tr>\n",
       "                        <th id=\"T_3a0cddfc_c33e_11ea_91aa_02420a397797level0_row29\" class=\"row_heading level0 row29\" >47</th>\n",
       "                        <td id=\"T_3a0cddfc_c33e_11ea_91aa_02420a397797row29_col0\" class=\"data row29 col0\" >11</td>\n",
       "            </tr>\n",
       "            <tr>\n",
       "                        <th id=\"T_3a0cddfc_c33e_11ea_91aa_02420a397797level0_row30\" class=\"row_heading level0 row30\" >48</th>\n",
       "                        <td id=\"T_3a0cddfc_c33e_11ea_91aa_02420a397797row30_col0\" class=\"data row30 col0\" >9</td>\n",
       "            </tr>\n",
       "            <tr>\n",
       "                        <th id=\"T_3a0cddfc_c33e_11ea_91aa_02420a397797level0_row31\" class=\"row_heading level0 row31\" >49</th>\n",
       "                        <td id=\"T_3a0cddfc_c33e_11ea_91aa_02420a397797row31_col0\" class=\"data row31 col0\" >4</td>\n",
       "            </tr>\n",
       "            <tr>\n",
       "                        <th id=\"T_3a0cddfc_c33e_11ea_91aa_02420a397797level0_row32\" class=\"row_heading level0 row32\" >50</th>\n",
       "                        <td id=\"T_3a0cddfc_c33e_11ea_91aa_02420a397797row32_col0\" class=\"data row32 col0\" >9</td>\n",
       "            </tr>\n",
       "            <tr>\n",
       "                        <th id=\"T_3a0cddfc_c33e_11ea_91aa_02420a397797level0_row33\" class=\"row_heading level0 row33\" >51</th>\n",
       "                        <td id=\"T_3a0cddfc_c33e_11ea_91aa_02420a397797row33_col0\" class=\"data row33 col0\" >9</td>\n",
       "            </tr>\n",
       "            <tr>\n",
       "                        <th id=\"T_3a0cddfc_c33e_11ea_91aa_02420a397797level0_row34\" class=\"row_heading level0 row34\" >52</th>\n",
       "                        <td id=\"T_3a0cddfc_c33e_11ea_91aa_02420a397797row34_col0\" class=\"data row34 col0\" >10</td>\n",
       "            </tr>\n",
       "            <tr>\n",
       "                        <th id=\"T_3a0cddfc_c33e_11ea_91aa_02420a397797level0_row35\" class=\"row_heading level0 row35\" >53</th>\n",
       "                        <td id=\"T_3a0cddfc_c33e_11ea_91aa_02420a397797row35_col0\" class=\"data row35 col0\" >14</td>\n",
       "            </tr>\n",
       "            <tr>\n",
       "                        <th id=\"T_3a0cddfc_c33e_11ea_91aa_02420a397797level0_row36\" class=\"row_heading level0 row36\" >54</th>\n",
       "                        <td id=\"T_3a0cddfc_c33e_11ea_91aa_02420a397797row36_col0\" class=\"data row36 col0\" >6</td>\n",
       "            </tr>\n",
       "            <tr>\n",
       "                        <th id=\"T_3a0cddfc_c33e_11ea_91aa_02420a397797level0_row37\" class=\"row_heading level0 row37\" >55</th>\n",
       "                        <td id=\"T_3a0cddfc_c33e_11ea_91aa_02420a397797row37_col0\" class=\"data row37 col0\" >8</td>\n",
       "            </tr>\n",
       "            <tr>\n",
       "                        <th id=\"T_3a0cddfc_c33e_11ea_91aa_02420a397797level0_row38\" class=\"row_heading level0 row38\" >56</th>\n",
       "                        <td id=\"T_3a0cddfc_c33e_11ea_91aa_02420a397797row38_col0\" class=\"data row38 col0\" >9</td>\n",
       "            </tr>\n",
       "            <tr>\n",
       "                        <th id=\"T_3a0cddfc_c33e_11ea_91aa_02420a397797level0_row39\" class=\"row_heading level0 row39\" >57</th>\n",
       "                        <td id=\"T_3a0cddfc_c33e_11ea_91aa_02420a397797row39_col0\" class=\"data row39 col0\" >4</td>\n",
       "            </tr>\n",
       "            <tr>\n",
       "                        <th id=\"T_3a0cddfc_c33e_11ea_91aa_02420a397797level0_row40\" class=\"row_heading level0 row40\" >58</th>\n",
       "                        <td id=\"T_3a0cddfc_c33e_11ea_91aa_02420a397797row40_col0\" class=\"data row40 col0\" >10</td>\n",
       "            </tr>\n",
       "            <tr>\n",
       "                        <th id=\"T_3a0cddfc_c33e_11ea_91aa_02420a397797level0_row41\" class=\"row_heading level0 row41\" >59</th>\n",
       "                        <td id=\"T_3a0cddfc_c33e_11ea_91aa_02420a397797row41_col0\" class=\"data row41 col0\" >6</td>\n",
       "            </tr>\n",
       "            <tr>\n",
       "                        <th id=\"T_3a0cddfc_c33e_11ea_91aa_02420a397797level0_row42\" class=\"row_heading level0 row42\" >60</th>\n",
       "                        <td id=\"T_3a0cddfc_c33e_11ea_91aa_02420a397797row42_col0\" class=\"data row42 col0\" >8</td>\n",
       "            </tr>\n",
       "            <tr>\n",
       "                        <th id=\"T_3a0cddfc_c33e_11ea_91aa_02420a397797level0_row43\" class=\"row_heading level0 row43\" >61</th>\n",
       "                        <td id=\"T_3a0cddfc_c33e_11ea_91aa_02420a397797row43_col0\" class=\"data row43 col0\" >3</td>\n",
       "            </tr>\n",
       "            <tr>\n",
       "                        <th id=\"T_3a0cddfc_c33e_11ea_91aa_02420a397797level0_row44\" class=\"row_heading level0 row44\" >62</th>\n",
       "                        <td id=\"T_3a0cddfc_c33e_11ea_91aa_02420a397797row44_col0\" class=\"data row44 col0\" >8</td>\n",
       "            </tr>\n",
       "            <tr>\n",
       "                        <th id=\"T_3a0cddfc_c33e_11ea_91aa_02420a397797level0_row45\" class=\"row_heading level0 row45\" >63</th>\n",
       "                        <td id=\"T_3a0cddfc_c33e_11ea_91aa_02420a397797row45_col0\" class=\"data row45 col0\" >13</td>\n",
       "            </tr>\n",
       "            <tr>\n",
       "                        <th id=\"T_3a0cddfc_c33e_11ea_91aa_02420a397797level0_row46\" class=\"row_heading level0 row46\" >64</th>\n",
       "                        <td id=\"T_3a0cddfc_c33e_11ea_91aa_02420a397797row46_col0\" class=\"data row46 col0\" >13</td>\n",
       "            </tr>\n",
       "            <tr>\n",
       "                        <th id=\"T_3a0cddfc_c33e_11ea_91aa_02420a397797level0_row47\" class=\"row_heading level0 row47\" >65</th>\n",
       "                        <td id=\"T_3a0cddfc_c33e_11ea_91aa_02420a397797row47_col0\" class=\"data row47 col0\" >9</td>\n",
       "            </tr>\n",
       "            <tr>\n",
       "                        <th id=\"T_3a0cddfc_c33e_11ea_91aa_02420a397797level0_row48\" class=\"row_heading level0 row48\" >66</th>\n",
       "                        <td id=\"T_3a0cddfc_c33e_11ea_91aa_02420a397797row48_col0\" class=\"data row48 col0\" >9</td>\n",
       "            </tr>\n",
       "            <tr>\n",
       "                        <th id=\"T_3a0cddfc_c33e_11ea_91aa_02420a397797level0_row49\" class=\"row_heading level0 row49\" >67</th>\n",
       "                        <td id=\"T_3a0cddfc_c33e_11ea_91aa_02420a397797row49_col0\" class=\"data row49 col0\" >7</td>\n",
       "            </tr>\n",
       "            <tr>\n",
       "                        <th id=\"T_3a0cddfc_c33e_11ea_91aa_02420a397797level0_row50\" class=\"row_heading level0 row50\" >68</th>\n",
       "                        <td id=\"T_3a0cddfc_c33e_11ea_91aa_02420a397797row50_col0\" class=\"data row50 col0\" >9</td>\n",
       "            </tr>\n",
       "            <tr>\n",
       "                        <th id=\"T_3a0cddfc_c33e_11ea_91aa_02420a397797level0_row51\" class=\"row_heading level0 row51\" >69</th>\n",
       "                        <td id=\"T_3a0cddfc_c33e_11ea_91aa_02420a397797row51_col0\" class=\"data row51 col0\" >8</td>\n",
       "            </tr>\n",
       "            <tr>\n",
       "                        <th id=\"T_3a0cddfc_c33e_11ea_91aa_02420a397797level0_row52\" class=\"row_heading level0 row52\" >70</th>\n",
       "                        <td id=\"T_3a0cddfc_c33e_11ea_91aa_02420a397797row52_col0\" class=\"data row52 col0\" >10</td>\n",
       "            </tr>\n",
       "            <tr>\n",
       "                        <th id=\"T_3a0cddfc_c33e_11ea_91aa_02420a397797level0_row53\" class=\"row_heading level0 row53\" >71</th>\n",
       "                        <td id=\"T_3a0cddfc_c33e_11ea_91aa_02420a397797row53_col0\" class=\"data row53 col0\" >13</td>\n",
       "            </tr>\n",
       "            <tr>\n",
       "                        <th id=\"T_3a0cddfc_c33e_11ea_91aa_02420a397797level0_row54\" class=\"row_heading level0 row54\" >72</th>\n",
       "                        <td id=\"T_3a0cddfc_c33e_11ea_91aa_02420a397797row54_col0\" class=\"data row54 col0\" >5</td>\n",
       "            </tr>\n",
       "            <tr>\n",
       "                        <th id=\"T_3a0cddfc_c33e_11ea_91aa_02420a397797level0_row55\" class=\"row_heading level0 row55\" >73</th>\n",
       "                        <td id=\"T_3a0cddfc_c33e_11ea_91aa_02420a397797row55_col0\" class=\"data row55 col0\" >12</td>\n",
       "            </tr>\n",
       "            <tr>\n",
       "                        <th id=\"T_3a0cddfc_c33e_11ea_91aa_02420a397797level0_row56\" class=\"row_heading level0 row56\" >74</th>\n",
       "                        <td id=\"T_3a0cddfc_c33e_11ea_91aa_02420a397797row56_col0\" class=\"data row56 col0\" >7</td>\n",
       "            </tr>\n",
       "            <tr>\n",
       "                        <th id=\"T_3a0cddfc_c33e_11ea_91aa_02420a397797level0_row57\" class=\"row_heading level0 row57\" >75</th>\n",
       "                        <td id=\"T_3a0cddfc_c33e_11ea_91aa_02420a397797row57_col0\" class=\"data row57 col0\" >6</td>\n",
       "            </tr>\n",
       "    </tbody></table>"
      ],
      "text/plain": [
       "<pandas.io.formats.style.Styler at 0x7f43abc5ef50>"
      ]
     },
     "execution_count": 34,
     "metadata": {},
     "output_type": "execute_result"
    }
   ],
   "source": [
    "# возраст - проверю распределение пользователей по возрастам\n",
    "users['age'].value_counts().sort_index().to_frame().style.bar()"
   ]
  },
  {
   "cell_type": "markdown",
   "metadata": {},
   "source": [
    "Артефактов нет, возраст корректный - от 18 до 75. Учитывая, что выборка случайна и немногочисленна, разброс пользователей по возрасту в пределах нормы"
   ]
  },
  {
   "cell_type": "code",
   "execution_count": 35,
   "metadata": {},
   "outputs": [
    {
     "data": {
      "text/plain": [
       "array(['Краснодар', 'Москва', 'Стерлитамак', 'Новокузнецк',\n",
       "       'Набережные Челны', 'Ульяновск', 'Челябинск', 'Пермь', 'Тюмень',\n",
       "       'Самара', 'Санкт-Петербург', 'Иваново', 'Чебоксары', 'Омск', 'Уфа',\n",
       "       'Томск', 'Чита', 'Мурманск', 'Петрозаводск', 'Тверь',\n",
       "       'Екатеринбург', 'Махачкала', 'Вологда', 'Череповец', 'Ярославль',\n",
       "       'Сочи', 'Хабаровск', 'Ставрополь', 'Рязань', 'Улан-Удэ', 'Тула',\n",
       "       'Саратов', 'Ростов-на-Дону', 'Казань', 'Иркутск', 'Курск',\n",
       "       'Калуга', 'Якутск', 'Астрахань', 'Химки', 'Владикавказ',\n",
       "       'Волгоград', 'Саранск', 'Ижевск', 'Новосибирск', 'Брянск',\n",
       "       'Тольятти', 'Нижний Тагил', 'Орёл', 'Белгород', 'Воронеж',\n",
       "       'Волжский', 'Курган', 'Барнаул', 'Красноярск', 'Архангельск',\n",
       "       'Липецк', 'Кемерово', 'Киров', 'Сургут', 'Пенза', 'Магнитогорск',\n",
       "       'Нижний Новгород', 'Кострома', 'Владивосток', 'Тамбов', 'Балашиха',\n",
       "       'Севастополь', 'Калининград', 'Оренбург', 'Смоленск',\n",
       "       'Нижневартовск', 'Владимир', 'Новороссийск', 'Грозный', 'Подольск'],\n",
       "      dtype=object)"
      ]
     },
     "metadata": {},
     "output_type": "display_data"
    }
   ],
   "source": [
    "# город\n",
    "display(users['city'].unique())"
   ]
  },
  {
   "cell_type": "markdown",
   "metadata": {},
   "source": [
    "Названия городов - корректны, проблем с регистром нет."
   ]
  },
  {
   "cell_type": "code",
   "execution_count": 36,
   "metadata": {},
   "outputs": [
    {
     "name": "stdout",
     "output_type": "stream",
     "text": [
      "Первая дата регистрации в выборке: 2018-01-01 00:00:00\n",
      "Последняя дата регистрации в выборке: 2018-12-31 00:00:00\n"
     ]
    }
   ],
   "source": [
    "# диапазон дат регистрации пользователей\n",
    "print('Первая дата регистрации в выборке:', users['reg_date'].min())\n",
    "print('Последняя дата регистрации в выборке:', users['reg_date'].max())"
   ]
  },
  {
   "cell_type": "code",
   "execution_count": 37,
   "metadata": {},
   "outputs": [
    {
     "data": {
      "image/png": "[encoded data removed]",
      "text/plain": [
       "<Figure size 432x288 with 1 Axes>"
      ]
     },
     "metadata": {
      "needs_background": "light"
     },
     "output_type": "display_data"
    }
   ],
   "source": [
    "# Все регистрации в пределах 2018 г. \n",
    "\n",
    "# распределение регистраций по месяцам\n",
    "sns.distplot(users['reg_date'].dt.month, bins=12, kde=False);"
   ]
  },
  {
   "cell_type": "markdown",
   "metadata": {},
   "source": [
    "Нет такой же \"лесенки\", как для информации, передаваемой пользователями."
   ]
  },
  {
   "cell_type": "code",
   "execution_count": 38,
   "metadata": {},
   "outputs": [
    {
     "name": "stdout",
     "output_type": "stream",
     "text": [
      "Первая дата отписки от тарифа: 2018-08-17 00:00:00\n",
      "Последняя дата отписки от тарифа: 2018-12-30 00:00:00\n"
     ]
    }
   ],
   "source": [
    "# диапазон дат отписки пользователей от тарифа\n",
    "print('Первая дата отписки от тарифа:', users['churn_date'].min())\n",
    "print('Последняя дата отписки от тарифа:', users['churn_date'].max())"
   ]
  },
  {
   "cell_type": "code",
   "execution_count": 39,
   "metadata": {},
   "outputs": [
    {
     "data": {
      "text/html": [
       "<style  type=\"text/css\" >\n",
       "    #T_3a4ae43a_c33e_11ea_91aa_02420a397797row0_col0 {\n",
       "            width:  10em;\n",
       "             height:  80%;\n",
       "        }    #T_3a4ae43a_c33e_11ea_91aa_02420a397797row1_col0 {\n",
       "            width:  10em;\n",
       "             height:  80%;\n",
       "            background:  linear-gradient(90deg,#d65f5f 7.1%, transparent 7.1%);\n",
       "        }    #T_3a4ae43a_c33e_11ea_91aa_02420a397797row2_col0 {\n",
       "            width:  10em;\n",
       "             height:  80%;\n",
       "            background:  linear-gradient(90deg,#d65f5f 50.0%, transparent 50.0%);\n",
       "        }    #T_3a4ae43a_c33e_11ea_91aa_02420a397797row3_col0 {\n",
       "            width:  10em;\n",
       "             height:  80%;\n",
       "            background:  linear-gradient(90deg,#d65f5f 42.9%, transparent 42.9%);\n",
       "        }    #T_3a4ae43a_c33e_11ea_91aa_02420a397797row4_col0 {\n",
       "            width:  10em;\n",
       "             height:  80%;\n",
       "            background:  linear-gradient(90deg,#d65f5f 100.0%, transparent 100.0%);\n",
       "        }</style><table id=\"T_3a4ae43a_c33e_11ea_91aa_02420a397797\" ><thead>    <tr>        <th class=\"blank level0\" ></th>        <th class=\"col_heading level0 col0\" >churn_date</th>    </tr></thead><tbody>\n",
       "                <tr>\n",
       "                        <th id=\"T_3a4ae43a_c33e_11ea_91aa_02420a397797level0_row0\" class=\"row_heading level0 row0\" >8</th>\n",
       "                        <td id=\"T_3a4ae43a_c33e_11ea_91aa_02420a397797row0_col0\" class=\"data row0 col0\" >2</td>\n",
       "            </tr>\n",
       "            <tr>\n",
       "                        <th id=\"T_3a4ae43a_c33e_11ea_91aa_02420a397797level0_row1\" class=\"row_heading level0 row1\" >9</th>\n",
       "                        <td id=\"T_3a4ae43a_c33e_11ea_91aa_02420a397797row1_col0\" class=\"data row1 col0\" >3</td>\n",
       "            </tr>\n",
       "            <tr>\n",
       "                        <th id=\"T_3a4ae43a_c33e_11ea_91aa_02420a397797level0_row2\" class=\"row_heading level0 row2\" >10</th>\n",
       "                        <td id=\"T_3a4ae43a_c33e_11ea_91aa_02420a397797row2_col0\" class=\"data row2 col0\" >9</td>\n",
       "            </tr>\n",
       "            <tr>\n",
       "                        <th id=\"T_3a4ae43a_c33e_11ea_91aa_02420a397797level0_row3\" class=\"row_heading level0 row3\" >11</th>\n",
       "                        <td id=\"T_3a4ae43a_c33e_11ea_91aa_02420a397797row3_col0\" class=\"data row3 col0\" >8</td>\n",
       "            </tr>\n",
       "            <tr>\n",
       "                        <th id=\"T_3a4ae43a_c33e_11ea_91aa_02420a397797level0_row4\" class=\"row_heading level0 row4\" >12</th>\n",
       "                        <td id=\"T_3a4ae43a_c33e_11ea_91aa_02420a397797row4_col0\" class=\"data row4 col0\" >16</td>\n",
       "            </tr>\n",
       "    </tbody></table>"
      ],
      "text/plain": [
       "<pandas.io.formats.style.Styler at 0x7f43be816e10>"
      ]
     },
     "execution_count": 39,
     "metadata": {},
     "output_type": "execute_result"
    }
   ],
   "source": [
    "# распределение отписок по месяцам\n",
    "users.query('churn_date.notna()')['churn_date'].dt.month.value_counts().sort_index().to_frame().style.bar()"
   ]
  },
  {
   "cell_type": "markdown",
   "metadata": {},
   "source": [
    "Тоже в пределах 2018 г, аномалий не замечено."
   ]
  },
  {
   "cell_type": "code",
   "execution_count": 40,
   "metadata": {},
   "outputs": [
    {
     "data": {
      "text/plain": [
       "smart    351\n",
       "ultra    149\n",
       "Name: tariff, dtype: int64"
      ]
     },
     "execution_count": 40,
     "metadata": {},
     "output_type": "execute_result"
    }
   ],
   "source": [
    "# тарифы\n",
    "users['tariff'].value_counts()"
   ]
  },
  {
   "cell_type": "markdown",
   "metadata": {},
   "source": [
    "Артефактов нет."
   ]
  },
  {
   "cell_type": "markdown",
   "metadata": {},
   "source": [
    "#### Подготовка данных к конкретной задаче\n",
    "\n",
    "В данной задаче принимается, что минуты и мегабайты за каждый звонок и сессию передачи данных соответственно - округляются в большую сторону."
   ]
  },
  {
   "cell_type": "code",
   "execution_count": 41,
   "metadata": {},
   "outputs": [],
   "source": [
    "# округлим длительность звонков в большую сторону, как используется в компании при подсчете задолженности\n",
    "calls['duration'], calls['old_duration'] = calls['duration'].apply(math.ceil), calls['duration']"
   ]
  },
  {
   "cell_type": "code",
   "execution_count": 42,
   "metadata": {},
   "outputs": [
    {
     "data": {
      "image/png": "[encoded data removed]",
      "text/plain": [
       "<Figure size 432x288 with 1 Axes>"
      ]
     },
     "metadata": {
      "needs_background": "light"
     },
     "output_type": "display_data"
    }
   ],
   "source": [
    "# график распределения исходных данных и данных после округления вверх\n",
    "calls.plot(kind='scatter', x='duration', y='old_duration', alpha=0.5)\n",
    "plt.plot([0, 40], [0, 40], 'm-', linewidth=4)\n",
    "plt.show()"
   ]
  },
  {
   "cell_type": "markdown",
   "metadata": {},
   "source": [
    "Как видно, точки, для которых старое значение превышало бы новое, отсутствуют, значит, округление вверх произведено верно."
   ]
  },
  {
   "cell_type": "code",
   "execution_count": 43,
   "metadata": {},
   "outputs": [
    {
     "data": {
      "text/html": [
       "<div>\n",
       "<style scoped>\n",
       "    .dataframe tbody tr th:only-of-type {\n",
       "        vertical-align: middle;\n",
       "    }\n",
       "\n",
       "    .dataframe tbody tr th {\n",
       "        vertical-align: top;\n",
       "    }\n",
       "\n",
       "    .dataframe thead th {\n",
       "        text-align: right;\n",
       "    }\n",
       "</style>\n",
       "<table border=\"1\" class=\"dataframe\">\n",
       "  <thead>\n",
       "    <tr style=\"text-align: right;\">\n",
       "      <th></th>\n",
       "      <th>id</th>\n",
       "      <th>mb_used</th>\n",
       "      <th>session_date</th>\n",
       "      <th>user_id</th>\n",
       "      <th>old_mb_used</th>\n",
       "    </tr>\n",
       "  </thead>\n",
       "  <tbody>\n",
       "    <tr>\n",
       "      <td>0</td>\n",
       "      <td>1000_0</td>\n",
       "      <td>113</td>\n",
       "      <td>2018-11-25</td>\n",
       "      <td>1000</td>\n",
       "      <td>112.95</td>\n",
       "    </tr>\n",
       "    <tr>\n",
       "      <td>1</td>\n",
       "      <td>1000_1</td>\n",
       "      <td>1053</td>\n",
       "      <td>2018-09-07</td>\n",
       "      <td>1000</td>\n",
       "      <td>1052.81</td>\n",
       "    </tr>\n",
       "    <tr>\n",
       "      <td>2</td>\n",
       "      <td>1000_2</td>\n",
       "      <td>1198</td>\n",
       "      <td>2018-06-25</td>\n",
       "      <td>1000</td>\n",
       "      <td>1197.26</td>\n",
       "    </tr>\n",
       "    <tr>\n",
       "      <td>3</td>\n",
       "      <td>1000_3</td>\n",
       "      <td>551</td>\n",
       "      <td>2018-08-22</td>\n",
       "      <td>1000</td>\n",
       "      <td>550.27</td>\n",
       "    </tr>\n",
       "    <tr>\n",
       "      <td>4</td>\n",
       "      <td>1000_4</td>\n",
       "      <td>303</td>\n",
       "      <td>2018-09-24</td>\n",
       "      <td>1000</td>\n",
       "      <td>302.56</td>\n",
       "    </tr>\n",
       "    <tr>\n",
       "      <td>...</td>\n",
       "      <td>...</td>\n",
       "      <td>...</td>\n",
       "      <td>...</td>\n",
       "      <td>...</td>\n",
       "      <td>...</td>\n",
       "    </tr>\n",
       "    <tr>\n",
       "      <td>149391</td>\n",
       "      <td>1499_152</td>\n",
       "      <td>319</td>\n",
       "      <td>2018-10-03</td>\n",
       "      <td>1499</td>\n",
       "      <td>318.90</td>\n",
       "    </tr>\n",
       "    <tr>\n",
       "      <td>149392</td>\n",
       "      <td>1499_153</td>\n",
       "      <td>491</td>\n",
       "      <td>2018-12-14</td>\n",
       "      <td>1499</td>\n",
       "      <td>490.13</td>\n",
       "    </tr>\n",
       "    <tr>\n",
       "      <td>149393</td>\n",
       "      <td>1499_154</td>\n",
       "      <td>0</td>\n",
       "      <td>2018-10-27</td>\n",
       "      <td>1499</td>\n",
       "      <td>0.00</td>\n",
       "    </tr>\n",
       "    <tr>\n",
       "      <td>149394</td>\n",
       "      <td>1499_155</td>\n",
       "      <td>1247</td>\n",
       "      <td>2018-11-26</td>\n",
       "      <td>1499</td>\n",
       "      <td>1246.32</td>\n",
       "    </tr>\n",
       "    <tr>\n",
       "      <td>149395</td>\n",
       "      <td>1499_156</td>\n",
       "      <td>545</td>\n",
       "      <td>2018-10-26</td>\n",
       "      <td>1499</td>\n",
       "      <td>544.37</td>\n",
       "    </tr>\n",
       "  </tbody>\n",
       "</table>\n",
       "<p>149396 rows × 5 columns</p>\n",
       "</div>"
      ],
      "text/plain": [
       "              id  mb_used session_date  user_id  old_mb_used\n",
       "0         1000_0      113   2018-11-25     1000       112.95\n",
       "1         1000_1     1053   2018-09-07     1000      1052.81\n",
       "2         1000_2     1198   2018-06-25     1000      1197.26\n",
       "3         1000_3      551   2018-08-22     1000       550.27\n",
       "4         1000_4      303   2018-09-24     1000       302.56\n",
       "...          ...      ...          ...      ...          ...\n",
       "149391  1499_152      319   2018-10-03     1499       318.90\n",
       "149392  1499_153      491   2018-12-14     1499       490.13\n",
       "149393  1499_154        0   2018-10-27     1499         0.00\n",
       "149394  1499_155     1247   2018-11-26     1499      1246.32\n",
       "149395  1499_156      545   2018-10-26     1499       544.37\n",
       "\n",
       "[149396 rows x 5 columns]"
      ]
     },
     "metadata": {},
     "output_type": "display_data"
    }
   ],
   "source": [
    "# округление данных, переданных за каждый сеанс\n",
    "internet['mb_used'], internet['old_mb_used'] = internet['mb_used'].apply(math.ceil), internet['mb_used']\n",
    "display(internet)"
   ]
  },
  {
   "cell_type": "code",
   "execution_count": 44,
   "metadata": {},
   "outputs": [
    {
     "data": {
      "image/png": "[encoded data removed]",
      "text/plain": [
       "<Figure size 432x288 with 1 Axes>"
      ]
     },
     "metadata": {
      "needs_background": "light"
     },
     "output_type": "display_data"
    }
   ],
   "source": [
    "# график распределения исходных данных и данных после округления вверх\n",
    "internet.plot(kind='scatter', x='mb_used', y='old_mb_used', alpha=0.5)\n",
    "plt.plot([0, 2000], [0, 2000], 'm-', linewidth=2)\n",
    "plt.show()"
   ]
  },
  {
   "cell_type": "markdown",
   "metadata": {},
   "source": [
    "Данные корректны: нет значений меньше 0 (0 - неудачная сессия), максимум - 1724 мб, гораздо меньше месячного лимита."
   ]
  },
  {
   "cell_type": "markdown",
   "metadata": {},
   "source": [
    "**Вывод**: на данном этапе данные были подготовлены для дальнейшего анализа:\n",
    "- исправлены данные типа \"дата\"\n",
    "- пропуски не были обнаружены. Значения Null в столбце *churn_date* информативны и говорят о том, что тариф действующий.\n",
    "- данные проанализированы на предмет артефактов. Артефакты не выявлены.\n",
    "\n",
    "Характер данных:\n",
    "- количество звонков, интернет-сессий и переданных сообщений практически равномерно растёт с каждым месяцем, что логично, т.к. в соответствии с графиком распределения регистраций пользователей их с каждым месяцем становится всё больше, а количество отписавшихся незначительно (38 человек).\n",
    "- 20% звонков имеет нулевую длительность (не дозвонились)\n",
    "- 13% интернет-сессий не передавали никаких данных\n",
    "\n",
    "Эти нулевые сессии не выбиваются за пределы разумного и не будут влиять на дальнейшую статистику, т.к. информация будет суммироваться по месяцам.\n",
    "\n",
    "Была произведена подготовка данных под конкретную задачу в соответствии с логикой работы оператора:\n",
    "- для каждой сессии округлены вверх количество мегабайт\n",
    "- для каждого звонка округлено вверх количество минут"
   ]
  },
  {
   "cell_type": "markdown",
   "metadata": {},
   "source": [
    "### Шаг 3. Подсчет данных для каждого пользователя\n",
    "\n",
    "Наибольший интерес представляет следующая статистика:\n",
    "- количество сделанных звонков и израсходованных минут по месяцам\n",
    "- количество отправленных сообщений по месяцам\n",
    "- объем израсходованного интернет-трафика по месяцам\n",
    "- помесячная выручка с каждого пользователя"
   ]
  },
  {
   "cell_type": "code",
   "execution_count": 45,
   "metadata": {},
   "outputs": [],
   "source": [
    "# создание вспомогательного словаря с датами регистраций пользователей\n",
    "users_dict = users.pivot_table(index='user_id', values='reg_date', aggfunc='first').to_dict()"
   ]
  },
  {
   "cell_type": "code",
   "execution_count": 46,
   "metadata": {},
   "outputs": [],
   "source": [
    "tariffs.set_index('tariff_name', inplace=True)"
   ]
  },
  {
   "cell_type": "code",
   "execution_count": 47,
   "metadata": {},
   "outputs": [],
   "source": [
    "# создание словаря по параметрам тарифа, чтобы не копировать одни и те же данные в общую таблицу в каждую строку\n",
    "tariff_dict = tariffs.to_dict('index')"
   ]
  },
  {
   "cell_type": "code",
   "execution_count": 48,
   "metadata": {
    "scrolled": true
   },
   "outputs": [
    {
     "data": {
      "text/html": [
       "<div>\n",
       "<style scoped>\n",
       "    .dataframe tbody tr th:only-of-type {\n",
       "        vertical-align: middle;\n",
       "    }\n",
       "\n",
       "    .dataframe tbody tr th {\n",
       "        vertical-align: top;\n",
       "    }\n",
       "\n",
       "    .dataframe thead th {\n",
       "        text-align: right;\n",
       "    }\n",
       "</style>\n",
       "<table border=\"1\" class=\"dataframe\">\n",
       "  <thead>\n",
       "    <tr style=\"text-align: right;\">\n",
       "      <th></th>\n",
       "      <th>id</th>\n",
       "      <th>call_date</th>\n",
       "      <th>duration</th>\n",
       "      <th>user_id</th>\n",
       "      <th>old_duration</th>\n",
       "      <th>month</th>\n",
       "    </tr>\n",
       "  </thead>\n",
       "  <tbody>\n",
       "    <tr>\n",
       "      <td>0</td>\n",
       "      <td>1000_0</td>\n",
       "      <td>2018-07-25</td>\n",
       "      <td>0</td>\n",
       "      <td>1000</td>\n",
       "      <td>0.00</td>\n",
       "      <td>7</td>\n",
       "    </tr>\n",
       "    <tr>\n",
       "      <td>1</td>\n",
       "      <td>1000_1</td>\n",
       "      <td>2018-08-17</td>\n",
       "      <td>0</td>\n",
       "      <td>1000</td>\n",
       "      <td>0.00</td>\n",
       "      <td>8</td>\n",
       "    </tr>\n",
       "    <tr>\n",
       "      <td>2</td>\n",
       "      <td>1000_2</td>\n",
       "      <td>2018-06-11</td>\n",
       "      <td>3</td>\n",
       "      <td>1000</td>\n",
       "      <td>2.85</td>\n",
       "      <td>6</td>\n",
       "    </tr>\n",
       "    <tr>\n",
       "      <td>3</td>\n",
       "      <td>1000_3</td>\n",
       "      <td>2018-09-21</td>\n",
       "      <td>14</td>\n",
       "      <td>1000</td>\n",
       "      <td>13.80</td>\n",
       "      <td>9</td>\n",
       "    </tr>\n",
       "    <tr>\n",
       "      <td>4</td>\n",
       "      <td>1000_4</td>\n",
       "      <td>2018-12-15</td>\n",
       "      <td>6</td>\n",
       "      <td>1000</td>\n",
       "      <td>5.18</td>\n",
       "      <td>12</td>\n",
       "    </tr>\n",
       "    <tr>\n",
       "      <td>...</td>\n",
       "      <td>...</td>\n",
       "      <td>...</td>\n",
       "      <td>...</td>\n",
       "      <td>...</td>\n",
       "      <td>...</td>\n",
       "      <td>...</td>\n",
       "    </tr>\n",
       "    <tr>\n",
       "      <td>202602</td>\n",
       "      <td>1499_215</td>\n",
       "      <td>2018-12-26</td>\n",
       "      <td>1</td>\n",
       "      <td>1499</td>\n",
       "      <td>0.76</td>\n",
       "      <td>12</td>\n",
       "    </tr>\n",
       "    <tr>\n",
       "      <td>202603</td>\n",
       "      <td>1499_216</td>\n",
       "      <td>2018-10-18</td>\n",
       "      <td>19</td>\n",
       "      <td>1499</td>\n",
       "      <td>18.83</td>\n",
       "      <td>10</td>\n",
       "    </tr>\n",
       "    <tr>\n",
       "      <td>202604</td>\n",
       "      <td>1499_217</td>\n",
       "      <td>2018-11-10</td>\n",
       "      <td>11</td>\n",
       "      <td>1499</td>\n",
       "      <td>10.81</td>\n",
       "      <td>11</td>\n",
       "    </tr>\n",
       "    <tr>\n",
       "      <td>202605</td>\n",
       "      <td>1499_218</td>\n",
       "      <td>2018-10-06</td>\n",
       "      <td>5</td>\n",
       "      <td>1499</td>\n",
       "      <td>4.27</td>\n",
       "      <td>10</td>\n",
       "    </tr>\n",
       "    <tr>\n",
       "      <td>202606</td>\n",
       "      <td>1499_219</td>\n",
       "      <td>2018-12-14</td>\n",
       "      <td>20</td>\n",
       "      <td>1499</td>\n",
       "      <td>19.62</td>\n",
       "      <td>12</td>\n",
       "    </tr>\n",
       "  </tbody>\n",
       "</table>\n",
       "<p>202607 rows × 6 columns</p>\n",
       "</div>"
      ],
      "text/plain": [
       "              id  call_date  duration  user_id  old_duration  month\n",
       "0         1000_0 2018-07-25         0     1000          0.00      7\n",
       "1         1000_1 2018-08-17         0     1000          0.00      8\n",
       "2         1000_2 2018-06-11         3     1000          2.85      6\n",
       "3         1000_3 2018-09-21        14     1000         13.80      9\n",
       "4         1000_4 2018-12-15         6     1000          5.18     12\n",
       "...          ...        ...       ...      ...           ...    ...\n",
       "202602  1499_215 2018-12-26         1     1499          0.76     12\n",
       "202603  1499_216 2018-10-18        19     1499         18.83     10\n",
       "202604  1499_217 2018-11-10        11     1499         10.81     11\n",
       "202605  1499_218 2018-10-06         5     1499          4.27     10\n",
       "202606  1499_219 2018-12-14        20     1499         19.62     12\n",
       "\n",
       "[202607 rows x 6 columns]"
      ]
     },
     "execution_count": 48,
     "metadata": {},
     "output_type": "execute_result"
    }
   ],
   "source": [
    "calls['month'] = calls['call_date'].dt.month\n",
    "calls"
   ]
  },
  {
   "cell_type": "code",
   "execution_count": 49,
   "metadata": {},
   "outputs": [
    {
     "data": {
      "text/html": [
       "<div>\n",
       "<style scoped>\n",
       "    .dataframe tbody tr th:only-of-type {\n",
       "        vertical-align: middle;\n",
       "    }\n",
       "\n",
       "    .dataframe tbody tr th {\n",
       "        vertical-align: top;\n",
       "    }\n",
       "\n",
       "    .dataframe thead th {\n",
       "        text-align: right;\n",
       "    }\n",
       "</style>\n",
       "<table border=\"1\" class=\"dataframe\">\n",
       "  <thead>\n",
       "    <tr style=\"text-align: right;\">\n",
       "      <th></th>\n",
       "      <th>id</th>\n",
       "      <th>call_date</th>\n",
       "      <th>duration</th>\n",
       "      <th>user_id</th>\n",
       "      <th>old_duration</th>\n",
       "      <th>month</th>\n",
       "    </tr>\n",
       "  </thead>\n",
       "  <tbody>\n",
       "    <tr>\n",
       "      <td>0</td>\n",
       "      <td>1000_0</td>\n",
       "      <td>2018-07-25</td>\n",
       "      <td>0</td>\n",
       "      <td>1000</td>\n",
       "      <td>0.00</td>\n",
       "      <td>7</td>\n",
       "    </tr>\n",
       "    <tr>\n",
       "      <td>1</td>\n",
       "      <td>1000_1</td>\n",
       "      <td>2018-08-17</td>\n",
       "      <td>0</td>\n",
       "      <td>1000</td>\n",
       "      <td>0.00</td>\n",
       "      <td>8</td>\n",
       "    </tr>\n",
       "    <tr>\n",
       "      <td>2</td>\n",
       "      <td>1000_2</td>\n",
       "      <td>2018-06-11</td>\n",
       "      <td>3</td>\n",
       "      <td>1000</td>\n",
       "      <td>2.85</td>\n",
       "      <td>6</td>\n",
       "    </tr>\n",
       "    <tr>\n",
       "      <td>3</td>\n",
       "      <td>1000_3</td>\n",
       "      <td>2018-09-21</td>\n",
       "      <td>14</td>\n",
       "      <td>1000</td>\n",
       "      <td>13.80</td>\n",
       "      <td>9</td>\n",
       "    </tr>\n",
       "    <tr>\n",
       "      <td>4</td>\n",
       "      <td>1000_4</td>\n",
       "      <td>2018-12-15</td>\n",
       "      <td>6</td>\n",
       "      <td>1000</td>\n",
       "      <td>5.18</td>\n",
       "      <td>12</td>\n",
       "    </tr>\n",
       "    <tr>\n",
       "      <td>...</td>\n",
       "      <td>...</td>\n",
       "      <td>...</td>\n",
       "      <td>...</td>\n",
       "      <td>...</td>\n",
       "      <td>...</td>\n",
       "      <td>...</td>\n",
       "    </tr>\n",
       "    <tr>\n",
       "      <td>202602</td>\n",
       "      <td>1499_215</td>\n",
       "      <td>2018-12-26</td>\n",
       "      <td>1</td>\n",
       "      <td>1499</td>\n",
       "      <td>0.76</td>\n",
       "      <td>12</td>\n",
       "    </tr>\n",
       "    <tr>\n",
       "      <td>202603</td>\n",
       "      <td>1499_216</td>\n",
       "      <td>2018-10-18</td>\n",
       "      <td>19</td>\n",
       "      <td>1499</td>\n",
       "      <td>18.83</td>\n",
       "      <td>10</td>\n",
       "    </tr>\n",
       "    <tr>\n",
       "      <td>202604</td>\n",
       "      <td>1499_217</td>\n",
       "      <td>2018-11-10</td>\n",
       "      <td>11</td>\n",
       "      <td>1499</td>\n",
       "      <td>10.81</td>\n",
       "      <td>11</td>\n",
       "    </tr>\n",
       "    <tr>\n",
       "      <td>202605</td>\n",
       "      <td>1499_218</td>\n",
       "      <td>2018-10-06</td>\n",
       "      <td>5</td>\n",
       "      <td>1499</td>\n",
       "      <td>4.27</td>\n",
       "      <td>10</td>\n",
       "    </tr>\n",
       "    <tr>\n",
       "      <td>202606</td>\n",
       "      <td>1499_219</td>\n",
       "      <td>2018-12-14</td>\n",
       "      <td>20</td>\n",
       "      <td>1499</td>\n",
       "      <td>19.62</td>\n",
       "      <td>12</td>\n",
       "    </tr>\n",
       "  </tbody>\n",
       "</table>\n",
       "<p>202607 rows × 6 columns</p>\n",
       "</div>"
      ],
      "text/plain": [
       "              id  call_date  duration  user_id  old_duration  month\n",
       "0         1000_0 2018-07-25         0     1000          0.00      7\n",
       "1         1000_1 2018-08-17         0     1000          0.00      8\n",
       "2         1000_2 2018-06-11         3     1000          2.85      6\n",
       "3         1000_3 2018-09-21        14     1000         13.80      9\n",
       "4         1000_4 2018-12-15         6     1000          5.18     12\n",
       "...          ...        ...       ...      ...           ...    ...\n",
       "202602  1499_215 2018-12-26         1     1499          0.76     12\n",
       "202603  1499_216 2018-10-18        19     1499         18.83     10\n",
       "202604  1499_217 2018-11-10        11     1499         10.81     11\n",
       "202605  1499_218 2018-10-06         5     1499          4.27     10\n",
       "202606  1499_219 2018-12-14        20     1499         19.62     12\n",
       "\n",
       "[202607 rows x 6 columns]"
      ]
     },
     "execution_count": 49,
     "metadata": {},
     "output_type": "execute_result"
    }
   ],
   "source": [
    "# код ревьювера\n",
    "calls_1 = calls\n",
    "calls_1['month'] = calls_1['call_date'].dt.month\n",
    "calls_1"
   ]
  },
  {
   "cell_type": "code",
   "execution_count": 50,
   "metadata": {},
   "outputs": [
    {
     "data": {
      "text/html": [
       "<div>\n",
       "<style scoped>\n",
       "    .dataframe tbody tr th:only-of-type {\n",
       "        vertical-align: middle;\n",
       "    }\n",
       "\n",
       "    .dataframe tbody tr th {\n",
       "        vertical-align: top;\n",
       "    }\n",
       "\n",
       "    .dataframe thead th {\n",
       "        text-align: right;\n",
       "    }\n",
       "</style>\n",
       "<table border=\"1\" class=\"dataframe\">\n",
       "  <thead>\n",
       "    <tr style=\"text-align: right;\">\n",
       "      <th></th>\n",
       "      <th>id</th>\n",
       "      <th>mb_used</th>\n",
       "      <th>session_date</th>\n",
       "      <th>user_id</th>\n",
       "      <th>old_mb_used</th>\n",
       "      <th>month</th>\n",
       "    </tr>\n",
       "  </thead>\n",
       "  <tbody>\n",
       "    <tr>\n",
       "      <td>0</td>\n",
       "      <td>1000_0</td>\n",
       "      <td>113</td>\n",
       "      <td>2018-11-25</td>\n",
       "      <td>1000</td>\n",
       "      <td>112.95</td>\n",
       "      <td>11</td>\n",
       "    </tr>\n",
       "    <tr>\n",
       "      <td>1</td>\n",
       "      <td>1000_1</td>\n",
       "      <td>1053</td>\n",
       "      <td>2018-09-07</td>\n",
       "      <td>1000</td>\n",
       "      <td>1052.81</td>\n",
       "      <td>9</td>\n",
       "    </tr>\n",
       "    <tr>\n",
       "      <td>2</td>\n",
       "      <td>1000_2</td>\n",
       "      <td>1198</td>\n",
       "      <td>2018-06-25</td>\n",
       "      <td>1000</td>\n",
       "      <td>1197.26</td>\n",
       "      <td>6</td>\n",
       "    </tr>\n",
       "    <tr>\n",
       "      <td>3</td>\n",
       "      <td>1000_3</td>\n",
       "      <td>551</td>\n",
       "      <td>2018-08-22</td>\n",
       "      <td>1000</td>\n",
       "      <td>550.27</td>\n",
       "      <td>8</td>\n",
       "    </tr>\n",
       "    <tr>\n",
       "      <td>4</td>\n",
       "      <td>1000_4</td>\n",
       "      <td>303</td>\n",
       "      <td>2018-09-24</td>\n",
       "      <td>1000</td>\n",
       "      <td>302.56</td>\n",
       "      <td>9</td>\n",
       "    </tr>\n",
       "    <tr>\n",
       "      <td>...</td>\n",
       "      <td>...</td>\n",
       "      <td>...</td>\n",
       "      <td>...</td>\n",
       "      <td>...</td>\n",
       "      <td>...</td>\n",
       "      <td>...</td>\n",
       "    </tr>\n",
       "    <tr>\n",
       "      <td>149391</td>\n",
       "      <td>1499_152</td>\n",
       "      <td>319</td>\n",
       "      <td>2018-10-03</td>\n",
       "      <td>1499</td>\n",
       "      <td>318.90</td>\n",
       "      <td>10</td>\n",
       "    </tr>\n",
       "    <tr>\n",
       "      <td>149392</td>\n",
       "      <td>1499_153</td>\n",
       "      <td>491</td>\n",
       "      <td>2018-12-14</td>\n",
       "      <td>1499</td>\n",
       "      <td>490.13</td>\n",
       "      <td>12</td>\n",
       "    </tr>\n",
       "    <tr>\n",
       "      <td>149393</td>\n",
       "      <td>1499_154</td>\n",
       "      <td>0</td>\n",
       "      <td>2018-10-27</td>\n",
       "      <td>1499</td>\n",
       "      <td>0.00</td>\n",
       "      <td>10</td>\n",
       "    </tr>\n",
       "    <tr>\n",
       "      <td>149394</td>\n",
       "      <td>1499_155</td>\n",
       "      <td>1247</td>\n",
       "      <td>2018-11-26</td>\n",
       "      <td>1499</td>\n",
       "      <td>1246.32</td>\n",
       "      <td>11</td>\n",
       "    </tr>\n",
       "    <tr>\n",
       "      <td>149395</td>\n",
       "      <td>1499_156</td>\n",
       "      <td>545</td>\n",
       "      <td>2018-10-26</td>\n",
       "      <td>1499</td>\n",
       "      <td>544.37</td>\n",
       "      <td>10</td>\n",
       "    </tr>\n",
       "  </tbody>\n",
       "</table>\n",
       "<p>149396 rows × 6 columns</p>\n",
       "</div>"
      ],
      "text/plain": [
       "              id  mb_used session_date  user_id  old_mb_used  month\n",
       "0         1000_0      113   2018-11-25     1000       112.95     11\n",
       "1         1000_1     1053   2018-09-07     1000      1052.81      9\n",
       "2         1000_2     1198   2018-06-25     1000      1197.26      6\n",
       "3         1000_3      551   2018-08-22     1000       550.27      8\n",
       "4         1000_4      303   2018-09-24     1000       302.56      9\n",
       "...          ...      ...          ...      ...          ...    ...\n",
       "149391  1499_152      319   2018-10-03     1499       318.90     10\n",
       "149392  1499_153      491   2018-12-14     1499       490.13     12\n",
       "149393  1499_154        0   2018-10-27     1499         0.00     10\n",
       "149394  1499_155     1247   2018-11-26     1499      1246.32     11\n",
       "149395  1499_156      545   2018-10-26     1499       544.37     10\n",
       "\n",
       "[149396 rows x 6 columns]"
      ]
     },
     "execution_count": 50,
     "metadata": {},
     "output_type": "execute_result"
    }
   ],
   "source": [
    "internet['month'] = internet['session_date'].dt.month\n",
    "internet"
   ]
  },
  {
   "cell_type": "code",
   "execution_count": 51,
   "metadata": {},
   "outputs": [],
   "source": [
    "messages['month'] = messages['message_date'].dt.month"
   ]
  },
  {
   "cell_type": "code",
   "execution_count": 52,
   "metadata": {},
   "outputs": [],
   "source": [
    "# группировка по месяцам\n",
    "calls_stat = calls.pivot_table(index=['user_id','month'], values='duration', aggfunc=['sum','count'])"
   ]
  },
  {
   "cell_type": "code",
   "execution_count": 53,
   "metadata": {},
   "outputs": [
    {
     "data": {
      "text/html": [
       "<div>\n",
       "<style scoped>\n",
       "    .dataframe tbody tr th:only-of-type {\n",
       "        vertical-align: middle;\n",
       "    }\n",
       "\n",
       "    .dataframe tbody tr th {\n",
       "        vertical-align: top;\n",
       "    }\n",
       "\n",
       "    .dataframe thead tr th {\n",
       "        text-align: left;\n",
       "    }\n",
       "\n",
       "    .dataframe thead tr:last-of-type th {\n",
       "        text-align: right;\n",
       "    }\n",
       "</style>\n",
       "<table border=\"1\" class=\"dataframe\">\n",
       "  <thead>\n",
       "    <tr>\n",
       "      <th></th>\n",
       "      <th></th>\n",
       "      <th>sum</th>\n",
       "      <th>count</th>\n",
       "    </tr>\n",
       "    <tr>\n",
       "      <th></th>\n",
       "      <th></th>\n",
       "      <th>duration</th>\n",
       "      <th>duration</th>\n",
       "    </tr>\n",
       "    <tr>\n",
       "      <th>user_id</th>\n",
       "      <th>month</th>\n",
       "      <th></th>\n",
       "      <th></th>\n",
       "    </tr>\n",
       "  </thead>\n",
       "  <tbody>\n",
       "    <tr>\n",
       "      <td rowspan=\"5\" valign=\"top\">1000</td>\n",
       "      <td>5</td>\n",
       "      <td>159</td>\n",
       "      <td>22</td>\n",
       "    </tr>\n",
       "    <tr>\n",
       "      <td>6</td>\n",
       "      <td>172</td>\n",
       "      <td>43</td>\n",
       "    </tr>\n",
       "    <tr>\n",
       "      <td>7</td>\n",
       "      <td>340</td>\n",
       "      <td>47</td>\n",
       "    </tr>\n",
       "    <tr>\n",
       "      <td>8</td>\n",
       "      <td>408</td>\n",
       "      <td>52</td>\n",
       "    </tr>\n",
       "    <tr>\n",
       "      <td>9</td>\n",
       "      <td>466</td>\n",
       "      <td>58</td>\n",
       "    </tr>\n",
       "    <tr>\n",
       "      <td>...</td>\n",
       "      <td>...</td>\n",
       "      <td>...</td>\n",
       "      <td>...</td>\n",
       "    </tr>\n",
       "    <tr>\n",
       "      <td>1498</td>\n",
       "      <td>10</td>\n",
       "      <td>247</td>\n",
       "      <td>41</td>\n",
       "    </tr>\n",
       "    <tr>\n",
       "      <td rowspan=\"4\" valign=\"top\">1499</td>\n",
       "      <td>9</td>\n",
       "      <td>70</td>\n",
       "      <td>9</td>\n",
       "    </tr>\n",
       "    <tr>\n",
       "      <td>10</td>\n",
       "      <td>449</td>\n",
       "      <td>68</td>\n",
       "    </tr>\n",
       "    <tr>\n",
       "      <td>11</td>\n",
       "      <td>612</td>\n",
       "      <td>74</td>\n",
       "    </tr>\n",
       "    <tr>\n",
       "      <td>12</td>\n",
       "      <td>492</td>\n",
       "      <td>69</td>\n",
       "    </tr>\n",
       "  </tbody>\n",
       "</table>\n",
       "<p>3174 rows × 2 columns</p>\n",
       "</div>"
      ],
      "text/plain": [
       "                   sum    count\n",
       "              duration duration\n",
       "user_id month                  \n",
       "1000    5          159       22\n",
       "        6          172       43\n",
       "        7          340       47\n",
       "        8          408       52\n",
       "        9          466       58\n",
       "...                ...      ...\n",
       "1498    10         247       41\n",
       "1499    9           70        9\n",
       "        10         449       68\n",
       "        11         612       74\n",
       "        12         492       69\n",
       "\n",
       "[3174 rows x 2 columns]"
      ]
     },
     "execution_count": 53,
     "metadata": {},
     "output_type": "execute_result"
    }
   ],
   "source": [
    "calls_stat"
   ]
  },
  {
   "cell_type": "code",
   "execution_count": 54,
   "metadata": {},
   "outputs": [
    {
     "data": {
      "text/plain": [
       "159"
      ]
     },
     "execution_count": 54,
     "metadata": {},
     "output_type": "execute_result"
    }
   ],
   "source": [
    "# проверка\n",
    "calls.query('user_id == 1000 and month == 5')['duration'].sum()"
   ]
  },
  {
   "cell_type": "code",
   "execution_count": 55,
   "metadata": {},
   "outputs": [
    {
     "data": {
      "text/plain": [
       "0"
      ]
     },
     "execution_count": 55,
     "metadata": {},
     "output_type": "execute_result"
    }
   ],
   "source": [
    "# верно\n",
    "\n",
    "calls.query('user_id == 1498 and month == 4')['duration'].count()"
   ]
  },
  {
   "cell_type": "code",
   "execution_count": 56,
   "metadata": {},
   "outputs": [],
   "source": [
    "# верно\n",
    "\n",
    "calls_stat.columns = ['total_duration', 'total_calls']"
   ]
  },
  {
   "cell_type": "code",
   "execution_count": 57,
   "metadata": {},
   "outputs": [
    {
     "data": {
      "text/html": [
       "<div>\n",
       "<style scoped>\n",
       "    .dataframe tbody tr th:only-of-type {\n",
       "        vertical-align: middle;\n",
       "    }\n",
       "\n",
       "    .dataframe tbody tr th {\n",
       "        vertical-align: top;\n",
       "    }\n",
       "\n",
       "    .dataframe thead th {\n",
       "        text-align: right;\n",
       "    }\n",
       "</style>\n",
       "<table border=\"1\" class=\"dataframe\">\n",
       "  <thead>\n",
       "    <tr style=\"text-align: right;\">\n",
       "      <th></th>\n",
       "      <th></th>\n",
       "      <th>total_duration</th>\n",
       "      <th>total_calls</th>\n",
       "    </tr>\n",
       "    <tr>\n",
       "      <th>user_id</th>\n",
       "      <th>month</th>\n",
       "      <th></th>\n",
       "      <th></th>\n",
       "    </tr>\n",
       "  </thead>\n",
       "  <tbody>\n",
       "    <tr>\n",
       "      <td rowspan=\"5\" valign=\"top\">1000</td>\n",
       "      <td>5</td>\n",
       "      <td>159</td>\n",
       "      <td>22</td>\n",
       "    </tr>\n",
       "    <tr>\n",
       "      <td>6</td>\n",
       "      <td>172</td>\n",
       "      <td>43</td>\n",
       "    </tr>\n",
       "    <tr>\n",
       "      <td>7</td>\n",
       "      <td>340</td>\n",
       "      <td>47</td>\n",
       "    </tr>\n",
       "    <tr>\n",
       "      <td>8</td>\n",
       "      <td>408</td>\n",
       "      <td>52</td>\n",
       "    </tr>\n",
       "    <tr>\n",
       "      <td>9</td>\n",
       "      <td>466</td>\n",
       "      <td>58</td>\n",
       "    </tr>\n",
       "    <tr>\n",
       "      <td>...</td>\n",
       "      <td>...</td>\n",
       "      <td>...</td>\n",
       "      <td>...</td>\n",
       "    </tr>\n",
       "    <tr>\n",
       "      <td>1498</td>\n",
       "      <td>10</td>\n",
       "      <td>247</td>\n",
       "      <td>41</td>\n",
       "    </tr>\n",
       "    <tr>\n",
       "      <td rowspan=\"4\" valign=\"top\">1499</td>\n",
       "      <td>9</td>\n",
       "      <td>70</td>\n",
       "      <td>9</td>\n",
       "    </tr>\n",
       "    <tr>\n",
       "      <td>10</td>\n",
       "      <td>449</td>\n",
       "      <td>68</td>\n",
       "    </tr>\n",
       "    <tr>\n",
       "      <td>11</td>\n",
       "      <td>612</td>\n",
       "      <td>74</td>\n",
       "    </tr>\n",
       "    <tr>\n",
       "      <td>12</td>\n",
       "      <td>492</td>\n",
       "      <td>69</td>\n",
       "    </tr>\n",
       "  </tbody>\n",
       "</table>\n",
       "<p>3174 rows × 2 columns</p>\n",
       "</div>"
      ],
      "text/plain": [
       "               total_duration  total_calls\n",
       "user_id month                             \n",
       "1000    5                 159           22\n",
       "        6                 172           43\n",
       "        7                 340           47\n",
       "        8                 408           52\n",
       "        9                 466           58\n",
       "...                       ...          ...\n",
       "1498    10                247           41\n",
       "1499    9                  70            9\n",
       "        10                449           68\n",
       "        11                612           74\n",
       "        12                492           69\n",
       "\n",
       "[3174 rows x 2 columns]"
      ]
     },
     "execution_count": 57,
     "metadata": {},
     "output_type": "execute_result"
    }
   ],
   "source": [
    "calls_stat"
   ]
  },
  {
   "cell_type": "code",
   "execution_count": 58,
   "metadata": {},
   "outputs": [],
   "source": [
    "internet_stat = internet.pivot_table(index=['user_id', 'month'], values='mb_used', aggfunc=['sum', 'count'])\n",
    "internet_sample = internet_stat.sample(n=5)"
   ]
  },
  {
   "cell_type": "code",
   "execution_count": 59,
   "metadata": {},
   "outputs": [
    {
     "data": {
      "text/html": [
       "<div>\n",
       "<style scoped>\n",
       "    .dataframe tbody tr th:only-of-type {\n",
       "        vertical-align: middle;\n",
       "    }\n",
       "\n",
       "    .dataframe tbody tr th {\n",
       "        vertical-align: top;\n",
       "    }\n",
       "\n",
       "    .dataframe thead tr th {\n",
       "        text-align: left;\n",
       "    }\n",
       "\n",
       "    .dataframe thead tr:last-of-type th {\n",
       "        text-align: right;\n",
       "    }\n",
       "</style>\n",
       "<table border=\"1\" class=\"dataframe\">\n",
       "  <thead>\n",
       "    <tr>\n",
       "      <th></th>\n",
       "      <th></th>\n",
       "      <th>sum</th>\n",
       "      <th>count</th>\n",
       "    </tr>\n",
       "    <tr>\n",
       "      <th></th>\n",
       "      <th></th>\n",
       "      <th>mb_used</th>\n",
       "      <th>mb_used</th>\n",
       "    </tr>\n",
       "    <tr>\n",
       "      <th>user_id</th>\n",
       "      <th>month</th>\n",
       "      <th></th>\n",
       "      <th></th>\n",
       "    </tr>\n",
       "  </thead>\n",
       "  <tbody>\n",
       "    <tr>\n",
       "      <td>1353</td>\n",
       "      <td>4</td>\n",
       "      <td>5822</td>\n",
       "      <td>19</td>\n",
       "    </tr>\n",
       "    <tr>\n",
       "      <td>1139</td>\n",
       "      <td>11</td>\n",
       "      <td>9775</td>\n",
       "      <td>30</td>\n",
       "    </tr>\n",
       "    <tr>\n",
       "      <td>1123</td>\n",
       "      <td>12</td>\n",
       "      <td>17890</td>\n",
       "      <td>63</td>\n",
       "    </tr>\n",
       "    <tr>\n",
       "      <td>1017</td>\n",
       "      <td>9</td>\n",
       "      <td>18232</td>\n",
       "      <td>40</td>\n",
       "    </tr>\n",
       "    <tr>\n",
       "      <td>1025</td>\n",
       "      <td>11</td>\n",
       "      <td>14479</td>\n",
       "      <td>45</td>\n",
       "    </tr>\n",
       "  </tbody>\n",
       "</table>\n",
       "</div>"
      ],
      "text/plain": [
       "                  sum   count\n",
       "              mb_used mb_used\n",
       "user_id month                \n",
       "1353    4        5822      19\n",
       "1139    11       9775      30\n",
       "1123    12      17890      63\n",
       "1017    9       18232      40\n",
       "1025    11      14479      45"
      ]
     },
     "execution_count": 59,
     "metadata": {},
     "output_type": "execute_result"
    }
   ],
   "source": [
    "internet_sample"
   ]
  },
  {
   "cell_type": "code",
   "execution_count": 60,
   "metadata": {},
   "outputs": [],
   "source": [
    "internet_stat.columns = ['total_mb', 'sessions']"
   ]
  },
  {
   "cell_type": "code",
   "execution_count": 61,
   "metadata": {},
   "outputs": [
    {
     "data": {
      "text/plain": [
       "18880"
      ]
     },
     "execution_count": 61,
     "metadata": {},
     "output_type": "execute_result"
    }
   ],
   "source": [
    "# проверка\n",
    "internet.query('user_id==1291 and month==3')['mb_used'].sum()"
   ]
  },
  {
   "cell_type": "code",
   "execution_count": 62,
   "metadata": {},
   "outputs": [
    {
     "data": {
      "text/plain": [
       "0"
      ]
     },
     "execution_count": 62,
     "metadata": {},
     "output_type": "execute_result"
    }
   ],
   "source": [
    "internet.query('user_id==1288 and month == 1')['mb_used'].count()"
   ]
  },
  {
   "cell_type": "code",
   "execution_count": 63,
   "metadata": {},
   "outputs": [
    {
     "data": {
      "text/html": [
       "<div>\n",
       "<style scoped>\n",
       "    .dataframe tbody tr th:only-of-type {\n",
       "        vertical-align: middle;\n",
       "    }\n",
       "\n",
       "    .dataframe tbody tr th {\n",
       "        vertical-align: top;\n",
       "    }\n",
       "\n",
       "    .dataframe thead th {\n",
       "        text-align: right;\n",
       "    }\n",
       "</style>\n",
       "<table border=\"1\" class=\"dataframe\">\n",
       "  <thead>\n",
       "    <tr style=\"text-align: right;\">\n",
       "      <th></th>\n",
       "      <th></th>\n",
       "      <th>total_mb</th>\n",
       "      <th>sessions</th>\n",
       "    </tr>\n",
       "    <tr>\n",
       "      <th>user_id</th>\n",
       "      <th>month</th>\n",
       "      <th></th>\n",
       "      <th></th>\n",
       "    </tr>\n",
       "  </thead>\n",
       "  <tbody>\n",
       "    <tr>\n",
       "      <td rowspan=\"5\" valign=\"top\">1000</td>\n",
       "      <td>5</td>\n",
       "      <td>2256</td>\n",
       "      <td>5</td>\n",
       "    </tr>\n",
       "    <tr>\n",
       "      <td>6</td>\n",
       "      <td>23257</td>\n",
       "      <td>49</td>\n",
       "    </tr>\n",
       "    <tr>\n",
       "      <td>7</td>\n",
       "      <td>14016</td>\n",
       "      <td>29</td>\n",
       "    </tr>\n",
       "    <tr>\n",
       "      <td>8</td>\n",
       "      <td>14070</td>\n",
       "      <td>29</td>\n",
       "    </tr>\n",
       "    <tr>\n",
       "      <td>9</td>\n",
       "      <td>14581</td>\n",
       "      <td>27</td>\n",
       "    </tr>\n",
       "    <tr>\n",
       "      <td>...</td>\n",
       "      <td>...</td>\n",
       "      <td>...</td>\n",
       "      <td>...</td>\n",
       "    </tr>\n",
       "    <tr>\n",
       "      <td>1498</td>\n",
       "      <td>10</td>\n",
       "      <td>20604</td>\n",
       "      <td>59</td>\n",
       "    </tr>\n",
       "    <tr>\n",
       "      <td rowspan=\"4\" valign=\"top\">1499</td>\n",
       "      <td>9</td>\n",
       "      <td>1848</td>\n",
       "      <td>5</td>\n",
       "    </tr>\n",
       "    <tr>\n",
       "      <td>10</td>\n",
       "      <td>17809</td>\n",
       "      <td>58</td>\n",
       "    </tr>\n",
       "    <tr>\n",
       "      <td>11</td>\n",
       "      <td>17984</td>\n",
       "      <td>49</td>\n",
       "    </tr>\n",
       "    <tr>\n",
       "      <td>12</td>\n",
       "      <td>13077</td>\n",
       "      <td>45</td>\n",
       "    </tr>\n",
       "  </tbody>\n",
       "</table>\n",
       "<p>3203 rows × 2 columns</p>\n",
       "</div>"
      ],
      "text/plain": [
       "               total_mb  sessions\n",
       "user_id month                    \n",
       "1000    5          2256         5\n",
       "        6         23257        49\n",
       "        7         14016        29\n",
       "        8         14070        29\n",
       "        9         14581        27\n",
       "...                 ...       ...\n",
       "1498    10        20604        59\n",
       "1499    9          1848         5\n",
       "        10        17809        58\n",
       "        11        17984        49\n",
       "        12        13077        45\n",
       "\n",
       "[3203 rows x 2 columns]"
      ]
     },
     "execution_count": 63,
     "metadata": {},
     "output_type": "execute_result"
    }
   ],
   "source": [
    "internet_stat"
   ]
  },
  {
   "cell_type": "code",
   "execution_count": 64,
   "metadata": {},
   "outputs": [
    {
     "data": {
      "text/html": [
       "<div>\n",
       "<style scoped>\n",
       "    .dataframe tbody tr th:only-of-type {\n",
       "        vertical-align: middle;\n",
       "    }\n",
       "\n",
       "    .dataframe tbody tr th {\n",
       "        vertical-align: top;\n",
       "    }\n",
       "\n",
       "    .dataframe thead th {\n",
       "        text-align: right;\n",
       "    }\n",
       "</style>\n",
       "<table border=\"1\" class=\"dataframe\">\n",
       "  <thead>\n",
       "    <tr style=\"text-align: right;\">\n",
       "      <th></th>\n",
       "      <th></th>\n",
       "      <th>total_messages</th>\n",
       "    </tr>\n",
       "    <tr>\n",
       "      <th>user_id</th>\n",
       "      <th>month</th>\n",
       "      <th></th>\n",
       "    </tr>\n",
       "  </thead>\n",
       "  <tbody>\n",
       "    <tr>\n",
       "      <td rowspan=\"5\" valign=\"top\">1000</td>\n",
       "      <td>5</td>\n",
       "      <td>22</td>\n",
       "    </tr>\n",
       "    <tr>\n",
       "      <td>6</td>\n",
       "      <td>60</td>\n",
       "    </tr>\n",
       "    <tr>\n",
       "      <td>7</td>\n",
       "      <td>75</td>\n",
       "    </tr>\n",
       "    <tr>\n",
       "      <td>8</td>\n",
       "      <td>81</td>\n",
       "    </tr>\n",
       "    <tr>\n",
       "      <td>9</td>\n",
       "      <td>57</td>\n",
       "    </tr>\n",
       "    <tr>\n",
       "      <td>...</td>\n",
       "      <td>...</td>\n",
       "      <td>...</td>\n",
       "    </tr>\n",
       "    <tr>\n",
       "      <td>1498</td>\n",
       "      <td>10</td>\n",
       "      <td>42</td>\n",
       "    </tr>\n",
       "    <tr>\n",
       "      <td rowspan=\"4\" valign=\"top\">1499</td>\n",
       "      <td>9</td>\n",
       "      <td>11</td>\n",
       "    </tr>\n",
       "    <tr>\n",
       "      <td>10</td>\n",
       "      <td>48</td>\n",
       "    </tr>\n",
       "    <tr>\n",
       "      <td>11</td>\n",
       "      <td>59</td>\n",
       "    </tr>\n",
       "    <tr>\n",
       "      <td>12</td>\n",
       "      <td>66</td>\n",
       "    </tr>\n",
       "  </tbody>\n",
       "</table>\n",
       "<p>2717 rows × 1 columns</p>\n",
       "</div>"
      ],
      "text/plain": [
       "               total_messages\n",
       "user_id month                \n",
       "1000    5                  22\n",
       "        6                  60\n",
       "        7                  75\n",
       "        8                  81\n",
       "        9                  57\n",
       "...                       ...\n",
       "1498    10                 42\n",
       "1499    9                  11\n",
       "        10                 48\n",
       "        11                 59\n",
       "        12                 66\n",
       "\n",
       "[2717 rows x 1 columns]"
      ]
     },
     "execution_count": 64,
     "metadata": {},
     "output_type": "execute_result"
    }
   ],
   "source": [
    "messages_stat = messages.pivot_table(index=['user_id', 'month'], values='id', aggfunc='count')\n",
    "messages_stat.columns = ['total_messages']\n",
    "messages_stat"
   ]
  },
  {
   "cell_type": "code",
   "execution_count": 65,
   "metadata": {},
   "outputs": [],
   "source": [
    "# проверка\n",
    "messages_sample = messages_stat.sample(n=5)"
   ]
  },
  {
   "cell_type": "code",
   "execution_count": 66,
   "metadata": {},
   "outputs": [
    {
     "data": {
      "text/html": [
       "<div>\n",
       "<style scoped>\n",
       "    .dataframe tbody tr th:only-of-type {\n",
       "        vertical-align: middle;\n",
       "    }\n",
       "\n",
       "    .dataframe tbody tr th {\n",
       "        vertical-align: top;\n",
       "    }\n",
       "\n",
       "    .dataframe thead th {\n",
       "        text-align: right;\n",
       "    }\n",
       "</style>\n",
       "<table border=\"1\" class=\"dataframe\">\n",
       "  <thead>\n",
       "    <tr style=\"text-align: right;\">\n",
       "      <th></th>\n",
       "      <th></th>\n",
       "      <th>total_messages</th>\n",
       "    </tr>\n",
       "    <tr>\n",
       "      <th>user_id</th>\n",
       "      <th>month</th>\n",
       "      <th></th>\n",
       "    </tr>\n",
       "  </thead>\n",
       "  <tbody>\n",
       "    <tr>\n",
       "      <td>1496</td>\n",
       "      <td>1</td>\n",
       "      <td>9</td>\n",
       "    </tr>\n",
       "    <tr>\n",
       "      <td>1239</td>\n",
       "      <td>9</td>\n",
       "      <td>29</td>\n",
       "    </tr>\n",
       "    <tr>\n",
       "      <td>1199</td>\n",
       "      <td>11</td>\n",
       "      <td>70</td>\n",
       "    </tr>\n",
       "    <tr>\n",
       "      <td>1148</td>\n",
       "      <td>11</td>\n",
       "      <td>10</td>\n",
       "    </tr>\n",
       "    <tr>\n",
       "      <td>1419</td>\n",
       "      <td>11</td>\n",
       "      <td>52</td>\n",
       "    </tr>\n",
       "  </tbody>\n",
       "</table>\n",
       "</div>"
      ],
      "text/plain": [
       "               total_messages\n",
       "user_id month                \n",
       "1496    1                   9\n",
       "1239    9                  29\n",
       "1199    11                 70\n",
       "1148    11                 10\n",
       "1419    11                 52"
      ]
     },
     "execution_count": 66,
     "metadata": {},
     "output_type": "execute_result"
    }
   ],
   "source": [
    "messages_sample"
   ]
  },
  {
   "cell_type": "code",
   "execution_count": 67,
   "metadata": {},
   "outputs": [
    {
     "name": "stdout",
     "output_type": "stream",
     "text": [
      "0\n",
      "17\n"
     ]
    }
   ],
   "source": [
    "print(messages.query('user_id == 1125 and month == 1')['id'].count())\n",
    "print(messages.query('user_id == 1081 and month == 8')['id'].count())"
   ]
  },
  {
   "cell_type": "code",
   "execution_count": 68,
   "metadata": {},
   "outputs": [],
   "source": [
    "# верно"
   ]
  },
  {
   "cell_type": "code",
   "execution_count": 69,
   "metadata": {},
   "outputs": [],
   "source": [
    "# соединение сводных таблиц с мультииндексом, внешнее соединение, важно, чтобы данные не потерялись\n",
    "month_stat = calls_stat.join(messages_stat, how='outer', on=('user_id', 'month'))\n",
    "month_stat = month_stat.join(internet_stat, how='outer', on=('user_id', 'month'))\n",
    "# сброс мультииндекса для объединения с таблицей 'users'\n",
    "month_stat = month_stat.reset_index()"
   ]
  },
  {
   "cell_type": "code",
   "execution_count": 70,
   "metadata": {},
   "outputs": [
    {
     "data": {
      "text/html": [
       "<div>\n",
       "<style scoped>\n",
       "    .dataframe tbody tr th:only-of-type {\n",
       "        vertical-align: middle;\n",
       "    }\n",
       "\n",
       "    .dataframe tbody tr th {\n",
       "        vertical-align: top;\n",
       "    }\n",
       "\n",
       "    .dataframe thead th {\n",
       "        text-align: right;\n",
       "    }\n",
       "</style>\n",
       "<table border=\"1\" class=\"dataframe\">\n",
       "  <thead>\n",
       "    <tr style=\"text-align: right;\">\n",
       "      <th></th>\n",
       "      <th>user_id</th>\n",
       "      <th>month</th>\n",
       "      <th>total_duration</th>\n",
       "      <th>total_calls</th>\n",
       "      <th>total_messages</th>\n",
       "      <th>total_mb</th>\n",
       "      <th>sessions</th>\n",
       "    </tr>\n",
       "  </thead>\n",
       "  <tbody>\n",
       "    <tr>\n",
       "      <td>0</td>\n",
       "      <td>1000</td>\n",
       "      <td>5</td>\n",
       "      <td>159.0</td>\n",
       "      <td>22.0</td>\n",
       "      <td>22.0</td>\n",
       "      <td>2256.0</td>\n",
       "      <td>5.0</td>\n",
       "    </tr>\n",
       "    <tr>\n",
       "      <td>1</td>\n",
       "      <td>1000</td>\n",
       "      <td>6</td>\n",
       "      <td>172.0</td>\n",
       "      <td>43.0</td>\n",
       "      <td>60.0</td>\n",
       "      <td>23257.0</td>\n",
       "      <td>49.0</td>\n",
       "    </tr>\n",
       "    <tr>\n",
       "      <td>2</td>\n",
       "      <td>1000</td>\n",
       "      <td>7</td>\n",
       "      <td>340.0</td>\n",
       "      <td>47.0</td>\n",
       "      <td>75.0</td>\n",
       "      <td>14016.0</td>\n",
       "      <td>29.0</td>\n",
       "    </tr>\n",
       "    <tr>\n",
       "      <td>3</td>\n",
       "      <td>1000</td>\n",
       "      <td>8</td>\n",
       "      <td>408.0</td>\n",
       "      <td>52.0</td>\n",
       "      <td>81.0</td>\n",
       "      <td>14070.0</td>\n",
       "      <td>29.0</td>\n",
       "    </tr>\n",
       "    <tr>\n",
       "      <td>4</td>\n",
       "      <td>1000</td>\n",
       "      <td>9</td>\n",
       "      <td>466.0</td>\n",
       "      <td>58.0</td>\n",
       "      <td>57.0</td>\n",
       "      <td>14581.0</td>\n",
       "      <td>27.0</td>\n",
       "    </tr>\n",
       "    <tr>\n",
       "      <td>...</td>\n",
       "      <td>...</td>\n",
       "      <td>...</td>\n",
       "      <td>...</td>\n",
       "      <td>...</td>\n",
       "      <td>...</td>\n",
       "      <td>...</td>\n",
       "      <td>...</td>\n",
       "    </tr>\n",
       "    <tr>\n",
       "      <td>3209</td>\n",
       "      <td>1489</td>\n",
       "      <td>9</td>\n",
       "      <td>NaN</td>\n",
       "      <td>NaN</td>\n",
       "      <td>32.0</td>\n",
       "      <td>17232.0</td>\n",
       "      <td>63.0</td>\n",
       "    </tr>\n",
       "    <tr>\n",
       "      <td>3210</td>\n",
       "      <td>1489</td>\n",
       "      <td>10</td>\n",
       "      <td>NaN</td>\n",
       "      <td>NaN</td>\n",
       "      <td>21.0</td>\n",
       "      <td>19588.0</td>\n",
       "      <td>63.0</td>\n",
       "    </tr>\n",
       "    <tr>\n",
       "      <td>3211</td>\n",
       "      <td>1489</td>\n",
       "      <td>11</td>\n",
       "      <td>NaN</td>\n",
       "      <td>NaN</td>\n",
       "      <td>20.0</td>\n",
       "      <td>17516.0</td>\n",
       "      <td>55.0</td>\n",
       "    </tr>\n",
       "    <tr>\n",
       "      <td>3212</td>\n",
       "      <td>1489</td>\n",
       "      <td>12</td>\n",
       "      <td>NaN</td>\n",
       "      <td>NaN</td>\n",
       "      <td>35.0</td>\n",
       "      <td>17341.0</td>\n",
       "      <td>51.0</td>\n",
       "    </tr>\n",
       "    <tr>\n",
       "      <td>3213</td>\n",
       "      <td>1476</td>\n",
       "      <td>4</td>\n",
       "      <td>NaN</td>\n",
       "      <td>NaN</td>\n",
       "      <td>NaN</td>\n",
       "      <td>531.0</td>\n",
       "      <td>1.0</td>\n",
       "    </tr>\n",
       "  </tbody>\n",
       "</table>\n",
       "<p>3214 rows × 7 columns</p>\n",
       "</div>"
      ],
      "text/plain": [
       "      user_id  month  total_duration  total_calls  total_messages  total_mb  \\\n",
       "0        1000      5           159.0         22.0            22.0    2256.0   \n",
       "1        1000      6           172.0         43.0            60.0   23257.0   \n",
       "2        1000      7           340.0         47.0            75.0   14016.0   \n",
       "3        1000      8           408.0         52.0            81.0   14070.0   \n",
       "4        1000      9           466.0         58.0            57.0   14581.0   \n",
       "...       ...    ...             ...          ...             ...       ...   \n",
       "3209     1489      9             NaN          NaN            32.0   17232.0   \n",
       "3210     1489     10             NaN          NaN            21.0   19588.0   \n",
       "3211     1489     11             NaN          NaN            20.0   17516.0   \n",
       "3212     1489     12             NaN          NaN            35.0   17341.0   \n",
       "3213     1476      4             NaN          NaN             NaN     531.0   \n",
       "\n",
       "      sessions  \n",
       "0          5.0  \n",
       "1         49.0  \n",
       "2         29.0  \n",
       "3         29.0  \n",
       "4         27.0  \n",
       "...        ...  \n",
       "3209      63.0  \n",
       "3210      63.0  \n",
       "3211      55.0  \n",
       "3212      51.0  \n",
       "3213       1.0  \n",
       "\n",
       "[3214 rows x 7 columns]"
      ]
     },
     "execution_count": 70,
     "metadata": {},
     "output_type": "execute_result"
    }
   ],
   "source": [
    "month_stat"
   ]
  },
  {
   "cell_type": "code",
   "execution_count": 71,
   "metadata": {},
   "outputs": [],
   "source": [
    "month_stat = month_stat.merge(users, on='user_id', how='outer')"
   ]
  },
  {
   "cell_type": "code",
   "execution_count": 72,
   "metadata": {},
   "outputs": [
    {
     "data": {
      "text/html": [
       "<div>\n",
       "<style scoped>\n",
       "    .dataframe tbody tr th:only-of-type {\n",
       "        vertical-align: middle;\n",
       "    }\n",
       "\n",
       "    .dataframe tbody tr th {\n",
       "        vertical-align: top;\n",
       "    }\n",
       "\n",
       "    .dataframe thead th {\n",
       "        text-align: right;\n",
       "    }\n",
       "</style>\n",
       "<table border=\"1\" class=\"dataframe\">\n",
       "  <thead>\n",
       "    <tr style=\"text-align: right;\">\n",
       "      <th></th>\n",
       "      <th>user_id</th>\n",
       "      <th>month</th>\n",
       "      <th>total_duration</th>\n",
       "      <th>total_calls</th>\n",
       "      <th>total_messages</th>\n",
       "      <th>total_mb</th>\n",
       "      <th>sessions</th>\n",
       "      <th>age</th>\n",
       "      <th>churn_date</th>\n",
       "      <th>city</th>\n",
       "      <th>first_name</th>\n",
       "      <th>last_name</th>\n",
       "      <th>reg_date</th>\n",
       "      <th>tariff</th>\n",
       "    </tr>\n",
       "  </thead>\n",
       "  <tbody>\n",
       "    <tr>\n",
       "      <td>0</td>\n",
       "      <td>1000</td>\n",
       "      <td>5.0</td>\n",
       "      <td>159.0</td>\n",
       "      <td>22.0</td>\n",
       "      <td>22.0</td>\n",
       "      <td>2256.0</td>\n",
       "      <td>5.0</td>\n",
       "      <td>52</td>\n",
       "      <td>NaT</td>\n",
       "      <td>Краснодар</td>\n",
       "      <td>Рафаил</td>\n",
       "      <td>Верещагин</td>\n",
       "      <td>2018-05-25</td>\n",
       "      <td>ultra</td>\n",
       "    </tr>\n",
       "    <tr>\n",
       "      <td>1</td>\n",
       "      <td>1000</td>\n",
       "      <td>6.0</td>\n",
       "      <td>172.0</td>\n",
       "      <td>43.0</td>\n",
       "      <td>60.0</td>\n",
       "      <td>23257.0</td>\n",
       "      <td>49.0</td>\n",
       "      <td>52</td>\n",
       "      <td>NaT</td>\n",
       "      <td>Краснодар</td>\n",
       "      <td>Рафаил</td>\n",
       "      <td>Верещагин</td>\n",
       "      <td>2018-05-25</td>\n",
       "      <td>ultra</td>\n",
       "    </tr>\n",
       "    <tr>\n",
       "      <td>2</td>\n",
       "      <td>1000</td>\n",
       "      <td>7.0</td>\n",
       "      <td>340.0</td>\n",
       "      <td>47.0</td>\n",
       "      <td>75.0</td>\n",
       "      <td>14016.0</td>\n",
       "      <td>29.0</td>\n",
       "      <td>52</td>\n",
       "      <td>NaT</td>\n",
       "      <td>Краснодар</td>\n",
       "      <td>Рафаил</td>\n",
       "      <td>Верещагин</td>\n",
       "      <td>2018-05-25</td>\n",
       "      <td>ultra</td>\n",
       "    </tr>\n",
       "    <tr>\n",
       "      <td>3</td>\n",
       "      <td>1000</td>\n",
       "      <td>8.0</td>\n",
       "      <td>408.0</td>\n",
       "      <td>52.0</td>\n",
       "      <td>81.0</td>\n",
       "      <td>14070.0</td>\n",
       "      <td>29.0</td>\n",
       "      <td>52</td>\n",
       "      <td>NaT</td>\n",
       "      <td>Краснодар</td>\n",
       "      <td>Рафаил</td>\n",
       "      <td>Верещагин</td>\n",
       "      <td>2018-05-25</td>\n",
       "      <td>ultra</td>\n",
       "    </tr>\n",
       "    <tr>\n",
       "      <td>4</td>\n",
       "      <td>1000</td>\n",
       "      <td>9.0</td>\n",
       "      <td>466.0</td>\n",
       "      <td>58.0</td>\n",
       "      <td>57.0</td>\n",
       "      <td>14581.0</td>\n",
       "      <td>27.0</td>\n",
       "      <td>52</td>\n",
       "      <td>NaT</td>\n",
       "      <td>Краснодар</td>\n",
       "      <td>Рафаил</td>\n",
       "      <td>Верещагин</td>\n",
       "      <td>2018-05-25</td>\n",
       "      <td>ultra</td>\n",
       "    </tr>\n",
       "    <tr>\n",
       "      <td>...</td>\n",
       "      <td>...</td>\n",
       "      <td>...</td>\n",
       "      <td>...</td>\n",
       "      <td>...</td>\n",
       "      <td>...</td>\n",
       "      <td>...</td>\n",
       "      <td>...</td>\n",
       "      <td>...</td>\n",
       "      <td>...</td>\n",
       "      <td>...</td>\n",
       "      <td>...</td>\n",
       "      <td>...</td>\n",
       "      <td>...</td>\n",
       "      <td>...</td>\n",
       "    </tr>\n",
       "    <tr>\n",
       "      <td>3211</td>\n",
       "      <td>1489</td>\n",
       "      <td>10.0</td>\n",
       "      <td>NaN</td>\n",
       "      <td>NaN</td>\n",
       "      <td>21.0</td>\n",
       "      <td>19588.0</td>\n",
       "      <td>63.0</td>\n",
       "      <td>35</td>\n",
       "      <td>NaT</td>\n",
       "      <td>Санкт-Петербург</td>\n",
       "      <td>Павел</td>\n",
       "      <td>Гончаров</td>\n",
       "      <td>2018-08-15</td>\n",
       "      <td>smart</td>\n",
       "    </tr>\n",
       "    <tr>\n",
       "      <td>3212</td>\n",
       "      <td>1489</td>\n",
       "      <td>11.0</td>\n",
       "      <td>NaN</td>\n",
       "      <td>NaN</td>\n",
       "      <td>20.0</td>\n",
       "      <td>17516.0</td>\n",
       "      <td>55.0</td>\n",
       "      <td>35</td>\n",
       "      <td>NaT</td>\n",
       "      <td>Санкт-Петербург</td>\n",
       "      <td>Павел</td>\n",
       "      <td>Гончаров</td>\n",
       "      <td>2018-08-15</td>\n",
       "      <td>smart</td>\n",
       "    </tr>\n",
       "    <tr>\n",
       "      <td>3213</td>\n",
       "      <td>1489</td>\n",
       "      <td>12.0</td>\n",
       "      <td>NaN</td>\n",
       "      <td>NaN</td>\n",
       "      <td>35.0</td>\n",
       "      <td>17341.0</td>\n",
       "      <td>51.0</td>\n",
       "      <td>35</td>\n",
       "      <td>NaT</td>\n",
       "      <td>Санкт-Петербург</td>\n",
       "      <td>Павел</td>\n",
       "      <td>Гончаров</td>\n",
       "      <td>2018-08-15</td>\n",
       "      <td>smart</td>\n",
       "    </tr>\n",
       "    <tr>\n",
       "      <td>3214</td>\n",
       "      <td>1128</td>\n",
       "      <td>NaN</td>\n",
       "      <td>NaN</td>\n",
       "      <td>NaN</td>\n",
       "      <td>NaN</td>\n",
       "      <td>NaN</td>\n",
       "      <td>NaN</td>\n",
       "      <td>51</td>\n",
       "      <td>2018-12-23</td>\n",
       "      <td>Волжский</td>\n",
       "      <td>Ксения</td>\n",
       "      <td>Агаева</td>\n",
       "      <td>2018-12-15</td>\n",
       "      <td>ultra</td>\n",
       "    </tr>\n",
       "    <tr>\n",
       "      <td>3215</td>\n",
       "      <td>1371</td>\n",
       "      <td>NaN</td>\n",
       "      <td>NaN</td>\n",
       "      <td>NaN</td>\n",
       "      <td>NaN</td>\n",
       "      <td>NaN</td>\n",
       "      <td>NaN</td>\n",
       "      <td>50</td>\n",
       "      <td>2018-12-30</td>\n",
       "      <td>Омск</td>\n",
       "      <td>Ириней</td>\n",
       "      <td>Трофимов</td>\n",
       "      <td>2018-12-25</td>\n",
       "      <td>smart</td>\n",
       "    </tr>\n",
       "  </tbody>\n",
       "</table>\n",
       "<p>3216 rows × 14 columns</p>\n",
       "</div>"
      ],
      "text/plain": [
       "      user_id  month  total_duration  total_calls  total_messages  total_mb  \\\n",
       "0        1000    5.0           159.0         22.0            22.0    2256.0   \n",
       "1        1000    6.0           172.0         43.0            60.0   23257.0   \n",
       "2        1000    7.0           340.0         47.0            75.0   14016.0   \n",
       "3        1000    8.0           408.0         52.0            81.0   14070.0   \n",
       "4        1000    9.0           466.0         58.0            57.0   14581.0   \n",
       "...       ...    ...             ...          ...             ...       ...   \n",
       "3211     1489   10.0             NaN          NaN            21.0   19588.0   \n",
       "3212     1489   11.0             NaN          NaN            20.0   17516.0   \n",
       "3213     1489   12.0             NaN          NaN            35.0   17341.0   \n",
       "3214     1128    NaN             NaN          NaN             NaN       NaN   \n",
       "3215     1371    NaN             NaN          NaN             NaN       NaN   \n",
       "\n",
       "      sessions  age churn_date             city first_name  last_name  \\\n",
       "0          5.0   52        NaT        Краснодар     Рафаил  Верещагин   \n",
       "1         49.0   52        NaT        Краснодар     Рафаил  Верещагин   \n",
       "2         29.0   52        NaT        Краснодар     Рафаил  Верещагин   \n",
       "3         29.0   52        NaT        Краснодар     Рафаил  Верещагин   \n",
       "4         27.0   52        NaT        Краснодар     Рафаил  Верещагин   \n",
       "...        ...  ...        ...              ...        ...        ...   \n",
       "3211      63.0   35        NaT  Санкт-Петербург      Павел   Гончаров   \n",
       "3212      55.0   35        NaT  Санкт-Петербург      Павел   Гончаров   \n",
       "3213      51.0   35        NaT  Санкт-Петербург      Павел   Гончаров   \n",
       "3214       NaN   51 2018-12-23         Волжский     Ксения     Агаева   \n",
       "3215       NaN   50 2018-12-30             Омск     Ириней   Трофимов   \n",
       "\n",
       "       reg_date tariff  \n",
       "0    2018-05-25  ultra  \n",
       "1    2018-05-25  ultra  \n",
       "2    2018-05-25  ultra  \n",
       "3    2018-05-25  ultra  \n",
       "4    2018-05-25  ultra  \n",
       "...         ...    ...  \n",
       "3211 2018-08-15  smart  \n",
       "3212 2018-08-15  smart  \n",
       "3213 2018-08-15  smart  \n",
       "3214 2018-12-15  ultra  \n",
       "3215 2018-12-25  smart  \n",
       "\n",
       "[3216 rows x 14 columns]"
      ]
     },
     "metadata": {},
     "output_type": "display_data"
    }
   ],
   "source": [
    "# итоговая таблица\n",
    "display(month_stat)"
   ]
  },
  {
   "cell_type": "code",
   "execution_count": 73,
   "metadata": {},
   "outputs": [
    {
     "data": {
      "text/plain": [
       "user_id              0\n",
       "month                2\n",
       "total_duration      42\n",
       "total_calls         42\n",
       "total_messages     499\n",
       "total_mb            13\n",
       "sessions            13\n",
       "age                  0\n",
       "churn_date        3027\n",
       "city                 0\n",
       "first_name           0\n",
       "last_name            0\n",
       "reg_date             0\n",
       "tariff               0\n",
       "dtype: int64"
      ]
     },
     "execution_count": 73,
     "metadata": {},
     "output_type": "execute_result"
    }
   ],
   "source": [
    "month_stat.isnull().sum()"
   ]
  },
  {
   "cell_type": "code",
   "execution_count": 74,
   "metadata": {},
   "outputs": [
    {
     "data": {
      "text/plain": [
       "[1120, 1204, 1429, 1435, 1240, 1292, 1157, 1152, 1291, 1466, 1006]"
      ]
     },
     "execution_count": 74,
     "metadata": {},
     "output_type": "execute_result"
    }
   ],
   "source": [
    "# проверка пассивных пользователей\n",
    "no_messages_months = month_stat[month_stat['total_messages'].isnull()]['user_id'].value_counts()\n",
    "no_messages_users_list = no_messages_months[no_messages_months > 10].index.tolist()\n",
    "\n",
    "no_messages_users_list"
   ]
  },
  {
   "cell_type": "code",
   "execution_count": 75,
   "metadata": {
    "scrolled": false
   },
   "outputs": [
    {
     "data": {
      "text/html": [
       "<div>\n",
       "<style scoped>\n",
       "    .dataframe tbody tr th:only-of-type {\n",
       "        vertical-align: middle;\n",
       "    }\n",
       "\n",
       "    .dataframe tbody tr th {\n",
       "        vertical-align: top;\n",
       "    }\n",
       "\n",
       "    .dataframe thead th {\n",
       "        text-align: right;\n",
       "    }\n",
       "</style>\n",
       "<table border=\"1\" class=\"dataframe\">\n",
       "  <thead>\n",
       "    <tr style=\"text-align: right;\">\n",
       "      <th></th>\n",
       "      <th>total_duration</th>\n",
       "      <th>total_calls</th>\n",
       "      <th>total_mb</th>\n",
       "    </tr>\n",
       "    <tr>\n",
       "      <th>user_id</th>\n",
       "      <th></th>\n",
       "      <th></th>\n",
       "      <th></th>\n",
       "    </tr>\n",
       "  </thead>\n",
       "  <tbody>\n",
       "    <tr>\n",
       "      <td>1006</td>\n",
       "      <td>3501.0</td>\n",
       "      <td>506.0</td>\n",
       "      <td>164395.0</td>\n",
       "    </tr>\n",
       "    <tr>\n",
       "      <td>1120</td>\n",
       "      <td>3257.0</td>\n",
       "      <td>444.0</td>\n",
       "      <td>116033.0</td>\n",
       "    </tr>\n",
       "    <tr>\n",
       "      <td>1152</td>\n",
       "      <td>3378.0</td>\n",
       "      <td>451.0</td>\n",
       "      <td>264882.0</td>\n",
       "    </tr>\n",
       "    <tr>\n",
       "      <td>1157</td>\n",
       "      <td>4400.0</td>\n",
       "      <td>594.0</td>\n",
       "      <td>224774.0</td>\n",
       "    </tr>\n",
       "    <tr>\n",
       "      <td>1204</td>\n",
       "      <td>4370.0</td>\n",
       "      <td>600.0</td>\n",
       "      <td>247152.0</td>\n",
       "    </tr>\n",
       "    <tr>\n",
       "      <td>1240</td>\n",
       "      <td>4145.0</td>\n",
       "      <td>572.0</td>\n",
       "      <td>376594.0</td>\n",
       "    </tr>\n",
       "    <tr>\n",
       "      <td>1291</td>\n",
       "      <td>6044.0</td>\n",
       "      <td>869.0</td>\n",
       "      <td>139991.0</td>\n",
       "    </tr>\n",
       "    <tr>\n",
       "      <td>1292</td>\n",
       "      <td>2557.0</td>\n",
       "      <td>341.0</td>\n",
       "      <td>335496.0</td>\n",
       "    </tr>\n",
       "    <tr>\n",
       "      <td>1429</td>\n",
       "      <td>2844.0</td>\n",
       "      <td>420.0</td>\n",
       "      <td>234356.0</td>\n",
       "    </tr>\n",
       "    <tr>\n",
       "      <td>1435</td>\n",
       "      <td>3521.0</td>\n",
       "      <td>473.0</td>\n",
       "      <td>209419.0</td>\n",
       "    </tr>\n",
       "    <tr>\n",
       "      <td>1466</td>\n",
       "      <td>5288.0</td>\n",
       "      <td>748.0</td>\n",
       "      <td>165749.0</td>\n",
       "    </tr>\n",
       "  </tbody>\n",
       "</table>\n",
       "</div>"
      ],
      "text/plain": [
       "         total_duration  total_calls  total_mb\n",
       "user_id                                       \n",
       "1006             3501.0        506.0  164395.0\n",
       "1120             3257.0        444.0  116033.0\n",
       "1152             3378.0        451.0  264882.0\n",
       "1157             4400.0        594.0  224774.0\n",
       "1204             4370.0        600.0  247152.0\n",
       "1240             4145.0        572.0  376594.0\n",
       "1291             6044.0        869.0  139991.0\n",
       "1292             2557.0        341.0  335496.0\n",
       "1429             2844.0        420.0  234356.0\n",
       "1435             3521.0        473.0  209419.0\n",
       "1466             5288.0        748.0  165749.0"
      ]
     },
     "execution_count": 75,
     "metadata": {},
     "output_type": "execute_result"
    }
   ],
   "source": [
    "# проверка активности для пользователей, которые больше других не пользовались сообщениями.\n",
    "activity_for_no_message_users = month_stat[['total_duration', 'total_calls', 'total_mb', 'user_id']]\\\n",
    ".query('user_id in @no_messages_users_list').groupby('user_id').agg('sum')\n",
    "activity_for_no_message_users"
   ]
  },
  {
   "cell_type": "markdown",
   "metadata": {
    "scrolled": true
   },
   "source": [
    "Всё в порядке, сейчас есть много альтернатив смс-сообщениям, если подключён интернет."
   ]
  },
  {
   "cell_type": "code",
   "execution_count": 76,
   "metadata": {},
   "outputs": [
    {
     "data": {
      "text/html": [
       "<div>\n",
       "<style scoped>\n",
       "    .dataframe tbody tr th:only-of-type {\n",
       "        vertical-align: middle;\n",
       "    }\n",
       "\n",
       "    .dataframe tbody tr th {\n",
       "        vertical-align: top;\n",
       "    }\n",
       "\n",
       "    .dataframe thead th {\n",
       "        text-align: right;\n",
       "    }\n",
       "</style>\n",
       "<table border=\"1\" class=\"dataframe\">\n",
       "  <thead>\n",
       "    <tr style=\"text-align: right;\">\n",
       "      <th></th>\n",
       "      <th>user_id</th>\n",
       "      <th>month</th>\n",
       "      <th>total_duration</th>\n",
       "      <th>total_calls</th>\n",
       "      <th>total_messages</th>\n",
       "      <th>total_mb</th>\n",
       "      <th>sessions</th>\n",
       "      <th>age</th>\n",
       "      <th>churn_date</th>\n",
       "      <th>city</th>\n",
       "      <th>first_name</th>\n",
       "      <th>last_name</th>\n",
       "      <th>reg_date</th>\n",
       "      <th>tariff</th>\n",
       "    </tr>\n",
       "  </thead>\n",
       "  <tbody>\n",
       "    <tr>\n",
       "      <td>3214</td>\n",
       "      <td>1128</td>\n",
       "      <td>NaN</td>\n",
       "      <td>NaN</td>\n",
       "      <td>NaN</td>\n",
       "      <td>NaN</td>\n",
       "      <td>NaN</td>\n",
       "      <td>NaN</td>\n",
       "      <td>51</td>\n",
       "      <td>2018-12-23</td>\n",
       "      <td>Волжский</td>\n",
       "      <td>Ксения</td>\n",
       "      <td>Агаева</td>\n",
       "      <td>2018-12-15</td>\n",
       "      <td>ultra</td>\n",
       "    </tr>\n",
       "    <tr>\n",
       "      <td>3215</td>\n",
       "      <td>1371</td>\n",
       "      <td>NaN</td>\n",
       "      <td>NaN</td>\n",
       "      <td>NaN</td>\n",
       "      <td>NaN</td>\n",
       "      <td>NaN</td>\n",
       "      <td>NaN</td>\n",
       "      <td>50</td>\n",
       "      <td>2018-12-30</td>\n",
       "      <td>Омск</td>\n",
       "      <td>Ириней</td>\n",
       "      <td>Трофимов</td>\n",
       "      <td>2018-12-25</td>\n",
       "      <td>smart</td>\n",
       "    </tr>\n",
       "  </tbody>\n",
       "</table>\n",
       "</div>"
      ],
      "text/plain": [
       "      user_id  month  total_duration  total_calls  total_messages  total_mb  \\\n",
       "3214     1128    NaN             NaN          NaN             NaN       NaN   \n",
       "3215     1371    NaN             NaN          NaN             NaN       NaN   \n",
       "\n",
       "      sessions  age churn_date      city first_name last_name   reg_date  \\\n",
       "3214       NaN   51 2018-12-23  Волжский     Ксения    Агаева 2018-12-15   \n",
       "3215       NaN   50 2018-12-30      Омск     Ириней  Трофимов 2018-12-25   \n",
       "\n",
       "     tariff  \n",
       "3214  ultra  \n",
       "3215  smart  "
      ]
     },
     "execution_count": 76,
     "metadata": {},
     "output_type": "execute_result"
    }
   ],
   "source": [
    "# странные пропуски в месяцах\n",
    "month_stat.query('month.isnull()')"
   ]
  },
  {
   "cell_type": "markdown",
   "metadata": {},
   "source": [
    "Эти пользователи не имеют ни одного отправленного сообщения, звонка и мегабайта переданных данных. Отключились от тарифа через неделю или менее после подключения. На статистику не повлияют."
   ]
  },
  {
   "cell_type": "code",
   "execution_count": 77,
   "metadata": {},
   "outputs": [
    {
     "name": "stdout",
     "output_type": "stream",
     "text": [
      "В графе \u001b[1mtotal_duration\u001b[0m\n",
      "Количество Null элементов:     42\n",
      "Количество нулевых элементов:   6\n",
      "\n",
      "В графе \u001b[1mtotal_calls\u001b[0m\n",
      "Количество Null элементов:     42\n",
      "Количество нулевых элементов:   0\n",
      "\n",
      "В графе \u001b[1mtotal_messages\u001b[0m\n",
      "Количество Null элементов:    499\n",
      "Количество нулевых элементов:   0\n",
      "\n",
      "В графе \u001b[1mtotal_mb\u001b[0m\n",
      "Количество Null элементов:     13\n",
      "Количество нулевых элементов:   2\n",
      "\n",
      "В графе \u001b[1msessions\u001b[0m\n",
      "Количество Null элементов:     13\n",
      "Количество нулевых элементов:   0\n",
      "\n"
     ]
    }
   ],
   "source": [
    "null_stat_columns = ['total_duration', 'total_calls', 'total_messages', 'total_mb', 'sessions']\n",
    "for column in null_stat_columns:\n",
    "    print('В графе ' + color.BOLD + column + color.END)\n",
    "    print('Количество Null элементов:{: >7}'.format(len(month_stat.query(column + '.isnull()')[column])))\n",
    "    print('Количество нулевых элементов:{: >4}'.format(len(month_stat.query(column + ' == 0')[column])))\n",
    "    print()"
   ]
  },
  {
   "cell_type": "markdown",
   "metadata": {},
   "source": [
    "Null'ов значительно больше, что свидетельствует о том, что пользователи чаще не пользовались сервисами по своему желанию, нежели возникали проблемы со связью. Заменю на 0 пропущенные значения по звонкам, минутам, мегабайтам, сообщениям, т.к. они образовались после объединения таблиц внешним соединением и свидетельствуют о нулевой активности по этим параметрам за месяц."
   ]
  },
  {
   "cell_type": "code",
   "execution_count": 78,
   "metadata": {},
   "outputs": [],
   "source": [
    "month_stat['total_duration'].fillna(0, inplace=True)\n",
    "month_stat['total_calls'].fillna(0, inplace=True)\n",
    "month_stat['total_messages'].fillna(0, inplace=True)\n",
    "month_stat['total_mb'].fillna(0, inplace=True)\n",
    "month_stat['sessions'].fillna(0, inplace=True)"
   ]
  },
  {
   "cell_type": "code",
   "execution_count": 79,
   "metadata": {},
   "outputs": [],
   "source": [
    "# подсчет суммы на оплату за каждый месяц для пользователей\n",
    "def month_revenue(row):\n",
    "# расчет коэффициента для учета абонентской платы по неполному месяцу\n",
    "#     расчет превышений по тарифу\n",
    "    mb_excess = row['total_mb'] - tariff_dict[row['tariff']]['mb_per_month_included']\n",
    "    messages_excess = row['total_messages'] - tariff_dict[row['tariff']]['messages_included']\n",
    "    minutes_excess = row['total_duration'] - tariff_dict[row['tariff']]['minutes_included']\n",
    "#     функция возвращает значение расходов пользователя за месяц как сумма по тарифу + превышение\n",
    "#     округляю вверх гигабайты после преобразования из мегабайт\n",
    "    return tariff_dict[row['tariff']]['rub_monthly_fee'] +\\\n",
    "    np.ceil(max(0, mb_excess) / 1024) * tariff_dict[row['tariff']]['rub_per_gb'] +\\\n",
    "    max(0, messages_excess) * tariff_dict[row['tariff']]['rub_per_message'] +\\\n",
    "    max(0, minutes_excess) * tariff_dict[row['tariff']]['rub_per_minute']"
   ]
  },
  {
   "cell_type": "code",
   "execution_count": 80,
   "metadata": {},
   "outputs": [],
   "source": [
    "month_stat['revenue'] = month_stat.apply(month_revenue, axis=1)"
   ]
  },
  {
   "cell_type": "code",
   "execution_count": 81,
   "metadata": {},
   "outputs": [
    {
     "data": {
      "text/html": [
       "<div>\n",
       "<style scoped>\n",
       "    .dataframe tbody tr th:only-of-type {\n",
       "        vertical-align: middle;\n",
       "    }\n",
       "\n",
       "    .dataframe tbody tr th {\n",
       "        vertical-align: top;\n",
       "    }\n",
       "\n",
       "    .dataframe thead th {\n",
       "        text-align: right;\n",
       "    }\n",
       "</style>\n",
       "<table border=\"1\" class=\"dataframe\">\n",
       "  <thead>\n",
       "    <tr style=\"text-align: right;\">\n",
       "      <th></th>\n",
       "      <th>user_id</th>\n",
       "      <th>month</th>\n",
       "      <th>total_duration</th>\n",
       "      <th>total_calls</th>\n",
       "      <th>total_messages</th>\n",
       "      <th>total_mb</th>\n",
       "      <th>sessions</th>\n",
       "      <th>age</th>\n",
       "      <th>churn_date</th>\n",
       "      <th>city</th>\n",
       "      <th>first_name</th>\n",
       "      <th>last_name</th>\n",
       "      <th>reg_date</th>\n",
       "      <th>tariff</th>\n",
       "      <th>revenue</th>\n",
       "    </tr>\n",
       "  </thead>\n",
       "  <tbody>\n",
       "    <tr>\n",
       "      <td>0</td>\n",
       "      <td>1000</td>\n",
       "      <td>5.0</td>\n",
       "      <td>159.0</td>\n",
       "      <td>22.0</td>\n",
       "      <td>22.0</td>\n",
       "      <td>2256.0</td>\n",
       "      <td>5.0</td>\n",
       "      <td>52</td>\n",
       "      <td>NaT</td>\n",
       "      <td>Краснодар</td>\n",
       "      <td>Рафаил</td>\n",
       "      <td>Верещагин</td>\n",
       "      <td>2018-05-25</td>\n",
       "      <td>ultra</td>\n",
       "      <td>1950.0</td>\n",
       "    </tr>\n",
       "    <tr>\n",
       "      <td>1</td>\n",
       "      <td>1000</td>\n",
       "      <td>6.0</td>\n",
       "      <td>172.0</td>\n",
       "      <td>43.0</td>\n",
       "      <td>60.0</td>\n",
       "      <td>23257.0</td>\n",
       "      <td>49.0</td>\n",
       "      <td>52</td>\n",
       "      <td>NaT</td>\n",
       "      <td>Краснодар</td>\n",
       "      <td>Рафаил</td>\n",
       "      <td>Верещагин</td>\n",
       "      <td>2018-05-25</td>\n",
       "      <td>ultra</td>\n",
       "      <td>1950.0</td>\n",
       "    </tr>\n",
       "    <tr>\n",
       "      <td>2</td>\n",
       "      <td>1000</td>\n",
       "      <td>7.0</td>\n",
       "      <td>340.0</td>\n",
       "      <td>47.0</td>\n",
       "      <td>75.0</td>\n",
       "      <td>14016.0</td>\n",
       "      <td>29.0</td>\n",
       "      <td>52</td>\n",
       "      <td>NaT</td>\n",
       "      <td>Краснодар</td>\n",
       "      <td>Рафаил</td>\n",
       "      <td>Верещагин</td>\n",
       "      <td>2018-05-25</td>\n",
       "      <td>ultra</td>\n",
       "      <td>1950.0</td>\n",
       "    </tr>\n",
       "    <tr>\n",
       "      <td>3</td>\n",
       "      <td>1000</td>\n",
       "      <td>8.0</td>\n",
       "      <td>408.0</td>\n",
       "      <td>52.0</td>\n",
       "      <td>81.0</td>\n",
       "      <td>14070.0</td>\n",
       "      <td>29.0</td>\n",
       "      <td>52</td>\n",
       "      <td>NaT</td>\n",
       "      <td>Краснодар</td>\n",
       "      <td>Рафаил</td>\n",
       "      <td>Верещагин</td>\n",
       "      <td>2018-05-25</td>\n",
       "      <td>ultra</td>\n",
       "      <td>1950.0</td>\n",
       "    </tr>\n",
       "    <tr>\n",
       "      <td>4</td>\n",
       "      <td>1000</td>\n",
       "      <td>9.0</td>\n",
       "      <td>466.0</td>\n",
       "      <td>58.0</td>\n",
       "      <td>57.0</td>\n",
       "      <td>14581.0</td>\n",
       "      <td>27.0</td>\n",
       "      <td>52</td>\n",
       "      <td>NaT</td>\n",
       "      <td>Краснодар</td>\n",
       "      <td>Рафаил</td>\n",
       "      <td>Верещагин</td>\n",
       "      <td>2018-05-25</td>\n",
       "      <td>ultra</td>\n",
       "      <td>1950.0</td>\n",
       "    </tr>\n",
       "    <tr>\n",
       "      <td>...</td>\n",
       "      <td>...</td>\n",
       "      <td>...</td>\n",
       "      <td>...</td>\n",
       "      <td>...</td>\n",
       "      <td>...</td>\n",
       "      <td>...</td>\n",
       "      <td>...</td>\n",
       "      <td>...</td>\n",
       "      <td>...</td>\n",
       "      <td>...</td>\n",
       "      <td>...</td>\n",
       "      <td>...</td>\n",
       "      <td>...</td>\n",
       "      <td>...</td>\n",
       "      <td>...</td>\n",
       "    </tr>\n",
       "    <tr>\n",
       "      <td>3211</td>\n",
       "      <td>1489</td>\n",
       "      <td>10.0</td>\n",
       "      <td>0.0</td>\n",
       "      <td>0.0</td>\n",
       "      <td>21.0</td>\n",
       "      <td>19588.0</td>\n",
       "      <td>63.0</td>\n",
       "      <td>35</td>\n",
       "      <td>NaT</td>\n",
       "      <td>Санкт-Петербург</td>\n",
       "      <td>Павел</td>\n",
       "      <td>Гончаров</td>\n",
       "      <td>2018-08-15</td>\n",
       "      <td>smart</td>\n",
       "      <td>1550.0</td>\n",
       "    </tr>\n",
       "    <tr>\n",
       "      <td>3212</td>\n",
       "      <td>1489</td>\n",
       "      <td>11.0</td>\n",
       "      <td>0.0</td>\n",
       "      <td>0.0</td>\n",
       "      <td>20.0</td>\n",
       "      <td>17516.0</td>\n",
       "      <td>55.0</td>\n",
       "      <td>35</td>\n",
       "      <td>NaT</td>\n",
       "      <td>Санкт-Петербург</td>\n",
       "      <td>Павел</td>\n",
       "      <td>Гончаров</td>\n",
       "      <td>2018-08-15</td>\n",
       "      <td>smart</td>\n",
       "      <td>1150.0</td>\n",
       "    </tr>\n",
       "    <tr>\n",
       "      <td>3213</td>\n",
       "      <td>1489</td>\n",
       "      <td>12.0</td>\n",
       "      <td>0.0</td>\n",
       "      <td>0.0</td>\n",
       "      <td>35.0</td>\n",
       "      <td>17341.0</td>\n",
       "      <td>51.0</td>\n",
       "      <td>35</td>\n",
       "      <td>NaT</td>\n",
       "      <td>Санкт-Петербург</td>\n",
       "      <td>Павел</td>\n",
       "      <td>Гончаров</td>\n",
       "      <td>2018-08-15</td>\n",
       "      <td>smart</td>\n",
       "      <td>950.0</td>\n",
       "    </tr>\n",
       "    <tr>\n",
       "      <td>3214</td>\n",
       "      <td>1128</td>\n",
       "      <td>NaN</td>\n",
       "      <td>0.0</td>\n",
       "      <td>0.0</td>\n",
       "      <td>0.0</td>\n",
       "      <td>0.0</td>\n",
       "      <td>0.0</td>\n",
       "      <td>51</td>\n",
       "      <td>2018-12-23</td>\n",
       "      <td>Волжский</td>\n",
       "      <td>Ксения</td>\n",
       "      <td>Агаева</td>\n",
       "      <td>2018-12-15</td>\n",
       "      <td>ultra</td>\n",
       "      <td>1950.0</td>\n",
       "    </tr>\n",
       "    <tr>\n",
       "      <td>3215</td>\n",
       "      <td>1371</td>\n",
       "      <td>NaN</td>\n",
       "      <td>0.0</td>\n",
       "      <td>0.0</td>\n",
       "      <td>0.0</td>\n",
       "      <td>0.0</td>\n",
       "      <td>0.0</td>\n",
       "      <td>50</td>\n",
       "      <td>2018-12-30</td>\n",
       "      <td>Омск</td>\n",
       "      <td>Ириней</td>\n",
       "      <td>Трофимов</td>\n",
       "      <td>2018-12-25</td>\n",
       "      <td>smart</td>\n",
       "      <td>550.0</td>\n",
       "    </tr>\n",
       "  </tbody>\n",
       "</table>\n",
       "<p>3216 rows × 15 columns</p>\n",
       "</div>"
      ],
      "text/plain": [
       "      user_id  month  total_duration  total_calls  total_messages  total_mb  \\\n",
       "0        1000    5.0           159.0         22.0            22.0    2256.0   \n",
       "1        1000    6.0           172.0         43.0            60.0   23257.0   \n",
       "2        1000    7.0           340.0         47.0            75.0   14016.0   \n",
       "3        1000    8.0           408.0         52.0            81.0   14070.0   \n",
       "4        1000    9.0           466.0         58.0            57.0   14581.0   \n",
       "...       ...    ...             ...          ...             ...       ...   \n",
       "3211     1489   10.0             0.0          0.0            21.0   19588.0   \n",
       "3212     1489   11.0             0.0          0.0            20.0   17516.0   \n",
       "3213     1489   12.0             0.0          0.0            35.0   17341.0   \n",
       "3214     1128    NaN             0.0          0.0             0.0       0.0   \n",
       "3215     1371    NaN             0.0          0.0             0.0       0.0   \n",
       "\n",
       "      sessions  age churn_date             city first_name  last_name  \\\n",
       "0          5.0   52        NaT        Краснодар     Рафаил  Верещагин   \n",
       "1         49.0   52        NaT        Краснодар     Рафаил  Верещагин   \n",
       "2         29.0   52        NaT        Краснодар     Рафаил  Верещагин   \n",
       "3         29.0   52        NaT        Краснодар     Рафаил  Верещагин   \n",
       "4         27.0   52        NaT        Краснодар     Рафаил  Верещагин   \n",
       "...        ...  ...        ...              ...        ...        ...   \n",
       "3211      63.0   35        NaT  Санкт-Петербург      Павел   Гончаров   \n",
       "3212      55.0   35        NaT  Санкт-Петербург      Павел   Гончаров   \n",
       "3213      51.0   35        NaT  Санкт-Петербург      Павел   Гончаров   \n",
       "3214       0.0   51 2018-12-23         Волжский     Ксения     Агаева   \n",
       "3215       0.0   50 2018-12-30             Омск     Ириней   Трофимов   \n",
       "\n",
       "       reg_date tariff  revenue  \n",
       "0    2018-05-25  ultra   1950.0  \n",
       "1    2018-05-25  ultra   1950.0  \n",
       "2    2018-05-25  ultra   1950.0  \n",
       "3    2018-05-25  ultra   1950.0  \n",
       "4    2018-05-25  ultra   1950.0  \n",
       "...         ...    ...      ...  \n",
       "3211 2018-08-15  smart   1550.0  \n",
       "3212 2018-08-15  smart   1150.0  \n",
       "3213 2018-08-15  smart    950.0  \n",
       "3214 2018-12-15  ultra   1950.0  \n",
       "3215 2018-12-25  smart    550.0  \n",
       "\n",
       "[3216 rows x 15 columns]"
      ]
     },
     "execution_count": 81,
     "metadata": {},
     "output_type": "execute_result"
    }
   ],
   "source": [
    "# выборочная проверка работы функции - ок\n",
    "\n",
    "month_stat"
   ]
  },
  {
   "cell_type": "code",
   "execution_count": 82,
   "metadata": {},
   "outputs": [
    {
     "data": {
      "image/png": "[encoded data removed]",
      "text/plain": [
       "<Figure size 432x288 with 1 Axes>"
      ]
     },
     "metadata": {
      "needs_background": "light"
     },
     "output_type": "display_data"
    }
   ],
   "source": [
    "# отображу распределение по затратам по всем записям:\n",
    "month_stat['revenue'].hist(bins=30)\n",
    "plt.show()"
   ]
  },
  {
   "cell_type": "markdown",
   "metadata": {},
   "source": [
    "2 пика в районе 550 и 1950 свидетельствуют о том, что эти пользователи не превышают установленных лимитов и не доплачивают в дополнение к абонентской плате."
   ]
  },
  {
   "cell_type": "markdown",
   "metadata": {},
   "source": [
    "**Вывод:** данные были усреднены по месяцам, в результате чего нулевые сессии и звонки с 0 минут перестали влиять на статистику.\n",
    "\n",
    "Таблицы были объединены в одну, за исключением таблицы тарифов, которую удобнее было преобразовать в словарь. Я использовал внешнее соединение таблиц для того, чтобы данные не потерялись. При соединении проводились доволнительные проверки на корректность.\n",
    "\n",
    "После группировки по месяцам так же оставались нулевые данные, но таких данных в статистике по сообщениям было на порядок больше, нежели по данным интернет-трафика и звонкам. Я проверил, что это не артефакты и что эти пользователи исправно пользовались другими видами связи.  Ситуацию с сообщениями считаю связанной с высоким распространением бесплатных интернет-мессенджеров.\n",
    "\n",
    "Null данных было на порядок больше, чем просто нулевых, что свидетельствует о том, что пользовали чаще не пользовались сервисами по своему желанию, нежели возникали проблемы со связью. Заменил такие значения на 0, т.к. нулевая активность – тоже активность."
   ]
  },
  {
   "cell_type": "markdown",
   "metadata": {},
   "source": [
    "### Шаг 4. Анализ данных\n",
    "Опишем поведение клиентов оператора, исходя из выборки.\n",
    "- Сколько минут разговора, сколько сообщений и какой объём интернет-трафика требуется пользователям каждого тарифа в месяц?"
   ]
  },
  {
   "cell_type": "code",
   "execution_count": 83,
   "metadata": {},
   "outputs": [],
   "source": [
    "# Усредним данные по каждому пользователю:\n",
    "user_columns = ['total_duration', 'total_calls', 'total_mb', 'total_messages', 'tariff', 'revenue']\n",
    "user_stat = month_stat.pivot_table(index='user_id', values=user_columns, aggfunc={'total_duration':'mean',\n",
    "                                                                                 'total_calls': 'mean',\n",
    "                                                                                  'total_mb':'mean',\n",
    "                                                                                 'total_messages': 'mean',\n",
    "                                                                                 'tariff': 'first',\n",
    "                                                                                 'revenue': 'mean'})"
   ]
  },
  {
   "cell_type": "code",
   "execution_count": 84,
   "metadata": {},
   "outputs": [],
   "source": [
    "user_stat.reset_index(inplace=True)"
   ]
  },
  {
   "cell_type": "code",
   "execution_count": 85,
   "metadata": {},
   "outputs": [],
   "source": [
    "# группировка по тарифам\n",
    "tariff_gr = user_stat.groupby('tariff')"
   ]
  },
  {
   "cell_type": "code",
   "execution_count": 86,
   "metadata": {
    "scrolled": true
   },
   "outputs": [
    {
     "name": "stdout",
     "output_type": "stream",
     "text": [
      "\u001b[1mtotal_duration\u001b[0m\n",
      "\u001b[1msmart\u001b[0m\n",
      "count    351.000000\n",
      "mean     418.439262\n",
      "std      146.546039\n",
      "min        0.000000\n",
      "25%      315.958333\n",
      "50%      424.875000\n",
      "75%      518.616667\n",
      "max      891.500000\n",
      "Name: total_duration, dtype: float64\n",
      "\n",
      "\u001b[1multra\u001b[0m\n",
      "count     149.000000\n",
      "mean      524.279391\n",
      "std       284.142240\n",
      "min         0.000000\n",
      "25%       320.750000\n",
      "50%       513.333333\n",
      "75%       746.333333\n",
      "max      1179.363636\n",
      "Name: total_duration, dtype: float64\n",
      "\n"
     ]
    },
    {
     "data": {
      "image/png": "[encoded data removed]",
      "text/plain": [
       "<Figure size 432x288 with 1 Axes>"
      ]
     },
     "metadata": {
      "needs_background": "light"
     },
     "output_type": "display_data"
    },
    {
     "name": "stdout",
     "output_type": "stream",
     "text": [
      "\u001b[1mtotal_calls\u001b[0m\n",
      "\u001b[1msmart\u001b[0m\n",
      "count    351.000000\n",
      "mean      58.484946\n",
      "std       20.305422\n",
      "min        0.000000\n",
      "25%       43.333333\n",
      "50%       60.000000\n",
      "75%       72.000000\n",
      "max      121.000000\n",
      "Name: total_calls, dtype: float64\n",
      "\n",
      "\u001b[1multra\u001b[0m\n",
      "count    149.000000\n",
      "mean      72.945227\n",
      "std       39.560997\n",
      "min        0.000000\n",
      "25%       44.000000\n",
      "50%       72.000000\n",
      "75%      102.000000\n",
      "max      170.000000\n",
      "Name: total_calls, dtype: float64\n",
      "\n"
     ]
    },
    {
     "data": {
      "image/png": "[encoded data removed]",
      "text/plain": [
       "<Figure size 432x288 with 1 Axes>"
      ]
     },
     "metadata": {
      "needs_background": "light"
     },
     "output_type": "display_data"
    },
    {
     "name": "stdout",
     "output_type": "stream",
     "text": [
      "\u001b[1mtotal_mb\u001b[0m\n",
      "\u001b[1msmart\u001b[0m\n",
      "count      351.000000\n",
      "mean     16155.230119\n",
      "std       3681.522658\n",
      "min          0.000000\n",
      "25%      13882.634921\n",
      "50%      16268.714286\n",
      "75%      18609.027778\n",
      "max      27321.000000\n",
      "Name: total_mb, dtype: float64\n",
      "\n",
      "\u001b[1multra\u001b[0m\n",
      "count      149.000000\n",
      "mean     19461.343437\n",
      "std       8444.552074\n",
      "min          0.000000\n",
      "25%      13562.818182\n",
      "50%      18701.600000\n",
      "75%      25824.583333\n",
      "max      38502.000000\n",
      "Name: total_mb, dtype: float64\n",
      "\n"
     ]
    },
    {
     "data": {
      "image/png": "[encoded data removed]",
      "text/plain": [
       "<Figure size 432x288 with 1 Axes>"
      ]
     },
     "metadata": {
      "needs_background": "light"
     },
     "output_type": "display_data"
    },
    {
     "name": "stdout",
     "output_type": "stream",
     "text": [
      "\u001b[1mtotal_messages\u001b[0m\n",
      "\u001b[1msmart\u001b[0m\n",
      "count    351.000000\n",
      "mean      32.259907\n",
      "std       26.530803\n",
      "min        0.000000\n",
      "25%       11.000000\n",
      "50%       27.500000\n",
      "75%       48.000000\n",
      "max      118.000000\n",
      "Name: total_messages, dtype: float64\n",
      "\n",
      "\u001b[1multra\u001b[0m\n",
      "count    149.000000\n",
      "mean      53.668121\n",
      "std       46.420854\n",
      "min        0.000000\n",
      "25%       14.000000\n",
      "50%       45.000000\n",
      "75%       84.000000\n",
      "max      192.000000\n",
      "Name: total_messages, dtype: float64\n",
      "\n"
     ]
    },
    {
     "data": {
      "image/png": "[encoded data removed]",
      "text/plain": [
       "<Figure size 432x288 with 1 Axes>"
      ]
     },
     "metadata": {
      "needs_background": "light"
     },
     "output_type": "display_data"
    }
   ],
   "source": [
    "stat_columns = ['total_duration', 'total_calls', 'total_mb', 'total_messages']\n",
    "for column in stat_columns:\n",
    "    print(color.BOLD + column + color.END)\n",
    "    for tariff, data in tariff_gr:\n",
    "        sns.distplot(data[column], label=tariff)\n",
    "        plt.legend()\n",
    "        print(color.BOLD + tariff + color.END)\n",
    "        print(data[column].describe())\n",
    "        print()\n",
    "    plt.show()"
   ]
  },
  {
   "cell_type": "markdown",
   "metadata": {},
   "source": [
    "У тарифа *smart*\n",
    "- среднее для длительности звонков в районе 420 минут, разброс от 0 до 730 минут. Распределение похоже на нормальное.\n",
    "- среднее для количества звонков - 55-60 в месяц, разброс от 0 до 100.\n",
    "- среднее для трафика - 16 гб в месяц. Большая часть пользователей использует от 5 до 25 гб.\n",
    "- среднее для общего количества сообщений: 32 в месяц. распределение близко к распределению Пуассона.\n",
    "\n",
    "Для тарифа *ultra*:\n",
    "- среднее для длительности звонков 525 минут\n",
    "- общее количество звонков - 70-75, разброс от 0 до 170\n",
    "- общее количество переданных данных - в среднем 20 гб, от 0 до 40 Гб.\n",
    "- Общее количество сообщений: в среднем 54, распределение близко к распределению Пуассона.\n",
    "\n",
    "**Сравнение**:\n",
    "- для тарифа *ultra* общая длительность звонков в среднем больше на 100 минут (+24%).\n",
    "- количество звонков на 15 больше (+25%).\n",
    "- трафик на 4 Гб (25%) больше\n",
    "- сообщений на 22 больше (68%)\n",
    "\n",
    "Проверим разницу в оплате:"
   ]
  },
  {
   "cell_type": "code",
   "execution_count": 87,
   "metadata": {},
   "outputs": [
    {
     "name": "stdout",
     "output_type": "stream",
     "text": [
      "\u001b[1msmart\u001b[0m , оплата:\n",
      "count     351.000000\n",
      "mean     1327.505056\n",
      "std       607.411895\n",
      "min       550.000000\n",
      "25%       875.250000\n",
      "50%      1176.400000\n",
      "75%      1682.055556\n",
      "max      4333.333333\n",
      "Name: revenue, dtype: float64\n",
      "\n",
      "\u001b[1multra\u001b[0m , оплата:\n",
      "count     149.000000\n",
      "mean     2086.495177\n",
      "std       300.040624\n",
      "min      1950.000000\n",
      "25%      1950.000000\n",
      "50%      1950.000000\n",
      "75%      1987.500000\n",
      "max      3262.500000\n",
      "Name: revenue, dtype: float64\n",
      "\n"
     ]
    },
    {
     "data": {
      "image/png": "[encoded data removed]",
      "text/plain": [
       "<Figure size 432x288 with 1 Axes>"
      ]
     },
     "metadata": {
      "needs_background": "light"
     },
     "output_type": "display_data"
    }
   ],
   "source": [
    "for tariff, data in tariff_gr:\n",
    "    print(color.BOLD + tariff + color.END, ', оплата:')\n",
    "    data['revenue'].hist(bins=30, alpha=0.7)\n",
    "    print(data['revenue'].describe())\n",
    "    print()\n",
    "plt.show()"
   ]
  },
  {
   "cell_type": "code",
   "execution_count": 88,
   "metadata": {},
   "outputs": [
    {
     "data": {
      "text/plain": [
       "0.7466367713004485"
      ]
     },
     "execution_count": 88,
     "metadata": {},
     "output_type": "execute_result"
    }
   ],
   "source": [
    "month_stat.query('tariff == \"smart\" and revenue > 550')['tariff'].count() / month_stat.query('tariff == \"smart\"')['tariff'].count()"
   ]
  },
  {
   "cell_type": "code",
   "execution_count": 89,
   "metadata": {},
   "outputs": [
    {
     "data": {
      "text/plain": [
       "0.1359026369168357"
      ]
     },
     "execution_count": 89,
     "metadata": {},
     "output_type": "execute_result"
    }
   ],
   "source": [
    "month_stat.query('tariff == \"ultra\" and revenue > 1950')['tariff'].count() / month_stat.query('tariff == \"ultra\"')['tariff'].count()"
   ]
  },
  {
   "cell_type": "markdown",
   "metadata": {},
   "source": [
    "Как видно, на более дорогом тарифе превышение лимита бывает очень редко - 13%, в отличие от тарифа *smart* - 76%. Следовательно, на более дорогом тарифе подавляющему большинству пользователей достаточны предоставленные квоты трафика, звонков и сообщений."
   ]
  },
  {
   "cell_type": "markdown",
   "metadata": {},
   "source": [
    "**Вывод:**\n",
    "\n",
    "Сравнение тарифов:\n",
    "- общая длительность звонков в среднем больше на 100 минут (+24%).\n",
    "- количество звонков на 15 больше (+25%).\n",
    "- трафик на 4 Гб (25%) больше\n",
    "- сообщений на 22 больше (68%)\n",
    "\n",
    "На более дорогом тарифе превышение по оплате очень редко (13%) против 76% у тарифа *smart*."
   ]
  },
  {
   "cell_type": "markdown",
   "metadata": {},
   "source": [
    "### Шаг 5. Проверка гипотез\n",
    "- Средняя выручка пользователей тарифов «Ультра» и «Смарт» различается;\n",
    "- Средняя выручка пользователей из Москвы отличается от выручки пользователей из других регионов;\n",
    "\n",
    "#### Проверка гипотезы о пользователях различных тарифов:"
   ]
  },
  {
   "cell_type": "markdown",
   "metadata": {},
   "source": [
    "За нулевую гипотезу берём предположение, что данные не различаются:\n",
    "\n",
    "- H0 - средняя выручка компании по 2-м предоставленным тарифам не различается.\n",
    "- H1 - средняя выручка компании по 2-м предоставленным тарифам различается.\n",
    "\n",
    "Т.к. есть абонентская плата как минимально возможная оплата за месяц, и этот скачок виден на графике, то данные не распределены нормально."
   ]
  },
  {
   "cell_type": "code",
   "execution_count": 90,
   "metadata": {},
   "outputs": [],
   "source": [
    "smart_stat = month_stat.query('tariff == \"smart\"')\n",
    "ultra_stat = month_stat.query('tariff == \"ultra\"')"
   ]
  },
  {
   "cell_type": "code",
   "execution_count": 91,
   "metadata": {},
   "outputs": [
    {
     "name": "stdout",
     "output_type": "stream",
     "text": [
      "Размеры выборок: 2230 и 986\n"
     ]
    }
   ],
   "source": [
    "print('Размеры выборок: ', smart_stat.shape[0], ' и ', ultra_stat.shape[0], sep='')"
   ]
  },
  {
   "cell_type": "markdown",
   "metadata": {},
   "source": [
    "Данные - количественные, и при выборке от 50-100 элементов мы можем считать, что *среднее* для выборок распределено нормально, поэтому применяем Т-критерий Стьюдента."
   ]
  },
  {
   "cell_type": "code",
   "execution_count": 92,
   "metadata": {},
   "outputs": [],
   "source": [
    "# подготовка выборок\n",
    "smart_user_stat = smart_stat.pivot_table(index='user_id', values='revenue', aggfunc='mean')\n",
    "ultra_user_stat = ultra_stat.pivot_table(index='user_id', values='revenue', aggfunc='mean')"
   ]
  },
  {
   "cell_type": "code",
   "execution_count": 93,
   "metadata": {},
   "outputs": [
    {
     "name": "stdout",
     "output_type": "stream",
     "text": [
      "Дисперсия для тарифа Smart:  368949.21\n",
      "Дисперсия для тарифа Ultra:   90024.38\n"
     ]
    }
   ],
   "source": [
    "# расчет дисперсий для выборок\n",
    "print('Дисперсия для тарифа Smart: {: >10.2f}'.format(smart_user_stat['revenue'].var(ddof=1)))\n",
    "print('Дисперсия для тарифа Ultra: {: >10.2f}'.format(ultra_user_stat['revenue'].var(ddof=1)))"
   ]
  },
  {
   "cell_type": "code",
   "execution_count": 94,
   "metadata": {},
   "outputs": [],
   "source": [
    "# дисперсии различаются в около 4 раз\n",
    "# Так как данные принадлежат разным пользователям, используем метод статистики\n",
    "# о равенстве среднего двух разных генеральных совокупностей по их выборкам\n",
    "result = st.ttest_ind(smart_user_stat['revenue'], ultra_user_stat['revenue'], equal_var=False)"
   ]
  },
  {
   "cell_type": "code",
   "execution_count": 95,
   "metadata": {},
   "outputs": [],
   "source": [
    "# стандартное значение alpha\n",
    "alpha = .05"
   ]
  },
  {
   "cell_type": "code",
   "execution_count": 96,
   "metadata": {},
   "outputs": [
    {
     "name": "stdout",
     "output_type": "stream",
     "text": [
      "Отвергаем нулевую гипотезу\n"
     ]
    }
   ],
   "source": [
    "if (result.pvalue < alpha):\n",
    "    print(\"Отвергаем нулевую гипотезу\")\n",
    "else:\n",
    "    print(\"Не получилось отвергнуть нулевую гипотезу\")"
   ]
  },
  {
   "cell_type": "markdown",
   "metadata": {},
   "source": [
    "Следовательно, можно утверждать, опираясь на выводы статистики, что средняя выручка по предоставленным тарифам различается."
   ]
  },
  {
   "cell_type": "code",
   "execution_count": 97,
   "metadata": {},
   "outputs": [
    {
     "data": {
      "image/png": "[encoded data removed]",
      "text/plain": [
       "<Figure size 432x288 with 2 Axes>"
      ]
     },
     "metadata": {
      "needs_background": "light"
     },
     "output_type": "display_data"
    }
   ],
   "source": [
    "# графики\n",
    "ax = ultra_user_stat.plot(kind='hist', bins=50, y='revenue', histtype='step', linewidth=5, alpha=0.7,\n",
    "                     label='Тариф Ultra', grid=True, legend=True)\n",
    "smart_user_stat.plot(kind='hist', bins=50, y='revenue', histtype='step', linewidth=5, alpha=0.7,\n",
    "                     label='Тариф Smart', grid=True, legend=True, secondary_y=True, ax=ax)\n",
    "plt.show()"
   ]
  },
  {
   "cell_type": "code",
   "execution_count": 98,
   "metadata": {},
   "outputs": [
    {
     "name": "stdout",
     "output_type": "stream",
     "text": [
      "Тариф \"Ультра\" даёт больше выручки\n"
     ]
    }
   ],
   "source": [
    "if smart_user_stat['revenue'].mean() > ultra_user_stat['revenue'].mean():\n",
    "    print('Тариф \"Смарт\" даёт больше выручки')\n",
    "else:\n",
    "    print('Тариф \"Ультра\" даёт больше выручки')"
   ]
  },
  {
   "cell_type": "markdown",
   "metadata": {},
   "source": [
    "##### Проверка гипотезы о том, что выручка в Москве не отличается от выручки в других городах"
   ]
  },
  {
   "cell_type": "markdown",
   "metadata": {},
   "source": [
    "- H0 - средняя выручка в Москве и других городах не различается\n",
    "- H1 - средняя выручка в Москве и других городах различается"
   ]
  },
  {
   "cell_type": "code",
   "execution_count": 99,
   "metadata": {},
   "outputs": [],
   "source": [
    "moscow_stat = month_stat.query('city == \"Москва\"')\n",
    "other_cities_stat = month_stat.query('city != \"Москва\"')"
   ]
  },
  {
   "cell_type": "code",
   "execution_count": 100,
   "metadata": {},
   "outputs": [
    {
     "name": "stdout",
     "output_type": "stream",
     "text": [
      "Размеры выборок: 611 и 2605\n"
     ]
    }
   ],
   "source": [
    "print('Размеры выборок: ', moscow_stat.shape[0], ' и ', other_cities_stat.shape[0], sep='')"
   ]
  },
  {
   "cell_type": "markdown",
   "metadata": {},
   "source": [
    "Размеры выборок достаточны для того, чтобы считать, что среднее выборок распределено нормально и для проверки гипотез применить т-критерий Стьюдента."
   ]
  },
  {
   "cell_type": "code",
   "execution_count": 101,
   "metadata": {},
   "outputs": [],
   "source": [
    "moscow_user_stat = moscow_stat.pivot_table(index='user_id', values='revenue', aggfunc='mean')\n",
    "other_cities_user_stat = other_cities_stat.pivot_table(index='user_id', values='revenue', aggfunc='mean')"
   ]
  },
  {
   "cell_type": "code",
   "execution_count": 102,
   "metadata": {},
   "outputs": [
    {
     "name": "stdout",
     "output_type": "stream",
     "text": [
      "Дисперсия распределения для Москвы:          364839.97\n",
      "Дисперсия распределения для других городов:  416629.04\n"
     ]
    }
   ],
   "source": [
    "# сравнение дисперсий\n",
    "print('Дисперсия распределения для Москвы: {: >18.2f}'.format(moscow_user_stat['revenue'].var(ddof=1)))\n",
    "print('Дисперсия распределения для других городов: {: >10.2f}'.format(other_cities_user_stat['revenue'].var(ddof=1)))"
   ]
  },
  {
   "cell_type": "code",
   "execution_count": 103,
   "metadata": {},
   "outputs": [],
   "source": [
    "# дисперсия различается, разница около 15%\n",
    "result = st.ttest_ind(moscow_stat['revenue'], other_cities_stat['revenue'], equal_var=False)"
   ]
  },
  {
   "cell_type": "code",
   "execution_count": 104,
   "metadata": {},
   "outputs": [
    {
     "name": "stdout",
     "output_type": "stream",
     "text": [
      "Не получилось отвергнуть нулевую гипотезу\n"
     ]
    }
   ],
   "source": [
    "if (result.pvalue < alpha):\n",
    "    print(\"Отвергаем нулевую гипотезу\")\n",
    "else:\n",
    "    print(\"Не получилось отвергнуть нулевую гипотезу\")"
   ]
  },
  {
   "cell_type": "code",
   "execution_count": 105,
   "metadata": {
    "scrolled": true
   },
   "outputs": [
    {
     "data": {
      "image/png": "[encoded data removed]",
      "text/plain": [
       "<Figure size 432x288 with 2 Axes>"
      ]
     },
     "metadata": {
      "needs_background": "light"
     },
     "output_type": "display_data"
    }
   ],
   "source": [
    "# графики\n",
    "ax = moscow_user_stat.plot(kind='hist', bins=50, y='revenue', histtype='step', linewidth=5, alpha=0.7,\n",
    "                     label='Москва', grid=True, legend=True)\n",
    "other_cities_user_stat.plot(kind='hist', bins=50, y='revenue', histtype='step', linewidth=5, alpha=0.7,\n",
    "                     label='Другие города', grid=True, legend=True, secondary_y=True, ax=ax)\n",
    "plt.show()"
   ]
  },
  {
   "cell_type": "markdown",
   "metadata": {},
   "source": [
    "Не получилось отвергнуть гипотезу, следовательно, достоверно сказать, что выручка в Москве и в других городах различается, нельзя.\n",
    "\n",
    "**Вывод:**\n",
    "- можно сказать (гипотеза о равенстве была опровергнута), что тариф **\"Ультра\" даёт больше** выручки,\n",
    "- но **нельзя однозначно сказать** (гипотеза о равенстве выручки не была опровергнута), что **в Москве** компания на тарифах зарабатывает **больше.**"
   ]
  },
  {
   "cell_type": "markdown",
   "metadata": {},
   "source": [
    "### Шаг 6. Общий вывод"
   ]
  },
  {
   "cell_type": "markdown",
   "metadata": {},
   "source": [
    "**Ознакомление, предобработка:**\n",
    "Для вычисления наиболее выгодного для компании тарифа пришлось произвести предобработку всех предоставленных таблиц. Выяснилось несоответствие типов дат в таблицах, исправлено.\n",
    "\n",
    "Так же в соответствии с тарифами данные количества мегабайт и минут были округлены в большую сторону перед произведением над ними операций - в соответствии с логикой работы оператора.\n",
    "\n",
    "Для сравнения тарифов данные сгруппированы по каждому пользователю по всем месяцам пользования тарифом с вычислением среднего.\n",
    "\n",
    "**Параметры тарифов:**\n",
    "\n",
    "У тарифа *smart*\n",
    "- среднее для длительности звонков в районе 420 минут, разброс от 0 до 730 минут. Распределение похоже на нормальное.\n",
    "- среднее для количества звонков - 55-60 в месяц, разброс от 0 до 100.\n",
    "- среднее для трафика - 16 гб в месяц. Большая часть пользователей использует от 5 до 25 гб.\n",
    "- среднее для общего количества сообщений: 32 в месяц. распределение близко к распределению Пуассона.\n",
    "\n",
    "Для тарифа *ultra*:\n",
    "- среднее для длительности звонков 525 минут\n",
    "- общее количество звонков - 70-75, разброс от 0 до 170\n",
    "- общее количество переданных данных - в среднем 20 гб, от 0 до 40 Гб.\n",
    "- Общее количество сообщений: в среднем 54, распределение близко к распределению Пуассона.\n",
    "\n",
    "**Сравнение тарифов:**\n",
    "- общая длительность звонков в среднем больше на 100 минут (+24%).\n",
    "- количество звонков на 15 больше (+25%).\n",
    "- трафик на 4 Гб (25%) больше\n",
    "- сообщений на 22 больше (68%)\n",
    "\n",
    "На более дорогом тарифе превышение по оплате очень редко (13%) против 76% у тарифа *smart*. Следовательно, на более дорогом тарифе подавляющему большинству пользователей достаточны предоставленные квоты трафика, звонков и сообщений.\n",
    "\n",
    "Была произведена **проверка гипотез** на равенство среднего по выборкам для:\n",
    "- разных тарифов\n",
    "- разных городов\n",
    "\n",
    "В результате для тарифов гипотезу о равенстве выручки удалось отвергнуть, а для разных городов - нет.\n",
    "\n",
    "**Итого:**\n",
    "- можно сказать (гипотеза о равенстве была опровергнута), что тариф **\"Ультра\"** даёт **больше выручки**,\n",
    "- но **нельзя** однозначно сказать (гипотеза о равенстве выручки *не была опровергнута*), что в Москве компания на тарифах зарабатывает больше, чем в других городах."
   ]
  }
 ],
 "metadata": {
  "kernelspec": {
   "display_name": "Python 3",
   "language": "python",
   "name": "python3"
  },
  "language_info": {
   "codemirror_mode": {
    "name": "ipython",
    "version": 3
   },
   "file_extension": ".py",
   "mimetype": "text/x-python",
   "name": "python",
   "nbconvert_exporter": "python",
   "pygments_lexer": "ipython3",
   "version": "3.8.3"
  }
 },
 "nbformat": 4,
 "nbformat_minor": 2
}
